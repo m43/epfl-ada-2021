{
 "cells": [
  {
   "cell_type": "markdown",
   "metadata": {},
   "source": [
    "# ADA final exam dry run (Fall 2021)"
   ]
  },
  {
   "cell_type": "code",
   "execution_count": 1,
   "metadata": {},
   "outputs": [
    {
     "name": "stdout",
     "output_type": "stream",
     "text": [
      "Python path: /home/user72/miniconda3/envs/adaexam/bin/python\n"
     ]
    }
   ],
   "source": [
    "import sys\n",
    "try:\n",
    "    assert 'adaexam' in sys.executable\n",
    "except AssertionError:\n",
    "    print('Seems the adaexam conda environment is not your active environment!')\n",
    "    raise\n",
    "\n",
    "print(f'Python path: {sys.executable}')"
   ]
  },
  {
   "cell_type": "code",
   "execution_count": 2,
   "metadata": {},
   "outputs": [
    {
     "name": "stdout",
     "output_type": "stream",
     "text": [
      "2022-01-25 00:21:17.054644: W tensorflow/stream_executor/platform/default/dso_loader.cc:60] Could not load dynamic library 'libcudart.so.11.0'; dlerror: libcudart.so.11.0: cannot open shared object file: No such file or directory\r\n",
      "2022-01-25 00:21:17.054677: I tensorflow/stream_executor/cuda/cudart_stub.cc:29] Ignore above cudart dlerror if you do not have a GPU set up on your machine.\r\n",
      "Collecting en-core-web-sm==3.2.0\r\n",
      "  Downloading https://github.com/explosion/spacy-models/releases/download/en_core_web_sm-3.2.0/en_core_web_sm-3.2.0-py3-none-any.whl (13.9 MB)\r\n",
      "     |████████████████████████████████| 13.9 MB 11.7 MB/s            \r\n",
      "\u001B[?25hRequirement already satisfied: spacy<3.3.0,>=3.2.0 in /home/user72/miniconda3/envs/adaexam/lib/python3.8/site-packages (from en-core-web-sm==3.2.0) (3.2.1)\r\n",
      "Requirement already satisfied: requests<3.0.0,>=2.13.0 in /home/user72/.local/lib/python3.8/site-packages (from spacy<3.3.0,>=3.2.0->en-core-web-sm==3.2.0) (2.26.0)\r\n",
      "Requirement already satisfied: typer<0.5.0,>=0.3.0 in /home/user72/miniconda3/envs/adaexam/lib/python3.8/site-packages (from spacy<3.3.0,>=3.2.0->en-core-web-sm==3.2.0) (0.4.0)\r\n",
      "Requirement already satisfied: preshed<3.1.0,>=3.0.2 in /home/user72/miniconda3/envs/adaexam/lib/python3.8/site-packages (from spacy<3.3.0,>=3.2.0->en-core-web-sm==3.2.0) (3.0.6)\r\n",
      "Requirement already satisfied: numpy>=1.15.0 in /home/user72/miniconda3/envs/adaexam/lib/python3.8/site-packages (from spacy<3.3.0,>=3.2.0->en-core-web-sm==3.2.0) (1.21.5)\r\n",
      "Requirement already satisfied: packaging>=20.0 in /home/user72/.local/lib/python3.8/site-packages (from spacy<3.3.0,>=3.2.0->en-core-web-sm==3.2.0) (20.9)\r\n",
      "Requirement already satisfied: thinc<8.1.0,>=8.0.12 in /home/user72/miniconda3/envs/adaexam/lib/python3.8/site-packages (from spacy<3.3.0,>=3.2.0->en-core-web-sm==3.2.0) (8.0.13)\r\n",
      "Requirement already satisfied: spacy-legacy<3.1.0,>=3.0.8 in /home/user72/miniconda3/envs/adaexam/lib/python3.8/site-packages (from spacy<3.3.0,>=3.2.0->en-core-web-sm==3.2.0) (3.0.8)\r\n",
      "Requirement already satisfied: pydantic!=1.8,!=1.8.1,<1.9.0,>=1.7.4 in /home/user72/miniconda3/envs/adaexam/lib/python3.8/site-packages (from spacy<3.3.0,>=3.2.0->en-core-web-sm==3.2.0) (1.8.2)\r\n",
      "Requirement already satisfied: wasabi<1.1.0,>=0.8.1 in /home/user72/miniconda3/envs/adaexam/lib/python3.8/site-packages (from spacy<3.3.0,>=3.2.0->en-core-web-sm==3.2.0) (0.9.0)\r\n",
      "Requirement already satisfied: blis<0.8.0,>=0.4.0 in /home/user72/miniconda3/envs/adaexam/lib/python3.8/site-packages (from spacy<3.3.0,>=3.2.0->en-core-web-sm==3.2.0) (0.7.5)\r\n",
      "Requirement already satisfied: tqdm<5.0.0,>=4.38.0 in /home/user72/miniconda3/envs/adaexam/lib/python3.8/site-packages (from spacy<3.3.0,>=3.2.0->en-core-web-sm==3.2.0) (4.62.3)\r\n",
      "Requirement already satisfied: jinja2 in /home/user72/.local/lib/python3.8/site-packages (from spacy<3.3.0,>=3.2.0->en-core-web-sm==3.2.0) (2.11.1)\r\n",
      "Requirement already satisfied: catalogue<2.1.0,>=2.0.6 in /home/user72/miniconda3/envs/adaexam/lib/python3.8/site-packages (from spacy<3.3.0,>=3.2.0->en-core-web-sm==3.2.0) (2.0.6)\r\n",
      "Requirement already satisfied: pathy>=0.3.5 in /home/user72/miniconda3/envs/adaexam/lib/python3.8/site-packages (from spacy<3.3.0,>=3.2.0->en-core-web-sm==3.2.0) (0.6.1)\r\n",
      "Requirement already satisfied: spacy-loggers<2.0.0,>=1.0.0 in /home/user72/miniconda3/envs/adaexam/lib/python3.8/site-packages (from spacy<3.3.0,>=3.2.0->en-core-web-sm==3.2.0) (1.0.1)\r\n",
      "Requirement already satisfied: setuptools in /home/user72/.local/lib/python3.8/site-packages (from spacy<3.3.0,>=3.2.0->en-core-web-sm==3.2.0) (50.3.2)\r\n",
      "Requirement already satisfied: srsly<3.0.0,>=2.4.1 in /home/user72/miniconda3/envs/adaexam/lib/python3.8/site-packages (from spacy<3.3.0,>=3.2.0->en-core-web-sm==3.2.0) (2.4.2)\r\n",
      "Requirement already satisfied: cymem<2.1.0,>=2.0.2 in /home/user72/miniconda3/envs/adaexam/lib/python3.8/site-packages (from spacy<3.3.0,>=3.2.0->en-core-web-sm==3.2.0) (2.0.6)\r\n",
      "Requirement already satisfied: langcodes<4.0.0,>=3.2.0 in /home/user72/miniconda3/envs/adaexam/lib/python3.8/site-packages (from spacy<3.3.0,>=3.2.0->en-core-web-sm==3.2.0) (3.3.0)\r\n",
      "Requirement already satisfied: murmurhash<1.1.0,>=0.28.0 in /home/user72/miniconda3/envs/adaexam/lib/python3.8/site-packages (from spacy<3.3.0,>=3.2.0->en-core-web-sm==3.2.0) (1.0.6)\r\n",
      "Requirement already satisfied: pyparsing>=2.0.2 in /home/user72/.local/lib/python3.8/site-packages (from packaging>=20.0->spacy<3.3.0,>=3.2.0->en-core-web-sm==3.2.0) (2.4.7)\r\n",
      "Requirement already satisfied: smart-open<6.0.0,>=5.0.0 in /home/user72/miniconda3/envs/adaexam/lib/python3.8/site-packages (from pathy>=0.3.5->spacy<3.3.0,>=3.2.0->en-core-web-sm==3.2.0) (5.1.0)\r\n",
      "Requirement already satisfied: typing-extensions>=3.7.4.3 in /home/user72/.local/lib/python3.8/site-packages (from pydantic!=1.8,!=1.8.1,<1.9.0,>=1.7.4->spacy<3.3.0,>=3.2.0->en-core-web-sm==3.2.0) (3.10.0.2)\r\n",
      "Requirement already satisfied: charset-normalizer~=2.0.0 in /home/user72/.local/lib/python3.8/site-packages (from requests<3.0.0,>=2.13.0->spacy<3.3.0,>=3.2.0->en-core-web-sm==3.2.0) (2.0.9)\r\n",
      "Requirement already satisfied: urllib3<1.27,>=1.21.1 in /home/user72/.local/lib/python3.8/site-packages (from requests<3.0.0,>=2.13.0->spacy<3.3.0,>=3.2.0->en-core-web-sm==3.2.0) (1.26.7)\r\n",
      "Requirement already satisfied: idna<4,>=2.5 in /home/user72/.local/lib/python3.8/site-packages (from requests<3.0.0,>=2.13.0->spacy<3.3.0,>=3.2.0->en-core-web-sm==3.2.0) (3.3)\r\n",
      "Requirement already satisfied: certifi>=2017.4.17 in /home/user72/.local/lib/python3.8/site-packages (from requests<3.0.0,>=2.13.0->spacy<3.3.0,>=3.2.0->en-core-web-sm==3.2.0) (2020.12.5)\r\n",
      "Requirement already satisfied: click<9.0.0,>=7.1.1 in /home/user72/.local/lib/python3.8/site-packages (from typer<0.5.0,>=0.3.0->spacy<3.3.0,>=3.2.0->en-core-web-sm==3.2.0) (7.1.1)\r\n",
      "Requirement already satisfied: MarkupSafe>=0.23 in /home/user72/.local/lib/python3.8/site-packages (from jinja2->spacy<3.3.0,>=3.2.0->en-core-web-sm==3.2.0) (1.1.1)\r\n",
      "\u001B[38;5;2m✔ Download and installation successful\u001B[0m\r\n",
      "You can now load the package via spacy.load('en_core_web_sm')\r\n"
     ]
    }
   ],
   "source": [
    "'''Download spacy en_core_web_sm model'''\n",
    "!python -m spacy download en_core_web_sm"
   ]
  },
  {
   "cell_type": "code",
   "execution_count": 3,
   "metadata": {
    "pycharm": {
     "name": "#%%\n"
    }
   },
   "outputs": [
    {
     "name": "stdout",
     "output_type": "stream",
     "text": [
      "Package import test successful!\n"
     ]
    }
   ],
   "source": [
    "''' Package import test '''\n",
    "import os\n",
    "import gzip\n",
    "import random\n",
    "import pickle\n",
    "import re\n",
    "import itertools\n",
    "import collections\n",
    "import operator\n",
    "import requests\n",
    "from urllib.parse import *\n",
    "from datetime import *\n",
    "from dateutil.parser import parse\n",
    "\n",
    "import math\n",
    "import sklearn\n",
    "import pandas as pd\n",
    "import numpy as np\n",
    "from scipy import stats\n",
    "import statsmodels.api as sm\n",
    "import statsmodels.formula.api as smf\n",
    "from statsmodels.stats import *\n",
    "\n",
    "import ast\n",
    "import gensim\n",
    "import string\n",
    "import nltk\n",
    "import codecs\n",
    "import json\n",
    "import vaderSentiment\n",
    "import spacy\n",
    "from empath import Empath\n",
    "from bs4 import BeautifulSoup\n",
    "\n",
    "import networkx as nx\n",
    "\n",
    "from IPython.display import Image\n",
    "%matplotlib inline\n",
    "import matplotlib.pyplot as plt\n",
    "import seaborn as sns\n",
    "\n",
    "import warnings\n",
    "warnings.simplefilter('ignore')\n",
    "\n",
    "print(\"Package import test successful!\")"
   ]
  },
  {
   "cell_type": "code",
   "execution_count": 3,
   "metadata": {},
   "outputs": [],
   "source": []
  }
 ],
 "metadata": {
  "kernelspec": {
   "name": "adaexam",
   "language": "python",
   "display_name": "adaexam"
  },
  "language_info": {
   "codemirror_mode": {
    "name": "ipython",
    "version": 3
   },
   "file_extension": ".py",
   "mimetype": "text/x-python",
   "name": "python",
   "nbconvert_exporter": "python",
   "pygments_lexer": "ipython3",
   "version": "3.8.12"
  }
 },
 "nbformat": 4,
 "nbformat_minor": 1
}
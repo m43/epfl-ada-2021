{
 "cells": [
  {
   "cell_type": "code",
   "execution_count": 1,
   "metadata": {
    "collapsed": true,
    "jupyter": {
     "outputs_hidden": true
    }
   },
   "outputs": [],
   "source": [
    "import numpy as np\n",
    "import pandas as pd\n",
    "import matplotlib.pyplot as plt\n",
    "# %matplotlib inline\n",
    "from sklearn.linear_model import LogisticRegressionCV\n",
    "from sklearn.decomposition import TruncatedSVD\n",
    "from sklearn.feature_extraction.text import TfidfVectorizer\n",
    "from helpers.helper_functions import *"
   ]
  },
  {
   "cell_type": "markdown",
   "metadata": {},
   "source": [
    "# Handling text 2 exercise\n",
    "[Handling text exercisses ADApted drom ADA 2018 final exam]\n",
    "\n",
    "The Sheldon Cooper we all know and love (OK, some of us might not know him, and some might not love him) from the TV series \"The Big Bang Theory\" has gotten into an argument with Leonard from the same TV show. Sheldon insists that he knows the show better than anyone, and keeps making various claims about the show, which neither of them know how to prove or disprove. The two of them have reached out to you ladies and gentlemen, as data scientists, to help them. You will be given the full script of the series, with information on the episode, the scene, the person saying each dialogue line, and the dialogue lines themselves.\n",
    "\n",
    "Leonard has challenged several of Sheldon's claims about the show, and throughout this exam you will see some of those and you will get to prove or disprove them, but remember: sometimes, we can neither prove a claim, nor disprove it!"
   ]
  },
  {
   "cell_type": "markdown",
   "metadata": {},
   "source": [
    "## Task A: Picking up the shovel\n",
    "\n",
    "**Note: You will use the data you preprocess in this task in all the subsequent ones.**\n",
    "\n",
    "Our friends' argument concerns the entire show. We have given you a file in the `data/` folder that contains the script of every single episode. New episodes are indicated by '>>', new scenes by '>', and the rest of the lines are dialogue lines. Some lines are said by multiple people (for example, lines indicated by 'All' or 'Together'); **you must discard these lines**, for the sake of simplicity. However, you do not need to do it for Q1 in this task -- you'll take care of it when you solve Q2.\n",
    "\n",
    "**Q1**. Your first task is to extract all lines of dialogue in each scene and episode, creating a dataframe where each row has the episode and scene where a dialogue line was said, the character who said it, and the line itself. You do not need to extract the proper name of the episode (e.g. episode 1 can appear as \"Series 01 Episode 01 - Pilot Episode\", and doesn't need to appear as \"Pilot Episode\"). Then, answer the following question: In total, how many scenes are there in each season? We're not asking about unique scenes; the same location appearing in two episodes counts as two scenes. You can use a Pandas dataframe with a season column and a scene count column as the response.\n",
    "\n",
    "**Note: The data refers to seasons as \"series\".**"
   ]
  },
  {
   "cell_type": "code",
   "execution_count": 2,
   "metadata": {
    "collapsed": true,
    "jupyter": {
     "outputs_hidden": true
    }
   },
   "outputs": [
    {
     "name": "stdout",
     "output_type": "stream",
     "text": [
      "['>> Series 01 Episode 01 – Pilot\\xa0Episode', '> A corridor at a sperm bank.', 'Sheldon: So if a photon is directed through a plane with two slits in it and either slit is observed it will not go through both slits. If it’s unobserved it will, however, if it’s observed after it’s left the plane but before it hits its target, it will not have gone through both slits.', 'Leonard: Agreed, what’s your point?', 'Sheldon: There’s no point, I just think it’s a good idea for a tee-shirt.', 'Leonard: Excuse me?', 'Receptionist: Hang on.', 'Leonard: One across is Aegean, eight down is Nabakov, twenty-six across is MCM, fourteen down is… move your finger… phylum, which makes fourteen across Port-au-Prince. See, Papa Doc’s capital idea, that’s Port-au-Prince. Haiti.', 'Receptionist: Can I help you?', 'Leonard: Yes. Um, is this the High IQ sperm bank?']\n"
     ]
    }
   ],
   "source": [
    "import codecs\n",
    "\n",
    "# 1. read file\n",
    "with codecs.open(\"data/all_scripts.txt\", encoding=\"utf8\") as f:\n",
    "    script_lines = f.read().splitlines()\n",
    "print(script_lines[:10])"
   ]
  },
  {
   "cell_type": "code",
   "execution_count": 3,
   "outputs": [
    {
     "data": {
      "text/plain": "                                episode                        scene  \\\n0  Series 01 Episode 01 – Pilot Episode  A corridor at a sperm bank.   \n1  Series 01 Episode 01 – Pilot Episode  A corridor at a sperm bank.   \n2  Series 01 Episode 01 – Pilot Episode  A corridor at a sperm bank.   \n3  Series 01 Episode 01 – Pilot Episode  A corridor at a sperm bank.   \n4  Series 01 Episode 01 – Pilot Episode  A corridor at a sperm bank.   \n\n      character                                               text  \n0       Sheldon  So if a photon is directed through a plane wit...  \n1       Leonard                         Agreed, what’s your point?  \n2       Sheldon  There’s no point, I just think it’s a good ide...  \n3       Leonard                                         Excuse me?  \n4  Receptionist                                           Hang on.  ",
      "text/html": "<div>\n<style scoped>\n    .dataframe tbody tr th:only-of-type {\n        vertical-align: middle;\n    }\n\n    .dataframe tbody tr th {\n        vertical-align: top;\n    }\n\n    .dataframe thead th {\n        text-align: right;\n    }\n</style>\n<table border=\"1\" class=\"dataframe\">\n  <thead>\n    <tr style=\"text-align: right;\">\n      <th></th>\n      <th>episode</th>\n      <th>scene</th>\n      <th>character</th>\n      <th>text</th>\n    </tr>\n  </thead>\n  <tbody>\n    <tr>\n      <th>0</th>\n      <td>Series 01 Episode 01 – Pilot Episode</td>\n      <td>A corridor at a sperm bank.</td>\n      <td>Sheldon</td>\n      <td>So if a photon is directed through a plane wit...</td>\n    </tr>\n    <tr>\n      <th>1</th>\n      <td>Series 01 Episode 01 – Pilot Episode</td>\n      <td>A corridor at a sperm bank.</td>\n      <td>Leonard</td>\n      <td>Agreed, what’s your point?</td>\n    </tr>\n    <tr>\n      <th>2</th>\n      <td>Series 01 Episode 01 – Pilot Episode</td>\n      <td>A corridor at a sperm bank.</td>\n      <td>Sheldon</td>\n      <td>There’s no point, I just think it’s a good ide...</td>\n    </tr>\n    <tr>\n      <th>3</th>\n      <td>Series 01 Episode 01 – Pilot Episode</td>\n      <td>A corridor at a sperm bank.</td>\n      <td>Leonard</td>\n      <td>Excuse me?</td>\n    </tr>\n    <tr>\n      <th>4</th>\n      <td>Series 01 Episode 01 – Pilot Episode</td>\n      <td>A corridor at a sperm bank.</td>\n      <td>Receptionist</td>\n      <td>Hang on.</td>\n    </tr>\n  </tbody>\n</table>\n</div>"
     },
     "execution_count": 3,
     "metadata": {},
     "output_type": "execute_result"
    }
   ],
   "source": [
    "# 2. iterate and organise\n",
    "episodes = []\n",
    "scenes = []\n",
    "characters = []\n",
    "dialogues = []\n",
    "\n",
    "episode = None\n",
    "scene = None\n",
    "for line in script_lines:\n",
    "    if line.startswith(\">>\"):\n",
    "        episode = line[2:].strip()\n",
    "        scene = None\n",
    "    elif line.startswith(\">\"):\n",
    "        assert episode is not None\n",
    "        scene = line[1:].strip()\n",
    "    else:\n",
    "        assert episode is not None and scene is not None\n",
    "\n",
    "        character, dialogue = line.split(\":\", 1)\n",
    "        character = character.strip()\n",
    "        dialogue = dialogue.strip()\n",
    "\n",
    "        if character.lower() in [\"all\", \"together\", \"everybody\", \"everyone\"]:\n",
    "            continue\n",
    "\n",
    "        episodes.append(episode)\n",
    "        scenes.append(scene)\n",
    "        characters.append(character)\n",
    "        dialogues.append(dialogue)\n",
    "\n",
    "scripts = pd.DataFrame({\n",
    "    \"episode\": episodes,\n",
    "    \"scene\": scenes,\n",
    "    \"character\": characters,\n",
    "    \"text\": dialogues\n",
    "})\n",
    "scripts.head()"
   ],
   "metadata": {
    "collapsed": false,
    "pycharm": {
     "name": "#%%\n"
    }
   }
  },
  {
   "cell_type": "code",
   "execution_count": 4,
   "outputs": [
    {
     "data": {
      "text/plain": "Sheldon              11689\nLeonard               9829\nPenny                 7677\nHoward                5872\nRaj                   4779\n                     ...  \nHernandez                3\nMrs. Rostenkowski        3\nGuard                    3\nFirst Girl               3\nBill                     3\nName: character, Length: 195, dtype: int64"
     },
     "execution_count": 4,
     "metadata": {},
     "output_type": "execute_result"
    }
   ],
   "source": [
    "# 3. explore characters to make sure there are no casefolding problems\n",
    "scripts.character.value_counts()\n",
    "\n",
    "# looks good."
   ],
   "metadata": {
    "collapsed": false,
    "pycharm": {
     "name": "#%%\n"
    }
   }
  },
  {
   "cell_type": "code",
   "execution_count": 5,
   "outputs": [
    {
     "data": {
      "text/plain": "Series 01 Episode 01 – Pilot Episode                                320\nSeries 01 Episode 07 – The Dumpling Paradox                         283\nSeries 04 Episode 03 – The Zazzy Substitution                       271\nSeries 10 Episode 01 – The Conjugal Conjecture                      269\nSeries 09 Episode 22 – The Fermentation Bifurcation                 263\n                                                                   ... \nSeries 05 Episode 14 – The Beta Test Initiation                     169\nSeries 03 Episode 13 – The Bozeman Reaction                         165\nSeries 03 Episode 18 – The Pants Alternative                        160\nSeries 06 Episode 17 – The Monster Isolation                        160\nSeries 06 Episode 18 – The Contractual Obligation Implementation    141\nName: episode, Length: 231, dtype: int64"
     },
     "execution_count": 5,
     "metadata": {},
     "output_type": "execute_result"
    }
   ],
   "source": [
    "# 4. explore episodes\n",
    "scripts.episode.value_counts()\n",
    "\n",
    "# Looks good."
   ],
   "metadata": {
    "collapsed": false,
    "pycharm": {
     "name": "#%%\n"
    }
   }
  },
  {
   "cell_type": "code",
   "execution_count": 6,
   "outputs": [
    {
     "data": {
      "text/plain": "                                                 episode  \\\n10220         Series 03 Episode 04 – The Pirate Solution   \n39962     Series 08 Episode 23 – The Maternal Combustion   \n35655    Series 08 Episode 04 – The Hook-Up Reverbration   \n18670      Series 04 Episode 19 – The Zarnecki Incursion   \n798      Series 01 Episode 04 – The Luminous Fish Effect   \n17766       Series 04 Episode 15 – The Benefactor Factor   \n41627         Series 09 Episode 07 – The Spock Resonance   \n44314  Series 09 Episode 19 – The Solder Excursion Di...   \n19519     Series 04 Episode 23 – The Engagement Reaction   \n24739    Series 05 Episode 24 – The Countdown Reflection   \n\n                                                   scene   character  \\\n10220  Sheldon’s office. Sheldon is writing on the wh...         Raj   \n39962                                     A coffee shop.     Sheldon   \n35655                                     The apartment.  Bernadette   \n18670                                      The apartment       Priya   \n798                     Sheldon and Leonard’s apartment.     Sheldon   \n17766                                     The apartment.     Sheldon   \n41627                   Howard and Bernadette’s kitchen.      Howard   \n44314                                 Howard’s workshop.  Bernadette   \n19519                             The Cheesecake Factory  Bernadette   \n24739                                     The apartment.     Sheldon   \n\n                                                    text  season  \n10220                                   Come and get it.       3  \n39962  Well, you doled out affection as a reward for ...       8  \n35655            Long story short, they have seven HBOs.       8  \n18670                                     Oh, dear Lord.       4  \n798          I’ve been thinking about time travel again.       1  \n17766  I must confess I don’t understand you, Preside...       4  \n41627  No way. No, this is the room I associate the m...       9  \n44314  It is crazy. It’s also crazy that I’ve made fo...       9  \n19519                           You guys ready to order?       4  \n24739                    Oh, dear. I was afraid of this.       5  ",
      "text/html": "<div>\n<style scoped>\n    .dataframe tbody tr th:only-of-type {\n        vertical-align: middle;\n    }\n\n    .dataframe tbody tr th {\n        vertical-align: top;\n    }\n\n    .dataframe thead th {\n        text-align: right;\n    }\n</style>\n<table border=\"1\" class=\"dataframe\">\n  <thead>\n    <tr style=\"text-align: right;\">\n      <th></th>\n      <th>episode</th>\n      <th>scene</th>\n      <th>character</th>\n      <th>text</th>\n      <th>season</th>\n    </tr>\n  </thead>\n  <tbody>\n    <tr>\n      <th>10220</th>\n      <td>Series 03 Episode 04 – The Pirate Solution</td>\n      <td>Sheldon’s office. Sheldon is writing on the wh...</td>\n      <td>Raj</td>\n      <td>Come and get it.</td>\n      <td>3</td>\n    </tr>\n    <tr>\n      <th>39962</th>\n      <td>Series 08 Episode 23 – The Maternal Combustion</td>\n      <td>A coffee shop.</td>\n      <td>Sheldon</td>\n      <td>Well, you doled out affection as a reward for ...</td>\n      <td>8</td>\n    </tr>\n    <tr>\n      <th>35655</th>\n      <td>Series 08 Episode 04 – The Hook-Up Reverbration</td>\n      <td>The apartment.</td>\n      <td>Bernadette</td>\n      <td>Long story short, they have seven HBOs.</td>\n      <td>8</td>\n    </tr>\n    <tr>\n      <th>18670</th>\n      <td>Series 04 Episode 19 – The Zarnecki Incursion</td>\n      <td>The apartment</td>\n      <td>Priya</td>\n      <td>Oh, dear Lord.</td>\n      <td>4</td>\n    </tr>\n    <tr>\n      <th>798</th>\n      <td>Series 01 Episode 04 – The Luminous Fish Effect</td>\n      <td>Sheldon and Leonard’s apartment.</td>\n      <td>Sheldon</td>\n      <td>I’ve been thinking about time travel again.</td>\n      <td>1</td>\n    </tr>\n    <tr>\n      <th>17766</th>\n      <td>Series 04 Episode 15 – The Benefactor Factor</td>\n      <td>The apartment.</td>\n      <td>Sheldon</td>\n      <td>I must confess I don’t understand you, Preside...</td>\n      <td>4</td>\n    </tr>\n    <tr>\n      <th>41627</th>\n      <td>Series 09 Episode 07 – The Spock Resonance</td>\n      <td>Howard and Bernadette’s kitchen.</td>\n      <td>Howard</td>\n      <td>No way. No, this is the room I associate the m...</td>\n      <td>9</td>\n    </tr>\n    <tr>\n      <th>44314</th>\n      <td>Series 09 Episode 19 – The Solder Excursion Di...</td>\n      <td>Howard’s workshop.</td>\n      <td>Bernadette</td>\n      <td>It is crazy. It’s also crazy that I’ve made fo...</td>\n      <td>9</td>\n    </tr>\n    <tr>\n      <th>19519</th>\n      <td>Series 04 Episode 23 – The Engagement Reaction</td>\n      <td>The Cheesecake Factory</td>\n      <td>Bernadette</td>\n      <td>You guys ready to order?</td>\n      <td>4</td>\n    </tr>\n    <tr>\n      <th>24739</th>\n      <td>Series 05 Episode 24 – The Countdown Reflection</td>\n      <td>The apartment.</td>\n      <td>Sheldon</td>\n      <td>Oh, dear. I was afraid of this.</td>\n      <td>5</td>\n    </tr>\n  </tbody>\n</table>\n</div>"
     },
     "execution_count": 6,
     "metadata": {},
     "output_type": "execute_result"
    }
   ],
   "source": [
    "# 5. get the season, preprocess episode\n",
    "scripts[\"season\"] = scripts.episode.apply(lambda s: s.split(\"Episode\")[0].strip().split(\"Series\")[1].strip()).astype(int)\n",
    "scripts.sample(10)"
   ],
   "metadata": {
    "collapsed": false,
    "pycharm": {
     "name": "#%%\n"
    }
   }
  },
  {
   "cell_type": "code",
   "execution_count": 7,
   "outputs": [
    {
     "data": {
      "text/plain": "        scenes\nseason        \n1        159.0\n2        231.0\n3        235.0\n4        278.0\n5        254.0\n6        304.0\n7        331.0\n8        323.0\n9        331.0\n10       343.0",
      "text/html": "<div>\n<style scoped>\n    .dataframe tbody tr th:only-of-type {\n        vertical-align: middle;\n    }\n\n    .dataframe tbody tr th {\n        vertical-align: top;\n    }\n\n    .dataframe thead th {\n        text-align: right;\n    }\n</style>\n<table border=\"1\" class=\"dataframe\">\n  <thead>\n    <tr style=\"text-align: right;\">\n      <th></th>\n      <th>scenes</th>\n    </tr>\n    <tr>\n      <th>season</th>\n      <th></th>\n    </tr>\n  </thead>\n  <tbody>\n    <tr>\n      <th>1</th>\n      <td>159.0</td>\n    </tr>\n    <tr>\n      <th>2</th>\n      <td>231.0</td>\n    </tr>\n    <tr>\n      <th>3</th>\n      <td>235.0</td>\n    </tr>\n    <tr>\n      <th>4</th>\n      <td>278.0</td>\n    </tr>\n    <tr>\n      <th>5</th>\n      <td>254.0</td>\n    </tr>\n    <tr>\n      <th>6</th>\n      <td>304.0</td>\n    </tr>\n    <tr>\n      <th>7</th>\n      <td>331.0</td>\n    </tr>\n    <tr>\n      <th>8</th>\n      <td>323.0</td>\n    </tr>\n    <tr>\n      <th>9</th>\n      <td>331.0</td>\n    </tr>\n    <tr>\n      <th>10</th>\n      <td>343.0</td>\n    </tr>\n  </tbody>\n</table>\n</div>"
     },
     "execution_count": 7,
     "metadata": {},
     "output_type": "execute_result"
    }
   ],
   "source": [
    "# 6. scenes per season NOT PER EPISODE!\n",
    "seasons = list(sorted(scripts.season.value_counts().index))\n",
    "scenes_per_season = pd.DataFrame({\n",
    "    \"season\": seasons,\n",
    "    \"scenes\": np.zeros(len(seasons))\n",
    "})\n",
    "scenes_per_season = scenes_per_season.set_index(\"season\")\n",
    "\n",
    "scene = None\n",
    "season = None\n",
    "for _, row in scripts.iterrows():\n",
    "    if season != row.season:\n",
    "        season = row.season\n",
    "        scene = row.scene\n",
    "        scenes_per_season.at[season, \"scenes\"] += 1\n",
    "    elif row.scene != scene:\n",
    "        scene = row.scene\n",
    "        scenes_per_season.at[season, \"scenes\"] += 1\n",
    "\n",
    "scenes_per_season"
   ],
   "metadata": {
    "collapsed": false,
    "pycharm": {
     "name": "#%%\n"
    }
   }
  },
  {
   "cell_type": "markdown",
   "metadata": {},
   "source": [
    "**Q2**. Now, let's define two sets of characters: all the characters, and recurrent characters. Recurrent characters are those who appear in more than one episode. For the subsequent sections, you will need to have a list of recurrent characters. Assume that there are no two _named characters_ (i.e. characters who have actual names and aren't referred to generically as \"little girl\", \"grumpy grandpa\", etc.) with the same name, i.e. there are no two Sheldons, etc. Generate a list of recurrent characters who have more than 90 dialogue lines in total, and then take a look at the list you have. If you've done this correctly, you should have a list of 20 names. However, one of these is clearly not a recurrent character. Manually remove that one, and print out your list of recurrent characters. To remove that character, pay attention to the _named character_ assumption we gave you earlier on. **For all the subsequent questions, you must only keep the dialogue lines said by the recurrent characters in your list.**"
   ]
  },
  {
   "cell_type": "code",
   "execution_count": 8,
   "metadata": {
    "collapsed": true,
    "jupyter": {
     "outputs_hidden": true
    }
   },
   "outputs": [
    {
     "data": {
      "text/plain": "Sheldon         11689\nLeonard          9829\nPenny            7677\nHoward           5872\nRaj              4779\nAmy              3472\nBernadette       2690\nStuart            733\nPriya             222\nMrs Cooper        213\nEmily             164\nBeverley          162\nMrs Wolowitz      136\nZack              135\nArthur            130\nWil               126\nLeslie            116\nKripke            106\nMan               105\nBert               95\nName: character, dtype: int64"
     },
     "execution_count": 8,
     "metadata": {},
     "output_type": "execute_result"
    }
   ],
   "source": [
    "# 1. counts\n",
    "char_counts = scripts.character.value_counts()\n",
    "recurrent_characters_with_counts = char_counts[char_counts > 90]\n",
    "recurrent_characters_with_counts"
   ]
  },
  {
   "cell_type": "code",
   "execution_count": 9,
   "outputs": [
    {
     "data": {
      "text/plain": "['Sheldon',\n 'Leonard',\n 'Penny',\n 'Howard',\n 'Raj',\n 'Amy',\n 'Bernadette',\n 'Stuart',\n 'Priya',\n 'Mrs Cooper',\n 'Emily',\n 'Beverley',\n 'Mrs Wolowitz',\n 'Zack',\n 'Arthur',\n 'Wil',\n 'Leslie',\n 'Kripke',\n 'Bert']"
     },
     "execution_count": 9,
     "metadata": {},
     "output_type": "execute_result"
    }
   ],
   "source": [
    "# 2. recurrent minus \"Man\"\n",
    "recurrent_characters = list(recurrent_characters_with_counts.index)\n",
    "assert len(recurrent_characters) == 20\n",
    "recurrent_characters.remove(\"Man\")\n",
    "assert len(recurrent_characters) == 19\n",
    "recurrent_characters"
   ],
   "metadata": {
    "collapsed": false,
    "pycharm": {
     "name": "#%%\n"
    }
   }
  },
  {
   "cell_type": "code",
   "execution_count": 17,
   "outputs": [
    {
     "data": {
      "text/plain": "                                 episode                        scene  \\\n0   Series 01 Episode 01 – Pilot Episode  A corridor at a sperm bank.   \n1   Series 01 Episode 01 – Pilot Episode  A corridor at a sperm bank.   \n2   Series 01 Episode 01 – Pilot Episode  A corridor at a sperm bank.   \n3   Series 01 Episode 01 – Pilot Episode  A corridor at a sperm bank.   \n5   Series 01 Episode 01 – Pilot Episode  A corridor at a sperm bank.   \n7   Series 01 Episode 01 – Pilot Episode  A corridor at a sperm bank.   \n9   Series 01 Episode 01 – Pilot Episode  A corridor at a sperm bank.   \n11  Series 01 Episode 01 – Pilot Episode  A corridor at a sperm bank.   \n13  Series 01 Episode 01 – Pilot Episode  A corridor at a sperm bank.   \n14  Series 01 Episode 01 – Pilot Episode  A corridor at a sperm bank.   \n15  Series 01 Episode 01 – Pilot Episode  A corridor at a sperm bank.   \n16  Series 01 Episode 01 – Pilot Episode  A corridor at a sperm bank.   \n17  Series 01 Episode 01 – Pilot Episode  A corridor at a sperm bank.   \n18  Series 01 Episode 01 – Pilot Episode  A corridor at a sperm bank.   \n19  Series 01 Episode 01 – Pilot Episode  A corridor at a sperm bank.   \n20  Series 01 Episode 01 – Pilot Episode  A corridor at a sperm bank.   \n21  Series 01 Episode 01 – Pilot Episode  A corridor at a sperm bank.   \n22  Series 01 Episode 01 – Pilot Episode  A corridor at a sperm bank.   \n23  Series 01 Episode 01 – Pilot Episode  A corridor at a sperm bank.   \n24  Series 01 Episode 01 – Pilot Episode  A corridor at a sperm bank.   \n\n   character                                               text  season  \n0    Sheldon  So if a photon is directed through a plane wit...       1  \n1    Leonard                         Agreed, what’s your point?       1  \n2    Sheldon  There’s no point, I just think it’s a good ide...       1  \n3    Leonard                                         Excuse me?       1  \n5    Leonard  One across is Aegean, eight down is Nabakov, t...       1  \n7    Leonard           Yes. Um, is this the High IQ sperm bank?       1  \n9    Sheldon                         I think this is the place.       1  \n11   Leonard                    Thank-you. We’ll be right back.       1  \n13   Sheldon              Leonard, I don’t think I can do this.       1  \n14   Leonard          What, are you kidding? You’re a semi-pro.       1  \n15   Sheldon  No. We are committing genetic fraud. There’s n...       1  \n16   Leonard  Sheldon, this was your idea. A little extra mo...       1  \n17   Sheldon  I know, and I do yearn for faster downloads, b...       1  \n18   Leonard                    I’m sure she’ll still love him.       1  \n19   Sheldon                                        I wouldn’t.       1  \n20   Leonard                      Well, what do you want to do?       1  \n21   Sheldon                                   I want to leave.       1  \n22   Leonard                                              Okay.       1  \n23   Sheldon                   What’s the protocol for leaving?       1  \n24   Leonard  I don’t know, I’ve never reneged on a proffer ...       1  ",
      "text/html": "<div>\n<style scoped>\n    .dataframe tbody tr th:only-of-type {\n        vertical-align: middle;\n    }\n\n    .dataframe tbody tr th {\n        vertical-align: top;\n    }\n\n    .dataframe thead th {\n        text-align: right;\n    }\n</style>\n<table border=\"1\" class=\"dataframe\">\n  <thead>\n    <tr style=\"text-align: right;\">\n      <th></th>\n      <th>episode</th>\n      <th>scene</th>\n      <th>character</th>\n      <th>text</th>\n      <th>season</th>\n    </tr>\n  </thead>\n  <tbody>\n    <tr>\n      <th>0</th>\n      <td>Series 01 Episode 01 – Pilot Episode</td>\n      <td>A corridor at a sperm bank.</td>\n      <td>Sheldon</td>\n      <td>So if a photon is directed through a plane wit...</td>\n      <td>1</td>\n    </tr>\n    <tr>\n      <th>1</th>\n      <td>Series 01 Episode 01 – Pilot Episode</td>\n      <td>A corridor at a sperm bank.</td>\n      <td>Leonard</td>\n      <td>Agreed, what’s your point?</td>\n      <td>1</td>\n    </tr>\n    <tr>\n      <th>2</th>\n      <td>Series 01 Episode 01 – Pilot Episode</td>\n      <td>A corridor at a sperm bank.</td>\n      <td>Sheldon</td>\n      <td>There’s no point, I just think it’s a good ide...</td>\n      <td>1</td>\n    </tr>\n    <tr>\n      <th>3</th>\n      <td>Series 01 Episode 01 – Pilot Episode</td>\n      <td>A corridor at a sperm bank.</td>\n      <td>Leonard</td>\n      <td>Excuse me?</td>\n      <td>1</td>\n    </tr>\n    <tr>\n      <th>5</th>\n      <td>Series 01 Episode 01 – Pilot Episode</td>\n      <td>A corridor at a sperm bank.</td>\n      <td>Leonard</td>\n      <td>One across is Aegean, eight down is Nabakov, t...</td>\n      <td>1</td>\n    </tr>\n    <tr>\n      <th>7</th>\n      <td>Series 01 Episode 01 – Pilot Episode</td>\n      <td>A corridor at a sperm bank.</td>\n      <td>Leonard</td>\n      <td>Yes. Um, is this the High IQ sperm bank?</td>\n      <td>1</td>\n    </tr>\n    <tr>\n      <th>9</th>\n      <td>Series 01 Episode 01 – Pilot Episode</td>\n      <td>A corridor at a sperm bank.</td>\n      <td>Sheldon</td>\n      <td>I think this is the place.</td>\n      <td>1</td>\n    </tr>\n    <tr>\n      <th>11</th>\n      <td>Series 01 Episode 01 – Pilot Episode</td>\n      <td>A corridor at a sperm bank.</td>\n      <td>Leonard</td>\n      <td>Thank-you. We’ll be right back.</td>\n      <td>1</td>\n    </tr>\n    <tr>\n      <th>13</th>\n      <td>Series 01 Episode 01 – Pilot Episode</td>\n      <td>A corridor at a sperm bank.</td>\n      <td>Sheldon</td>\n      <td>Leonard, I don’t think I can do this.</td>\n      <td>1</td>\n    </tr>\n    <tr>\n      <th>14</th>\n      <td>Series 01 Episode 01 – Pilot Episode</td>\n      <td>A corridor at a sperm bank.</td>\n      <td>Leonard</td>\n      <td>What, are you kidding? You’re a semi-pro.</td>\n      <td>1</td>\n    </tr>\n    <tr>\n      <th>15</th>\n      <td>Series 01 Episode 01 – Pilot Episode</td>\n      <td>A corridor at a sperm bank.</td>\n      <td>Sheldon</td>\n      <td>No. We are committing genetic fraud. There’s n...</td>\n      <td>1</td>\n    </tr>\n    <tr>\n      <th>16</th>\n      <td>Series 01 Episode 01 – Pilot Episode</td>\n      <td>A corridor at a sperm bank.</td>\n      <td>Leonard</td>\n      <td>Sheldon, this was your idea. A little extra mo...</td>\n      <td>1</td>\n    </tr>\n    <tr>\n      <th>17</th>\n      <td>Series 01 Episode 01 – Pilot Episode</td>\n      <td>A corridor at a sperm bank.</td>\n      <td>Sheldon</td>\n      <td>I know, and I do yearn for faster downloads, b...</td>\n      <td>1</td>\n    </tr>\n    <tr>\n      <th>18</th>\n      <td>Series 01 Episode 01 – Pilot Episode</td>\n      <td>A corridor at a sperm bank.</td>\n      <td>Leonard</td>\n      <td>I’m sure she’ll still love him.</td>\n      <td>1</td>\n    </tr>\n    <tr>\n      <th>19</th>\n      <td>Series 01 Episode 01 – Pilot Episode</td>\n      <td>A corridor at a sperm bank.</td>\n      <td>Sheldon</td>\n      <td>I wouldn’t.</td>\n      <td>1</td>\n    </tr>\n    <tr>\n      <th>20</th>\n      <td>Series 01 Episode 01 – Pilot Episode</td>\n      <td>A corridor at a sperm bank.</td>\n      <td>Leonard</td>\n      <td>Well, what do you want to do?</td>\n      <td>1</td>\n    </tr>\n    <tr>\n      <th>21</th>\n      <td>Series 01 Episode 01 – Pilot Episode</td>\n      <td>A corridor at a sperm bank.</td>\n      <td>Sheldon</td>\n      <td>I want to leave.</td>\n      <td>1</td>\n    </tr>\n    <tr>\n      <th>22</th>\n      <td>Series 01 Episode 01 – Pilot Episode</td>\n      <td>A corridor at a sperm bank.</td>\n      <td>Leonard</td>\n      <td>Okay.</td>\n      <td>1</td>\n    </tr>\n    <tr>\n      <th>23</th>\n      <td>Series 01 Episode 01 – Pilot Episode</td>\n      <td>A corridor at a sperm bank.</td>\n      <td>Sheldon</td>\n      <td>What’s the protocol for leaving?</td>\n      <td>1</td>\n    </tr>\n    <tr>\n      <th>24</th>\n      <td>Series 01 Episode 01 – Pilot Episode</td>\n      <td>A corridor at a sperm bank.</td>\n      <td>Leonard</td>\n      <td>I don’t know, I’ve never reneged on a proffer ...</td>\n      <td>1</td>\n    </tr>\n  </tbody>\n</table>\n</div>"
     },
     "execution_count": 17,
     "metadata": {},
     "output_type": "execute_result"
    }
   ],
   "source": [
    "# 3. filter dialogues\n",
    "scripts = scripts[scripts.character.isin(recurrent_characters)]\n",
    "assert len(scripts.character.value_counts()) == 19\n",
    "scripts.head(20)"
   ],
   "metadata": {
    "collapsed": false,
    "pycharm": {
     "name": "#%%\n"
    }
   }
  },
  {
   "cell_type": "markdown",
   "metadata": {},
   "source": [
    "## Task B: Read the scripts carefully\n",
    "\n",
    "### Part 1: Don't put the shovel down just yet\n",
    "\n",
    "**Q3**. From each dialogue line, replace punctuation marks (listed in the EXCLUDE_CHARS variable provided in `helpers/helper_functions.py`) with whitespaces, and lowercase all the text. **Do not remove any stopwords, leave them be for all the questions in this task.**"
   ]
  },
  {
   "cell_type": "code",
   "execution_count": 28,
   "metadata": {
    "collapsed": true,
    "jupyter": {
     "outputs_hidden": true
    }
   },
   "outputs": [
    {
     "name": "stdout",
     "output_type": "stream",
     "text": [
      "(Knock, knock, knock) Amy. (Knock, knock, knock) Amy. (Knock, knock, knock) Amy. Will you marry me?\n",
      " Knock  knock  knock  Amy   Knock  knock  knock  Amy   Knock  knock  knock  Amy  Will you marry me \n"
     ]
    }
   ],
   "source": [
    "# 1. prepare excludor\n",
    "from helpers.helper_functions import  EXCLUDE_CHARS\n",
    "\n",
    "def exclude_chars(text, exclude_chars_list):\n",
    "    for c in exclude_chars_list:\n",
    "        text = text.replace(c, \" \")\n",
    "    return text\n",
    "\n",
    "print(dialogue)\n",
    "print(exclude_chars(dialogue, EXCLUDE_CHARS))"
   ]
  },
  {
   "cell_type": "code",
   "execution_count": 31,
   "outputs": [
    {
     "data": {
      "text/plain": "                                 episode                        scene  \\\n0   Series 01 Episode 01 – Pilot Episode  A corridor at a sperm bank.   \n1   Series 01 Episode 01 – Pilot Episode  A corridor at a sperm bank.   \n2   Series 01 Episode 01 – Pilot Episode  A corridor at a sperm bank.   \n3   Series 01 Episode 01 – Pilot Episode  A corridor at a sperm bank.   \n5   Series 01 Episode 01 – Pilot Episode  A corridor at a sperm bank.   \n7   Series 01 Episode 01 – Pilot Episode  A corridor at a sperm bank.   \n9   Series 01 Episode 01 – Pilot Episode  A corridor at a sperm bank.   \n11  Series 01 Episode 01 – Pilot Episode  A corridor at a sperm bank.   \n13  Series 01 Episode 01 – Pilot Episode  A corridor at a sperm bank.   \n14  Series 01 Episode 01 – Pilot Episode  A corridor at a sperm bank.   \n\n   character                                               text  season  \n0    Sheldon  so if a photon is directed through a plane wit...       1  \n1    Leonard                         agreed  what s your point        1  \n2    Sheldon  there s no point  i just think it s a good ide...       1  \n3    Leonard                                         excuse me        1  \n5    Leonard  one across is aegean  eight down is nabakov  t...       1  \n7    Leonard           yes  um  is this the high iq sperm bank        1  \n9    Sheldon                         i think this is the place        1  \n11   Leonard                    thank you  we ll be right back        1  \n13   Sheldon              leonard  i don t think i can do this        1  \n14   Leonard          what  are you kidding  you re a semi pro        1  ",
      "text/html": "<div>\n<style scoped>\n    .dataframe tbody tr th:only-of-type {\n        vertical-align: middle;\n    }\n\n    .dataframe tbody tr th {\n        vertical-align: top;\n    }\n\n    .dataframe thead th {\n        text-align: right;\n    }\n</style>\n<table border=\"1\" class=\"dataframe\">\n  <thead>\n    <tr style=\"text-align: right;\">\n      <th></th>\n      <th>episode</th>\n      <th>scene</th>\n      <th>character</th>\n      <th>text</th>\n      <th>season</th>\n    </tr>\n  </thead>\n  <tbody>\n    <tr>\n      <th>0</th>\n      <td>Series 01 Episode 01 – Pilot Episode</td>\n      <td>A corridor at a sperm bank.</td>\n      <td>Sheldon</td>\n      <td>so if a photon is directed through a plane wit...</td>\n      <td>1</td>\n    </tr>\n    <tr>\n      <th>1</th>\n      <td>Series 01 Episode 01 – Pilot Episode</td>\n      <td>A corridor at a sperm bank.</td>\n      <td>Leonard</td>\n      <td>agreed  what s your point</td>\n      <td>1</td>\n    </tr>\n    <tr>\n      <th>2</th>\n      <td>Series 01 Episode 01 – Pilot Episode</td>\n      <td>A corridor at a sperm bank.</td>\n      <td>Sheldon</td>\n      <td>there s no point  i just think it s a good ide...</td>\n      <td>1</td>\n    </tr>\n    <tr>\n      <th>3</th>\n      <td>Series 01 Episode 01 – Pilot Episode</td>\n      <td>A corridor at a sperm bank.</td>\n      <td>Leonard</td>\n      <td>excuse me</td>\n      <td>1</td>\n    </tr>\n    <tr>\n      <th>5</th>\n      <td>Series 01 Episode 01 – Pilot Episode</td>\n      <td>A corridor at a sperm bank.</td>\n      <td>Leonard</td>\n      <td>one across is aegean  eight down is nabakov  t...</td>\n      <td>1</td>\n    </tr>\n    <tr>\n      <th>7</th>\n      <td>Series 01 Episode 01 – Pilot Episode</td>\n      <td>A corridor at a sperm bank.</td>\n      <td>Leonard</td>\n      <td>yes  um  is this the high iq sperm bank</td>\n      <td>1</td>\n    </tr>\n    <tr>\n      <th>9</th>\n      <td>Series 01 Episode 01 – Pilot Episode</td>\n      <td>A corridor at a sperm bank.</td>\n      <td>Sheldon</td>\n      <td>i think this is the place</td>\n      <td>1</td>\n    </tr>\n    <tr>\n      <th>11</th>\n      <td>Series 01 Episode 01 – Pilot Episode</td>\n      <td>A corridor at a sperm bank.</td>\n      <td>Leonard</td>\n      <td>thank you  we ll be right back</td>\n      <td>1</td>\n    </tr>\n    <tr>\n      <th>13</th>\n      <td>Series 01 Episode 01 – Pilot Episode</td>\n      <td>A corridor at a sperm bank.</td>\n      <td>Sheldon</td>\n      <td>leonard  i don t think i can do this</td>\n      <td>1</td>\n    </tr>\n    <tr>\n      <th>14</th>\n      <td>Series 01 Episode 01 – Pilot Episode</td>\n      <td>A corridor at a sperm bank.</td>\n      <td>Leonard</td>\n      <td>what  are you kidding  you re a semi pro</td>\n      <td>1</td>\n    </tr>\n  </tbody>\n</table>\n</div>"
     },
     "execution_count": 31,
     "metadata": {},
     "output_type": "execute_result"
    }
   ],
   "source": [
    "# 2. apply\n",
    "scripts.text = scripts.text.apply(lambda t: exclude_chars(t, EXCLUDE_CHARS)).apply(str.lower)\n",
    "scripts.head(10)"
   ],
   "metadata": {
    "collapsed": false,
    "pycharm": {
     "name": "#%%\n"
    }
   }
  },
  {
   "cell_type": "markdown",
   "metadata": {},
   "source": [
    "**Q4**. For each term, calculate its \"corpus frequency\", i.e. its number of occurrences in the entire series. Visualize the distribution of corpus frequency using a histogram. Explain your observations. What are the appropriate x and y scales for this plot?"
   ]
  },
  {
   "cell_type": "code",
   "execution_count": 72,
   "outputs": [
    {
     "name": "stdout",
     "output_type": "stream",
     "text": [
      "Words: 21102\n",
      "Top 30 most common:\n",
      "[('i', 24764), ('you', 22977), ('the', 15110), ('to', 14295), ('a', 13518), ('s', 12105), ('it', 11182), ('and', 8784), ('that', 8526), ('t', 7617), ('of', 7335), ('in', 5676), ('is', 5444), ('we', 5293), ('what', 5206), ('me', 4905), ('my', 4810), ('m', 4797), ('on', 4297), ('re', 4105), ('oh', 4098), ('this', 4080), ('with', 3945), ('have', 3907), ('no', 3814), ('not', 3762), ('for', 3748), ('your', 3604), ('know', 3505), ('do', 3456)]\n"
     ]
    }
   ],
   "source": [
    "# 1. count words occurances in corups aka in all dialoges in all scenes\n",
    "from collections import Counter\n",
    "word_freq = Counter([word for text in scripts.text.array for word in text.split()])\n",
    "common_words = word_freq.most_common()\n",
    "counts = np.array(list(word_freq.values()))\n",
    "assert len(word_freq.values()) == len(common_words) == len(counts)\n",
    "\n",
    "print(f\"Words: {len(word_freq)}\")\n",
    "print(f\"Top 30 most common:\\n{common_words[:30]}\")"
   ],
   "metadata": {
    "collapsed": false,
    "pycharm": {
     "name": "#%%\n"
    }
   }
  },
  {
   "cell_type": "code",
   "execution_count": 74,
   "outputs": [
    {
     "data": {
      "text/plain": "<Figure size 1800x750 with 2 Axes>",
      "image/png": "[encoded data removed]"
     },
     "metadata": {
      "needs_background": "light"
     },
     "output_type": "display_data"
    }
   ],
   "source": [
    "# 2. its a power law of course\n",
    "import  seaborn as sns\n",
    "fig, (ax1, ax2) = plt.subplots(1, 2, figsize=(12,5), dpi=150)\n",
    "\n",
    "for ax in (ax1, ax2):\n",
    "    ax.set_xlabel(\"word rank\")\n",
    "    ax.set_xlabel(\"word frequency\")\n",
    "\n",
    "ax1.set_title(\"Word count wrt rank on a LIN-LIN plot\")\n",
    "sns.histplot(x=counts, bins=100, ax=ax1)\n",
    "# sns.scatterplot(x=range(1, len(common_words)+1), y=[wc[1] for wc in common_words], ax=ax1)\n",
    "\n",
    "ax2.set_title(\"Word count wrt rank on a LOG-LOG plot\")\n",
    "sns.histplot(x=counts, bins=np.logspace(np.log(counts.min()), np.log(counts.max()), 100), ax=ax2)\n",
    "ax2.set_xscale(\"log\")\n",
    "ax2.set_yscale(\"log\")\n"
   ],
   "metadata": {
    "collapsed": false,
    "pycharm": {
     "name": "#%%\n"
    }
   }
  },
  {
   "cell_type": "code",
   "execution_count": null,
   "outputs": [],
   "source": [
    "\"Yes, this is a power law\""
   ],
   "metadata": {
    "collapsed": false,
    "pycharm": {
     "name": "#%%\n"
    }
   }
  },
  {
   "cell_type": "markdown",
   "metadata": {},
   "source": [
    "### Part 2: Talkativity\n",
    "**Q5**. For each of the recurrent characters, calculate their total number of words uttered across all episodes. Based on this, who seems to be the most talkative character?"
   ]
  },
  {
   "cell_type": "code",
   "execution_count": 78,
   "metadata": {
    "collapsed": true,
    "jupyter": {
     "outputs_hidden": true
    }
   },
   "outputs": [
    {
     "name": "stdout",
     "output_type": "stream",
     "text": [
      "Sheldon uttered 185388 words ***WINNER***\n",
      "Leonard uttered 102496 words \n",
      "Penny uttered 79270 words \n",
      "Howard uttered 69505 words \n",
      "Raj uttered 60099 words \n",
      "Amy uttered 39933 words \n",
      "Bernadette uttered 27726 words \n",
      "Stuart uttered 7955 words \n",
      "Mrs Cooper uttered 3389 words \n",
      "Beverley uttered 2029 words \n",
      "Priya uttered 1940 words \n",
      "Wil uttered 1678 words \n",
      "Emily uttered 1571 words \n",
      "Mrs Wolowitz uttered 1459 words \n",
      "Arthur uttered 1451 words \n",
      "Zack uttered 1427 words \n",
      "Leslie uttered 1249 words \n",
      "Kripke uttered 1246 words \n",
      "Bert uttered 1146 words \n"
     ]
    }
   ],
   "source": [
    "utterances = []\n",
    "for character in recurrent_characters:\n",
    "    u = scripts[scripts.character == character].text.apply(lambda t: len(t.split())).sum()\n",
    "    utterances.append((u, character))\n",
    "for i, (u, c) in enumerate(reversed(sorted(utterances))):\n",
    "    print(f\"{c} uttered {u} words {'***WINNER***' if i == 0 else ''}\")"
   ]
  },
  {
   "cell_type": "markdown",
   "metadata": {},
   "source": [
    "## Task D: The Detective's Hat\n",
    "\n",
    "Sheldon claims that given a dialogue line, he can, with an accuracy of above 70%, say whether it's by himself or by someone else. Leonard contests this claim, since he believes that this claimed accuracy is too high.\n",
    "\n",
    "**Q6**. Divide the set of all dialogue lines into two subsets: the training set, consisting of all the seasons except the last two, and the test set, consisting of the last two seasons."
   ]
  },
  {
   "cell_type": "code",
   "execution_count": 14,
   "metadata": {
    "collapsed": true,
    "jupyter": {
     "outputs_hidden": true
    }
   },
   "outputs": [],
   "source": [
    "100 minutes so far :-("
   ]
  },
  {
   "cell_type": "markdown",
   "metadata": {},
   "source": [
    "**Q7**. Find the set of all words in the training set that are only uttered by Sheldon. Is it possible for Sheldon to identify himself only based on these? Use the test set to assess this possibility, and explain your method."
   ]
  },
  {
   "cell_type": "code",
   "execution_count": 15,
   "metadata": {
    "collapsed": true,
    "jupyter": {
     "outputs_hidden": true
    }
   },
   "outputs": [],
   "source": [
    "# your code goes here"
   ]
  }
 ],
 "metadata": {
  "kernelspec": {
   "display_name": "Python 3 (ipykernel)",
   "language": "python",
   "name": "python3"
  },
  "language_info": {
   "codemirror_mode": {
    "name": "ipython",
    "version": 3
   },
   "file_extension": ".py",
   "mimetype": "text/x-python",
   "name": "python",
   "nbconvert_exporter": "python",
   "pygments_lexer": "ipython3",
   "version": "3.8.11"
  },
  "varInspector": {
   "cols": {
    "lenName": 16,
    "lenType": 16,
    "lenVar": 40
   },
   "kernels_config": {
    "python": {
     "delete_cmd_postfix": "",
     "delete_cmd_prefix": "del ",
     "library": "var_list.py",
     "varRefreshCmd": "print(var_dic_list())"
    },
    "r": {
     "delete_cmd_postfix": ") ",
     "delete_cmd_prefix": "rm(",
     "library": "var_list.r",
     "varRefreshCmd": "cat(var_dic_list()) "
    }
   },
   "types_to_exclude": [
    "module",
    "function",
    "builtin_function_or_method",
    "instance",
    "_Feature"
   ],
   "window_display": false
  }
 },
 "nbformat": 4,
 "nbformat_minor": 4
}
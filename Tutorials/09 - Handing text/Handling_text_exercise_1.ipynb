{
 "cells": [
  {
   "cell_type": "markdown",
   "metadata": {},
   "source": [
    "# Handling text exercise"
   ]
  },
  {
   "cell_type": "markdown",
   "metadata": {},
   "source": [
    "## Welcome! This exercise consists of:\n",
    "\n",
    "## Part 1: Hands on tutorial\n",
    "1. Implementing the natural language processing pipeline\n",
    "2. Solving four typical language processing tasks:\n",
    "   * Sentiment analysis\n",
    "   * Document classification\n",
    "   * Topic detection\n",
    "   * Semantic analysis\n",
    "\n",
    "\n",
    "### We will be working with four books in plain text:\n",
    "1. Moby-Dick, by Herman Melville\n",
    "2. Frankenstein; or, The Modern Prometheus, by Mary Shelley\n",
    "3. Pride and Prejudice, by Jane Austen\n",
    "4. Dracula, Bram Stoker\n",
    "\n",
    "#### To run this notebook, you need to install the following libraries:\n",
    "\n",
    "conda install nltk gensim spacy <br>\n",
    "pip install pyLDAvis  <br>\n",
    "pip install vaderSentiment  <br>\n",
    "pip install empath <br>\n",
    "python -m spacy download en  <br>\n",
    "python -m nltk.downloader punkt <br>\n",
    "python -m nltk.downloader all-corpora <br>\n",
    "\n",
    "## Part 2: Handling text comprehension questions\n",
    "- You can test your understanding of important NLP concepts. Solutions will be released next week.\n",
    "\n",
    "## Part 3: Coding exercise\n",
    "- When you are done, in \"Handling_text_exercise_2.ipynb\", you will find additional exercises you can work on independently."
   ]
  },
  {
   "cell_type": "markdown",
   "metadata": {},
   "source": [
    "## Part 1"
   ]
  },
  {
   "cell_type": "code",
   "execution_count": 34,
   "metadata": {
    "collapsed": true
   },
   "outputs": [
    {
     "name": "stdout",
     "output_type": "stream",
     "text": [
      "The autoreload extension is already loaded. To reload it, use:\n",
      "  %reload_ext autoreload\n"
     ]
    },
    {
     "name": "stderr",
     "output_type": "stream",
     "text": [
      "/home/user72/.local/lib/python3.8/site-packages/ipykernel/ipkernel.py:283: DeprecationWarning: `should_run_async` will not call `transform_cell` automatically in the future. Please pass the result to `transformed_cell` argument and any exception that happen during thetransform in `preprocessing_exc_tuple` in IPython 7.17 and above.\n",
      "  and should_run_async(code)\n"
     ]
    }
   ],
   "source": [
    "%load_ext autoreload\n",
    "%autoreload 2\n",
    "\n",
    "import warnings; warnings.simplefilter('ignore')\n",
    "import os, codecs, string, random\n",
    "import numpy as np\n",
    "from numpy.random import seed as random_seed\n",
    "from numpy.random import shuffle as random_shuffle\n",
    "import matplotlib.pyplot as plt\n",
    "%matplotlib inline  \n",
    "\n",
    "seed = 42\n",
    "random.seed(seed)\n",
    "np.random.seed(seed)\n",
    "\n",
    "#NLP libraries\n",
    "import spacy, nltk, gensim, sklearn\n",
    "import pyLDAvis.gensim_models\n",
    "\n",
    "#Vader\n",
    "import vaderSentiment\n",
    "from vaderSentiment.vaderSentiment import SentimentIntensityAnalyzer\n",
    "\n",
    "#Scikit imports\n",
    "from sklearn.feature_extraction.text import CountVectorizer\n",
    "from sklearn.model_selection import train_test_split\n",
    "from sklearn.model_selection import cross_val_score\n",
    "from sklearn.linear_model import LogisticRegression\n",
    "from sklearn import preprocessing\n",
    "from sklearn.preprocessing import StandardScaler\n",
    "from sklearn.utils import shuffle\n",
    "\n",
    "#The data\n",
    "corpus_root = 'books/'"
   ]
  },
  {
   "cell_type": "markdown",
   "metadata": {},
   "source": [
    "#### In this tutorial we will be working with text in English. The same principles apply, but the methods cannot be applied directly to the text in unknown or other languages. We will be working mainly with the Spacy library."
   ]
  },
  {
   "cell_type": "markdown",
   "metadata": {},
   "source": [
    "Initialize the Spacy analyzer in English"
   ]
  },
  {
   "cell_type": "code",
   "execution_count": 88,
   "metadata": {},
   "outputs": [],
   "source": [
    "nlp = spacy.load('en_core_web_sm')"
   ]
  },
  {
   "cell_type": "markdown",
   "metadata": {},
   "source": [
    "Load the books"
   ]
  },
  {
   "cell_type": "code",
   "execution_count": 36,
   "metadata": {},
   "outputs": [
    {
     "name": "stdout",
     "output_type": "stream",
     "text": [
      "DRACULA.txt\n",
      "Frankenstein.txt\n",
      "Moby_Dick.txt\n",
      "PRIDE_AND_PREJUDICE.txt\n"
     ]
    }
   ],
   "source": [
    "books = list()\n",
    "\n",
    "for book_file in os.listdir(corpus_root):\n",
    "    if \".txt\" in book_file:\n",
    "        print(book_file)\n",
    "        with codecs.open(os.path.join(corpus_root,book_file),encoding=\"utf8\") as f:\n",
    "            books.append(f.read())"
   ]
  },
  {
   "cell_type": "markdown",
   "metadata": {},
   "source": [
    "Print the beginning of Pride and Prejudice"
   ]
  },
  {
   "cell_type": "code",
   "execution_count": 37,
   "metadata": {},
   "outputs": [
    {
     "name": "stdout",
     "output_type": "stream",
     "text": [
      "PRIDE AND PREJUDICE\n",
      "\n",
      "By Jane Austen\n",
      "\n",
      "\n",
      "\n",
      "Chapter 1\n",
      "\n",
      "\n",
      "It is a truth universally acknowledged, that a single man in possession\n",
      "of a good fortune, must be in want of a wife.\n",
      "\n",
      "However little known the feelings or views of such a man may be on his\n",
      "first entering a neighbourhood, this truth is so well fixed in the minds\n",
      "of the surrounding families, that he is considered the rightful property\n",
      "of some one or other of their daughters.\n",
      "\n",
      "“My dear Mr. Bennet,” said his lady to him one day, “have you heard that\n",
      "Netherfield Park is let at last?”\n",
      "\n",
      "Mr. Bennet replied that he had not.\n",
      "\n",
      "“But it is,” returned she;\n"
     ]
    }
   ],
   "source": [
    "print(books[3][0:600])"
   ]
  },
  {
   "cell_type": "markdown",
   "metadata": {},
   "source": [
    "#### Let's remove the new lines"
   ]
  },
  {
   "cell_type": "code",
   "execution_count": 38,
   "metadata": {},
   "outputs": [],
   "source": [
    "books = [\" \".join(b.split()) for b in books]"
   ]
  },
  {
   "cell_type": "code",
   "execution_count": 39,
   "metadata": {},
   "outputs": [
    {
     "name": "stdout",
     "output_type": "stream",
     "text": [
      "PRIDE AND PREJUDICE By Jane Austen Chapter 1 It is a truth universally acknowledged, that a single man in possession of a good fortune, must be in want of a wife. However little known the feelings or views of such a man may be on his first entering a neighbourhood, this truth is so well fixed in the minds of the surrounding families, that he is considered the rightful property of some one or other of their daughters. “My dear Mr. Bennet,” said his lady to him one day, “have you heard that Netherfield Park is let at last?” Mr. Bennet replied that he had not. “But it is,” returned she; “for Mrs.\n"
     ]
    }
   ],
   "source": [
    "print(books[3][0:600])"
   ]
  },
  {
   "cell_type": "markdown",
   "metadata": {},
   "source": [
    "### Load Frankenstein"
   ]
  },
  {
   "cell_type": "code",
   "execution_count": 40,
   "metadata": {},
   "outputs": [],
   "source": [
    "#index all books\n",
    "book = books[1]\n",
    "\n",
    "#put in raw text, get a Spacy object\n",
    "doc = nlp(book)"
   ]
  },
  {
   "cell_type": "markdown",
   "metadata": {},
   "source": [
    "## Let's create our own NLP pipeline with Spacy!"
   ]
  },
  {
   "cell_type": "markdown",
   "metadata": {},
   "source": [
    "### Step 1: Sentence splitting\n",
    "\n",
    "#### May sound trivial, but it's not! (e.g., U.K. or Yahoo!) Spacy uses a statistical model to generate accurate predictions. This works well out of the box for general-purpose text or web text. For social media use dedicated libraries."
   ]
  },
  {
   "cell_type": "code",
   "execution_count": 41,
   "metadata": {},
   "outputs": [
    {
     "name": "stdout",
     "output_type": "stream",
     "text": [
      "Sentence 1: Frankenstein, or the Modern Prometheus by Mary Wollstonecraft (Godwin) Shelley Letter 1 St. Petersburgh, Dec. 11th, 17-- TO Mrs. Saville, England You will rejoice to hear that no disaster has accompanied the commencement of an enterprise which you have regarded with such evil forebodings. \n",
      "\n",
      "Sentence 2: I arrived here yesterday, and my first task is to assure my dear sister of my welfare and increasing confidence in the success of my undertaking. \n",
      "\n",
      "Sentence 3: I am already far north of London, and as I walk in the streets of Petersburgh, I feel a cold northern breeze play upon my cheeks, which braces my nerves and fills me with delight. \n",
      "\n"
     ]
    }
   ],
   "source": [
    "sentences = [sent for sent in doc.sents]\n",
    "print('Sentence 1:',sentences[0],'\\n')\n",
    "print('Sentence 2:',sentences[1],'\\n')\n",
    "print('Sentence 3:',sentences[2],'\\n')"
   ]
  },
  {
   "cell_type": "markdown",
   "metadata": {},
   "source": [
    "### Step 2: Tokenization\n",
    "\n",
    "#### The task of splitting a text into meaningful segments called tokens. We segment the sentence into words, punctuation, etc. This is done by first splitting on whitespace characters and them applying rules specific to each language. For example, \"don't\" does not contain whitespace, but should be split into two tokens, \"do\" and \"n't\", while \"U.K.\" should always remain one token and \"but,\" shouldn't."
   ]
  },
  {
   "cell_type": "markdown",
   "metadata": {},
   "source": [
    "### We will analyze the methods on an example sentence first"
   ]
  },
  {
   "cell_type": "code",
   "execution_count": 42,
   "metadata": {},
   "outputs": [
    {
     "name": "stdout",
     "output_type": "stream",
     "text": [
      "I am already far north of London, and as I walk in the streets of Petersburgh, I feel a cold northern breeze play upon my cheeks, which braces my nerves and fills me with delight. \n",
      "\n",
      "['I', 'am', 'already', 'far', 'north', 'of', 'London', ',', 'and', 'as', 'I', 'walk', 'in', 'the', 'streets', 'of', 'Petersburgh', ',', 'I', 'feel', 'a', 'cold', 'northern', 'breeze', 'play', 'upon', 'my', 'cheeks', ',', 'which', 'braces', 'my', 'nerves', 'and', 'fills', 'me', 'with', 'delight', '.']\n"
     ]
    }
   ],
   "source": [
    "example = 'I am already far north of London, and as I walk in the streets of Petersburgh, I feel a cold northern breeze play upon my cheeks, which braces my nerves and fills me with delight.'\n",
    "\n",
    "doc = nlp(example)\n",
    "\n",
    "#strings are encoded to hashes\n",
    "tokens = [token.text for token in doc]\n",
    "\n",
    "print(example,'\\n')\n",
    "print(tokens)"
   ]
  },
  {
   "cell_type": "markdown",
   "metadata": {},
   "source": [
    "### Step 3: Part of speech tagging\n",
    "\n",
    "#### The model makes a prediction of which tag or label most likely applies in this context. For example, a word following \"the\" in English is most likely a noun."
   ]
  },
  {
   "cell_type": "code",
   "execution_count": 43,
   "metadata": {},
   "outputs": [
    {
     "name": "stdout",
     "output_type": "stream",
     "text": [
      "I am already far north of London, and as I walk in the streets of Petersburgh, I feel a cold northern breeze play upon my cheeks, which braces my nerves and fills me with delight. \n",
      "\n",
      "[('I', 'PRON'), ('am', 'AUX'), ('already', 'ADV'), ('far', 'ADV'), ('north', 'ADV'), ('of', 'ADP'), ('London', 'PROPN'), (',', 'PUNCT'), ('and', 'CCONJ'), ('as', 'SCONJ'), ('I', 'PRON'), ('walk', 'VERB'), ('in', 'ADP'), ('the', 'DET'), ('streets', 'NOUN'), ('of', 'ADP'), ('Petersburgh', 'PROPN'), (',', 'PUNCT'), ('I', 'PRON'), ('feel', 'VERB'), ('a', 'DET'), ('cold', 'ADJ'), ('northern', 'ADJ'), ('breeze', 'NOUN'), ('play', 'VERB'), ('upon', 'SCONJ'), ('my', 'PRON'), ('cheeks', 'NOUN'), (',', 'PUNCT'), ('which', 'PRON'), ('braces', 'VERB'), ('my', 'PRON'), ('nerves', 'NOUN'), ('and', 'CCONJ'), ('fills', 'VERB'), ('me', 'PRON'), ('with', 'ADP'), ('delight', 'NOUN'), ('.', 'PUNCT')]\n"
     ]
    }
   ],
   "source": [
    "pos_tagged = [(token.text, token.pos_) for token in doc]\n",
    "\n",
    "print(example,'\\n')\n",
    "print(pos_tagged)"
   ]
  },
  {
   "cell_type": "code",
   "execution_count": 44,
   "metadata": {},
   "outputs": [
    {
     "name": "stdout",
     "output_type": "stream",
     "text": [
      "coordinating conjunction\n",
      "adposition\n",
      "determiner\n"
     ]
    }
   ],
   "source": [
    "print(spacy.explain('CCONJ'))\n",
    "print(spacy.explain('ADP'))\n",
    "print(spacy.explain('DET'))"
   ]
  },
  {
   "cell_type": "markdown",
   "metadata": {},
   "source": [
    "### When unsure, see here for more details: http://universaldependencies.org/u/pos/all.html"
   ]
  },
  {
   "cell_type": "markdown",
   "metadata": {},
   "source": [
    "#### More detailed annotation:"
   ]
  },
  {
   "cell_type": "code",
   "execution_count": 45,
   "metadata": {},
   "outputs": [
    {
     "name": "stdout",
     "output_type": "stream",
     "text": [
      "[('I', 'PRP'), ('am', 'VBP'), ('already', 'RB'), ('far', 'RB'), ('north', 'RB'), ('of', 'IN'), ('London', 'NNP'), (',', ','), ('and', 'CC'), ('as', 'IN'), ('I', 'PRP'), ('walk', 'VBP'), ('in', 'IN'), ('the', 'DT'), ('streets', 'NNS'), ('of', 'IN'), ('Petersburgh', 'NNP'), (',', ','), ('I', 'PRP'), ('feel', 'VBP'), ('a', 'DT'), ('cold', 'JJ'), ('northern', 'JJ'), ('breeze', 'NN'), ('play', 'VB'), ('upon', 'IN'), ('my', 'PRP$'), ('cheeks', 'NNS'), (',', ','), ('which', 'WDT'), ('braces', 'VBZ'), ('my', 'PRP$'), ('nerves', 'NNS'), ('and', 'CC'), ('fills', 'VBZ'), ('me', 'PRP'), ('with', 'IN'), ('delight', 'NN'), ('.', '.')]\n"
     ]
    }
   ],
   "source": [
    "pos_tagged = [(token.text, token.tag_) for token in doc]\n",
    "\n",
    "print(pos_tagged)"
   ]
  },
  {
   "cell_type": "code",
   "execution_count": 46,
   "metadata": {},
   "outputs": [
    {
     "name": "stdout",
     "output_type": "stream",
     "text": [
      "pronoun, personal\n",
      "verb, non-3rd person singular present\n"
     ]
    }
   ],
   "source": [
    "print(spacy.explain('PRP'))\n",
    "print(spacy.explain('VBP'))"
   ]
  },
  {
   "cell_type": "markdown",
   "metadata": {},
   "source": [
    "### Step 4: Named entity recognition\n",
    "\n",
    "#### For example, a person, a country, a product or a book title. Spacy can recognise various types of named entities in a document. This doesn't always work perfectly and might need some tuning later, depending on your use case.\n",
    "\n",
    "Built in entity types: <br>\n",
    "\n",
    "PERSON  People, including fictional.  <br>\n",
    "NORP\tNationalities or religious or political groups. <br>\n",
    "FAC\tBuildings, airports, highways, bridges, etc. <br>\n",
    "ORG\tCompanies, agencies, institutions, etc. <br>\n",
    "GPE\tCountries, cities, states. <br>\n",
    "LOC\tNon-GPE locations, mountain ranges, bodies of water. <br>\n",
    "PRODUCT\tObjects, vehicles, foods, etc. (Not services.) <br>\n",
    "EVENT\tNamed hurricanes, battles, wars, sports events, etc. <br>\n",
    "WORK_OF_ART\tTitles of books, songs, etc. <br>\n",
    "LAW\tNamed documents made into laws. <br>\n",
    "LANGUAGE\tAny named language. <br>\n",
    "DATE\tAbsolute or relative dates or periods. <br>\n",
    "TIME\tTimes smaller than a day. <br>\n",
    "PERCENT\tPercentage, including \"%\". <br>\n",
    "MONEY\tMonetary values, including unit. <br>\n",
    "QUANTITY\tMeasurements, as of weight or distance. <br>\n",
    "ORDINAL\t\"first\", \"second\", etc. <br>\n",
    "CARDINAL\tNumerals that do not fall under another type. <br>"
   ]
  },
  {
   "cell_type": "code",
   "execution_count": 47,
   "metadata": {},
   "outputs": [
    {
     "name": "stdout",
     "output_type": "stream",
     "text": [
      "I am already far north of London, and as I walk in the streets of Petersburgh, I feel a cold northern breeze play upon my cheeks, which braces my nerves and fills me with delight. \n",
      "\n",
      "London GPE\n",
      "Petersburgh GPE\n"
     ]
    }
   ],
   "source": [
    "print(example,'\\n')\n",
    "for ent in doc.ents:\n",
    "    print(ent.text, ent.label_)"
   ]
  },
  {
   "cell_type": "markdown",
   "metadata": {},
   "source": [
    "### Step 5: Removing stop words"
   ]
  },
  {
   "cell_type": "markdown",
   "metadata": {},
   "source": [
    "Let's check out all the stopwords:"
   ]
  },
  {
   "cell_type": "code",
   "execution_count": 48,
   "metadata": {},
   "outputs": [
    {
     "name": "stdout",
     "output_type": "stream",
     "text": [
      "Number of stop words: 326\n",
      "First ten stop words: ['had', 'therefore', 'most', 'less', 'empty', 'to', 'every', 'whence', 'yourselves', 'against']\n"
     ]
    }
   ],
   "source": [
    "spacy_stopwords = spacy.lang.en.stop_words.STOP_WORDS\n",
    "print('Number of stop words: %d' % len(spacy_stopwords))\n",
    "print('First ten stop words:',list(spacy_stopwords)[:10])"
   ]
  },
  {
   "cell_type": "markdown",
   "metadata": {},
   "source": [
    "Detecting stopwords in the example:"
   ]
  },
  {
   "cell_type": "code",
   "execution_count": 49,
   "metadata": {},
   "outputs": [
    {
     "name": "stdout",
     "output_type": "stream",
     "text": [
      "I am already far north of London, and as I walk in the streets of Petersburgh, I feel a cold northern breeze play upon my cheeks, which braces my nerves and fills me with delight. \n",
      "\n",
      "['I', 'am', 'already', 'of', 'and', 'as', 'I', 'in', 'the', 'of', 'I', 'a', 'upon', 'my', 'which', 'my', 'and', 'me', 'with']\n"
     ]
    }
   ],
   "source": [
    "print(example,'\\n')\n",
    "\n",
    "stop_words = [token.text for token in doc if token.is_stop]\n",
    "\n",
    "print(stop_words)"
   ]
  },
  {
   "cell_type": "markdown",
   "metadata": {},
   "source": [
    "#### Sometimes it's useful to define a custom list of stopwords. Other solutions: https://www.ranks.nl/stopwords \n"
   ]
  },
  {
   "cell_type": "markdown",
   "metadata": {},
   "source": [
    "### Step 6: Lemmatization\n",
    "\n",
    "#### A rule-based deterministic lemmatizer maps the surface form of a token to a lemma."
   ]
  },
  {
   "cell_type": "code",
   "execution_count": 50,
   "metadata": {},
   "outputs": [
    {
     "name": "stdout",
     "output_type": "stream",
     "text": [
      "I am already far north of London, and as I walk in the streets of Petersburgh, I feel a cold northern breeze play upon my cheeks, which braces my nerves and fills me with delight. \n",
      "\n",
      "am ---> be\n",
      "streets ---> street\n",
      "cheeks ---> cheek\n",
      "braces ---> brace\n",
      "nerves ---> nerve\n",
      "fills ---> fill\n",
      "me ---> I\n"
     ]
    }
   ],
   "source": [
    "print(example,'\\n')\n",
    "for token in doc:\n",
    "    if token.text != token.lemma_:\n",
    "        print(token.text,'--->',token.lemma_)"
   ]
  },
  {
   "cell_type": "markdown",
   "metadata": {},
   "source": [
    "### Step 7: Chunking (shallow parsing)\n",
    "\n",
    "#### Noun chunks are \"base noun phrases\" – flat phrases that have a noun as their head -- a noun plus the words describing the noun – for example, \"the lavish green grass\" or \"the world’s largest tech fund\". "
   ]
  },
  {
   "cell_type": "code",
   "execution_count": 51,
   "metadata": {},
   "outputs": [
    {
     "name": "stdout",
     "output_type": "stream",
     "text": [
      "I am already far north of London, and as I walk in the streets of Petersburgh, I feel a cold northern breeze play upon my cheeks, which braces my nerves and fills me with delight. \n",
      "\n",
      "I\n",
      "London\n",
      "I\n",
      "the streets\n",
      "Petersburgh\n",
      "I\n",
      "a cold northern breeze\n",
      "my cheeks\n",
      "which\n",
      "my nerves\n",
      "me\n",
      "delight\n"
     ]
    }
   ],
   "source": [
    "print(example,'\\n')\n",
    "\n",
    "for chunk in doc.noun_chunks:\n",
    "    print(chunk.text)"
   ]
  },
  {
   "cell_type": "markdown",
   "metadata": {},
   "source": [
    "### Step 8: Dependancy parsing\n",
    "\n",
    "#### The terms head and child describe the words connected by an arc in the dependency tree. The type of syntactic relation that connects the child to the head can be obtain through .dep_."
   ]
  },
  {
   "cell_type": "code",
   "execution_count": 52,
   "metadata": {},
   "outputs": [
    {
     "name": "stdout",
     "output_type": "stream",
     "text": [
      "I am already far north of London, and as I walk in the streets of Petersburgh, I feel a cold northern breeze play upon my cheeks, which braces my nerves and fills me with delight. \n",
      "\n",
      "Token: I Head: am Children: []\n",
      "Token: am Head: am Children: [I, already, north, ,, and, feel]\n",
      "Token: already Head: am Children: []\n",
      "Token: far Head: north Children: []\n",
      "Token: north Head: am Children: [far, of]\n",
      "Token: of Head: north Children: [London]\n",
      "Token: London Head: of Children: []\n",
      "Token: , Head: am Children: []\n",
      "Token: and Head: am Children: []\n",
      "Token: as Head: walk Children: []\n",
      "Token: I Head: walk Children: []\n",
      "Token: walk Head: feel Children: [as, I, in]\n",
      "Token: in Head: walk Children: [streets]\n",
      "Token: the Head: streets Children: []\n",
      "Token: streets Head: in Children: [the, of]\n",
      "Token: of Head: streets Children: [Petersburgh]\n",
      "Token: Petersburgh Head: of Children: []\n",
      "Token: , Head: feel Children: []\n",
      "Token: I Head: feel Children: []\n",
      "Token: feel Head: am Children: [walk, ,, I, play, .]\n",
      "Token: a Head: breeze Children: []\n",
      "Token: cold Head: breeze Children: []\n",
      "Token: northern Head: breeze Children: []\n",
      "Token: breeze Head: play Children: [a, cold, northern]\n",
      "Token: play Head: feel Children: [breeze, upon]\n",
      "Token: upon Head: play Children: [cheeks]\n",
      "Token: my Head: cheeks Children: []\n",
      "Token: cheeks Head: upon Children: [my, ,, braces]\n",
      "Token: , Head: cheeks Children: []\n",
      "Token: which Head: braces Children: []\n",
      "Token: braces Head: cheeks Children: [which, nerves, and, fills]\n",
      "Token: my Head: nerves Children: []\n",
      "Token: nerves Head: braces Children: [my]\n",
      "Token: and Head: braces Children: []\n",
      "Token: fills Head: braces Children: [me, with]\n",
      "Token: me Head: fills Children: []\n",
      "Token: with Head: fills Children: [delight]\n",
      "Token: delight Head: with Children: []\n",
      "Token: . Head: feel Children: []\n"
     ]
    }
   ],
   "source": [
    "print(example,'\\n')\n",
    "\n",
    "for token in doc:\n",
    "    print('Token:',token.text,'Head:',token.head.text, 'Children:',[child for child in token.children])"
   ]
  },
  {
   "cell_type": "markdown",
   "metadata": {},
   "source": [
    "### Counting word occurences"
   ]
  },
  {
   "cell_type": "code",
   "execution_count": 53,
   "metadata": {},
   "outputs": [
    {
     "name": "stdout",
     "output_type": "stream",
     "text": [
      "I am already far north of London, and as I walk in the streets of Petersburgh, I feel a cold northern breeze play upon my cheeks, which braces my nerves and fills me with delight. \n",
      "\n",
      "[('I', 3), (',', 3), ('of', 2), ('and', 2), ('my', 2), ('am', 1), ('already', 1), ('far', 1), ('north', 1), ('London', 1), ('as', 1), ('walk', 1), ('in', 1), ('the', 1), ('streets', 1), ('Petersburgh', 1), ('feel', 1), ('a', 1), ('cold', 1), ('northern', 1), ('breeze', 1), ('play', 1), ('upon', 1), ('cheeks', 1), ('which', 1), ('braces', 1), ('nerves', 1), ('fills', 1), ('me', 1), ('with', 1), ('delight', 1), ('.', 1)]\n"
     ]
    }
   ],
   "source": [
    "from collections import Counter\n",
    "\n",
    "print(example,'\\n')\n",
    "words = [token.text for token in doc]\n",
    "\n",
    "# five most common tokens\n",
    "word_freq = Counter(words)\n",
    "common_words = word_freq.most_common()\n",
    "\n",
    "print(common_words)"
   ]
  },
  {
   "cell_type": "markdown",
   "metadata": {},
   "source": [
    "### Without stop words and punctuation"
   ]
  },
  {
   "cell_type": "code",
   "execution_count": 54,
   "metadata": {},
   "outputs": [
    {
     "name": "stdout",
     "output_type": "stream",
     "text": [
      "[('far', 1), ('north', 1), ('London', 1), ('walk', 1), ('streets', 1), ('Petersburgh', 1), ('feel', 1), ('cold', 1), ('northern', 1), ('breeze', 1), ('play', 1), ('cheeks', 1), ('braces', 1), ('nerves', 1), ('fills', 1), ('delight', 1)]\n"
     ]
    }
   ],
   "source": [
    "words = [token.text for token in doc if token.is_stop != True and token.is_punct != True]\n",
    "\n",
    "# five most common tokens\n",
    "word_freq = Counter(words)\n",
    "common_words = word_freq.most_common()\n",
    "\n",
    "print(common_words)"
   ]
  },
  {
   "cell_type": "markdown",
   "metadata": {
    "collapsed": true
   },
   "source": [
    "## Putting all the components together"
   ]
  },
  {
   "cell_type": "markdown",
   "metadata": {},
   "source": [
    "### Under the hood: the pipeline [\"tokenizer\",\"tagger\", \"parser\", \"ner\"]."
   ]
  },
  {
   "cell_type": "markdown",
   "metadata": {},
   "source": [
    "#### The NLP pipeline with Spacy\n",
    "<img src=\"spacy.png\">"
   ]
  },
  {
   "cell_type": "code",
   "execution_count": 55,
   "metadata": {},
   "outputs": [],
   "source": [
    "nlp = spacy.load('en_core_web_sm')"
   ]
  },
  {
   "cell_type": "markdown",
   "metadata": {},
   "source": [
    "### If you don't need a particular component of the pipeline – for example, the tagger or the parser, you can disable loading it. This can sometimes make a big difference and improve loading speed. "
   ]
  },
  {
   "cell_type": "code",
   "execution_count": 56,
   "metadata": {},
   "outputs": [
    {
     "data": {
      "text/plain": "('tagger', <spacy.pipeline.tagger.Tagger at 0x7fe7d5fd36a0>)"
     },
     "execution_count": 56,
     "metadata": {},
     "output_type": "execute_result"
    }
   ],
   "source": [
    "nlp.remove_pipe('parser')\n",
    "nlp.remove_pipe('tagger')"
   ]
  },
  {
   "cell_type": "markdown",
   "metadata": {
    "collapsed": true
   },
   "source": [
    "# Task 1: Sentiment analysis"
   ]
  },
  {
   "cell_type": "markdown",
   "metadata": {
    "collapsed": true
   },
   "source": [
    "### Initialize the analyzer. Typically used for data from social media (short sentences)."
   ]
  },
  {
   "cell_type": "code",
   "execution_count": 57,
   "metadata": {},
   "outputs": [],
   "source": [
    "analyzer = SentimentIntensityAnalyzer()\n",
    "vs = analyzer.polarity_scores(example)"
   ]
  },
  {
   "cell_type": "markdown",
   "metadata": {},
   "source": [
    "### The sentiment score consits of four values. Neutral, positive and negative sum to one. The final score is obtained by thresholding the compound value (e.g. +/-0.05)."
   ]
  },
  {
   "cell_type": "code",
   "execution_count": 58,
   "metadata": {},
   "outputs": [
    {
     "name": "stdout",
     "output_type": "stream",
     "text": [
      "I am already far north of London, and as I walk in the streets of Petersburgh, I feel a cold northern breeze play upon my cheeks, which braces my nerves and fills me with delight. \n",
      "\n",
      "Negative sentiment: 0.035\n",
      "Neutral sentiment: 0.806\n",
      "Positive sentiment: 0.159\n",
      "Compound sentiment: 0.7096\n"
     ]
    }
   ],
   "source": [
    "print(example, '\\n')\n",
    "print('Negative sentiment:',vs['neg'])\n",
    "print('Neutral sentiment:',vs['neu'])\n",
    "print('Positive sentiment:',vs['pos'])\n",
    "print('Compound sentiment:',vs['compound'])"
   ]
  },
  {
   "cell_type": "markdown",
   "metadata": {},
   "source": [
    "### We can now observe the distributions of sentiment across all sentences in the book Pride and Prejudice:"
   ]
  },
  {
   "cell_type": "code",
   "execution_count": 59,
   "metadata": {},
   "outputs": [],
   "source": [
    "nlp = spacy.load('en_core_web_sm')\n",
    "doc = nlp(books[3])"
   ]
  },
  {
   "cell_type": "code",
   "execution_count": 60,
   "metadata": {},
   "outputs": [
    {
     "data": {
      "text/plain": "Text(0, 0.5, 'Number of sentences')"
     },
     "execution_count": 60,
     "metadata": {},
     "output_type": "execute_result"
    },
    {
     "data": {
      "text/plain": "<Figure size 432x288 with 1 Axes>",
      "image/png": "[encoded data removed]"
     },
     "metadata": {
      "needs_background": "light"
     },
     "output_type": "display_data"
    }
   ],
   "source": [
    "positive_sent = []\n",
    "#iterate through the sentences, get polarity scores, choose a value\n",
    "[positive_sent.append(analyzer.polarity_scores(sent.text)['pos']) for sent in doc.sents]\n",
    "plt.hist(positive_sent,bins=15)\n",
    "plt.xlim([0,1])\n",
    "plt.ylim([0,8000])\n",
    "plt.xlabel('Positive sentiment')\n",
    "plt.ylabel('Number of sentences')"
   ]
  },
  {
   "cell_type": "code",
   "execution_count": 61,
   "metadata": {},
   "outputs": [
    {
     "data": {
      "text/plain": "Text(0, 0.5, 'Number of sentences')"
     },
     "execution_count": 61,
     "metadata": {},
     "output_type": "execute_result"
    },
    {
     "data": {
      "text/plain": "<Figure size 432x288 with 1 Axes>",
      "image/png": "[encoded data removed]"
     },
     "metadata": {
      "needs_background": "light"
     },
     "output_type": "display_data"
    }
   ],
   "source": [
    "negative_sent = []\n",
    "[negative_sent.append(analyzer.polarity_scores(sent.text)['neg']) for sent in doc.sents]\n",
    "plt.hist(negative_sent,bins=15)\n",
    "plt.xlim([0,1])\n",
    "plt.ylim([0,8000])\n",
    "plt.xlabel('Negative sentiment')\n",
    "plt.ylabel('Number of sentences')"
   ]
  },
  {
   "cell_type": "code",
   "execution_count": 62,
   "metadata": {},
   "outputs": [
    {
     "data": {
      "text/plain": "Text(0, 0.5, 'Number of sentences')"
     },
     "execution_count": 62,
     "metadata": {},
     "output_type": "execute_result"
    },
    {
     "data": {
      "text/plain": "<Figure size 432x288 with 1 Axes>",
      "image/png": "[encoded data removed]"
     },
     "metadata": {
      "needs_background": "light"
     },
     "output_type": "display_data"
    }
   ],
   "source": [
    "total_sent = []\n",
    "[total_sent.append(analyzer.polarity_scores(sent.text)['compound']) for sent in doc.sents]\n",
    "plt.hist(total_sent,bins = 15)\n",
    "plt.xlim([-1,1])\n",
    "plt.ylim([0,8000])\n",
    "plt.xlabel('Compound sentiment')\n",
    "plt.ylabel('Number of sentences')"
   ]
  },
  {
   "cell_type": "code",
   "execution_count": 63,
   "metadata": {},
   "outputs": [
    {
     "name": "stdout",
     "output_type": "stream",
     "text": [
      "Number of positive sentences: 2730\n",
      "Number of negative sentences: 1347\n",
      "Number of neutral sentences: 1927\n"
     ]
    }
   ],
   "source": [
    "sents = [analyzer.polarity_scores(sent.text)['compound'] for sent in doc.sents]\n",
    "print('Number of positive sentences:',sum(np.array(sents)>=0.05))\n",
    "print('Number of negative sentences:',sum(np.array(sents)<=-0.05))\n",
    "print('Number of neutral sentences:',sum(np.abs(np.array(sents))<0.05))"
   ]
  },
  {
   "cell_type": "markdown",
   "metadata": {
    "collapsed": true
   },
   "source": [
    "#### Most of the sentences are quite neutral in sentiment. This is not the case when working with data from other sources (e.g., in social media opinions are strong and polarized (bimodal distribution))."
   ]
  },
  {
   "cell_type": "markdown",
   "metadata": {
    "collapsed": true
   },
   "source": [
    "# Task 2: Document classification: Can we detect paragraphs from Frankenstein?"
   ]
  },
  {
   "cell_type": "code",
   "execution_count": 64,
   "metadata": {},
   "outputs": [
    {
     "name": "stdout",
     "output_type": "stream",
     "text": [
      "['DRACULA.txt', 'Frankenstein.txt', 'Moby_Dick.txt', 'PRIDE_AND_PREJUDICE.txt']\n"
     ]
    }
   ],
   "source": [
    "# Let's load our corpus via NLTK this time\n",
    "from nltk.corpus import PlaintextCorpusReader\n",
    "?PlaintextCorpusReader\n",
    "our_books = PlaintextCorpusReader(corpus_root, '.*.txt')\n",
    "print(our_books.fileids())"
   ]
  },
  {
   "cell_type": "markdown",
   "metadata": {},
   "source": [
    "### We will segment the books into equally long chunks"
   ]
  },
  {
   "cell_type": "code",
   "execution_count": 65,
   "metadata": {},
   "outputs": [
    {
     "name": "stdout",
     "output_type": "stream",
     "text": [
      "DRACULA.txt :\n",
      "Number of sentences: 9303\n",
      "Number of chunks: 187 \n",
      "\n",
      "Frankenstein.txt :\n",
      "Number of sentences: 3378\n",
      "Number of chunks: 68 \n",
      "\n",
      "Moby_Dick.txt :\n",
      "Number of sentences: 9609\n",
      "Number of chunks: 193 \n",
      "\n",
      "PRIDE_AND_PREJUDICE.txt :\n",
      "Number of sentences: 6055\n",
      "Number of chunks: 122 \n",
      "\n"
     ]
    }
   ],
   "source": [
    "def get_chunks(l, n):\n",
    "    \"\"\"Yield successive n-sized chunks from l.\"\"\"\n",
    "    for i in range(0, len(l), n):\n",
    "        yield l[i:i + n]\n",
    "\n",
    "\n",
    "# Get the data\n",
    "book_id = {f:n for n,f in enumerate(our_books.fileids())} # dictionary of books\n",
    "\n",
    "chunks = list()\n",
    "chunk_class = list() # this list contains the original book of the chunk, for evaluation\n",
    "\n",
    "limit = 500 # how many chunks total\n",
    "size = 50 # how many sentences per chunk/page\n",
    "\n",
    "for f in our_books.fileids():\n",
    "    sentences = our_books.sents(f)\n",
    "    print(f,\":\")\n",
    "    print('Number of sentences:',len(sentences))\n",
    "    \n",
    "    # create chunks\n",
    "    chunks_of_sents = [x for x in get_chunks(sentences,size)] # this is a list of lists of sentences, which are a list of tokens\n",
    "    chs = list()\n",
    "    \n",
    "    # regroup so to have a list of chunks which are strings\n",
    "    for c in chunks_of_sents:\n",
    "        grouped_chunk = list()\n",
    "        for s in c:\n",
    "            grouped_chunk.extend(s)\n",
    "        chs.append(\" \".join(grouped_chunk))\n",
    "    print(\"Number of chunks:\",len(chs),'\\n')\n",
    "    \n",
    "    # filter to the limit, to have the same number of chunks per book\n",
    "    chunks.extend(chs[:limit])\n",
    "    chunk_class.extend([book_id[f] for _ in range(len(chs[:limit]))])"
   ]
  },
  {
   "cell_type": "markdown",
   "metadata": {},
   "source": [
    "### Representing the chunks with bag-of-words"
   ]
  },
  {
   "cell_type": "code",
   "execution_count": 66,
   "metadata": {},
   "outputs": [
    {
     "name": "stdout",
     "output_type": "stream",
     "text": [
      "Number of samples: 570\n",
      "Number of features: 23116\n"
     ]
    }
   ],
   "source": [
    "vectorizer = CountVectorizer()\n",
    "\n",
    "#initialize and specify minumum number of occurences to avoid untractable number of features\n",
    "#vectorizer = CountVectorizer(min_df = 2) if we want high frequency\n",
    "\n",
    "#create bag of words features\n",
    "X = vectorizer.fit_transform(chunks)\n",
    "\n",
    "print('Number of samples:',X.toarray().shape[0])\n",
    "print('Number of features:',X.toarray().shape[1])\n",
    "\n",
    "#mask and convert to int Frankenstein\n",
    "Y = np.array(chunk_class) == 1\n",
    "Y = Y.astype(int)  \n",
    "\n",
    "#shuffle the data\n",
    "X, Y = shuffle(X, Y, random_state=0)\n",
    "\n",
    "#split into training and test set\n",
    "X_train, X_test, Y_train, Y_test = train_test_split(X, Y, test_size=0.2, random_state=42)"
   ]
  },
  {
   "cell_type": "markdown",
   "metadata": {},
   "source": [
    "### Let's fit the regularized logistic regression. We will crossvalidate the regularization parameter on the training set."
   ]
  },
  {
   "cell_type": "code",
   "execution_count": 67,
   "metadata": {},
   "outputs": [],
   "source": [
    "accs = []\n",
    "\n",
    "#the grid of regularization parameter \n",
    "grid = [0.01,0.1,1,10,100,1000,10000]\n",
    "\n",
    "for c in grid:\n",
    "    \n",
    "    #initialize the classifier\n",
    "    clf = LogisticRegression(random_state=0, solver='lbfgs',C = c)\n",
    "    \n",
    "    #crossvalidate\n",
    "    scores = cross_val_score(clf, X_train,Y_train, cv=10)\n",
    "    accs.append(np.mean(scores))"
   ]
  },
  {
   "cell_type": "code",
   "execution_count": 68,
   "metadata": {},
   "outputs": [
    {
     "data": {
      "text/plain": "(0.986, 1.0)"
     },
     "execution_count": 68,
     "metadata": {},
     "output_type": "execute_result"
    },
    {
     "data": {
      "text/plain": "<Figure size 432x288 with 1 Axes>",
      "image/png": "[encoded data removed]"
     },
     "metadata": {
      "needs_background": "light"
     },
     "output_type": "display_data"
    }
   ],
   "source": [
    "plt.plot(accs)\n",
    "plt.xticks(range(len(grid)), grid)\n",
    "plt.xlabel('Regularization parameter \\n (Low - strong regularization, High - weak regularization)')\n",
    "plt.ylabel('Crossvalidation accuracy')\n",
    "plt.ylim([0.986,1])"
   ]
  },
  {
   "cell_type": "markdown",
   "metadata": {},
   "source": [
    "### Let's train again, on the entire training set, with the chosen regularization parameter. We will test on the test set"
   ]
  },
  {
   "cell_type": "code",
   "execution_count": 69,
   "metadata": {},
   "outputs": [
    {
     "name": "stdout",
     "output_type": "stream",
     "text": [
      "Accuracy: 0.9824561403508771\n"
     ]
    }
   ],
   "source": [
    "clf = LogisticRegression(random_state=0, solver='lbfgs',C = 10).fit(X_train,Y_train)\n",
    "\n",
    "#predict on the test set\n",
    "print('Accuracy:',clf.score(X_test,Y_test))"
   ]
  },
  {
   "cell_type": "markdown",
   "metadata": {},
   "source": [
    "### What features characterize Frankenstein? BOW are interpretable!"
   ]
  },
  {
   "cell_type": "code",
   "execution_count": 70,
   "metadata": {},
   "outputs": [
    {
     "name": "stdout",
     "output_type": "stream",
     "text": [
      "['frankenstein' 'towards' 'creature' 'poor' 'death' 'had' 'this' 'but'\n",
      " 'of' 'my' 'will' 'justine' 'misery' 'which' 'father' 'and' 'who' 'by'\n",
      " 'me' 'yet']\n"
     ]
    }
   ],
   "source": [
    "coefs=clf.coef_[0]\n",
    "top_three = np.argpartition(coefs, -20)[-20:]\n",
    "\n",
    "print(np.array(vectorizer.get_feature_names())[top_three])"
   ]
  },
  {
   "cell_type": "markdown",
   "metadata": {
    "collapsed": true
   },
   "source": [
    "### We can perfectly predict paragraphs from Frankenstein! We saw issues of high dimensionality when using bag of words (more features than samples) and how regularization helps."
   ]
  },
  {
   "cell_type": "markdown",
   "metadata": {},
   "source": [
    "### Alternative text representation: word emdeddings, pretrained on intergraded in Spacy (300-dimensional word vectors trained on Common Crawl with GloVe.) Depending on the application, might be suitable or not"
   ]
  },
  {
   "cell_type": "code",
   "execution_count": 71,
   "metadata": {},
   "outputs": [
    {
     "name": "stdout",
     "output_type": "stream",
     "text": [
      "I am already far north of London, and as I walk in the streets of Petersburgh, I feel a cold northern breeze play upon my cheeks, which braces my nerves and fills me with delight. \n",
      "\n",
      "Embedding representation: [0.1304037, 0.3179771, -0.22079033, 0.034094866, 0.20154242, -0.07828384, -0.52147704, -0.009333736, 0.21081375, -0.14390452] ...\n"
     ]
    }
   ],
   "source": [
    "print(example,'\\n')\n",
    "print('Embedding representation:',list((nlp(example).vector)[0:10]),'...')"
   ]
  },
  {
   "cell_type": "markdown",
   "metadata": {},
   "source": [
    "# Task 3: Topic detection"
   ]
  },
  {
   "cell_type": "code",
   "execution_count": 72,
   "metadata": {},
   "outputs": [
    {
     "name": "stdout",
     "output_type": "stream",
     "text": [
      "DRACULA.txt\n",
      "Number of sentences: 9303\n",
      "Number of chunks: 187 \n",
      "\n",
      "Frankenstein.txt\n",
      "Number of sentences: 3378\n",
      "Number of chunks: 68 \n",
      "\n",
      "Moby_Dick.txt\n",
      "Number of sentences: 9609\n",
      "Number of chunks: 193 \n",
      "\n",
      "PRIDE_AND_PREJUDICE.txt\n",
      "Number of sentences: 6055\n",
      "Number of chunks: 122 \n",
      "\n"
     ]
    }
   ],
   "source": [
    "# Get the chunks again (into smaller chunks)\n",
    "book_id = {f:n for n,f in enumerate(our_books.fileids())} # dictionary of books\n",
    "chunks = list()\n",
    "chunk_class = list() # this list contains the original book of the chunk, for evaluation\n",
    "\n",
    "limit = 60 # how many chunks total\n",
    "size = 50 # how many sentences per chunk/page\n",
    "\n",
    "for f in our_books.fileids():\n",
    "    sentences = our_books.sents(f)\n",
    "    print(f)\n",
    "    print('Number of sentences:',len(sentences))\n",
    "    \n",
    "    # create chunks\n",
    "    chunks_of_sents = [x for x in get_chunks(sentences,size)] # this is a list of lists of sentences, which are a list of tokens\n",
    "    chs = list()\n",
    "    \n",
    "    # regroup so to have a list of chunks which are strings\n",
    "    for c in chunks_of_sents:\n",
    "        grouped_chunk = list()\n",
    "        for s in c:\n",
    "            grouped_chunk.extend(s)\n",
    "        chs.append(\" \".join(grouped_chunk))\n",
    "    print(\"Number of chunks:\",len(chs),'\\n')\n",
    "    \n",
    "    # filter to the limit, to have the same number of chunks per book\n",
    "    chunks.extend(chs[:limit])\n",
    "    chunk_class.extend([book_id[f] for _ in range(len(chs[:limit]))])"
   ]
  },
  {
   "cell_type": "code",
   "execution_count": 79,
   "metadata": {
    "scrolled": false
   },
   "outputs": [],
   "source": [
    "STOPWORDS = spacy.lang.en.stop_words.STOP_WORDS\n",
    "\n",
    "processed_docs = list()\n",
    "for doc in nlp.pipe(chunks, n_process=5, batch_size=10):\n",
    "\n",
    "    # Process document using Spacy NLP pipeline.\n",
    "    ents = doc.ents  # Named entities\n",
    "\n",
    "    # Keep only words (no numbers, no punctuation).\n",
    "    # Lemmatize tokens, remove punctuation and remove stopwords.\n",
    "    doc = [token.lemma_ for token in doc if token.is_alpha and not token.is_stop]\n",
    "\n",
    "    # Remove common words from a stopword list and keep only words of length 3 or more.\n",
    "    doc = [token for token in doc if token not in STOPWORDS and len(token) > 2]\n",
    "\n",
    "    # Add named entities, but only if they are a compound of more than word.\n",
    "    doc.extend([str(entity) for entity in ents if len(entity) > 1])\n",
    "\n",
    "    processed_docs.append(doc)\n",
    "docs = processed_docs\n",
    "del processed_docs"
   ]
  },
  {
   "cell_type": "code",
   "execution_count": 80,
   "metadata": {},
   "outputs": [],
   "source": [
    "# Add bigrams too\n",
    "from gensim.models.phrases import Phrases\n",
    "\n",
    "# Add bigrams to docs (only ones that appear 15 times or more).\n",
    "bigram = Phrases(docs, min_count=15)\n",
    "\n",
    "for idx in range(len(docs)):\n",
    "    for token in bigram[docs[idx]]:\n",
    "        if '_' in token:\n",
    "            # Token is a bigram, add to document.\n",
    "            docs[idx].append(token)"
   ]
  },
  {
   "cell_type": "code",
   "execution_count": 81,
   "metadata": {},
   "outputs": [
    {
     "name": "stdout",
     "output_type": "stream",
     "text": [
      "Number of unique tokens: 3070\n",
      "Number of chunks: 240\n"
     ]
    }
   ],
   "source": [
    "# Create a dictionary representation of the documents, and filter out frequent and rare words.\n",
    "from gensim.corpora import Dictionary\n",
    "dictionary = Dictionary(docs)\n",
    "\n",
    "# Remove rare and common tokens.\n",
    "# Filter out words that occur too frequently or too rarely.\n",
    "max_freq = 0.5\n",
    "min_wordcount = 5\n",
    "dictionary.filter_extremes(no_below=min_wordcount, no_above=max_freq)\n",
    "\n",
    "# Bag-of-words representation of the documents.\n",
    "corpus = [dictionary.doc2bow(doc) for doc in docs]\n",
    "#MmCorpus.serialize(\"models/corpus.mm\", corpus)\n",
    "\n",
    "print('Number of unique tokens: %d' % len(dictionary))\n",
    "print('Number of chunks: %d' % len(corpus))"
   ]
  },
  {
   "cell_type": "code",
   "execution_count": 82,
   "metadata": {},
   "outputs": [],
   "source": [
    "# models\n",
    "from gensim.models import LdaMulticore\n",
    "params = {'passes': 10, 'random_state': seed}\n",
    "base_models = dict()\n",
    "model = LdaMulticore(corpus=corpus, num_topics=4, id2word=dictionary, workers=6,\n",
    "                passes=params['passes'], random_state=params['random_state'])"
   ]
  },
  {
   "cell_type": "code",
   "execution_count": 83,
   "metadata": {},
   "outputs": [
    {
     "data": {
      "text/plain": "[(0,\n  '0.008*\"room\" + 0.007*\"sleep\" + 0.007*\"door\" + 0.006*\"Lucy\" + 0.005*\"Count\"'),\n (1,\n  '0.006*\"father\" + 0.005*\"life\" + 0.004*\"feeling\" + 0.004*\"appear\" + 0.004*\"mind\"'),\n (2,\n  '0.019*\"whale\" + 0.012*\"ship\" + 0.009*\"Queequeg\" + 0.009*\"old\" + 0.009*\"sea\"'),\n (3,\n  '0.016*\"Elizabeth\" + 0.012*\"Darcy\" + 0.011*\"Bingley\" + 0.010*\"Miss\" + 0.009*\"Mrs\"')]"
     },
     "execution_count": 83,
     "metadata": {},
     "output_type": "execute_result"
    }
   ],
   "source": [
    "model.show_topics(num_words=5)"
   ]
  },
  {
   "cell_type": "code",
   "execution_count": 84,
   "metadata": {},
   "outputs": [
    {
     "data": {
      "text/plain": "[('father', 0.006128697),\n ('life', 0.0051308153),\n ('feeling', 0.0040330556),\n ('appear', 0.0039499016),\n ('mind', 0.0038624404),\n ('Elizabeth', 0.003804917),\n ('pass', 0.0037542628),\n ('love', 0.0037078855),\n ('return', 0.0034258815),\n ('heart', 0.0032739998),\n ('death', 0.0030898154),\n ('remain', 0.0030672397),\n ('creature', 0.0029351534),\n ('dear', 0.0029312638),\n ('hope', 0.002816692),\n ('enter', 0.0028078659),\n ('word', 0.0027378313),\n ('scene', 0.00264034),\n ('human', 0.0025635106),\n ('fear', 0.0025569333)]"
     },
     "execution_count": 84,
     "metadata": {},
     "output_type": "execute_result"
    }
   ],
   "source": [
    "model.show_topic(1,20)"
   ]
  },
  {
   "cell_type": "code",
   "execution_count": 85,
   "metadata": {},
   "outputs": [
    {
     "data": {
      "text/plain": "[(0, 0.99723125)]"
     },
     "execution_count": 85,
     "metadata": {},
     "output_type": "execute_result"
    }
   ],
   "source": [
    "sorted(model[corpus[0]],key=lambda x:x[1],reverse=True)"
   ]
  },
  {
   "cell_type": "code",
   "execution_count": 87,
   "metadata": {},
   "outputs": [
    {
     "data": {
      "text/plain": "<IPython.core.display.HTML object>",
      "text/html": "\n<link rel=\"stylesheet\" type=\"text/css\" href=\"https://cdn.jsdelivr.net/gh/bmabey/pyLDAvis@3.3.1/pyLDAvis/js/ldavis.v1.0.0.css\">\n\n\n<div id=\"ldavis_el1884031406356237870886394267984\"></div>\n<script type=\"text/javascript\">\n\nvar ldavis_el1884031406356237870886394267984_data = {\"mdsDat\": {\"x\": [0.036684513267685334, 0.1679475616382397, -0.13945616375801856, -0.06517591114790633], \"y\": [0.0934762094770876, -0.06510350664144622, -0.07613906778694826, 0.04776636495130687], \"topics\": [1, 2, 3, 4], \"cluster\": [1, 1, 1, 1], \"Freq\": [29.030444820933514, 26.77803658650643, 22.307102429032284, 21.884416163527774]}, \"tinfo\": {\"Term\": [\"whale\", \"Elizabeth\", \"Darcy\", \"Bingley\", \"ship\", \"Miss\", \"Bennet\", \"Queequeg\", \"Collins\", \"Jane\", \"Mrs\", \"Ahab\", \"Captain\", \"Lucy\", \"sea\", \"sister\", \"Count\", \"old\", \"sleep\", \"Bildad\", \"Lady\", \"harpooneer\", \"Peleg\", \"Catherine\", \"thou\", \"Wickham\", \"room\", \"Mrs_Bennet\", \"Charlotte\", \"door\", \"Justine\", \"Clerval\", \"Geneva\", \"Felix\", \"Victor\", \"wretch\", \"Safie\", \"cottage\", \"creator\", \"victim\", \"inhabit\", \"Ingolstadt\", \"thirst\", \"crime\", \"Frankenstein\", \"abhor\", \"protector\", \"ardour\", \"forever\", \"murderer\", \"hovel\", \"lake\", \"contemplate\", \"Ernest\", \"unfortunate\", \"Mont\", \"fulfil\", \"daemon\", \"Henry\", \"undertaking\", \"cottager\", \"sensation\", \"anguish\", \"misery\", \"miserable\", \"despair\", \"tale\", \"fiend\", \"murder\", \"endure\", \"human\", \"scene\", \"weep\", \"mountain\", \"reflect\", \"gentle\", \"father\", \"horror\", \"creature\", \"appear\", \"discover\", \"tear\", \"endeavour\", \"death\", \"life\", \"month\", \"possess\", \"feeling\", \"remain\", \"mind\", \"nature\", \"desire\", \"pass\", \"return\", \"love\", \"heart\", \"child\", \"enter\", \"Elizabeth\", \"spirit\", \"hope\", \"dear\", \"word\", \"fear\", \"country\", \"Bingley\", \"Darcy\", \"Bennet\", \"Jane\", \"Collins\", \"Miss_Bingley\", \"Mrs_Bennet\", \"Wickham\", \"Catherine\", \"Charlotte\", \"Lucas\", \"Lady_Catherine\", \"Netherfield\", \"Lady Catherine\", \"Longbourn\", \"Miss_Bennet\", \"Lady\", \"Lizzy\", \"Lydia\", \"Hurst\", \"Colonel\", \"Meryton\", \"Fitzwilliam\", \"Bourgh\", \"Hertfordshire\", \"Colonel_Fitzwilliam\", \"Miss_Lucas\", \"Phillips\", \"ladyship\", \"Mrs_Hurst\", \"Miss\", \"Sir_William\", \"Mrs\", \"dance\", \"sister\", \"Elizabeth\", \"lady\", \"daughter\", \"family\", \"young\", \"gentleman\", \"wish\", \"reply\", \"hope\", \"manner\", \"attention\", \"believe\", \"room\", \"dear\", \"walk\", \"mean\", \"father\", \"Ahab\", \"Bildad\", \"Peleg\", \"Stubb\", \"whaling\", \"Flask\", \"Pequod\", \"mast\", \"Captain_Ahab\", \"Nantucket\", \"leg\", \"harpooneer\", \"Captain_Peleg\", \"whaleman\", \"Starbuck\", \"pipe\", \"mast_head\", \"whale_ship\", \"starbuck\", \"New_Bedford\", \"whale\", \"Bedford\", \"harpoon\", \"fishery\", \"New Bedford\", \"famous\", \"Tashtego\", \"oil\", \"Cape\", \"aye\", \"Captain\", \"thou\", \"Whale\", \"Queequeg\", \"ship\", \"cabin\", \"deck\", \"crew\", \"sailor\", \"sea\", \"voyage\", \"head\", \"old\", \"mate\", \"sail\", \"captain\", \"stand\", \"sort\", \"round\", \"world\", \"fish\", \"water\", \"chapter\", \"small\", \"Lucy\", \"Count\", \"Jonathan\", \"Mina\", \"Helsing\", \"Van_Helsing\", \"Van Helsing\", \"Seward\", \"later\", \"Westenra\", \"Whitby\", \"Hawkins\", \"Jonah\", \"Holmwood\", \"Dracula\", \"diary\", \"key\", \"driver\", \"Van\", \"pier\", \"Arthur\", \"Diary\", \"Cliff\", \"Renfield\", \"cat\", \"crucifix\", \"asleep\", \"Pier\", \"courtyard\", \"wolf\", \"harbour\", \"patient\", \"September\", \"lock\", \"window\", \"sleep\", \"July\", \"door\", \"wake\", \"August\", \"God\", \"room\", \"run\", \"whilst\", \"try\", \"ask\", \"write\", \"bed\", \"face\", \"open\", \"close\", \"fear\", \"lie\", \"fall\", \"sit\", \"dear\", \"letter\", \"old\", \"strange\", \"light\", \"want\", \"hold\", \"round\", \"sea\", \"till\", \"sort\"], \"Freq\": [322.0, 390.0, 233.0, 209.0, 215.0, 196.0, 169.0, 164.0, 149.0, 143.0, 195.0, 108.0, 122.0, 102.0, 219.0, 182.0, 87.0, 284.0, 158.0, 76.0, 90.0, 75.0, 71.0, 79.0, 76.0, 77.0, 253.0, 74.0, 73.0, 163.0, 51.632796893760045, 50.61038767310799, 34.44670610828109, 45.60135686884348, 25.845234252379107, 20.144418918898392, 22.78682492478838, 53.749340088195304, 17.295812257702348, 16.37794392267889, 14.47283988821536, 15.3727351367771, 13.552244474663295, 23.477765328929085, 14.443481587779027, 14.440829679512616, 13.537137716560164, 12.602221751909601, 29.702725648528386, 26.973327932484686, 13.466227513319403, 31.393068243890898, 11.663048192900092, 12.551654346838877, 11.64513795370677, 11.635879688462557, 10.688390573234765, 10.68735297715655, 25.814628864969908, 9.764636160221293, 23.030157225021718, 41.98962540270674, 20.0341404473551, 48.660431638099574, 53.69606039218853, 38.85685420131102, 28.669472193329664, 27.73377495087199, 38.28394589641448, 32.6471103144597, 54.27142097285188, 55.89795757090108, 25.84235313642796, 50.4710047548007, 30.911419101902048, 31.541656438569042, 129.74906792874188, 45.29320808580498, 62.1393764810237, 83.62234732969267, 47.8892537567086, 47.136856117873435, 48.22957048277053, 65.41368466004347, 108.62316814850942, 46.17322757766182, 38.084717591002175, 85.38278064920804, 64.93573980999182, 81.77072878523242, 53.48948758246962, 52.54133179327709, 79.4805299621249, 72.52845385777674, 78.49868803707241, 69.31300522635775, 50.40733431041922, 59.44460391296775, 80.55291631644452, 52.629544712116676, 59.631459932601814, 62.05702930723435, 57.96192101537758, 54.13217607207519, 50.90178704296942, 208.04823872988376, 231.79565135352806, 167.57174341680016, 142.6032278092653, 148.0318495790876, 68.56194578410283, 73.29876560465418, 76.06036725658517, 77.92694533414009, 72.20141611530694, 58.86622004405932, 71.18350747600972, 49.27540151173126, 58.72675297478078, 41.61019608426179, 34.882874188414064, 88.52903424792005, 36.735234572624975, 36.73330674979867, 29.104457150912076, 30.037268780734905, 30.036584494566608, 29.097207354929658, 30.890207619072566, 24.284786416349068, 23.324912518926773, 23.319467783468045, 20.439418696517976, 21.330709387544054, 18.513345233024573, 187.6581841192743, 38.58631504616229, 176.99692377563218, 60.65954994771852, 153.41159376545997, 307.4828303036568, 97.22435179691742, 69.75371767117151, 75.21958188620674, 117.08912924838198, 44.64543490872946, 97.32764490769104, 66.66296300540857, 85.23769507318234, 80.23259415389003, 57.53432635543146, 67.93114760572936, 88.64857745015881, 79.53033922188868, 67.961838181384, 66.46110995264007, 64.87764902543516, 107.58936736731314, 75.32634407142326, 70.40358238983475, 45.2006901921132, 45.12786195358617, 38.38351179480184, 45.97867364592688, 54.58705628237166, 40.21401631492946, 52.473117044881086, 37.07552375157032, 73.1742749256088, 29.4514169556344, 28.381688759737134, 22.657216117560832, 29.188958043605478, 25.413803579469967, 21.633607801340307, 18.770355452844996, 15.81960638440204, 305.99523001827464, 15.798973358118703, 35.285861071261564, 14.86015361796467, 14.849539777138148, 14.802428489544074, 12.937555161615629, 29.554839644790835, 20.290135498038033, 33.18720106792004, 115.13882408247471, 71.5647663090248, 60.63319770961484, 152.0549991330324, 193.44564904392286, 46.70374792229184, 57.44659487551666, 28.750089124112655, 39.97783207996846, 140.82881478026346, 55.93079182483441, 110.63602544599752, 145.77916544091536, 50.14966973656233, 57.60841688835361, 39.40869007695067, 74.49742478696096, 71.67669787262741, 62.539420417614, 63.89953738984736, 44.028026015435344, 49.18009741290192, 49.446942381734175, 46.6798632295442, 100.79156038492245, 85.77969846528521, 34.57836784117756, 34.57438817204323, 24.502625920332957, 24.499738709392364, 21.697921584276536, 19.814103767878212, 22.468333135279828, 18.856289188596417, 20.582674118082195, 15.112234303070045, 56.79985558856928, 13.289184473698393, 15.007073125429136, 13.238065605088693, 31.685650019485507, 28.08755720983743, 25.434455601149416, 14.904382055217773, 39.36220882895803, 10.485093251934375, 10.472504900758064, 10.446008144754675, 9.499075415201998, 9.49108077641347, 26.75303034592588, 8.62435918864506, 10.328832713865795, 20.645070573827933, 23.56376772021903, 21.880869315363572, 15.146005753048913, 31.885257738027047, 77.45568724718994, 112.49823091369183, 20.95952203102512, 108.97397564407017, 30.633274637094043, 28.69451063256374, 71.32949382762033, 126.11043093649903, 68.2766082576872, 29.71649784111715, 66.91278196228713, 72.26836874903314, 67.00911893892267, 58.965925214280986, 63.49789141905354, 67.73087708394057, 54.89249789918684, 68.02846418225245, 56.3382065372985, 52.44848312758535, 63.6836984922497, 75.4379689851748, 60.38285835493583, 83.48621254207937, 49.59447325488706, 55.83450527725721, 50.29943578413729, 43.22906864933081, 46.88489824610236, 53.63367392908829, 45.939123002016856, 48.14440221568885], \"Total\": [322.0, 390.0, 233.0, 209.0, 215.0, 196.0, 169.0, 164.0, 149.0, 143.0, 195.0, 108.0, 122.0, 102.0, 219.0, 182.0, 87.0, 284.0, 158.0, 76.0, 90.0, 75.0, 71.0, 79.0, 76.0, 77.0, 253.0, 74.0, 73.0, 163.0, 52.65270413676292, 51.69688776927143, 35.42276227469531, 46.91483111264028, 26.807208728637285, 21.060913493679177, 23.94054941612099, 56.50640999023494, 18.192163346080207, 17.23258433404655, 15.318102352954224, 16.273541149669356, 14.35994308637385, 24.881594686018477, 15.318239245022752, 15.318301245550066, 14.360992639068991, 13.402310884508221, 31.599642712844783, 28.716359270313504, 14.359295547541304, 33.48071660529617, 12.44532492159548, 13.402480365141614, 12.446583980481762, 12.444762824968652, 11.488283344725229, 11.488712352375298, 27.787029935179447, 10.530834584194368, 24.896146416536563, 45.915065847759216, 22.026139918871728, 56.51325296160763, 63.16948223016052, 44.92304313682111, 32.55466957532974, 31.569766337879297, 44.936968014683146, 38.327276151589956, 68.08544745931209, 70.87180542749333, 29.610710468594696, 63.90707920086971, 36.41741837657921, 37.28402780995186, 211.13946312408723, 59.15548605827482, 89.34056477375816, 132.16556266054997, 64.25555452712837, 63.145897678387854, 67.17270582061717, 103.4628732964378, 214.63339681085517, 64.13652698276192, 48.98528032373016, 159.1480049299204, 112.98103650762539, 170.3536592693438, 87.29959637335189, 85.23427648111569, 178.9998917061507, 155.36404253473336, 182.48333127819222, 160.5471847736233, 82.3098949158451, 122.71822426915304, 390.5108124089687, 99.51000624905853, 171.73547336402473, 218.2187902461515, 169.5765593395298, 147.1745473797646, 106.34145397514285, 209.6265693961078, 233.77753340567395, 169.0548069021771, 143.93617866989885, 149.74077170564001, 69.54805230509028, 74.37957921059169, 77.27868182038434, 79.21460121109511, 73.4160998326148, 59.88740803967696, 72.4525538764141, 50.22722247563836, 59.892707803199116, 42.49943502757943, 35.736412238102126, 90.77499984476361, 37.66814150293041, 37.66905602526468, 29.93963761158029, 30.90651842686214, 30.90584257981574, 29.94024492055058, 31.87378063728842, 25.10955558825726, 24.143967596876116, 24.143381628530367, 21.245631985176903, 22.2130639018814, 19.31271927919685, 196.82607105944336, 40.5763197807712, 195.82859758975184, 66.58028725590884, 182.33836853054262, 390.5108124089687, 127.00564678611549, 88.64128251891039, 114.72201354337345, 223.2121358741232, 55.05245220582578, 187.7505572199599, 110.65853980220191, 171.73547336402473, 154.78214598742636, 86.61276264617895, 134.29801834619985, 253.83731714007544, 218.2187902461515, 136.0531087550188, 164.35436275138392, 211.13946312408723, 108.8191146410504, 76.4529781065514, 71.54873673786065, 46.065297288406065, 46.06202816069935, 39.2014824280435, 47.037275409252075, 55.856678944458594, 41.159115854568334, 53.89390225040263, 38.20696648797651, 75.42139587333287, 30.36963194335311, 29.388978999516326, 23.510358227733157, 30.361802874291598, 26.444924951938308, 22.527669624665254, 19.588209827255664, 16.64547032530928, 322.2009774817617, 16.645046460833687, 37.188207015169844, 15.665291662726009, 15.665130709422698, 15.66260513757749, 13.705130986119153, 31.331472392002016, 21.529147184912464, 35.2495883785638, 122.40198833437466, 76.35141193904916, 64.62113939478917, 164.1998270330717, 215.72039448845734, 50.87567905203549, 70.09958817659783, 32.216335114023664, 47.75771295894739, 219.41702035334237, 72.14128613233343, 187.62632908696202, 284.94906566925835, 67.89041220643549, 87.11555391151545, 48.61885339370032, 143.72971686026455, 149.2231650341082, 123.94361648111274, 158.23018179161076, 61.259618082548656, 96.45388942033324, 119.89837191885196, 94.7991720653232, 102.0155170375164, 87.04735290011926, 35.58235465316806, 35.58098543738546, 25.28390725285346, 25.283986845406762, 22.47725354413707, 20.606580197124433, 23.419826425859654, 19.6717377977873, 21.549127931207632, 15.929672503286843, 60.003876918892026, 14.057047138077339, 15.933299978217455, 14.059025623052712, 33.73624999403249, 30.009084118938098, 27.198059252085166, 15.938340656237457, 42.16914033860612, 11.250222254704402, 11.250192649960443, 11.251086669323273, 10.316267163855128, 10.315788341356308, 29.08759217104914, 9.378582032976434, 11.251920277231411, 22.523632129993317, 26.261760901976697, 24.403580593148842, 16.88297455912922, 37.645314993344535, 101.81725889066746, 158.69405382471138, 24.437321331552525, 163.59994030308542, 38.6956941040174, 36.74664219248266, 117.66537007159957, 253.83731714007544, 115.93407856049993, 39.529187130738265, 122.48967287466029, 137.61035408806623, 127.22306626942141, 109.62514660753752, 124.75377007953156, 141.88530214125342, 102.57993403405422, 147.1745473797646, 111.26518948514885, 103.46046097489625, 150.85298688530662, 218.2187902461515, 146.48222487301578, 284.94906566925835, 104.64623962713526, 141.25634687179172, 124.07678324451611, 91.63536508931885, 123.94361648111274, 219.41702035334237, 118.68052087041464, 149.2231650341082], \"Category\": [\"Default\", \"Default\", \"Default\", \"Default\", \"Default\", \"Default\", \"Default\", \"Default\", \"Default\", \"Default\", \"Default\", \"Default\", \"Default\", \"Default\", \"Default\", \"Default\", \"Default\", \"Default\", \"Default\", \"Default\", \"Default\", \"Default\", \"Default\", \"Default\", \"Default\", \"Default\", \"Default\", \"Default\", \"Default\", \"Default\", \"Topic1\", \"Topic1\", \"Topic1\", \"Topic1\", \"Topic1\", \"Topic1\", \"Topic1\", \"Topic1\", \"Topic1\", \"Topic1\", \"Topic1\", \"Topic1\", \"Topic1\", \"Topic1\", \"Topic1\", \"Topic1\", \"Topic1\", \"Topic1\", \"Topic1\", \"Topic1\", \"Topic1\", \"Topic1\", \"Topic1\", \"Topic1\", \"Topic1\", \"Topic1\", \"Topic1\", \"Topic1\", \"Topic1\", \"Topic1\", \"Topic1\", \"Topic1\", \"Topic1\", \"Topic1\", \"Topic1\", \"Topic1\", \"Topic1\", \"Topic1\", \"Topic1\", \"Topic1\", \"Topic1\", \"Topic1\", \"Topic1\", \"Topic1\", \"Topic1\", \"Topic1\", \"Topic1\", \"Topic1\", \"Topic1\", \"Topic1\", \"Topic1\", \"Topic1\", \"Topic1\", \"Topic1\", \"Topic1\", \"Topic1\", \"Topic1\", \"Topic1\", \"Topic1\", \"Topic1\", \"Topic1\", \"Topic1\", \"Topic1\", \"Topic1\", \"Topic1\", \"Topic1\", \"Topic1\", \"Topic1\", \"Topic1\", \"Topic1\", \"Topic1\", \"Topic1\", \"Topic1\", \"Topic1\", \"Topic1\", \"Topic2\", \"Topic2\", \"Topic2\", \"Topic2\", \"Topic2\", \"Topic2\", \"Topic2\", \"Topic2\", \"Topic2\", \"Topic2\", \"Topic2\", \"Topic2\", \"Topic2\", \"Topic2\", \"Topic2\", \"Topic2\", \"Topic2\", \"Topic2\", \"Topic2\", \"Topic2\", \"Topic2\", \"Topic2\", \"Topic2\", \"Topic2\", \"Topic2\", \"Topic2\", \"Topic2\", \"Topic2\", \"Topic2\", \"Topic2\", \"Topic2\", \"Topic2\", \"Topic2\", \"Topic2\", \"Topic2\", \"Topic2\", \"Topic2\", \"Topic2\", \"Topic2\", \"Topic2\", \"Topic2\", \"Topic2\", \"Topic2\", \"Topic2\", \"Topic2\", \"Topic2\", \"Topic2\", \"Topic2\", \"Topic2\", \"Topic2\", \"Topic2\", \"Topic2\", \"Topic3\", \"Topic3\", \"Topic3\", \"Topic3\", \"Topic3\", \"Topic3\", \"Topic3\", \"Topic3\", \"Topic3\", \"Topic3\", \"Topic3\", \"Topic3\", \"Topic3\", \"Topic3\", \"Topic3\", \"Topic3\", \"Topic3\", \"Topic3\", \"Topic3\", \"Topic3\", \"Topic3\", \"Topic3\", \"Topic3\", \"Topic3\", \"Topic3\", \"Topic3\", \"Topic3\", \"Topic3\", \"Topic3\", \"Topic3\", \"Topic3\", \"Topic3\", \"Topic3\", \"Topic3\", \"Topic3\", \"Topic3\", \"Topic3\", \"Topic3\", \"Topic3\", \"Topic3\", \"Topic3\", \"Topic3\", \"Topic3\", \"Topic3\", \"Topic3\", \"Topic3\", \"Topic3\", \"Topic3\", \"Topic3\", \"Topic3\", \"Topic3\", \"Topic3\", \"Topic3\", \"Topic3\", \"Topic4\", \"Topic4\", \"Topic4\", \"Topic4\", \"Topic4\", \"Topic4\", \"Topic4\", \"Topic4\", \"Topic4\", \"Topic4\", \"Topic4\", \"Topic4\", \"Topic4\", \"Topic4\", \"Topic4\", \"Topic4\", \"Topic4\", \"Topic4\", \"Topic4\", \"Topic4\", \"Topic4\", \"Topic4\", \"Topic4\", \"Topic4\", \"Topic4\", \"Topic4\", \"Topic4\", \"Topic4\", \"Topic4\", \"Topic4\", \"Topic4\", \"Topic4\", \"Topic4\", \"Topic4\", \"Topic4\", \"Topic4\", \"Topic4\", \"Topic4\", \"Topic4\", \"Topic4\", \"Topic4\", \"Topic4\", \"Topic4\", \"Topic4\", \"Topic4\", \"Topic4\", \"Topic4\", \"Topic4\", \"Topic4\", \"Topic4\", \"Topic4\", \"Topic4\", \"Topic4\", \"Topic4\", \"Topic4\", \"Topic4\", \"Topic4\", \"Topic4\", \"Topic4\", \"Topic4\", \"Topic4\", \"Topic4\", \"Topic4\", \"Topic4\", \"Topic4\", \"Topic4\"], \"logprob\": [30.0, 29.0, 28.0, 27.0, 26.0, 25.0, 24.0, 23.0, 22.0, 21.0, 20.0, 19.0, 18.0, 17.0, 16.0, 15.0, 14.0, 13.0, 12.0, 11.0, 10.0, 9.0, 8.0, 7.0, 6.0, 5.0, 4.0, 3.0, 2.0, 1.0, -6.0162, -6.0362, -6.421, -6.1404, -6.7082, -6.9574, -6.8342, -5.976, -7.1099, -7.1644, -7.2881, -7.2278, -7.3538, -6.8043, -7.2901, -7.2903, -7.3549, -7.4265, -6.5691, -6.6655, -7.3602, -6.5138, -7.5039, -7.4305, -7.5055, -7.5063, -7.5912, -7.5913, -6.7094, -7.6816, -6.8236, -6.223, -6.9629, -6.0755, -5.977, -6.3005, -6.6045, -6.6377, -6.3153, -6.4746, -5.9664, -5.9368, -6.7084, -6.039, -6.5292, -6.5091, -5.0948, -6.1472, -5.831, -5.5341, -6.0915, -6.1073, -6.0844, -5.7796, -5.2725, -6.128, -6.3206, -5.5132, -5.787, -5.5565, -5.9809, -5.9988, -5.5849, -5.6764, -5.5973, -5.7217, -6.0402, -5.8753, -5.5715, -5.9971, -5.8722, -5.8323, -5.9006, -5.9689, -6.0305, -4.5418, -4.4338, -4.7582, -4.9195, -4.8822, -5.6519, -5.5851, -5.5481, -5.5238, -5.6002, -5.8043, -5.6144, -5.9822, -5.8067, -6.1513, -6.3276, -5.3963, -6.2759, -6.2759, -6.5087, -6.4772, -6.4772, -6.509, -6.4492, -6.6898, -6.7301, -6.7303, -6.8621, -6.8195, -6.9611, -4.645, -6.2267, -4.7035, -5.7743, -4.8465, -4.1512, -5.3026, -5.6346, -5.5592, -5.1167, -6.0809, -5.3015, -5.68, -5.4342, -5.4947, -5.8272, -5.6611, -5.3949, -5.5035, -5.6607, -5.683, -5.7071, -5.0186, -5.3751, -5.4427, -5.8858, -5.8874, -6.0493, -5.8688, -5.6971, -6.0027, -5.7366, -6.084, -5.4041, -6.3142, -6.3512, -6.5765, -6.3231, -6.4616, -6.6227, -6.7647, -6.9357, -3.9734, -6.937, -6.1335, -6.9983, -6.999, -7.0021, -7.1368, -6.3107, -6.6868, -6.1948, -4.9508, -5.4263, -5.5921, -4.6727, -4.4319, -5.8531, -5.6461, -6.3383, -6.0086, -4.7494, -5.6728, -4.9907, -4.7148, -5.7819, -5.6433, -6.0229, -5.3862, -5.4248, -5.5611, -5.5396, -5.9121, -5.8014, -5.796, -5.8536, -5.0648, -5.226, -6.1346, -6.1347, -6.479, -6.4791, -6.6006, -6.6914, -6.5657, -6.741, -6.6534, -6.9623, -5.6383, -7.0909, -6.9693, -7.0947, -6.2219, -6.3425, -6.4417, -6.9761, -6.005, -7.3279, -7.3291, -7.3316, -7.4266, -7.4275, -6.3912, -7.5232, -7.3429, -6.6503, -6.5181, -6.5922, -6.9601, -6.2157, -5.3281, -4.9549, -6.6352, -4.9867, -6.2557, -6.3211, -5.4105, -4.8406, -5.4542, -6.2861, -5.4744, -5.3974, -5.473, -5.6008, -5.5268, -5.4623, -5.6724, -5.4579, -5.6464, -5.718, -5.5239, -5.3545, -5.5771, -5.2531, -5.7739, -5.6554, -5.7598, -5.9113, -5.8301, -5.6956, -5.8505, -5.8036], \"loglift\": [30.0, 29.0, 28.0, 27.0, 26.0, 25.0, 24.0, 23.0, 22.0, 21.0, 20.0, 19.0, 18.0, 17.0, 16.0, 15.0, 14.0, 13.0, 12.0, 11.0, 10.0, 9.0, 8.0, 7.0, 6.0, 5.0, 4.0, 3.0, 2.0, 1.0, 1.2173, 1.2156, 1.2089, 1.2084, 1.2003, 1.1923, 1.1874, 1.1868, 1.1863, 1.186, 1.1801, 1.1799, 1.1789, 1.1788, 1.178, 1.1778, 1.1777, 1.1753, 1.1749, 1.1742, 1.1726, 1.1724, 1.1719, 1.1712, 1.1703, 1.1696, 1.1647, 1.1645, 1.1632, 1.1613, 1.1589, 1.1475, 1.142, 1.0872, 1.0743, 1.0918, 1.1097, 1.1073, 1.0766, 1.0764, 1.0101, 0.9995, 1.1007, 1.0008, 1.0729, 1.0696, 0.7499, 0.9698, 0.8737, 0.7791, 0.9428, 0.9444, 0.9055, 0.7783, 0.5558, 0.9082, 0.9851, 0.6141, 0.683, 0.5029, 0.747, 0.753, 0.425, 0.475, 0.3932, 0.3969, 0.7465, 0.512, -0.3417, 0.5998, 0.1791, -0.0206, 0.1633, 0.2366, 0.5001, 1.31, 1.3091, 1.3088, 1.3083, 1.3061, 1.3033, 1.303, 1.3017, 1.3012, 1.3009, 1.3004, 1.2999, 1.2985, 1.2979, 1.2964, 1.2934, 1.2925, 1.2925, 1.2924, 1.2893, 1.2891, 1.2891, 1.289, 1.2862, 1.2842, 1.2831, 1.2829, 1.2789, 1.2771, 1.2753, 1.2699, 1.2673, 1.2165, 1.2245, 1.1448, 1.0786, 1.0504, 1.078, 0.8955, 0.6724, 1.1081, 0.6606, 0.8108, 0.6171, 0.6605, 0.9085, 0.636, 0.2656, 0.3082, 0.6235, 0.4122, 0.1376, 1.4889, 1.4854, 1.4841, 1.4813, 1.4798, 1.4792, 1.4775, 1.4773, 1.477, 1.4735, 1.4702, 1.47, 1.4696, 1.4654, 1.4633, 1.4609, 1.4605, 1.4598, 1.4576, 1.4494, 1.4487, 1.4481, 1.4478, 1.4475, 1.4468, 1.4438, 1.4426, 1.4419, 1.441, 1.44, 1.4391, 1.4355, 1.4366, 1.4234, 1.3913, 1.4147, 1.3012, 1.3864, 1.3224, 1.0568, 1.2458, 0.9721, 0.83, 1.1974, 1.0867, 1.2902, 0.8431, 0.767, 0.8162, 0.5935, 1.17, 0.8267, 0.6145, 0.7918, 1.5073, 1.5047, 1.4908, 1.4907, 1.488, 1.4879, 1.4841, 1.4802, 1.4779, 1.4771, 1.4735, 1.4667, 1.4645, 1.4632, 1.4595, 1.4592, 1.4567, 1.4532, 1.4524, 1.4523, 1.4505, 1.449, 1.4478, 1.4452, 1.4369, 1.4361, 1.4357, 1.4356, 1.4338, 1.4323, 1.411, 1.4103, 1.4108, 1.3533, 1.2459, 1.1754, 1.3659, 1.1131, 1.2858, 1.2721, 1.0189, 0.8199, 0.9899, 1.2341, 0.9148, 0.8754, 0.8783, 0.8993, 0.8441, 0.7799, 0.8941, 0.7477, 0.8389, 0.84, 0.657, 0.4572, 0.6332, 0.2918, 0.7727, 0.5912, 0.6165, 0.7681, 0.5473, 0.1106, 0.5703, 0.3882]}, \"token.table\": {\"Topic\": [2, 3, 1, 4, 1, 3, 4, 3, 2, 3, 4, 3, 4, 1, 2, 4, 2, 3, 4, 1, 2, 3, 4, 3, 3, 2, 3, 2, 3, 1, 4, 2, 3, 2, 2, 4, 1, 2, 3, 4, 4, 4, 1, 2, 3, 4, 1, 1, 3, 2, 3, 1, 1, 1, 2, 3, 4, 4, 4, 1, 3, 2, 4, 2, 1, 2, 3, 4, 4, 1, 3, 4, 1, 2, 3, 4, 2, 3, 2, 3, 2, 2, 2, 3, 4, 2, 2, 4, 1, 2, 3, 4, 2, 2, 2, 1, 1, 2, 3, 4, 2, 2, 1, 3, 2, 3, 3, 3, 4, 3, 2, 4, 1, 3, 4, 4, 1, 3, 1, 4, 4, 1, 2, 3, 3, 3, 3, 3, 4, 4, 4, 1, 4, 1, 3, 4, 2, 1, 1, 3, 4, 1, 2, 3, 4, 1, 1, 2, 3, 4, 1, 3, 4, 1, 2, 3, 4, 2, 3, 4, 1, 2, 3, 4, 1, 2, 3, 4, 1, 3, 4, 1, 3, 4, 4, 1, 2, 3, 4, 1, 2, 3, 4, 1, 2, 3, 4, 1, 1, 3, 4, 1, 2, 1, 2, 3, 4, 4, 1, 1, 2, 3, 4, 1, 3, 4, 1, 4, 4, 1, 1, 2, 3, 4, 1, 2, 3, 4, 1, 2, 3, 4, 1, 2, 3, 4, 1, 3, 4, 1, 2, 3, 4, 1, 2, 3, 4, 4, 1, 2, 3, 4, 1, 2, 3, 4, 3, 4, 1, 2, 1, 2, 3, 4, 1, 2, 3, 4, 1, 2, 3, 4, 1, 2, 3, 4, 1, 2, 3, 4, 3, 1, 2, 3, 4, 1, 2, 3, 4, 1, 2, 3, 4, 1, 3, 4, 1, 2, 3, 4, 3, 1, 2, 1, 1, 2, 4, 1, 2, 3, 4, 1, 4, 3, 4, 3, 4, 1, 2, 3, 4, 1, 2, 3, 4, 1, 2, 3, 4, 1, 2, 3, 4, 1, 3, 4, 1, 1, 2, 3, 4, 1, 1, 3, 4, 1, 2, 3, 4, 2, 1, 4, 4, 3, 4, 1, 2, 3, 4, 1, 2, 3, 4, 1, 2, 3, 4, 1, 2, 3, 4, 1, 3, 4, 1, 2, 3, 4, 1, 2, 3, 4, 3, 3, 1, 3, 4, 1, 2, 3, 4, 1, 2, 3, 4, 1, 2, 3, 4, 1, 2, 3, 4, 1, 2, 3, 4, 1, 2, 3, 4, 1, 3, 4, 1, 3, 4, 1, 2, 3, 4, 1, 3, 1, 2, 3, 4, 1, 2, 3, 4, 1, 2, 3, 4, 1, 2, 3, 4, 4, 3, 1, 2, 3, 1, 1, 2, 1, 2, 3, 4, 1, 2, 3, 4, 1, 2, 3, 4, 1, 2, 3, 4, 1, 2, 3, 4, 1, 2, 3, 4, 1, 3, 4, 1, 3, 4, 1, 2, 3, 4, 1, 3, 4, 1, 2, 4, 1, 2, 3, 4, 1, 2, 3, 4, 1, 2, 3, 4, 1, 2, 3, 4, 1, 2, 3, 4, 1, 2, 3, 4, 1, 2, 3, 4, 1, 2, 3, 4, 3, 1, 2, 3, 4, 1, 3, 4, 1, 2, 3, 4, 1, 1, 3, 4, 1, 2, 3, 4, 1, 2, 3, 4, 1, 1, 1, 1, 3, 4, 2, 3, 4, 1, 2, 3, 4, 1, 2, 3, 4, 1, 3, 4, 1, 4, 1, 2, 3, 4, 3, 3, 3, 1, 2, 4, 1, 2, 3, 4, 1, 2, 3, 4, 3, 4, 1, 2, 3, 4, 1, 2, 3, 4, 1, 1, 2, 3, 4, 1, 2, 3, 4], \"Freq\": [0.00918956199284096, 0.9924726952268237, 0.04742804771310424, 0.9248469304055328, 0.10885348323930094, 0.0816401124294757, 0.7891877534849319, 0.9612469414037683, 0.9937605624974186, 0.005915241443437016, 0.005915241443437016, 0.98099514050942, 0.013079935206792266, 0.004770387660690149, 0.9922406334235511, 0.004770387660690149, 0.9725862254235946, 0.9289731649944739, 0.0464486582497237, 0.00816980192566991, 0.03267920770267964, 0.9395272214520397, 0.01633960385133982, 0.9718381741079193, 0.9549012663074807, 0.984666952903564, 0.012623935293635436, 0.9807113176014056, 0.013620990522241744, 0.9865197345654209, 0.8888736674242784, 0.9883747646962711, 0.006678207869569399, 0.9706690215202549, 0.952618906056512, 0.9879680097645126, 0.004277571011345649, 0.9923964746321906, 0.004277571011345649, 0.004277571011345649, 0.888871328370281, 0.941424564936744, 0.20742063324784835, 0.7861498074949314, 0.0025607485586154116, 0.0025607485586154116, 0.9699697105180306, 0.9805001725265979, 0.021315221141882564, 0.9685959509334138, 0.9693510971109603, 0.913943161225199, 0.9598348015984153, 0.15297618992781795, 0.025496031654636323, 0.21246693045530268, 0.6034060824930596, 0.9416389443602798, 0.9887712270886685, 0.9356883431101429, 0.03598801319654396, 0.9558114207016809, 0.9248030452132412, 0.9686155983659318, 0.9217416087896007, 0.9934958765853729, 0.049996769443000105, 0.949938619417002, 0.9836336111298859, 0.08184203059185859, 0.08184203059185859, 0.8593413212145151, 0.987603597052346, 0.9804461597598559, 0.011016248986065796, 0.011016248986065796, 0.9850948832346593, 0.01669652344465524, 0.9799516538935013, 0.013802135970331003, 0.9822624245244902, 0.9882484313672564, 0.9851820596561963, 0.009802430346280047, 0.9900454649742848, 0.9822385773400867, 0.9706902480501426, 0.9836714629950916, 0.005080627757376666, 0.9551580183868131, 0.005080627757376666, 0.040645022059013325, 0.9793932241100307, 0.9921198036907474, 0.9526420264517036, 0.96426104448722, 0.005106506466920296, 0.9038516446448923, 0.030639038801521773, 0.056171571136123255, 0.9814521777988866, 0.9838075998166814, 0.018554974834699953, 0.9648586914043975, 0.9755665868994927, 0.95754068563101, 0.9612224639679993, 0.9783541008762336, 0.013976487155374766, 0.977947799904923, 0.9413699726115005, 0.959633339917987, 0.006090140398251386, 0.9257013405342107, 0.06699154438076525, 0.8888030368893671, 0.9607131231713651, 0.04177013579005936, 0.05923126854795056, 0.8884690282192583, 0.9705637620933784, 0.02464491618271138, 0.9611517311257438, 0.02464491618271138, 0.9782921968780922, 0.976874190527059, 0.9485498542966627, 0.03676732926902988, 0.9191832317257471, 0.9787672660630037, 0.9492173899133309, 0.969888370818146, 0.9658526458266, 0.04642443677249538, 0.943963547707406, 0.9745173942555522, 0.9834536279571082, 0.9139394620579727, 0.9080120290557241, 0.0454006014527862, 0.0454006014527862, 0.6355664691243592, 0.26481936213514967, 0.007566267489575705, 0.09079520987490847, 0.9699819763938431, 0.13807100581865087, 0.3052095918096493, 0.029067580172347552, 0.5232164431022559, 0.034378919854194716, 0.06875783970838943, 0.9282308360632573, 0.25400413666369254, 0.6696472693860984, 0.023091285151244773, 0.05772821287811193, 0.028369125598304186, 0.9361811447440381, 0.028369125598304186, 0.10034194106376385, 0.027365983926481048, 0.3375138017599329, 0.5381976838874606, 0.3425218075922684, 0.5063365851363968, 0.022338378756017505, 0.13403027253610503, 0.058967271904746654, 0.9238205931743643, 0.019655757301582217, 0.020568152685591156, 0.8021579547380552, 0.16454522148472925, 0.8724085812291772, 0.2001695237049871, 0.28357349191539843, 0.4086794442310154, 0.10008476185249356, 0.6074603794734614, 0.15793969866309995, 0.07289524553681537, 0.14579049107363073, 0.18522140980995785, 0.13647893354417948, 0.14622742879733516, 0.5361672389235622, 0.9642174933638944, 0.9556437934976212, 0.03539421457398597, 0.017697107286992985, 0.9238377544535527, 0.040166858889284895, 0.4795871985342721, 0.27270644622537044, 0.09403670559495532, 0.15986239951142406, 0.888737189174304, 0.9344683024552395, 0.6939736742990811, 0.1231243615691918, 0.1455106091272267, 0.044772495116069747, 0.03104015389896734, 0.9001644630700528, 0.06208030779793468, 0.9243780509343403, 0.04019035004062349, 0.872449075357501, 0.9574615207182677, 0.030038921164650047, 0.9161870955218264, 0.015019460582325023, 0.030038921164650047, 0.14665852783917732, 0.7896997652878778, 0.022562850436796508, 0.045125700873593015, 0.28411852127886783, 0.36660454358563593, 0.00458255679482045, 0.3436917596115337, 0.6282446826482821, 0.04832651404986786, 0.16431014776955072, 0.15464484495957714, 0.05706167616738392, 0.8131288853852208, 0.11412335233476784, 0.6218155674934668, 0.22291501476180886, 0.04692947679195976, 0.11732369197989939, 0.8681513378605846, 0.022260290714373965, 0.022260290714373965, 0.08904116285749586, 0.9246729004237522, 0.7470171310985207, 0.12450285518308679, 0.07781428448942924, 0.04668857069365755, 0.1222494333613324, 0.1222494333613324, 0.08557460335293268, 0.6662594118192616, 0.03332324292326273, 0.9330508018513565, 0.7145759488709992, 0.2679659808266247, 0.8610056156738141, 0.0521821585256857, 0.0521821585256857, 0.02609107926284285, 0.4807761874927201, 0.19556997457330988, 0.14667748092998242, 0.16297497881109158, 0.16031579636631288, 0.08015789818315644, 0.24848948436778498, 0.5049947585538856, 0.289965845090128, 0.09665528169670934, 0.09665528169670934, 0.5026074648228885, 0.2615016863233295, 0.6537542158083237, 0.06101706014211021, 0.017433445754888633, 0.9576950876461938, 0.6157067848732696, 0.3078533924366348, 0.033153442262406824, 0.047362060374866885, 0.36691126938315016, 0.10191979705087505, 0.06794653136725003, 0.46203641329730016, 0.534094034276013, 0.35187371669949097, 0.01885037768032987, 0.09425188840164936, 0.8869245245696964, 0.03167587587748916, 0.06335175175497831, 0.11426777082689855, 0.06529586904394202, 0.7182545594833623, 0.09794380356591303, 0.957530847363091, 0.9493778228006815, 0.03164592742668938, 0.9574972752609361, 0.8582763687205103, 0.05364227304503189, 0.08046340956754784, 0.0363289902604621, 0.8174022808603972, 0.1089869707813863, 0.0363289902604621, 0.07615635552639054, 0.9138762663166865, 0.9411585771188907, 0.026890245060539733, 0.967895106616702, 0.026517674153882245, 0.11192459023310536, 0.09593536305694744, 0.5916014055178426, 0.20253021089800016, 0.4297801926411368, 0.14326006421371226, 0.14326006421371226, 0.2802914299833501, 0.14186662526338642, 0.07638972129566961, 0.3164717025106312, 0.46925114510197047, 0.34937452830621096, 0.4949472484337989, 0.029114544025517584, 0.12810399371227738, 0.7607071296087388, 0.033809205760388386, 0.18595063168213613, 0.9053368918383986, 0.7931210268137026, 0.07343713211237986, 0.08812455853485583, 0.044062279267427916, 0.9139513287884503, 0.02964170588541664, 0.02964170588541664, 0.9485345883333325, 0.0787366566215796, 0.7637455692293221, 0.0393683283107898, 0.1181049849323694, 0.9453896181436431, 0.9259061078488457, 0.029867938962865992, 0.9393750235359596, 0.9684097797097727, 0.026173237289453317, 0.2525903742387514, 0.3276848098232451, 0.006826766871317606, 0.4096060122790564, 0.2606385710947878, 0.017975073868606053, 0.2067133494889696, 0.5033020683209695, 0.5078426825442073, 0.15840964409635824, 0.1537505369170536, 0.18170517999288152, 0.311490428390702, 0.056634623343764, 0.240697149210997, 0.396442363406348, 0.026563730444991468, 0.10625492177996587, 0.850039374239727, 0.42743630036592517, 0.3068773438524591, 0.027399762843969562, 0.23563796045813823, 0.2971918996635231, 0.5168554776756924, 0.0839890151223, 0.10337109553513847, 0.9846629094201889, 0.9453609736248315, 0.05891848156462999, 0.7364810195578749, 0.19148506508504748, 0.17036359443865284, 0.4015713297482531, 0.21295449304831604, 0.2068700789612213, 0.4813515621073389, 0.14088338403141626, 0.1526236660340343, 0.22306535804974242, 0.8548431630838583, 0.06332171578398951, 0.031660857891994756, 0.06332171578398951, 0.8670532562209475, 0.08847482206336199, 0.0353899288253448, 0.0353899288253448, 0.7172200018308365, 0.17150913087259134, 0.015591739170235576, 0.09355043502141346, 0.7823859363505311, 0.015647718727010623, 0.015647718727010623, 0.17212490599711686, 0.845628926001049, 0.04450678557900258, 0.08901357115800516, 0.9402306102191775, 0.034823355934043614, 0.034823355934043614, 0.6071047542228751, 0.17182210025175712, 0.11454806683450475, 0.0916384534676038, 0.03191678921081506, 0.9575036763244519, 0.171960556827635, 0.02456579383251929, 0.5123722713639737, 0.2912801268713001, 0.1902945519552141, 0.13391098100552104, 0.1902945519552141, 0.47926035307239107, 0.4413410491314026, 0.25139680013814075, 0.10055872005525629, 0.20670403566913795, 0.0409775932750108, 0.0409775932750108, 0.0409775932750108, 0.9015070520502375, 0.9411268289167707, 0.9551474963482921, 0.775743238557961, 0.10207147875762645, 0.10207147875762645, 0.9748629744376505, 0.8512410099870434, 0.13729693709468443, 0.5753177879157887, 0.1593187720382184, 0.1062125146921456, 0.1593187720382184, 0.2620674378302518, 0.6054661494698922, 0.06325765740730217, 0.07229446560834533, 0.4698641899954427, 0.38618974520173377, 0.03861897452017338, 0.1094204278071579, 0.09454874590703322, 0.3506182660719148, 0.05909296619189576, 0.49638091601192436, 0.06454547823541269, 0.048409108676559516, 0.5082956411038749, 0.37920468463304957, 0.07763032329879925, 0.10350709773173233, 0.22426537841875338, 0.5865402204798166, 0.1262690702876419, 0.6657823706075663, 0.20662211501614128, 0.06281707841786321, 0.8375610455715095, 0.08375610455715095, 0.7901590718934316, 0.11287986741334738, 0.04232995028000527, 0.05643993370667369, 0.10938075798017466, 0.6426119531335261, 0.246106705455393, 0.9147324353025994, 0.02177934369768094, 0.04355868739536188, 0.009271260627640911, 0.004635630313820456, 0.8946766505673479, 0.0927126062764091, 0.09871756638529376, 0.839099314274997, 0.03290585546176459, 0.027421546218137156, 0.13920838051397869, 0.22538499702263215, 0.2187560265219665, 0.4242541120426017, 0.15123439991336834, 0.018904299989171043, 0.12602866659447362, 0.7057605329290523, 0.15822922999437125, 0.21097230665916167, 0.4957849206490299, 0.1371319993284551, 0.0067013724026790894, 0.1876384272750145, 0.48249881299289443, 0.3216658753285963, 0.5326097545140234, 0.22108329432657575, 0.07034468455845592, 0.1808863317217438, 0.09740504821011328, 0.1321925654280109, 0.5148552548248845, 0.2504701239688627, 0.9699712310393362, 0.2866801531224908, 0.05733603062449816, 0.1815640969775775, 0.4778002552041513, 0.8908092257823589, 0.061435119019473024, 0.061435119019473024, 0.7443080505305113, 0.03167268300129835, 0.09501804900389506, 0.1266907320051934, 0.9749342261171355, 0.03929200421853208, 0.9430081012447699, 0.013097334739510693, 0.016851965135742605, 0.35389126785059466, 0.23592751190039646, 0.3875951981220799, 0.1387872103911613, 0.19593488525811006, 0.11429534973389754, 0.5469848880122239, 0.949592353773072, 0.9641199560311425, 0.9284736224031515, 0.20792531994071367, 0.7762545277786644, 0.013861687996047579, 0.02584266862643458, 0.15505601175860748, 0.801122727419472, 0.21315205705602985, 0.49980482344172517, 0.06615063839669892, 0.22050212798899638, 0.10477383165536384, 0.3546191225258469, 0.1370119337031681, 0.4029762755975532, 0.2902941516228518, 0.5080147653399907, 0.19698531717264944, 0.8780606607725864, 0.10131469162760612, 0.04034748777488072, 0.0031036529057600556, 0.9497177891625771, 0.006207305811520111, 0.9765768215950967, 0.95273809955973, 0.9769435215272287, 0.2023821024586444, 0.02529776280733055, 0.7589328842199166, 0.07857214078597904, 0.0982151759824738, 0.05892910558948428, 0.7562568550650483, 0.2503321465242682, 0.5166429406990216, 0.02663107941747534, 0.2023962035728126, 0.04439781267197853, 0.9323540661115491, 0.34202840431424936, 0.2358816581477582, 0.17691124361081864, 0.24177869960145212, 0.2717559918918062, 0.17695739006908312, 0.40447403444361857, 0.14535785612817542, 0.9496264255585315, 0.125763357771276, 0.29082776484607575, 0.055021469024933246, 0.5266340606672182, 0.1568015101998651, 0.5241650483824062, 0.16576159649700023, 0.1568015101998651], \"Term\": [\"Ahab\", \"Ahab\", \"Arthur\", \"Arthur\", \"August\", \"August\", \"August\", \"Bedford\", \"Bennet\", \"Bennet\", \"Bennet\", \"Bildad\", \"Bildad\", \"Bingley\", \"Bingley\", \"Bingley\", \"Bourgh\", \"Cape\", \"Cape\", \"Captain\", \"Captain\", \"Captain\", \"Captain\", \"Captain_Ahab\", \"Captain_Peleg\", \"Catherine\", \"Catherine\", \"Charlotte\", \"Charlotte\", \"Clerval\", \"Cliff\", \"Collins\", \"Collins\", \"Colonel\", \"Colonel_Fitzwilliam\", \"Count\", \"Darcy\", \"Darcy\", \"Darcy\", \"Darcy\", \"Diary\", \"Dracula\", \"Elizabeth\", \"Elizabeth\", \"Elizabeth\", \"Elizabeth\", \"Ernest\", \"Felix\", \"Felix\", \"Fitzwilliam\", \"Flask\", \"Frankenstein\", \"Geneva\", \"God\", \"God\", \"God\", \"God\", \"Hawkins\", \"Helsing\", \"Henry\", \"Henry\", \"Hertfordshire\", \"Holmwood\", \"Hurst\", \"Ingolstadt\", \"Jane\", \"Jonah\", \"Jonah\", \"Jonathan\", \"July\", \"July\", \"July\", \"Justine\", \"Lady\", \"Lady\", \"Lady\", \"Lady Catherine\", \"Lady Catherine\", \"Lady_Catherine\", \"Lady_Catherine\", \"Lizzy\", \"Longbourn\", \"Lucas\", \"Lucy\", \"Lucy\", \"Lydia\", \"Meryton\", \"Mina\", \"Miss\", \"Miss\", \"Miss\", \"Miss\", \"Miss_Bennet\", \"Miss_Bingley\", \"Miss_Lucas\", \"Mont\", \"Mrs\", \"Mrs\", \"Mrs\", \"Mrs\", \"Mrs_Bennet\", \"Mrs_Hurst\", \"Nantucket\", \"Nantucket\", \"Netherfield\", \"New Bedford\", \"New_Bedford\", \"Peleg\", \"Peleg\", \"Pequod\", \"Phillips\", \"Pier\", \"Queequeg\", \"Queequeg\", \"Queequeg\", \"Renfield\", \"Safie\", \"Safie\", \"September\", \"September\", \"Seward\", \"Sir_William\", \"Sir_William\", \"Sir_William\", \"Starbuck\", \"Stubb\", \"Tashtego\", \"Van\", \"Van\", \"Van Helsing\", \"Van_Helsing\", \"Victor\", \"Westenra\", \"Whale\", \"Whale\", \"Whitby\", \"Wickham\", \"abhor\", \"anguish\", \"anguish\", \"anguish\", \"appear\", \"appear\", \"appear\", \"appear\", \"ardour\", \"ask\", \"ask\", \"ask\", \"ask\", \"asleep\", \"asleep\", \"asleep\", \"attention\", \"attention\", \"attention\", \"attention\", \"aye\", \"aye\", \"aye\", \"bed\", \"bed\", \"bed\", \"bed\", \"believe\", \"believe\", \"believe\", \"believe\", \"cabin\", \"cabin\", \"cabin\", \"captain\", \"captain\", \"captain\", \"cat\", \"chapter\", \"chapter\", \"chapter\", \"chapter\", \"child\", \"child\", \"child\", \"child\", \"close\", \"close\", \"close\", \"close\", \"contemplate\", \"cottage\", \"cottage\", \"cottage\", \"cottager\", \"cottager\", \"country\", \"country\", \"country\", \"country\", \"courtyard\", \"creator\", \"creature\", \"creature\", \"creature\", \"creature\", \"crew\", \"crew\", \"crew\", \"crime\", \"crime\", \"crucifix\", \"daemon\", \"dance\", \"dance\", \"dance\", \"dance\", \"daughter\", \"daughter\", \"daughter\", \"daughter\", \"dear\", \"dear\", \"dear\", \"dear\", \"death\", \"death\", \"death\", \"death\", \"deck\", \"deck\", \"deck\", \"desire\", \"desire\", \"desire\", \"desire\", \"despair\", \"despair\", \"despair\", \"despair\", \"diary\", \"discover\", \"discover\", \"discover\", \"discover\", \"door\", \"door\", \"door\", \"door\", \"driver\", \"driver\", \"endeavour\", \"endeavour\", \"endure\", \"endure\", \"endure\", \"endure\", \"enter\", \"enter\", \"enter\", \"enter\", \"face\", \"face\", \"face\", \"face\", \"fall\", \"fall\", \"fall\", \"fall\", \"family\", \"family\", \"family\", \"family\", \"famous\", \"father\", \"father\", \"father\", \"father\", \"fear\", \"fear\", \"fear\", \"fear\", \"feeling\", \"feeling\", \"feeling\", \"feeling\", \"fiend\", \"fiend\", \"fiend\", \"fish\", \"fish\", \"fish\", \"fish\", \"fishery\", \"forever\", \"forever\", \"fulfil\", \"gentle\", \"gentle\", \"gentle\", \"gentleman\", \"gentleman\", \"gentleman\", \"gentleman\", \"harbour\", \"harbour\", \"harpoon\", \"harpoon\", \"harpooneer\", \"harpooneer\", \"head\", \"head\", \"head\", \"head\", \"heart\", \"heart\", \"heart\", \"heart\", \"hold\", \"hold\", \"hold\", \"hold\", \"hope\", \"hope\", \"hope\", \"hope\", \"horror\", \"horror\", \"horror\", \"hovel\", \"human\", \"human\", \"human\", \"human\", \"inhabit\", \"key\", \"key\", \"key\", \"lady\", \"lady\", \"lady\", \"lady\", \"ladyship\", \"lake\", \"lake\", \"later\", \"leg\", \"leg\", \"letter\", \"letter\", \"letter\", \"letter\", \"lie\", \"lie\", \"lie\", \"lie\", \"life\", \"life\", \"life\", \"life\", \"light\", \"light\", \"light\", \"light\", \"lock\", \"lock\", \"lock\", \"love\", \"love\", \"love\", \"love\", \"manner\", \"manner\", \"manner\", \"manner\", \"mast\", \"mast_head\", \"mate\", \"mate\", \"mate\", \"mean\", \"mean\", \"mean\", \"mean\", \"mind\", \"mind\", \"mind\", \"mind\", \"miserable\", \"miserable\", \"miserable\", \"miserable\", \"misery\", \"misery\", \"misery\", \"misery\", \"month\", \"month\", \"month\", \"month\", \"mountain\", \"mountain\", \"mountain\", \"mountain\", \"murder\", \"murder\", \"murder\", \"murderer\", \"murderer\", \"murderer\", \"nature\", \"nature\", \"nature\", \"nature\", \"oil\", \"oil\", \"old\", \"old\", \"old\", \"old\", \"open\", \"open\", \"open\", \"open\", \"pass\", \"pass\", \"pass\", \"pass\", \"patient\", \"patient\", \"patient\", \"patient\", \"pier\", \"pipe\", \"possess\", \"possess\", \"possess\", \"protector\", \"reflect\", \"reflect\", \"remain\", \"remain\", \"remain\", \"remain\", \"reply\", \"reply\", \"reply\", \"reply\", \"return\", \"return\", \"return\", \"return\", \"room\", \"room\", \"room\", \"room\", \"round\", \"round\", \"round\", \"round\", \"run\", \"run\", \"run\", \"run\", \"sail\", \"sail\", \"sail\", \"sailor\", \"sailor\", \"sailor\", \"scene\", \"scene\", \"scene\", \"scene\", \"sea\", \"sea\", \"sea\", \"sensation\", \"sensation\", \"sensation\", \"ship\", \"ship\", \"ship\", \"ship\", \"sister\", \"sister\", \"sister\", \"sister\", \"sit\", \"sit\", \"sit\", \"sit\", \"sleep\", \"sleep\", \"sleep\", \"sleep\", \"small\", \"small\", \"small\", \"small\", \"sort\", \"sort\", \"sort\", \"sort\", \"spirit\", \"spirit\", \"spirit\", \"spirit\", \"stand\", \"stand\", \"stand\", \"stand\", \"starbuck\", \"strange\", \"strange\", \"strange\", \"strange\", \"tale\", \"tale\", \"tale\", \"tear\", \"tear\", \"tear\", \"tear\", \"thirst\", \"thou\", \"thou\", \"thou\", \"till\", \"till\", \"till\", \"till\", \"try\", \"try\", \"try\", \"try\", \"undertaking\", \"unfortunate\", \"victim\", \"voyage\", \"voyage\", \"voyage\", \"wake\", \"wake\", \"wake\", \"walk\", \"walk\", \"walk\", \"walk\", \"want\", \"want\", \"want\", \"want\", \"water\", \"water\", \"water\", \"weep\", \"weep\", \"whale\", \"whale\", \"whale\", \"whale\", \"whale_ship\", \"whaleman\", \"whaling\", \"whilst\", \"whilst\", \"whilst\", \"window\", \"window\", \"window\", \"window\", \"wish\", \"wish\", \"wish\", \"wish\", \"wolf\", \"wolf\", \"word\", \"word\", \"word\", \"word\", \"world\", \"world\", \"world\", \"world\", \"wretch\", \"write\", \"write\", \"write\", \"write\", \"young\", \"young\", \"young\", \"young\"]}, \"R\": 30, \"lambda.step\": 0.01, \"plot.opts\": {\"xlab\": \"PC1\", \"ylab\": \"PC2\"}, \"topic.order\": [2, 4, 3, 1]};\n\nfunction LDAvis_load_lib(url, callback){\n  var s = document.createElement('script');\n  s.src = url;\n  s.async = true;\n  s.onreadystatechange = s.onload = callback;\n  s.onerror = function(){console.warn(\"failed to load library \" + url);};\n  document.getElementsByTagName(\"head\")[0].appendChild(s);\n}\n\nif(typeof(LDAvis) !== \"undefined\"){\n   // already loaded: just create the visualization\n   !function(LDAvis){\n       new LDAvis(\"#\" + \"ldavis_el1884031406356237870886394267984\", ldavis_el1884031406356237870886394267984_data);\n   }(LDAvis);\n}else if(typeof define === \"function\" && define.amd){\n   // require.js is available: use it to load d3/LDAvis\n   require.config({paths: {d3: \"https://d3js.org/d3.v5\"}});\n   require([\"d3\"], function(d3){\n      window.d3 = d3;\n      LDAvis_load_lib(\"https://cdn.jsdelivr.net/gh/bmabey/pyLDAvis@3.3.1/pyLDAvis/js/ldavis.v3.0.0.js\", function(){\n        new LDAvis(\"#\" + \"ldavis_el1884031406356237870886394267984\", ldavis_el1884031406356237870886394267984_data);\n      });\n    });\n}else{\n    // require.js not available: dynamically load d3 & LDAvis\n    LDAvis_load_lib(\"https://d3js.org/d3.v5.js\", function(){\n         LDAvis_load_lib(\"https://cdn.jsdelivr.net/gh/bmabey/pyLDAvis@3.3.1/pyLDAvis/js/ldavis.v3.0.0.js\", function(){\n                 new LDAvis(\"#\" + \"ldavis_el1884031406356237870886394267984\", ldavis_el1884031406356237870886394267984_data);\n            })\n         });\n}\n</script>"
     },
     "execution_count": 87,
     "metadata": {},
     "output_type": "execute_result"
    }
   ],
   "source": [
    "# plot topics\n",
    "data =  pyLDAvis.gensim_models.prepare(model, corpus, dictionary)\n",
    "pyLDAvis.display(data)"
   ]
  },
  {
   "cell_type": "code",
   "execution_count": 89,
   "metadata": {},
   "outputs": [],
   "source": [
    "# assignment\n",
    "sent_to_cluster = list()\n",
    "for n,doc in enumerate(corpus):\n",
    "    if doc:\n",
    "        cluster = max(model[doc],key=lambda x:x[1])\n",
    "        sent_to_cluster.append(cluster[0])"
   ]
  },
  {
   "cell_type": "code",
   "execution_count": 90,
   "metadata": {},
   "outputs": [
    {
     "name": "stdout",
     "output_type": "stream",
     "text": [
      "DRACULA.txt : 0 - 60\n",
      "Accuracy: 1.0\n",
      "------\n",
      "Frankenstein.txt : 1 - 60\n",
      "Accuracy: 1.0\n",
      "------\n",
      "Moby_Dick.txt : 2 - 55\n",
      "Accuracy: 0.9166666666666666\n",
      "------\n",
      "PRIDE_AND_PREJUDICE.txt : 3 - 60\n",
      "Accuracy: 1.0\n",
      "------\n"
     ]
    }
   ],
   "source": [
    "# accuracy\n",
    "from collections import Counter\n",
    "for book, cluster in book_id.items():\n",
    "    assignments = list()\n",
    "    for real,given in zip(chunk_class,sent_to_cluster):\n",
    "        if real == cluster:\n",
    "            assignments.append(given)\n",
    "    most_common,num_most_common = Counter(assignments).most_common(1)[0] # 4, 6 times\n",
    "    print(book,\":\",most_common,\"-\",num_most_common)\n",
    "    print(\"Accuracy:\",num_most_common/limit)\n",
    "    print(\"------\")"
   ]
  },
  {
   "cell_type": "markdown",
   "metadata": {},
   "source": [
    "# Task 4: Semantic analysis based on lexical categories"
   ]
  },
  {
   "cell_type": "code",
   "execution_count": 91,
   "metadata": {},
   "outputs": [],
   "source": [
    "from empath import Empath\n",
    "lexicon = Empath()"
   ]
  },
  {
   "cell_type": "markdown",
   "metadata": {},
   "source": [
    "### Let's see what pre-build categories we can study! More information: https://hci.stanford.edu/publications/2016/ethan/empath-chi-2016.pdf"
   ]
  },
  {
   "cell_type": "code",
   "execution_count": 92,
   "metadata": {},
   "outputs": [
    {
     "name": "stdout",
     "output_type": "stream",
     "text": [
      "help\n",
      "office\n",
      "dance\n",
      "money\n",
      "wedding\n",
      "domestic_work\n",
      "sleep\n",
      "medical_emergency\n",
      "cold\n",
      "hate\n",
      "cheerfulness\n",
      "aggression\n",
      "occupation\n",
      "envy\n",
      "anticipation\n"
     ]
    }
   ],
   "source": [
    "for cat in list(lexicon.cats.keys())[:15]:\n",
    "    print(cat)"
   ]
  },
  {
   "cell_type": "markdown",
   "metadata": {},
   "source": [
    "### For each category, we can examine representative terms"
   ]
  },
  {
   "cell_type": "code",
   "execution_count": 93,
   "metadata": {},
   "outputs": [
    {
     "data": {
      "text/plain": "['pharmacist',\n 'diabetes',\n 'heartburn',\n 'rehab',\n 'poisoning',\n 'chemotherapy',\n 'behavioral',\n 'surgery',\n 'kidney',\n 'pills',\n 'pneumonia',\n 'maternity',\n 'malnutrition',\n 'remedy',\n 'condition']"
     },
     "execution_count": 93,
     "metadata": {},
     "output_type": "execute_result"
    }
   ],
   "source": [
    "lexicon.cats[\"health\"][:15]"
   ]
  },
  {
   "cell_type": "markdown",
   "metadata": {},
   "source": [
    "### Studying Pride and Prejudice"
   ]
  },
  {
   "cell_type": "code",
   "execution_count": 94,
   "metadata": {},
   "outputs": [],
   "source": [
    "nlp = spacy.load('en_core_web_sm')\n",
    "doc = nlp(books[3])"
   ]
  },
  {
   "cell_type": "code",
   "execution_count": 95,
   "metadata": {},
   "outputs": [],
   "source": [
    "empath_features = lexicon.analyze(doc.text,categories = [\"disappointment\", \"pain\", \"joy\", \"beauty\", \"affection\"])"
   ]
  },
  {
   "cell_type": "code",
   "execution_count": 96,
   "metadata": {},
   "outputs": [
    {
     "data": {
      "text/plain": "{'disappointment': 149.0,\n 'pain': 228.0,\n 'joy': 278.0,\n 'beauty': 136.0,\n 'affection': 439.0}"
     },
     "execution_count": 96,
     "metadata": {},
     "output_type": "execute_result"
    }
   ],
   "source": [
    "empath_features"
   ]
  },
  {
   "cell_type": "code",
   "execution_count": 97,
   "metadata": {},
   "outputs": [],
   "source": [
    "empath_features = lexicon.analyze(doc.text,categories = [\"disappointment\", \"pain\", \"joy\", \"beauty\", \"affection\"], normalize = True)"
   ]
  },
  {
   "cell_type": "code",
   "execution_count": 98,
   "metadata": {},
   "outputs": [
    {
     "data": {
      "text/plain": "{'disappointment': 0.0012256615693403638,\n 'pain': 0.001875508978587939,\n 'joy': 0.002286804807225645,\n 'beauty': 0.0011187246538945602,\n 'affection': 0.0036111773754390585}"
     },
     "execution_count": 98,
     "metadata": {},
     "output_type": "execute_result"
    }
   ],
   "source": [
    "empath_features"
   ]
  },
  {
   "cell_type": "markdown",
   "metadata": {},
   "source": [
    "### Usecase: the evolution of topics"
   ]
  },
  {
   "cell_type": "code",
   "execution_count": 99,
   "metadata": {},
   "outputs": [],
   "source": [
    "bins = range(0,len(doc.text),150000)\n"
   ]
  },
  {
   "cell_type": "code",
   "execution_count": 100,
   "metadata": {},
   "outputs": [],
   "source": [
    "love = []\n",
    "pain = []\n",
    "beauty = []\n",
    "affection = []\n",
    "\n",
    "\n",
    "for cnt,i in enumerate(bins[:-1]):\n",
    "    empath_features = lexicon.analyze(doc.text[bins[cnt]:bins[cnt+1]],\n",
    "                                      categories = [\"love\", \"pain\", \"joy\", \"beauty\", \"affection\"], normalize = True)\n",
    "    love.append(empath_features[\"love\"])\n",
    "    pain.append(empath_features[\"pain\"])\n",
    "    beauty.append(empath_features[\"beauty\"])\n",
    "    affection.append(empath_features[\"affection\"])"
   ]
  },
  {
   "cell_type": "code",
   "execution_count": 101,
   "metadata": {},
   "outputs": [
    {
     "data": {
      "text/plain": "<matplotlib.legend.Legend at 0x7fe8482de5b0>"
     },
     "execution_count": 101,
     "metadata": {},
     "output_type": "execute_result"
    },
    {
     "data": {
      "text/plain": "<Figure size 432x288 with 1 Axes>",
      "image/png": "[encoded data removed]"
     },
     "metadata": {
      "needs_background": "light"
     },
     "output_type": "display_data"
    }
   ],
   "source": [
    "plt.plot(love,label = \"love\")\n",
    "plt.plot(beauty, label = \"beauty\")\n",
    "plt.plot(affection, label = \"affection\")\n",
    "plt.plot(pain,label = \"pain\")\n",
    "\n",
    "plt.xlabel(\"progression in the book\")\n",
    "plt.ylabel(\"frequency of a category\")\n",
    "plt.legend()"
   ]
  },
  {
   "cell_type": "code",
   "execution_count": 102,
   "metadata": {},
   "outputs": [],
   "source": [
    "# We can observe how as the story progresses, beauty and affection categories decrease, while love and pain intensify!"
   ]
  },
  {
   "cell_type": "markdown",
   "metadata": {},
   "source": [
    "### We can create custom categories based on seed terms!\n",
    "### Models trained on: fiction, nytimes or reddit"
   ]
  },
  {
   "cell_type": "code",
   "execution_count": 103,
   "metadata": {},
   "outputs": [
    {
     "name": "stdout",
     "output_type": "stream",
     "text": [
      "[\"avocado\", \"kale\", \"Swiss_chard\", \"escarole\", \"black_beans\", \"cucumber\", \"dill\", \"leek\", \"mango\", \"red_peppers\", \"chicory\", \"chanterelles\", \"chutney\", \"tamarind\", \"papaya\", \"black_olives\", \"endive\", \"pesto\", \"walnuts\", \"green_beans\", \"bok_choy\", \"portobello_mushrooms\", \"lemon_grass\", \"radicchio\", \"ricotta\", \"chicken_breast\", \"porcini\", \"blue_cheese\", \"snow_peas\", \"pickled\", \"Gorgonzola\", \"chorizo\", \"yams\", \"hazelnuts\", \"fresh_tomatoes\", \"shiitake_mushrooms\", \"anchovies\", \"wild_rice\", \"scallion\", \"red_onions\", \"broccoli_rape\", \"red_cabbage\", \"wasabi\", \"sweet_potato\", \"feta\", \"roasted_garlic\", \"compote\", \"napoleon\", \"aioli\", \"crab_meat\", \"cauliflower\", \"jicama\", \"parsnips\", \"apricots\", \"new_potatoes\", \"truffle_oil\", \"lemongrass\", \"pistachios\", \"saut\\u00e9ed\", \"gnocchi\", \"duck_confit\", \"fresh_herbs\", \"ratatouille\", \"white_beans\", \"croutons\", \"fresh_mozzarella\", \"squab\", \"watercress\", \"roasted_red_peppers\", \"pine_nuts\", \"fritters\", \"butternut_squash\", \"fava_beans\", \"drizzled\", \"red_onion\", \"pea_shoots\", \"rosemary\", \"romaine\", \"mustard_greens\", \"horseradish\", \"caramelized_onions\", \"artichoke_hearts\", \"fettuccine\", \"grilled_eggplant\", \"julienne\", \"plum_tomatoes\", \"grilled_chicken\", \"pineapple\", \"candied\", \"pancetta\", \"celery_root\", \"sea_scallops\", \"shiitake\", \"porcini_mushrooms\", \"sour_cream\", \"bean_sprouts\", \"oyster_mushrooms\", \"monkfish\", \"chickpeas\", \"coconut_milk\"]\n"
     ]
    }
   ],
   "source": [
    "lexicon.create_category(\"healthy_food\", [\"healthy_food\",\"low_carb\",\"kale\",\"avocado\"], model=\"nytimes\")"
   ]
  },
  {
   "cell_type": "code",
   "execution_count": 104,
   "metadata": {},
   "outputs": [
    {
     "name": "stdout",
     "output_type": "stream",
     "text": [
      "[\"green_vegetables\", \"leafy_greens\", \"whole_grain_bread\", \"brown_rice\", \"white_rice\", \"green_veggies\", \"veggies\", \"whole_wheat_bread\", \"sweet_potatoes\", \"raw_veggies\", \"lean_meat\", \"spinach\", \"fatty_meat\", \"kale\", \"sweet_potato\", \"avocado\", \"hummus\", \"chicken_breast\", \"veggie\", \"whole_grain\", \"vegetables\", \"whole_wheat_pasta\", \"salads\", \"broccoli\", \"greek_yogurt\", \"Greek_yogurt\", \"yogurt\", \"avocados\", \"rice_cakes\", \"raw_vegetables\", \"almonds\", \"lean_protein\", \"grilled_chicken\", \"quinoa\", \"steamed_broccoli\", \"whole_grain_pasta\", \"brocolli\", \"kale\", \"avocado\", \"tofu\", \"Veggies\", \"edamame\", \"more_veggies\", \"lean_meats\", \"quinoa\", \"salad\", \"cottage_cheese\", \"whole_wheat\", \"wheat_bread\", \"romaine_lettuce\", \"white_bread\", \"raw_spinach\", \"oatmeal\", \"white_potatoes\", \"almond_butter\", \"pork_rinds\", \"veg\", \"cashews\", \"greek_yoghurt\", \"baby_carrots\", \"fresh_veggies\", \"fatty_meats\", \"more_vegetables\", \"avacado\", \"veges\", \"nut_butter\", \"hard_boiled_eggs\", \"carrot_sticks\", \"whole_grains\", \"grilled_chicken_breast\", \"steamed_vegetables\", \"meats\", \"lentils\", \"green_beans\", \"low_cal\", \"nuts/seeds\", \"iceberg_lettuce\", \"carrots\", \"red_meat\", \"other_foods\", \"fried_foods\", \"smoothies\", \"healthy_fats\", \"vegies\", \"avacados\", \"other_vegetables\", \"fresh_fruit\", \"spinach_salad\", \"egg_whites\", \"steamed_veggies\", \"nut_butters\", \"ground_turkey\", \"baked_chicken\"]\n"
     ]
    }
   ],
   "source": [
    "lexicon.create_category(\"healthy_food\", [\"healthy_food\",\"low_carb\",\"kale\",\"avocado\"], model=\"reddit\")"
   ]
  },
  {
   "cell_type": "code",
   "execution_count": 105,
   "metadata": {},
   "outputs": [
    {
     "name": "stdout",
     "output_type": "stream",
     "text": [
      "[\"turkey\", \"roast_beef\", \"white_bread\", \"fried_chicken\", \"pancakes\", \"peanut_butter\", \"gefilte_fish\", \"stuffing\", \"French_fries\", \"meatloaf\", \"brisket\", \"potato_salad\", \"pumpkin_pie\", \"scrambled_eggs\", \"french_fries\", \"spaghetti\", \"gravy\", \"tamales\", \"pot_roast\", \"oatmeal\", \"lasagna\", \"corned_beef\", \"latkes\", \"pickles\", \"sauerkraut\", \"burger\", \"grits\", \"biscuits\", \"hamburger\", \"salad_bar\", \"corn_bread\", \"chicken_soup\", \"bacon\", \"cream_cheese\", \"brownies\", \"tofu\", \"pastrami\", \"pork_chops\", \"salami\", \"marshmallows\", \"collard_greens\", \"macaroni\", \"pies\", \"raw_fish\", \"eggnog\", \"cheeseburgers\", \"truffles\", \"chocolate_cake\", \"hard-boiled_eggs\", \"baked_potatoes\", \"venison\", \"cottage_cheese\", \"pheasant\", \"applesauce\", \"quail\", \"fruit_salad\", \"meatballs\", \"chocolate_chip_cookies\", \"tacos\", \"roast\", \"jelly\", \"chicken_salad\", \"omelet\", \"gumbo\", \"steaks\", \"soup\", \"lox\", \"sausage\", \"roast_chicken\", \"rye\", \"bagel\", \"fruitcake\", \"fries\", \"fried_eggs\", \"ketchup\", \"chicken_wings\", \"barbecue_sauce\", \"sweet_potatoes\", \"pasta\", \"sausages\", \"crackers\", \"omelets\", \"roasting\", \"French_toast\", \"muffins\", \"mashed_potatoes\", \"fresh_fruit\", \"baked_potato\", \"waffles\", \"cranberry_sauce\", \"baked_beans\", \"cheese\", \"tripe\", \"noodles\", \"maple_syrup\", \"quiche\", \"buns\", \"baklava\", \"stews\"]\n"
     ]
    }
   ],
   "source": [
    "lexicon.create_category(\"festive_food\", [\"festive_food\",\"turkey\",\"eggnog\"], model=\"nytimes\")"
   ]
  },
  {
   "cell_type": "markdown",
   "metadata": {},
   "source": [
    "### List of further resources\n",
    "    * NLTK\n",
    "    * Jellyfish: string similarity library\n",
    "    * TextBlob: simplified text processing\n",
    "    * PyEnchant: language detection\n",
    "    * WordNet: ontology of concepts (inc. in NLTK)\n",
    "    * Stanford NLP (Java)\n",
    "    * Tweet NLP: https://www.cs.cmu.edu/~ark/TweetNLP/"
   ]
  },
  {
   "cell_type": "markdown",
   "metadata": {
    "collapsed": true
   },
   "source": [
    "## Part 2"
   ]
  },
  {
   "cell_type": "markdown",
   "metadata": {},
   "source": [
    "### Question 1:\n",
    "An NLP preprocessing model, using the list of stopwords ['a', 'the', 'is', 'you', 'I','my','with','was'] for the input sentence\n",
    "“I was driving down the street with my CAR! :)” <br>\n",
    "gives the following output: {driving, down, street, car, :)}.\n",
    "The model consists of: <br>\n",
    "\n",
    "a) Stopword Removal, Casefolding and Stemming <br>\n",
    "b) Stopword Removal and Casefolding <br>\n",
    "c) Stopword Removal and Stemming <br>\n",
    "d) Casefolding and Stemming <br>"
   ]
  },
  {
   "cell_type": "code",
   "execution_count": null,
   "metadata": {
    "collapsed": true
   },
   "outputs": [],
   "source": [
    "# write your code and/or answer here\n",
    "\"b\""
   ]
  },
  {
   "cell_type": "markdown",
   "metadata": {},
   "source": [
    "### Question 2:\n",
    "What statement is false about topic detection using LSA: <br>\n",
    "\n",
    "a) It finds the representation of documents and words in the latent \"topic space\" <br>\n",
    "b) It produces topics interpretable in “word space” <br>\n",
    "c) A document's topic representation is a probability distribution over topics <br>\n",
    "d) The vectors representing topics in “word space” are linearly independent <br>"
   ]
  },
  {
   "cell_type": "code",
   "execution_count": 74,
   "metadata": {
    "collapsed": true
   },
   "outputs": [
    {
     "data": {
      "text/plain": "'d'"
     },
     "execution_count": 74,
     "metadata": {},
     "output_type": "execute_result"
    }
   ],
   "source": [
    "# write your code and/or answer here\n",
    "\"d is WRONG. it's c\""
   ]
  },
  {
   "cell_type": "markdown",
   "metadata": {},
   "source": [
    "### Question 3:\n",
    "The problem of having more features than documents when using a TF-IDF matrix for document classification cannot be addressed by: <br>\n",
    "\n",
    "a) Using SVD for dimensionality reduction <br>\n",
    "b) Using min-max scaling of features <br>\n",
    "c) Penalizing very large positive and very large negative weights (a.k.a. regularization) <br>\n",
    "d) Using online feature selection <br>"
   ]
  },
  {
   "cell_type": "code",
   "execution_count": 75,
   "metadata": {
    "collapsed": true
   },
   "outputs": [
    {
     "data": {
      "text/plain": "'a'"
     },
     "execution_count": 75,
     "metadata": {},
     "output_type": "execute_result"
    }
   ],
   "source": [
    "# write your code and/or answer here\n",
    "\"b\""
   ]
  },
  {
   "cell_type": "markdown",
   "metadata": {},
   "source": [
    "### Question 4:\n",
    "Which of the following is false about word vectors: <br>\n",
    "\n",
    "a) Word2vec is used to achieve a lower dimensional representation than bag of words <br>\n",
    "b) Semantically similar words typically have similar word2vec vectors <br>\n",
    "c) Each dimension in the word2vec embedding has a clear interpretation <br>\n",
    "d) Word2Vec can be used for the computation of sentence vectors <br>"
   ]
  },
  {
   "cell_type": "code",
   "execution_count": 77,
   "metadata": {
    "collapsed": true
   },
   "outputs": [
    {
     "data": {
      "text/plain": "'c'"
     },
     "execution_count": 77,
     "metadata": {},
     "output_type": "execute_result"
    }
   ],
   "source": [
    "# write your code and/or answer here\n",
    "\"c\""
   ]
  },
  {
   "cell_type": "markdown",
   "metadata": {},
   "source": [
    "### Question 5:\n",
    "Given the following word (W) / context (C) co-occurrence frequencies, which statement is true regarding the pointwise mutual information (PMI)?\n",
    "\n",
    "|  |W1|W2|W3|\n",
    "|--|--|--|--|\n",
    "|C1| 2| 0| 3|\n",
    "|C2| 6| 4| 0|\n",
    "|C3| 1| 1| 3|\n",
    "\n",
    "a) PMI(w=W1, c=C2) > PMI(w=W2, c=C2) > PMI(w=W3, c=C3) <br>\n",
    "b) PMI(w=W2, c=C2) > PMI(w=W1, c=C2) >  PMI(w=W3, c=C3) <br>\n",
    "c) PMI(w=W3, c=C3) > PMI(w=W1, c=C2) > PMI(w=W2, c=C2) <br>\n",
    "d) PMI(w=W3, c=C3) > PMI(w=W2, c=C2) > PMI(w=W1, c=C2) <br>"
   ]
  },
  {
   "cell_type": "code",
   "execution_count": 106,
   "metadata": {
    "collapsed": true
   },
   "outputs": [
    {
     "data": {
      "text/plain": "'d'"
     },
     "execution_count": 106,
     "metadata": {},
     "output_type": "execute_result"
    }
   ],
   "source": [
    "# write your code and/or answer here\n",
    "\"d\""
   ]
  },
  {
   "cell_type": "code",
   "execution_count": null,
   "metadata": {
    "collapsed": true,
    "pycharm": {
     "name": "#%%\n"
    }
   },
   "outputs": [],
   "source": []
  }
 ],
 "metadata": {
  "kernelspec": {
   "name": "conda-env-adaexam-py",
   "language": "python",
   "display_name": "Python [conda env:adaexam] *"
  },
  "language_info": {
   "codemirror_mode": {
    "name": "ipython",
    "version": 3
   },
   "file_extension": ".py",
   "mimetype": "text/x-python",
   "name": "python",
   "nbconvert_exporter": "python",
   "pygments_lexer": "ipython3",
   "version": "3.6.3"
  },
  "toc": {
   "colors": {
    "hover_highlight": "#DAA520",
    "navigate_num": "#000000",
    "navigate_text": "#333333",
    "running_highlight": "#FF0000",
    "selected_highlight": "#FFD700",
    "sidebar_border": "#EEEEEE",
    "wrapper_background": "#FFFFFF"
   },
   "moveMenuLeft": true,
   "nav_menu": {
    "height": "228px",
    "width": "252px"
   },
   "navigate_menu": true,
   "number_sections": true,
   "sideBar": true,
   "threshold": 4,
   "toc_cell": false,
   "toc_section_display": "block",
   "toc_window_display": false,
   "widenNotebook": false
  },
  "varInspector": {
   "cols": {
    "lenName": 16,
    "lenType": 16,
    "lenVar": 40
   },
   "kernels_config": {
    "python": {
     "delete_cmd_postfix": "",
     "delete_cmd_prefix": "del ",
     "library": "var_list.py",
     "varRefreshCmd": "print(var_dic_list())"
    },
    "r": {
     "delete_cmd_postfix": ") ",
     "delete_cmd_prefix": "rm(",
     "library": "var_list.r",
     "varRefreshCmd": "cat(var_dic_list()) "
    }
   },
   "types_to_exclude": [
    "module",
    "function",
    "builtin_function_or_method",
    "instance",
    "_Feature"
   ],
   "window_display": false
  }
 },
 "nbformat": 4,
 "nbformat_minor": 2
}
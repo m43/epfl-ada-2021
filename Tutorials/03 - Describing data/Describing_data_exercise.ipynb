{
 "cells": [
  {
   "cell_type": "markdown",
   "metadata": {},
   "source": [
    "### In this exercise, first, you will familiarize yourself with python libraries statsmodels and SciPy that let you do statistical analysis: calculate descriptive statistics, sample the. datapoints, study relationship between variables, and perform hypothesis testing. Then, second, you will work independently on a set of exercises that will let you practice your skills.\n",
    "\n",
    "### Here we show a couple of examples of how to do common analyses, but there are many more useful statistical distributions and statistical tests. In the linked documentation, you will find complete information, and a lot more details compared to what is outlined in this notebook:\n",
    "- [statsmodels](https://www.statsmodels.org/stable/examples/index.html), [more complete documentation](https://www.statsmodels.org/stable/stats.html)\n",
    "- [SciPy](https://docs.scipy.org/doc/scipy/reference/stats.html)"
   ]
  },
  {
   "cell_type": "markdown",
   "metadata": {},
   "source": [
    "# Tutorial: How to use the libraries\n",
    "\n",
    "- You will be working with the full US 2015 census dataset (acs2015_county_data.csv, available at https://www.kaggle.com/muonneutrino/us-census-demographic-data#acs2015_county_data.csv). Here we load it. Take some time to familiarize yourself with the contents. One row represents one county."
   ]
  },
  {
   "cell_type": "code",
   "execution_count": 1,
   "metadata": {
    "collapsed": true
   },
   "outputs": [],
   "source": [
    "\n",
    "import matplotlib.pyplot as plt\n",
    "import pandas as pd\n",
    "% matplotlib inline\n",
    "import seaborn as sns\n",
    "\n",
    "#load the statistical libraries\n",
    "from statsmodels.stats import diagnostic\n",
    "from scipy import stats"
   ]
  },
  {
   "cell_type": "code",
   "execution_count": 2,
   "metadata": {
    "collapsed": true
   },
   "outputs": [],
   "source": [
    "data_folder = './data/'\n",
    "df = pd.read_csv(data_folder + 'acs2015_county_data.csv')"
   ]
  },
  {
   "cell_type": "code",
   "execution_count": 3,
   "metadata": {},
   "outputs": [
    {
     "data": {
      "text/plain": "Index(['CensusId', 'State', 'County', 'TotalPop', 'Men', 'Women', 'Hispanic',\n       'White', 'Black', 'Native', 'Asian', 'Pacific', 'Citizen', 'Income',\n       'IncomeErr', 'IncomePerCap', 'IncomePerCapErr', 'Poverty',\n       'ChildPoverty', 'Professional', 'Service', 'Office', 'Construction',\n       'Production', 'Drive', 'Carpool', 'Transit', 'Walk', 'OtherTransp',\n       'WorkAtHome', 'MeanCommute', 'Employed', 'PrivateWork', 'PublicWork',\n       'SelfEmployed', 'FamilyWork', 'Unemployment'],\n      dtype='object')"
     },
     "execution_count": 3,
     "metadata": {},
     "output_type": "execute_result"
    }
   ],
   "source": [
    "df.columns"
   ]
  },
  {
   "cell_type": "code",
   "execution_count": 4,
   "metadata": {},
   "outputs": [
    {
     "data": {
      "text/plain": "      CensusId         State      County  TotalPop    Men   Women  Hispanic  \\\n564      16027         Idaho      Canyon    198921  98609  100312      24.5   \n2044     39003          Ohio       Allen    105196  52977   52219       2.7   \n2817     50023       Vermont  Washington     59132  29182   29950       1.9   \n969      20163        Kansas       Rooks      5186   2537    2649       2.4   \n2207     40153      Oklahoma    Woodward     20986  11172    9814      11.5   \n3124     56011       Wyoming       Crook      7229   3716    3513       2.5   \n1381     27135     Minnesota      Roseau     15615   7991    7624       1.0   \n1092     21199      Kentucky     Pulaski     63635  31151   32484       2.3   \n2419     46117  South Dakota     Stanley      2962   1495    1467       1.5   \n402      13031       Georgia     Bulloch     72386  35859   36527       3.6   \n\n      White  Black  Native  ...  Walk  OtherTransp  WorkAtHome  MeanCommute  \\\n564    71.6    0.4     0.6  ...   1.4          2.6         6.6         24.0   \n2044   81.6   12.0     0.3  ...   1.4          0.9         1.7         19.3   \n2817   94.4    0.9     0.3  ...   6.2          1.3         6.7         22.5   \n969    95.2    0.2     0.3  ...   3.0          0.5         4.6         15.5   \n2207   81.4    0.6     1.9  ...   0.6          1.8         1.6         18.2   \n3124   96.8    0.2     0.2  ...   4.3          2.6        12.5         26.3   \n1381   93.1    0.7     1.3  ...   3.3          1.4         5.2         16.2   \n1092   94.5    0.9     0.1  ...   1.7          1.3         1.9         19.9   \n2419   89.1    0.0     8.4  ...   1.7          1.8         9.3         14.8   \n402    64.0   28.3     0.3  ...   2.5          1.5         5.3         20.6   \n\n      Employed  PrivateWork  PublicWork  SelfEmployed  FamilyWork  \\\n564      81460         79.8        12.7           7.2         0.3   \n2044     47604         85.2        10.5           4.1         0.2   \n2817     31774         72.2        18.4           9.1         0.3   \n969       2626         66.6        20.9          12.1         0.3   \n2207      9345         78.9        14.3           6.6         0.2   \n3124      3754         72.6        15.5          11.7         0.2   \n1381      8447         82.9        10.5           6.5         0.2   \n1092     25669         78.8        15.3           5.6         0.3   \n2419      1674         66.5        24.0           8.7         0.8   \n402      31144         69.5        22.6           7.6         0.3   \n\n      Unemployment  \n564            9.4  \n2044           9.2  \n2817           4.8  \n969            4.1  \n2207           5.1  \n3124           4.1  \n1381           2.7  \n1092           9.1  \n2419           1.4  \n402            9.1  \n\n[10 rows x 37 columns]",
      "text/html": "<div>\n<style scoped>\n    .dataframe tbody tr th:only-of-type {\n        vertical-align: middle;\n    }\n\n    .dataframe tbody tr th {\n        vertical-align: top;\n    }\n\n    .dataframe thead th {\n        text-align: right;\n    }\n</style>\n<table border=\"1\" class=\"dataframe\">\n  <thead>\n    <tr style=\"text-align: right;\">\n      <th></th>\n      <th>CensusId</th>\n      <th>State</th>\n      <th>County</th>\n      <th>TotalPop</th>\n      <th>Men</th>\n      <th>Women</th>\n      <th>Hispanic</th>\n      <th>White</th>\n      <th>Black</th>\n      <th>Native</th>\n      <th>...</th>\n      <th>Walk</th>\n      <th>OtherTransp</th>\n      <th>WorkAtHome</th>\n      <th>MeanCommute</th>\n      <th>Employed</th>\n      <th>PrivateWork</th>\n      <th>PublicWork</th>\n      <th>SelfEmployed</th>\n      <th>FamilyWork</th>\n      <th>Unemployment</th>\n    </tr>\n  </thead>\n  <tbody>\n    <tr>\n      <th>564</th>\n      <td>16027</td>\n      <td>Idaho</td>\n      <td>Canyon</td>\n      <td>198921</td>\n      <td>98609</td>\n      <td>100312</td>\n      <td>24.5</td>\n      <td>71.6</td>\n      <td>0.4</td>\n      <td>0.6</td>\n      <td>...</td>\n      <td>1.4</td>\n      <td>2.6</td>\n      <td>6.6</td>\n      <td>24.0</td>\n      <td>81460</td>\n      <td>79.8</td>\n      <td>12.7</td>\n      <td>7.2</td>\n      <td>0.3</td>\n      <td>9.4</td>\n    </tr>\n    <tr>\n      <th>2044</th>\n      <td>39003</td>\n      <td>Ohio</td>\n      <td>Allen</td>\n      <td>105196</td>\n      <td>52977</td>\n      <td>52219</td>\n      <td>2.7</td>\n      <td>81.6</td>\n      <td>12.0</td>\n      <td>0.3</td>\n      <td>...</td>\n      <td>1.4</td>\n      <td>0.9</td>\n      <td>1.7</td>\n      <td>19.3</td>\n      <td>47604</td>\n      <td>85.2</td>\n      <td>10.5</td>\n      <td>4.1</td>\n      <td>0.2</td>\n      <td>9.2</td>\n    </tr>\n    <tr>\n      <th>2817</th>\n      <td>50023</td>\n      <td>Vermont</td>\n      <td>Washington</td>\n      <td>59132</td>\n      <td>29182</td>\n      <td>29950</td>\n      <td>1.9</td>\n      <td>94.4</td>\n      <td>0.9</td>\n      <td>0.3</td>\n      <td>...</td>\n      <td>6.2</td>\n      <td>1.3</td>\n      <td>6.7</td>\n      <td>22.5</td>\n      <td>31774</td>\n      <td>72.2</td>\n      <td>18.4</td>\n      <td>9.1</td>\n      <td>0.3</td>\n      <td>4.8</td>\n    </tr>\n    <tr>\n      <th>969</th>\n      <td>20163</td>\n      <td>Kansas</td>\n      <td>Rooks</td>\n      <td>5186</td>\n      <td>2537</td>\n      <td>2649</td>\n      <td>2.4</td>\n      <td>95.2</td>\n      <td>0.2</td>\n      <td>0.3</td>\n      <td>...</td>\n      <td>3.0</td>\n      <td>0.5</td>\n      <td>4.6</td>\n      <td>15.5</td>\n      <td>2626</td>\n      <td>66.6</td>\n      <td>20.9</td>\n      <td>12.1</td>\n      <td>0.3</td>\n      <td>4.1</td>\n    </tr>\n    <tr>\n      <th>2207</th>\n      <td>40153</td>\n      <td>Oklahoma</td>\n      <td>Woodward</td>\n      <td>20986</td>\n      <td>11172</td>\n      <td>9814</td>\n      <td>11.5</td>\n      <td>81.4</td>\n      <td>0.6</td>\n      <td>1.9</td>\n      <td>...</td>\n      <td>0.6</td>\n      <td>1.8</td>\n      <td>1.6</td>\n      <td>18.2</td>\n      <td>9345</td>\n      <td>78.9</td>\n      <td>14.3</td>\n      <td>6.6</td>\n      <td>0.2</td>\n      <td>5.1</td>\n    </tr>\n    <tr>\n      <th>3124</th>\n      <td>56011</td>\n      <td>Wyoming</td>\n      <td>Crook</td>\n      <td>7229</td>\n      <td>3716</td>\n      <td>3513</td>\n      <td>2.5</td>\n      <td>96.8</td>\n      <td>0.2</td>\n      <td>0.2</td>\n      <td>...</td>\n      <td>4.3</td>\n      <td>2.6</td>\n      <td>12.5</td>\n      <td>26.3</td>\n      <td>3754</td>\n      <td>72.6</td>\n      <td>15.5</td>\n      <td>11.7</td>\n      <td>0.2</td>\n      <td>4.1</td>\n    </tr>\n    <tr>\n      <th>1381</th>\n      <td>27135</td>\n      <td>Minnesota</td>\n      <td>Roseau</td>\n      <td>15615</td>\n      <td>7991</td>\n      <td>7624</td>\n      <td>1.0</td>\n      <td>93.1</td>\n      <td>0.7</td>\n      <td>1.3</td>\n      <td>...</td>\n      <td>3.3</td>\n      <td>1.4</td>\n      <td>5.2</td>\n      <td>16.2</td>\n      <td>8447</td>\n      <td>82.9</td>\n      <td>10.5</td>\n      <td>6.5</td>\n      <td>0.2</td>\n      <td>2.7</td>\n    </tr>\n    <tr>\n      <th>1092</th>\n      <td>21199</td>\n      <td>Kentucky</td>\n      <td>Pulaski</td>\n      <td>63635</td>\n      <td>31151</td>\n      <td>32484</td>\n      <td>2.3</td>\n      <td>94.5</td>\n      <td>0.9</td>\n      <td>0.1</td>\n      <td>...</td>\n      <td>1.7</td>\n      <td>1.3</td>\n      <td>1.9</td>\n      <td>19.9</td>\n      <td>25669</td>\n      <td>78.8</td>\n      <td>15.3</td>\n      <td>5.6</td>\n      <td>0.3</td>\n      <td>9.1</td>\n    </tr>\n    <tr>\n      <th>2419</th>\n      <td>46117</td>\n      <td>South Dakota</td>\n      <td>Stanley</td>\n      <td>2962</td>\n      <td>1495</td>\n      <td>1467</td>\n      <td>1.5</td>\n      <td>89.1</td>\n      <td>0.0</td>\n      <td>8.4</td>\n      <td>...</td>\n      <td>1.7</td>\n      <td>1.8</td>\n      <td>9.3</td>\n      <td>14.8</td>\n      <td>1674</td>\n      <td>66.5</td>\n      <td>24.0</td>\n      <td>8.7</td>\n      <td>0.8</td>\n      <td>1.4</td>\n    </tr>\n    <tr>\n      <th>402</th>\n      <td>13031</td>\n      <td>Georgia</td>\n      <td>Bulloch</td>\n      <td>72386</td>\n      <td>35859</td>\n      <td>36527</td>\n      <td>3.6</td>\n      <td>64.0</td>\n      <td>28.3</td>\n      <td>0.3</td>\n      <td>...</td>\n      <td>2.5</td>\n      <td>1.5</td>\n      <td>5.3</td>\n      <td>20.6</td>\n      <td>31144</td>\n      <td>69.5</td>\n      <td>22.6</td>\n      <td>7.6</td>\n      <td>0.3</td>\n      <td>9.1</td>\n    </tr>\n  </tbody>\n</table>\n<p>10 rows × 37 columns</p>\n</div>"
     },
     "execution_count": 4,
     "metadata": {},
     "output_type": "execute_result"
    }
   ],
   "source": [
    "df.sample(10)"
   ]
  },
  {
   "cell_type": "code",
   "execution_count": 20,
   "outputs": [
    {
     "name": "stdout",
     "output_type": "stream",
     "text": [
      "True\n",
      "        State      County\n",
      "count    3220        3220\n",
      "unique     52        1928\n",
      "top     Texas  Washington\n",
      "freq      254          31\n"
     ]
    },
    {
     "data": {
      "text/plain": "           CensusId      TotalPop           Men         Women     Hispanic  \\\ncount   3220.000000  3.220000e+03  3.220000e+03  3.220000e+03  3220.000000   \nmean   31393.605280  9.940935e+04  4.889694e+04  5.051241e+04    11.011522   \nstd    16292.078954  3.193055e+05  1.566813e+05  1.626620e+05    19.241380   \nmin     1001.000000  8.500000e+01  4.200000e+01  4.300000e+01     0.000000   \n25%    19032.500000  1.121800e+04  5.637250e+03  5.572000e+03     1.900000   \n50%    30024.000000  2.603500e+04  1.293200e+04  1.305700e+04     3.900000   \n75%    46105.500000  6.643050e+04  3.299275e+04  3.348750e+04     9.825000   \nmax    72153.000000  1.003839e+07  4.945351e+06  5.093037e+06    99.900000   \n\n             White        Black       Native        Asian      Pacific  ...  \\\ncount  3220.000000  3220.000000  3220.000000  3220.000000  3220.000000  ...   \nmean     75.428789     8.665497     1.723509     1.229068     0.082733  ...   \nstd      22.932890    14.279122     7.253115     2.633079     0.734931  ...   \nmin       0.000000     0.000000     0.000000     0.000000     0.000000  ...   \n25%      64.100000     0.500000     0.100000     0.200000     0.000000  ...   \n50%      84.100000     1.900000     0.300000     0.500000     0.000000  ...   \n75%      93.200000     9.600000     0.600000     1.200000     0.000000  ...   \nmax      99.800000    85.900000    92.100000    41.600000    35.300000  ...   \n\n              Walk  OtherTransp   WorkAtHome  MeanCommute      Employed  \\\ncount  3220.000000  3220.000000  3220.000000  3220.000000  3.220000e+03   \nmean      3.323509     1.612733     4.631770    23.278758  4.559352e+04   \nstd       3.756096     1.670988     3.178772     5.600466  1.496995e+05   \nmin       0.000000     0.000000     0.000000     4.900000  6.200000e+01   \n25%       1.400000     0.900000     2.700000    19.500000  4.550750e+03   \n50%       2.400000     1.300000     3.900000    23.000000  1.050800e+04   \n75%       4.000000     1.900000     5.600000    26.800000  2.863275e+04   \nmax      71.200000    39.100000    37.200000    44.000000  4.635465e+06   \n\n       PrivateWork   PublicWork  SelfEmployed   FamilyWork  Unemployment  \ncount  3220.000000  3220.000000   3220.000000  3220.000000   3220.000000  \nmean     74.219348    17.560870      7.931801     0.288106      8.094441  \nstd       7.863188     6.510354      3.914974     0.455137      4.096114  \nmin      25.000000     5.800000      0.000000     0.000000      0.000000  \n25%      70.500000    13.100000      5.400000     0.100000      5.500000  \n50%      75.700000    16.200000      6.900000     0.200000      7.600000  \n75%      79.700000    20.500000      9.400000     0.300000      9.900000  \nmax      88.300000    66.200000     36.600000     9.800000     36.500000  \n\n[8 rows x 35 columns]",
      "text/html": "<div>\n<style scoped>\n    .dataframe tbody tr th:only-of-type {\n        vertical-align: middle;\n    }\n\n    .dataframe tbody tr th {\n        vertical-align: top;\n    }\n\n    .dataframe thead th {\n        text-align: right;\n    }\n</style>\n<table border=\"1\" class=\"dataframe\">\n  <thead>\n    <tr style=\"text-align: right;\">\n      <th></th>\n      <th>CensusId</th>\n      <th>TotalPop</th>\n      <th>Men</th>\n      <th>Women</th>\n      <th>Hispanic</th>\n      <th>White</th>\n      <th>Black</th>\n      <th>Native</th>\n      <th>Asian</th>\n      <th>Pacific</th>\n      <th>...</th>\n      <th>Walk</th>\n      <th>OtherTransp</th>\n      <th>WorkAtHome</th>\n      <th>MeanCommute</th>\n      <th>Employed</th>\n      <th>PrivateWork</th>\n      <th>PublicWork</th>\n      <th>SelfEmployed</th>\n      <th>FamilyWork</th>\n      <th>Unemployment</th>\n    </tr>\n  </thead>\n  <tbody>\n    <tr>\n      <th>count</th>\n      <td>3220.000000</td>\n      <td>3.220000e+03</td>\n      <td>3.220000e+03</td>\n      <td>3.220000e+03</td>\n      <td>3220.000000</td>\n      <td>3220.000000</td>\n      <td>3220.000000</td>\n      <td>3220.000000</td>\n      <td>3220.000000</td>\n      <td>3220.000000</td>\n      <td>...</td>\n      <td>3220.000000</td>\n      <td>3220.000000</td>\n      <td>3220.000000</td>\n      <td>3220.000000</td>\n      <td>3.220000e+03</td>\n      <td>3220.000000</td>\n      <td>3220.000000</td>\n      <td>3220.000000</td>\n      <td>3220.000000</td>\n      <td>3220.000000</td>\n    </tr>\n    <tr>\n      <th>mean</th>\n      <td>31393.605280</td>\n      <td>9.940935e+04</td>\n      <td>4.889694e+04</td>\n      <td>5.051241e+04</td>\n      <td>11.011522</td>\n      <td>75.428789</td>\n      <td>8.665497</td>\n      <td>1.723509</td>\n      <td>1.229068</td>\n      <td>0.082733</td>\n      <td>...</td>\n      <td>3.323509</td>\n      <td>1.612733</td>\n      <td>4.631770</td>\n      <td>23.278758</td>\n      <td>4.559352e+04</td>\n      <td>74.219348</td>\n      <td>17.560870</td>\n      <td>7.931801</td>\n      <td>0.288106</td>\n      <td>8.094441</td>\n    </tr>\n    <tr>\n      <th>std</th>\n      <td>16292.078954</td>\n      <td>3.193055e+05</td>\n      <td>1.566813e+05</td>\n      <td>1.626620e+05</td>\n      <td>19.241380</td>\n      <td>22.932890</td>\n      <td>14.279122</td>\n      <td>7.253115</td>\n      <td>2.633079</td>\n      <td>0.734931</td>\n      <td>...</td>\n      <td>3.756096</td>\n      <td>1.670988</td>\n      <td>3.178772</td>\n      <td>5.600466</td>\n      <td>1.496995e+05</td>\n      <td>7.863188</td>\n      <td>6.510354</td>\n      <td>3.914974</td>\n      <td>0.455137</td>\n      <td>4.096114</td>\n    </tr>\n    <tr>\n      <th>min</th>\n      <td>1001.000000</td>\n      <td>8.500000e+01</td>\n      <td>4.200000e+01</td>\n      <td>4.300000e+01</td>\n      <td>0.000000</td>\n      <td>0.000000</td>\n      <td>0.000000</td>\n      <td>0.000000</td>\n      <td>0.000000</td>\n      <td>0.000000</td>\n      <td>...</td>\n      <td>0.000000</td>\n      <td>0.000000</td>\n      <td>0.000000</td>\n      <td>4.900000</td>\n      <td>6.200000e+01</td>\n      <td>25.000000</td>\n      <td>5.800000</td>\n      <td>0.000000</td>\n      <td>0.000000</td>\n      <td>0.000000</td>\n    </tr>\n    <tr>\n      <th>25%</th>\n      <td>19032.500000</td>\n      <td>1.121800e+04</td>\n      <td>5.637250e+03</td>\n      <td>5.572000e+03</td>\n      <td>1.900000</td>\n      <td>64.100000</td>\n      <td>0.500000</td>\n      <td>0.100000</td>\n      <td>0.200000</td>\n      <td>0.000000</td>\n      <td>...</td>\n      <td>1.400000</td>\n      <td>0.900000</td>\n      <td>2.700000</td>\n      <td>19.500000</td>\n      <td>4.550750e+03</td>\n      <td>70.500000</td>\n      <td>13.100000</td>\n      <td>5.400000</td>\n      <td>0.100000</td>\n      <td>5.500000</td>\n    </tr>\n    <tr>\n      <th>50%</th>\n      <td>30024.000000</td>\n      <td>2.603500e+04</td>\n      <td>1.293200e+04</td>\n      <td>1.305700e+04</td>\n      <td>3.900000</td>\n      <td>84.100000</td>\n      <td>1.900000</td>\n      <td>0.300000</td>\n      <td>0.500000</td>\n      <td>0.000000</td>\n      <td>...</td>\n      <td>2.400000</td>\n      <td>1.300000</td>\n      <td>3.900000</td>\n      <td>23.000000</td>\n      <td>1.050800e+04</td>\n      <td>75.700000</td>\n      <td>16.200000</td>\n      <td>6.900000</td>\n      <td>0.200000</td>\n      <td>7.600000</td>\n    </tr>\n    <tr>\n      <th>75%</th>\n      <td>46105.500000</td>\n      <td>6.643050e+04</td>\n      <td>3.299275e+04</td>\n      <td>3.348750e+04</td>\n      <td>9.825000</td>\n      <td>93.200000</td>\n      <td>9.600000</td>\n      <td>0.600000</td>\n      <td>1.200000</td>\n      <td>0.000000</td>\n      <td>...</td>\n      <td>4.000000</td>\n      <td>1.900000</td>\n      <td>5.600000</td>\n      <td>26.800000</td>\n      <td>2.863275e+04</td>\n      <td>79.700000</td>\n      <td>20.500000</td>\n      <td>9.400000</td>\n      <td>0.300000</td>\n      <td>9.900000</td>\n    </tr>\n    <tr>\n      <th>max</th>\n      <td>72153.000000</td>\n      <td>1.003839e+07</td>\n      <td>4.945351e+06</td>\n      <td>5.093037e+06</td>\n      <td>99.900000</td>\n      <td>99.800000</td>\n      <td>85.900000</td>\n      <td>92.100000</td>\n      <td>41.600000</td>\n      <td>35.300000</td>\n      <td>...</td>\n      <td>71.200000</td>\n      <td>39.100000</td>\n      <td>37.200000</td>\n      <td>44.000000</td>\n      <td>4.635465e+06</td>\n      <td>88.300000</td>\n      <td>66.200000</td>\n      <td>36.600000</td>\n      <td>9.800000</td>\n      <td>36.500000</td>\n    </tr>\n  </tbody>\n</table>\n<p>8 rows × 35 columns</p>\n</div>"
     },
     "execution_count": 20,
     "metadata": {},
     "output_type": "execute_result"
    }
   ],
   "source": [
    "print(df.set_index([\"State\", \"County\"]).index.is_unique)\n",
    "print(df.describe(include=\"object\"))\n",
    "df.describe()\n",
    "# df[df.County == \"Washington\"]"
   ],
   "metadata": {
    "collapsed": false,
    "pycharm": {
     "name": "#%%\n"
    }
   }
  },
  {
   "cell_type": "markdown",
   "metadata": {},
   "source": [
    "- We will focus first on income per capita across counties."
   ]
  },
  {
   "cell_type": "code",
   "execution_count": 21,
   "metadata": {},
   "outputs": [
    {
     "data": {
      "text/plain": "<AxesSubplot:>"
     },
     "execution_count": 21,
     "metadata": {},
     "output_type": "execute_result"
    },
    {
     "data": {
      "text/plain": "<Figure size 432x288 with 1 Axes>",
      "image/png": "[encoded data removed]"
     },
     "metadata": {
      "needs_background": "light"
     },
     "output_type": "display_data"
    }
   ],
   "source": [
    "df['IncomePerCap'].hist(bins=50)"
   ]
  },
  {
   "cell_type": "markdown",
   "metadata": {},
   "source": [
    "### 1. Calculating descriptive statisctics\n",
    "\n",
    "- Let's calculate basic descriptive statistics of the income per capita"
   ]
  },
  {
   "cell_type": "code",
   "execution_count": 22,
   "metadata": {},
   "outputs": [
    {
     "data": {
      "text/plain": "count     3220.000000\nmean     23981.771739\nstd       6204.339960\nmin       5878.000000\n25%      20238.500000\n50%      23460.000000\n75%      27053.250000\nmax      65600.000000\nName: IncomePerCap, dtype: float64"
     },
     "execution_count": 22,
     "metadata": {},
     "output_type": "execute_result"
    }
   ],
   "source": [
    "df['IncomePerCap'].describe()"
   ]
  },
  {
   "cell_type": "markdown",
   "metadata": {},
   "source": [
    "- What distribution does the data come from? Here is how we can test the goodness of the fit."
   ]
  },
  {
   "cell_type": "code",
   "execution_count": 24,
   "metadata": {},
   "outputs": [
    {
     "data": {
      "text/plain": "(0.0637621121184162, 0.0009999999999998899)"
     },
     "execution_count": 24,
     "metadata": {},
     "output_type": "execute_result"
    }
   ],
   "source": [
    "# does the data come from a normal distrbution?\n",
    "diagnostic.kstest_normal(df['IncomePerCap'].values, dist='norm')"
   ]
  },
  {
   "cell_type": "markdown",
   "metadata": {},
   "source": [
    "- p_value < 0.05 -> we can reject the null hypothesis that the data comes from a normal distribution!"
   ]
  },
  {
   "cell_type": "code",
   "execution_count": 25,
   "metadata": {},
   "outputs": [
    {
     "data": {
      "text/plain": "(0.433243770582646, 0.0009999999999998899)"
     },
     "execution_count": 25,
     "metadata": {},
     "output_type": "execute_result"
    }
   ],
   "source": [
    "#how about exponential?\n",
    "diagnostic.kstest_normal(df['IncomePerCap'].values, dist='exp')"
   ]
  },
  {
   "cell_type": "markdown",
   "metadata": {},
   "source": [
    "- p < 0.05 -> not exponential either!"
   ]
  },
  {
   "cell_type": "markdown",
   "metadata": {},
   "source": [
    "### 2. How to sample the data"
   ]
  },
  {
   "cell_type": "markdown",
   "metadata": {},
   "source": [
    "- Often we need to find random samples from the dataset. We can do so conveniently with pandas wrappers."
   ]
  },
  {
   "cell_type": "code",
   "execution_count": 26,
   "metadata": {
    "collapsed": true
   },
   "outputs": [],
   "source": [
    "#make 10 samples with replacement\n",
    "sample1_counties = df.sample(n=10, replace=True)\n",
    "\n",
    "#make 10 samples without replacement\n",
    "sample1_counties = df.sample(n=10, replace=False)\n",
    "\n",
    "#sometimes we want to sample in an ublanaced way, so that we upsample datapoints of certain characteristic,\n",
    "#and downsample the others. this can be acieved with weights parameter\n",
    "#here we sample by upsampling counties with large population\n",
    "sample2_counties = df.sample(n=10, replace=False, weights=df['TotalPop'])"
   ]
  },
  {
   "cell_type": "code",
   "execution_count": 27,
   "metadata": {},
   "outputs": [
    {
     "name": "stdout",
     "output_type": "stream",
     "text": [
      "484583.9\n",
      "1453883.2\n"
     ]
    }
   ],
   "source": [
    "#on avergage, the samples in the sample produce with reveighting now have higher population, as we wanted!\n",
    "print(sample1_counties['TotalPop'].mean())\n",
    "print(sample2_counties['TotalPop'].mean())"
   ]
  },
  {
   "cell_type": "markdown",
   "metadata": {},
   "source": [
    "### 3. Examining relationship between two variables"
   ]
  },
  {
   "cell_type": "markdown",
   "metadata": {},
   "source": [
    "- Is income per capita of a county correlated with the unemployment?"
   ]
  },
  {
   "cell_type": "code",
   "execution_count": 31,
   "metadata": {},
   "outputs": [
    {
     "data": {
      "text/plain": "(0.26461363203944877, 9.942215354240067e-53)"
     },
     "execution_count": 31,
     "metadata": {},
     "output_type": "execute_result"
    }
   ],
   "source": [
    "stats.pearsonr(df['IncomePerCap'], df['Employed'])"
   ]
  },
  {
   "cell_type": "code",
   "execution_count": 32,
   "outputs": [
    {
     "data": {
      "text/plain": "              IncomePerCap  Employed\nIncomePerCap      1.000000  0.264614\nEmployed          0.264614  1.000000",
      "text/html": "<div>\n<style scoped>\n    .dataframe tbody tr th:only-of-type {\n        vertical-align: middle;\n    }\n\n    .dataframe tbody tr th {\n        vertical-align: top;\n    }\n\n    .dataframe thead th {\n        text-align: right;\n    }\n</style>\n<table border=\"1\" class=\"dataframe\">\n  <thead>\n    <tr style=\"text-align: right;\">\n      <th></th>\n      <th>IncomePerCap</th>\n      <th>Employed</th>\n    </tr>\n  </thead>\n  <tbody>\n    <tr>\n      <th>IncomePerCap</th>\n      <td>1.000000</td>\n      <td>0.264614</td>\n    </tr>\n    <tr>\n      <th>Employed</th>\n      <td>0.264614</td>\n      <td>1.000000</td>\n    </tr>\n  </tbody>\n</table>\n</div>"
     },
     "execution_count": 32,
     "metadata": {},
     "output_type": "execute_result"
    }
   ],
   "source": [
    "df[[\"IncomePerCap\", \"Employed\"]].corr()"
   ],
   "metadata": {
    "collapsed": false,
    "pycharm": {
     "name": "#%%\n"
    }
   }
  },
  {
   "cell_type": "markdown",
   "metadata": {},
   "source": [
    "- There is a small (0.26), but significant (p < 0.05) positive correlation"
   ]
  },
  {
   "cell_type": "code",
   "execution_count": 33,
   "metadata": {},
   "outputs": [
    {
     "data": {
      "text/plain": "SpearmanrResult(correlation=0.30770631560595474, pvalue=1.415296431173735e-71)"
     },
     "execution_count": 33,
     "metadata": {},
     "output_type": "execute_result"
    }
   ],
   "source": [
    "stats.spearmanr(df['IncomePerCap'], df['Employed'])"
   ]
  },
  {
   "cell_type": "markdown",
   "metadata": {},
   "source": [
    "- Spearman rank coorrelation is also significant, and slightly higher"
   ]
  },
  {
   "cell_type": "markdown",
   "metadata": {},
   "source": [
    "### 4. Hypothesis testing"
   ]
  },
  {
   "cell_type": "markdown",
   "metadata": {},
   "source": [
    "- Is income per capita higher in New York counties compared to California counties?"
   ]
  },
  {
   "cell_type": "code",
   "execution_count": 34,
   "metadata": {},
   "outputs": [
    {
     "data": {
      "text/plain": "28189.75806451613"
     },
     "execution_count": 34,
     "metadata": {},
     "output_type": "execute_result"
    }
   ],
   "source": [
    "df.loc[df['State'] == 'New York']['IncomePerCap'].mean()"
   ]
  },
  {
   "cell_type": "code",
   "execution_count": 36,
   "metadata": {},
   "outputs": [
    {
     "data": {
      "text/plain": "27902.603448275862"
     },
     "execution_count": 36,
     "metadata": {},
     "output_type": "execute_result"
    }
   ],
   "source": [
    "df.loc[df['State'] == 'California']['IncomePerCap'].mean()"
   ]
  },
  {
   "cell_type": "markdown",
   "metadata": {},
   "source": [
    "- We see that there is a ~300$ gap. Quite a lot!\n",
    "- But is it significantly higher? Let's use a t-test. This is a two-sided test for the null hypothesis that the two independent samples have identical average (expected) values. "
   ]
  },
  {
   "cell_type": "code",
   "execution_count": 37,
   "metadata": {},
   "outputs": [
    {
     "data": {
      "text/plain": "Ttest_indResult(statistic=0.19788117232375713, pvalue=0.8434785239169611)"
     },
     "execution_count": 37,
     "metadata": {},
     "output_type": "execute_result"
    }
   ],
   "source": [
    "stats.ttest_ind(df.loc[df['State'] == 'New York']['IncomePerCap'], df.loc[df['State'] == 'California']['IncomePerCap'])"
   ]
  },
  {
   "cell_type": "markdown",
   "metadata": {},
   "source": [
    "- p is not less than 0.05 -> we cannot reject the null hypothesis that the income is the same -> there is no significant difference"
   ]
  },
  {
   "cell_type": "markdown",
   "metadata": {},
   "source": [
    "### 5. How to measure uncertainty\n",
    "- Now we see the importance of mesuring uncertainty and indicating it on data visualizations.\n",
    "- Visual inspection of 95% confidence intervals lets us see that the difference is not significant (the errorbars are overlapping)"
   ]
  },
  {
   "cell_type": "code",
   "execution_count": 41,
   "metadata": {},
   "outputs": [
    {
     "data": {
      "text/plain": "(25000.0, 32000.0)"
     },
     "execution_count": 41,
     "metadata": {},
     "output_type": "execute_result"
    },
    {
     "data": {
      "text/plain": "<Figure size 432x288 with 1 Axes>",
      "image/png": "[encoded data removed]"
     },
     "metadata": {
      "needs_background": "light"
     },
     "output_type": "display_data"
    }
   ],
   "source": [
    "ax = sns.barplot(x=\"State\", y=\"IncomePerCap\", data=df.loc[df['State'].isin(['New York', 'California'])])\n",
    "plt.ylim([25000, 32000])"
   ]
  },
  {
   "cell_type": "markdown",
   "metadata": {},
   "source": [
    "# Exercise 1: Boosting the economy by incentivizing self-employment\n",
    "\n",
    "Assume the biggest priority of the local government in 2018 is to increase per-capita income. To do so, the officials plan to adopt a strategy for incentivizing self-employment through a series of campaigns, educational programs, and dedicated funds.\n",
    "\n",
    "Since it is unethical and impossible in this setting to run a controlled experiment involving citizens (e.g., fire employees and force them to self-employ), the officials have asked you, the data scientist, to establish the effect of self-employment on the economy, relying on observational data.\n",
    "\n",
    "**A)** Using suitable methods, determine and quantify the dependency between the percentage of self-employed citizens and per capita income across all 3,212 US counties. Do citizens in counties that have a higher percentage of self-employed people earn more per capita?"
   ]
  },
  {
   "cell_type": "code",
   "execution_count": 59,
   "metadata": {
    "collapsed": true
   },
   "outputs": [
    {
     "data": {
      "text/plain": "<seaborn.axisgrid.JointGrid at 0x7f2733b8a430>"
     },
     "execution_count": 59,
     "metadata": {},
     "output_type": "execute_result"
    },
    {
     "data": {
      "text/plain": "<Figure size 432x432 with 3 Axes>",
      "image/png": "[encoded data removed]"
     },
     "metadata": {
      "needs_background": "light"
     },
     "output_type": "display_data"
    }
   ],
   "source": [
    "### your code and or answer here ###\n",
    "# sns.scatterplot(x=\"SelfEmployed\", y=\"IncomePerCap\", size=\"TotalPop\", data=df)\n",
    "# sns.jointplot(x=\"SelfEmployed\", y=\"IncomePerCap\", kind=\"hex\", data=df)\n",
    "# sns.jointplot(x=\"SelfEmployed\", y=\"IncomePerCap\", kind=\"kde\", data=df)\n",
    "sns.jointplot(x=\"SelfEmployed\", y=\"IncomePerCap\", kind=\"reg\", data=df)"
   ]
  },
  {
   "cell_type": "code",
   "execution_count": 57,
   "outputs": [
    {
     "data": {
      "text/plain": "(0.08727386609551786, 7.052861196521423e-07)"
     },
     "execution_count": 57,
     "metadata": {},
     "output_type": "execute_result"
    }
   ],
   "source": [
    "stats.pearsonr(df[\"SelfEmployed\"], df[\"IncomePerCap\"])"
   ],
   "metadata": {
    "collapsed": false,
    "pycharm": {
     "name": "#%%\n"
    }
   }
  },
  {
   "cell_type": "code",
   "execution_count": 58,
   "outputs": [
    {
     "data": {
      "text/plain": "SpearmanrResult(correlation=0.056413673053189874, pvalue=0.0013623847564714516)"
     },
     "execution_count": 58,
     "metadata": {},
     "output_type": "execute_result"
    }
   ],
   "source": [
    "stats.spearmanr(df[\"SelfEmployed\"], df[\"IncomePerCap\"])"
   ],
   "metadata": {
    "collapsed": false,
    "pycharm": {
     "name": "#%%\n"
    }
   }
  },
  {
   "cell_type": "markdown",
   "metadata": {},
   "source": [
    "**B)** The pilot program will involve all counties within a limited set of three US states. Set A includes Wisconsin, Tennessee, and  Minnesota. Quantify the dependency of per-capita income on self-employment rates across all the counties in set A."
   ]
  },
  {
   "cell_type": "code",
   "execution_count": 71,
   "metadata": {
    "collapsed": true
   },
   "outputs": [
    {
     "data": {
      "text/plain": "(-0.202293507365215, 0.0011881639322139396)"
     },
     "execution_count": 71,
     "metadata": {},
     "output_type": "execute_result"
    }
   ],
   "source": [
    "### your code and or answer here ###\n",
    "A_states = [\"Wisconsin\", \"Tennessee\", \"Minnesota\"]\n",
    "A = df[df[\"State\"].isin(A_states)]\n",
    "\n",
    "stats.pearsonr(A[\"SelfEmployed\"], A[\"IncomePerCap\"])"
   ]
  },
  {
   "cell_type": "markdown",
   "metadata": {},
   "source": [
    "**C)** In which state within set A is the observed effect of self-employment on per-capita income the strongest?"
   ]
  },
  {
   "cell_type": "code",
   "execution_count": 72,
   "metadata": {
    "collapsed": true
   },
   "outputs": [
    {
     "name": "stdout",
     "output_type": "stream",
     "text": [
      "Wisconsin\n",
      "(-0.32905300016378525, 0.004768134887745222)\n",
      "Tennessee\n",
      "(-0.23836048684913153, 0.020011631955528086)\n",
      "Minnesota\n",
      "(-0.2538551921654062, 0.01766519930091192)\n"
     ]
    }
   ],
   "source": [
    "### your code and or answer here ###\n",
    "\n",
    "for state in A_states:\n",
    "    print(state)\n",
    "    print(stats.pearsonr(A[A[\"State\"] == state][\"SelfEmployed\"], A[A[\"State\"] == state][\"IncomePerCap\"]))"
   ]
  },
  {
   "cell_type": "markdown",
   "metadata": {},
   "source": [
    "**D)** Set B includes New Jersey, Kansas, and Rhode Island. Repeat the analysis from steps B and C above, but now for set B. In which of the two sets A and B (if any) would you recommend incentivizing self-employment? Explain your reasoning. Hint: It is useful to add a notion of confidence to your results and explore the data visually."
   ]
  },
  {
   "cell_type": "code",
   "execution_count": 83,
   "metadata": {
    "collapsed": true
   },
   "outputs": [
    {
     "name": "stdout",
     "output_type": "stream",
     "text": [
      "States in set B\n",
      "(-0.2322214134608569, 0.007607493042857402)\n",
      "New Jersey\n",
      "(0.48044784713362815, 0.027488944757806236)\n",
      "Kansas\n",
      "(0.25810299714436924, 0.007853351846832467)\n",
      "Rhode Island\n",
      "(0.9021788382149803, 0.036183102015759236)\n",
      "                            OLS Regression Results                            \n",
      "==============================================================================\n",
      "Dep. Variable:           IncomePerCap   R-squared:                       0.054\n",
      "Model:                            OLS   Adj. R-squared:                  0.047\n",
      "Method:                 Least Squares   F-statistic:                     7.353\n",
      "Date:                Fri, 21 Jan 2022   Prob (F-statistic):            0.00761\n",
      "Time:                        12:38:29   Log-Likelihood:                -1323.0\n",
      "No. Observations:                 131   AIC:                             2650.\n",
      "Df Residuals:                     129   BIC:                             2656.\n",
      "Df Model:                           1                                         \n",
      "Covariance Type:            nonrobust                                         \n",
      "================================================================================\n",
      "                   coef    std err          t      P>|t|      [0.025      0.975]\n",
      "--------------------------------------------------------------------------------\n",
      "Intercept     3.011e+04   1210.385     24.879      0.000    2.77e+04    3.25e+04\n",
      "SelfEmployed  -309.9965    114.320     -2.712      0.008    -536.181     -83.812\n",
      "==============================================================================\n",
      "Omnibus:                       45.634   Durbin-Watson:                   1.254\n",
      "Prob(Omnibus):                  0.000   Jarque-Bera (JB):               95.029\n",
      "Skew:                           1.497   Prob(JB):                     2.32e-21\n",
      "Kurtosis:                       5.907   Cond. No.                         24.9\n",
      "==============================================================================\n",
      "\n",
      "Notes:\n",
      "[1] Standard Errors assume that the covariance matrix of the errors is correctly specified.\n"
     ]
    },
    {
     "data": {
      "text/plain": "<Figure size 432x288 with 1 Axes>",
      "image/png": "[encoded data removed]"
     },
     "metadata": {
      "needs_background": "light"
     },
     "output_type": "display_data"
    }
   ],
   "source": [
    "### your code and or answer here ###\n",
    "\n",
    "B_states = [\"New Jersey\", \"Kansas\",  \"Rhode Island\"]\n",
    "B = df[df[\"State\"].isin(B_states)]\n",
    "\n",
    "print(\"States in set B\")\n",
    "print(stats.pearsonr(B[\"SelfEmployed\"], B[\"IncomePerCap\"]))\n",
    "\n",
    "for state in B_states:\n",
    "    print(state)\n",
    "    print(stats.pearsonr(B[B[\"State\"] == state][\"SelfEmployed\"], B[B[\"State\"] == state][\"IncomePerCap\"]))\n",
    "\n",
    "sns.scatterplot(x=\"SelfEmployed\", y=\"IncomePerCap\", hue=\"State\", size=\"TotalPop\", data=B)"
   ]
  },
  {
   "cell_type": "code",
   "execution_count": 85,
   "outputs": [
    {
     "name": "stdout",
     "output_type": "stream",
     "text": [
      "All states in B\n",
      "                            OLS Regression Results                            \n",
      "==============================================================================\n",
      "Dep. Variable:           IncomePerCap   R-squared:                       0.054\n",
      "Model:                            OLS   Adj. R-squared:                  0.047\n",
      "Method:                 Least Squares   F-statistic:                     7.353\n",
      "Date:                Fri, 21 Jan 2022   Prob (F-statistic):            0.00761\n",
      "Time:                        12:40:27   Log-Likelihood:                -1323.0\n",
      "No. Observations:                 131   AIC:                             2650.\n",
      "Df Residuals:                     129   BIC:                             2656.\n",
      "Df Model:                           1                                         \n",
      "Covariance Type:            nonrobust                                         \n",
      "================================================================================\n",
      "                   coef    std err          t      P>|t|      [0.025      0.975]\n",
      "--------------------------------------------------------------------------------\n",
      "Intercept     3.011e+04   1210.385     24.879      0.000    2.77e+04    3.25e+04\n",
      "SelfEmployed  -309.9965    114.320     -2.712      0.008    -536.181     -83.812\n",
      "==============================================================================\n",
      "Omnibus:                       45.634   Durbin-Watson:                   1.254\n",
      "Prob(Omnibus):                  0.000   Jarque-Bera (JB):               95.029\n",
      "Skew:                           1.497   Prob(JB):                     2.32e-21\n",
      "Kurtosis:                       5.907   Cond. No.                         24.9\n",
      "==============================================================================\n",
      "\n",
      "Notes:\n",
      "[1] Standard Errors assume that the covariance matrix of the errors is correctly specified.\n",
      "\n",
      "\n",
      "\n",
      "\n",
      "New Jersey\n",
      "                            OLS Regression Results                            \n",
      "==============================================================================\n",
      "Dep. Variable:           IncomePerCap   R-squared:                       0.231\n",
      "Model:                            OLS   Adj. R-squared:                  0.190\n",
      "Method:                 Least Squares   F-statistic:                     5.702\n",
      "Date:                Fri, 21 Jan 2022   Prob (F-statistic):             0.0275\n",
      "Time:                        12:40:27   Log-Likelihood:                -214.23\n",
      "No. Observations:                  21   AIC:                             432.5\n",
      "Df Residuals:                      19   BIC:                             434.5\n",
      "Df Model:                           1                                         \n",
      "Covariance Type:            nonrobust                                         \n",
      "================================================================================\n",
      "                   coef    std err          t      P>|t|      [0.025      0.975]\n",
      "--------------------------------------------------------------------------------\n",
      "Intercept     1.732e+04   8000.539      2.164      0.043     571.520    3.41e+04\n",
      "SelfEmployed  3863.9348   1618.147      2.388      0.027     477.115    7250.755\n",
      "==============================================================================\n",
      "Omnibus:                        1.513   Durbin-Watson:                   1.909\n",
      "Prob(Omnibus):                  0.469   Jarque-Bera (JB):                1.330\n",
      "Skew:                           0.521   Prob(JB):                        0.514\n",
      "Kurtosis:                       2.340   Cond. No.                         27.5\n",
      "==============================================================================\n",
      "\n",
      "Notes:\n",
      "[1] Standard Errors assume that the covariance matrix of the errors is correctly specified.\n",
      "\n",
      "\n",
      "\n",
      "\n",
      "Kansas\n",
      "                            OLS Regression Results                            \n",
      "==============================================================================\n",
      "Dep. Variable:           IncomePerCap   R-squared:                       0.067\n",
      "Model:                            OLS   Adj. R-squared:                  0.058\n",
      "Method:                 Least Squares   F-statistic:                     7.351\n",
      "Date:                Fri, 21 Jan 2022   Prob (F-statistic):            0.00785\n",
      "Time:                        12:40:27   Log-Likelihood:                -987.96\n",
      "No. Observations:                 105   AIC:                             1980.\n",
      "Df Residuals:                     103   BIC:                             1985.\n",
      "Df Model:                           1                                         \n",
      "Covariance Type:            nonrobust                                         \n",
      "================================================================================\n",
      "                   coef    std err          t      P>|t|      [0.025      0.975]\n",
      "--------------------------------------------------------------------------------\n",
      "Intercept     2.302e+04    768.573     29.957      0.000    2.15e+04    2.45e+04\n",
      "SelfEmployed   180.5731     66.600      2.711      0.008      48.489     312.658\n",
      "==============================================================================\n",
      "Omnibus:                       54.895   Durbin-Watson:                   2.120\n",
      "Prob(Omnibus):                  0.000   Jarque-Bera (JB):              273.656\n",
      "Skew:                           1.644   Prob(JB):                     3.77e-60\n",
      "Kurtosis:                      10.193   Cond. No.                         30.7\n",
      "==============================================================================\n",
      "\n",
      "Notes:\n",
      "[1] Standard Errors assume that the covariance matrix of the errors is correctly specified.\n",
      "\n",
      "\n",
      "\n",
      "\n",
      "Rhode Island\n",
      "                            OLS Regression Results                            \n",
      "==============================================================================\n",
      "Dep. Variable:           IncomePerCap   R-squared:                       0.814\n",
      "Model:                            OLS   Adj. R-squared:                  0.752\n",
      "Method:                 Least Squares   F-statistic:                     13.12\n",
      "Date:                Fri, 21 Jan 2022   Prob (F-statistic):             0.0362\n",
      "Time:                        12:40:27   Log-Likelihood:                -45.124\n",
      "No. Observations:                   5   AIC:                             94.25\n",
      "Df Residuals:                       3   BIC:                             93.47\n",
      "Df Model:                           1                                         \n",
      "Covariance Type:            nonrobust                                         \n",
      "================================================================================\n",
      "                   coef    std err          t      P>|t|      [0.025      0.975]\n",
      "--------------------------------------------------------------------------------\n",
      "Intercept     1.725e+04   5216.660      3.306      0.046     644.857    3.38e+04\n",
      "SelfEmployed  3080.9368    850.495      3.623      0.036     374.283    5787.591\n",
      "==============================================================================\n",
      "Omnibus:                          nan   Durbin-Watson:                   1.533\n",
      "Prob(Omnibus):                    nan   Jarque-Bera (JB):                0.264\n",
      "Skew:                           0.453   Prob(JB):                        0.876\n",
      "Kurtosis:                       2.329   Cond. No.                         28.3\n",
      "==============================================================================\n",
      "\n",
      "Notes:\n",
      "[1] Standard Errors assume that the covariance matrix of the errors is correctly specified.\n"
     ]
    },
    {
     "name": "stderr",
     "output_type": "stream",
     "text": [
      "/home/user72/miniconda3/envs/adaexam/lib/python3.8/site-packages/statsmodels/stats/stattools.py:74: ValueWarning: omni_normtest is not valid with less than 8 observations; 5 samples were given.\n",
      "  warn(\"omni_normtest is not valid with less than 8 observations; %i \"\n"
     ]
    }
   ],
   "source": [
    "import statsmodels.api as sm\n",
    "import statsmodels.formula.api as smf\n",
    "\n",
    "print(\"All states in B\")\n",
    "results = smf.ols('IncomePerCap ~ SelfEmployed', data=B).fit()\n",
    "print(results.summary())\n",
    "\n",
    "for state in B_states:\n",
    "    print(\"\\n\\n\\n\")\n",
    "    print(state)\n",
    "    results = smf.ols('IncomePerCap ~ SelfEmployed', data=B[B[\"State\"] == state]).fit()\n",
    "    print(results.summary())\n"
   ],
   "metadata": {
    "collapsed": false,
    "pycharm": {
     "name": "#%%\n"
    }
   }
  },
  {
   "cell_type": "markdown",
   "metadata": {},
   "source": [
    "# Exercise 2. Data visualization and read the stats comprehension and interpretation questions.\n",
    "\n",
    "- As part of the quizes, two homeworks and the final exam, you will be at times asked to interpret your result based on the understanding of underlying concepts. The questions below can help you practice and get a sense of how well you understand the concepts covered in the class so far. Can you answer these questions confidently?"
   ]
  },
  {
   "cell_type": "markdown",
   "metadata": {},
   "source": [
    "### Question 1. The yearly salaries (in thousands of CHF) of 7000 people are summarized in the following box plot. If the 20th percentile of the salaries is 110,000, how many people earn between 110,000 and 114,000?\n",
    "\n",
    "- a) 2100\n",
    "- b) 700\n",
    "- c) 350\n",
    "- d) 70"
   ]
  },
  {
   "cell_type": "markdown",
   "metadata": {},
   "source": [
    "<img src=\"boxplot.png\" style=\"width: 400px;\" align=\"left\"/>"
   ]
  },
  {
   "cell_type": "code",
   "execution_count": 96,
   "metadata": {
    "collapsed": true
   },
   "outputs": [
    {
     "data": {
      "text/plain": "350.0"
     },
     "execution_count": 96,
     "metadata": {},
     "output_type": "execute_result"
    }
   ],
   "source": [
    "### your code and or answer here ###\n",
    "7000*0.05"
   ]
  },
  {
   "cell_type": "markdown",
   "metadata": {},
   "source": [
    "### Question 2. What visualizations are suitable for getting insights about the distribution of a single continuous variable?\n",
    "\n",
    "- a) Barplot and histogram\n",
    "- b) Boxplot and histogram\n",
    "- c) Scatterplot and boxplot\n",
    "- d) Barplot, boxplot, and histogram"
   ]
  },
  {
   "cell_type": "code",
   "execution_count": 97,
   "metadata": {
    "collapsed": true
   },
   "outputs": [],
   "source": [
    "### your code and or answer here ###\n",
    "# B"
   ]
  },
  {
   "cell_type": "markdown",
   "metadata": {},
   "source": [
    "### Question 3. In a new groundbreaking study, 28 out of 100 patients reported improvements after taking a new medicine. It is known that, when given a placebo, 20% of the patients report feeling better. What is the p-value assuming the null hypothesis that the probability of successful treatment in this groundbreaking study is the same as the probability of reporting feeling better under placebo, according to a one-sided binomial test? Hint: you may use the statsmodels.stats.proportion.binom_test function.\n",
    "\n",
    "- a) 0.00034\n",
    "- b) 0.0034\n",
    "- c) 0.034\n",
    "- d) 0.34"
   ]
  },
  {
   "cell_type": "code",
   "execution_count": 106,
   "metadata": {
    "collapsed": true
   },
   "outputs": [
    {
     "data": {
      "text/plain": "0.03415162963907485"
     },
     "execution_count": 106,
     "metadata": {},
     "output_type": "execute_result"
    }
   ],
   "source": [
    "### your code and or answer here ###\n",
    "import statsmodels\n",
    "statsmodels.stats.proportion.binom_test(28, 100, 0.2, alternative=\"larger\")"
   ]
  },
  {
   "cell_type": "markdown",
   "metadata": {},
   "source": [
    "### Question 4. The 95% confidence interval of the average height of 1000 people using bootstrap resampling with 10000 bootstrap samples is calculated by:\n",
    "\n",
    "- a) Sampling 1000 height values with replacement and computing the mean. This is repeated 10000 times to create a sorted list of the 10000 means. The CI is defined by the 500th and the 9500th value in sorted order.\n",
    "- b) Sampling 10000 height values without replacement and computing the mean. This is repeated 1000 times to create a sorted list of the 1000 means. The CI is defined by the 25th and the 975th value in sorted order.\n",
    "- c) Sampling 1000 height values with replacement and computing the mean. This is repeated 10000 times to create a sorted list of the 10000 means. The CI is defined by the 250th and the 9750th value in sorted order.\n",
    "- d) Sampling 1000 height values without replacement and computing the mean. This is repeated 10000 times to create a sorted list of the 10000 means. The CI is defined by the 500th and the 9500th value in sorted order.\n",
    "\n",
    "### Implement your bootstrapping function that you will use in the rest of the course. It should take an array and the number of iterations as inputs, and output 95% confidence intervals of the mean."
   ]
  },
  {
   "cell_type": "code",
   "execution_count": 107,
   "metadata": {
    "collapsed": true
   },
   "outputs": [],
   "source": [
    "### your code and or answer here ###\n",
    "# C"
   ]
  },
  {
   "cell_type": "markdown",
   "metadata": {},
   "source": [
    "### Question 5. A study conducted at EPFL revealed a negative Spearman’s correlation between GPA and entry-level job salary. Which of the following statements is true?\n",
    "\n",
    "- a) There could be a positive Spearman’s correlation between GPA and entry-level job salary in every single department of EPFL.\n",
    "- b) Spearman correlation between GPA and entry-level job salary in every single department has to be positive.\n",
    "- c) Across all levels, as opposed to entry-level only, higher GPA scores are associated with higher job salaries.\n",
    "- d) We can infer that finishing EPFL with a higher GPA causes you to have a lower entry-level job salary."
   ]
  },
  {
   "cell_type": "code",
   "execution_count": 108,
   "metadata": {
    "collapsed": true
   },
   "outputs": [],
   "source": [
    "### your code and or answer here ###\n",
    "# A"
   ]
  },
  {
   "cell_type": "markdown",
   "metadata": {},
   "source": [
    "### Question 6. The average number of requests per page during a day on a large website is 200, while the median is 15. \n",
    "\n",
    "- a) You can assume that the distribution is heavy-tailed\n",
    "- b) You are dealing with a left-skewed distribution\n",
    "- c) Half of the pages get more than 200 requests\n",
    "- d) None of the above"
   ]
  },
  {
   "cell_type": "code",
   "execution_count": 26,
   "metadata": {
    "collapsed": true
   },
   "outputs": [],
   "source": [
    "### your code and or answer here ###\n",
    "# D"
   ]
  }
 ],
 "metadata": {
  "kernelspec": {
   "name": "conda-env-adaexam-py",
   "language": "python",
   "display_name": "Python [conda env:adaexam] *"
  },
  "language_info": {
   "codemirror_mode": {
    "name": "ipython",
    "version": 3
   },
   "file_extension": ".py",
   "mimetype": "text/x-python",
   "name": "python",
   "nbconvert_exporter": "python",
   "pygments_lexer": "ipython3",
   "version": "3.6.3"
  },
  "varInspector": {
   "cols": {
    "lenName": 16,
    "lenType": 16,
    "lenVar": 40
   },
   "kernels_config": {
    "python": {
     "delete_cmd_postfix": "",
     "delete_cmd_prefix": "del ",
     "library": "var_list.py",
     "varRefreshCmd": "print(var_dic_list())"
    },
    "r": {
     "delete_cmd_postfix": ") ",
     "delete_cmd_prefix": "rm(",
     "library": "var_list.r",
     "varRefreshCmd": "cat(var_dic_list()) "
    }
   },
   "types_to_exclude": [
    "module",
    "function",
    "builtin_function_or_method",
    "instance",
    "_Feature"
   ],
   "window_display": false
  }
 },
 "nbformat": 4,
 "nbformat_minor": 2
}
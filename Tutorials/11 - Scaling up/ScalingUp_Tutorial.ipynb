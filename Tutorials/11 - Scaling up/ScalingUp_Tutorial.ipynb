{
 "cells": [
  {
   "cell_type": "markdown",
   "metadata": {},
   "source": [
    "# EPFL ADA 2021 - PySpark Tutorial"
   ]
  },
  {
   "cell_type": "code",
   "execution_count": 14,
   "metadata": {
    "collapsed": true
   },
   "outputs": [],
   "source": [
    "# Let's import the libraries we need\n",
    "import pandas as pd\n",
    "import numpy as np\n",
    "import matplotlib.pyplot as plt\n",
    "%matplotlib inline\n",
    "\n",
    "import pyspark\n",
    "from pyspark.sql import *\n",
    "from pyspark.sql.functions import *\n",
    "from pyspark import SparkContext"
   ]
  },
  {
   "cell_type": "markdown",
   "metadata": {},
   "source": [
    "Let's initialize the Spark context:"
   ]
  },
  {
   "cell_type": "code",
   "execution_count": 2,
   "outputs": [
    {
     "name": "stdout",
     "output_type": "stream",
     "text": [
      "JAVA_HOME is \r\n",
      "openjdk version \"1.8.0_312\"\r\n",
      "OpenJDK Runtime Environment (build 1.8.0_312-b10)\r\n",
      "OpenJDK 64-Bit Server VM (build 25.312-b10, mixed mode)\r\n"
     ]
    }
   ],
   "source": [
    "import os\n",
    "!echo JAVA_HOME is \"$JAVA_HOME\"\n",
    "!java -version"
   ],
   "metadata": {
    "collapsed": false,
    "pycharm": {
     "name": "#%%\n"
    }
   }
  },
  {
   "cell_type": "code",
   "execution_count": 3,
   "metadata": {
    "collapsed": true
   },
   "outputs": [],
   "source": [
    "# create the session\n",
    "spark = SparkSession.builder.getOrCreate()\n",
    "\n",
    "# create the context\n",
    "sc = spark.sparkContext"
   ]
  },
  {
   "cell_type": "markdown",
   "metadata": {},
   "source": [
    "You can easily check the current version and get the link of the web interface. In the Spark UI, you can monitor the progress of your job and debug the performance bottlenecks:"
   ]
  },
  {
   "cell_type": "code",
   "execution_count": 4,
   "metadata": {},
   "outputs": [
    {
     "data": {
      "text/plain": "<pyspark.sql.session.SparkSession at 0x7f9c30ee78e0>",
      "text/html": "\n            <div>\n                <p><b>SparkSession - in-memory</b></p>\n                \n        <div>\n            <p><b>SparkContext</b></p>\n\n            <p><a href=\"http://10.151.8.188:4040\">Spark UI</a></p>\n\n            <dl>\n              <dt>Version</dt>\n                <dd><code>v3.0.1</code></dd>\n              <dt>Master</dt>\n                <dd><code>local[*]</code></dd>\n              <dt>AppName</dt>\n                <dd><code>pyspark-shell</code></dd>\n            </dl>\n        </div>\n        \n            </div>\n        "
     },
     "execution_count": 4,
     "metadata": {},
     "output_type": "execute_result"
    }
   ],
   "source": [
    "spark"
   ]
  },
  {
   "cell_type": "markdown",
   "metadata": {},
   "source": [
    "# Vietnam War (Nov 1, 1955 – Apr 30, 1975)\n",
    "\n",
    "**Pres. Johnson**: _What do you think about this Vietnam thing? I’d like to hear you talk a little bit._\n",
    "\n",
    "**Sen. Russell**: _Well, frankly, Mr. President, it’s the damn worse mess that I ever saw, and I don’t like to brag and I never have been right many times in my life, but I knew that we were going to get into this sort of mess when we went in there._\n",
    "\n",
    "May 27, 1964\n",
    "\n",
    "![banner](img/banner.jpg)"
   ]
  },
  {
   "cell_type": "markdown",
   "metadata": {},
   "source": [
    "----\n",
    "\n",
    "The Vietnam War, also known as the Second Indochina War, and in Vietnam as the Resistance War Against America or simply the American War, was a conflict that occurred in Vietnam, Laos, and Cambodia from 1 November 1955 to the fall of Saigon on 30 April 1975. It was the second of the Indochina Wars and was officially fought between North Vietnam and the government of South Vietnam.\n",
    "\n",
    "**The dataset describes all the air force operation in during the Vietnam War.**\n",
    "\n",
    "**Bombing_Operations** [Get the dataset here](https://drive.google.com/a/epfl.ch/file/d/11cUKbpt-CZY-IVsAkaGXqwZlEzPvf0j5/view?usp=sharing)\n",
    "\n",
    "- AirCraft: _Aircraft model (example: EC-47)_\n",
    "- ContryFlyingMission: _Country_\n",
    "- MissionDate: _Date of the mission_\n",
    "- OperationSupported: _Supported War operation_ (example: [Operation Rolling Thunder](https://en.wikipedia.org/wiki/Operation_Rolling_Thunder))\n",
    "- PeriodOfDay: _Day or night_\n",
    "- TakeoffLocation: _Take off airport_\n",
    "- TimeOnTarget\n",
    "- WeaponType\n",
    "- WeaponsLoadedWeight\n",
    "\n",
    "**Aircraft_Glossary** [Get the dataset here](https://drive.google.com/a/epfl.ch/file/d/1lrG1gt6Zz3T0Oe_MTpzNoU-S6gaTfonC/view?usp=sharing)\n",
    "\n",
    "- AirCraft: _Aircraft model (example: EC-47)_\n",
    "- AirCraftName\n",
    "- AirCraftType\n",
    "\n",
    "**Dataset Information:**\n",
    "\n",
    "THOR is a painstakingly cultivated database of historic aerial bombings from World War I through Vietnam. THOR has already proven useful in finding unexploded ordnance in Southeast Asia and improving Air Force combat tactics:\n",
    "https://www.kaggle.com/usaf/vietnam-war-bombing-operations"
   ]
  },
  {
   "cell_type": "markdown",
   "metadata": {},
   "source": [
    "Load the datasets:"
   ]
  },
  {
   "cell_type": "code",
   "execution_count": 6,
   "metadata": {},
   "outputs": [],
   "source": [
    "Bombing_Operations = spark.read.json(\"Bombing_Operations.json.gz\")\n",
    "Aircraft_Glossary = spark.read.json(\"Aircraft_Glossary.json.gz\")"
   ]
  },
  {
   "cell_type": "markdown",
   "metadata": {},
   "source": [
    "Check the schema:"
   ]
  },
  {
   "cell_type": "code",
   "execution_count": 7,
   "metadata": {},
   "outputs": [
    {
     "name": "stdout",
     "output_type": "stream",
     "text": [
      "root\n",
      " |-- AirCraft: string (nullable = true)\n",
      " |-- ContryFlyingMission: string (nullable = true)\n",
      " |-- MissionDate: string (nullable = true)\n",
      " |-- OperationSupported: string (nullable = true)\n",
      " |-- PeriodOfDay: string (nullable = true)\n",
      " |-- TakeoffLocation: string (nullable = true)\n",
      " |-- TargetCountry: string (nullable = true)\n",
      " |-- TimeOnTarget: double (nullable = true)\n",
      " |-- WeaponType: string (nullable = true)\n",
      " |-- WeaponsLoadedWeight: long (nullable = true)\n",
      "\n"
     ]
    }
   ],
   "source": [
    "Bombing_Operations.printSchema()"
   ]
  },
  {
   "cell_type": "code",
   "execution_count": 8,
   "metadata": {},
   "outputs": [
    {
     "name": "stdout",
     "output_type": "stream",
     "text": [
      "root\n",
      " |-- AirCraft: string (nullable = true)\n",
      " |-- AirCraftName: string (nullable = true)\n",
      " |-- AirCraftType: string (nullable = true)\n",
      "\n"
     ]
    }
   ],
   "source": [
    "Aircraft_Glossary.printSchema()"
   ]
  },
  {
   "cell_type": "markdown",
   "metadata": {},
   "source": [
    "Get a sample with `take()`:"
   ]
  },
  {
   "cell_type": "code",
   "execution_count": 9,
   "metadata": {},
   "outputs": [
    {
     "data": {
      "text/plain": "[Row(AirCraft='EC-47', ContryFlyingMission='UNITED STATES OF AMERICA', MissionDate='1971-06-05', OperationSupported=None, PeriodOfDay='D', TakeoffLocation='TAN SON NHUT', TargetCountry='CAMBODIA', TimeOnTarget=1005.0, WeaponType=None, WeaponsLoadedWeight=0),\n Row(AirCraft='EC-47', ContryFlyingMission='UNITED STATES OF AMERICA', MissionDate='1972-12-26', OperationSupported=None, PeriodOfDay='D', TakeoffLocation='NAKHON PHANOM', TargetCountry='SOUTH VIETNAM', TimeOnTarget=530.0, WeaponType=None, WeaponsLoadedWeight=0),\n Row(AirCraft='RF-4', ContryFlyingMission='UNITED STATES OF AMERICA', MissionDate='1973-07-28', OperationSupported=None, PeriodOfDay='D', TakeoffLocation='UDORN AB', TargetCountry='LAOS', TimeOnTarget=730.0, WeaponType=None, WeaponsLoadedWeight=0)]"
     },
     "execution_count": 9,
     "metadata": {},
     "output_type": "execute_result"
    }
   ],
   "source": [
    "Bombing_Operations.take(3)"
   ]
  },
  {
   "cell_type": "markdown",
   "metadata": {},
   "source": [
    "Get a formatted sample with `show()`:"
   ]
  },
  {
   "cell_type": "code",
   "execution_count": 10,
   "metadata": {},
   "outputs": [
    {
     "name": "stdout",
     "output_type": "stream",
     "text": [
      "+--------+--------------------+--------------------+\n",
      "|AirCraft|        AirCraftName|        AirCraftType|\n",
      "+--------+--------------------+--------------------+\n",
      "|     A-1|Douglas A-1 Skyra...|         Fighter Jet|\n",
      "|    A-26|Douglas A-26 Invader|        Light Bomber|\n",
      "|    A-37|Cessna A-37 Drago...|Light ground-atta...|\n",
      "|     A-4|McDonnell Douglas...|         Fighter Jet|\n",
      "|     A-5|North American A-...|          Bomber Jet|\n",
      "|     A-6|Grumman A-6 Intruder|     Attack Aircraft|\n",
      "|     A-7|  LTV A-7 Corsair II|     Attack Aircraft|\n",
      "|  AC-119|Fairchild AC-119 ...|Military Transpor...|\n",
      "|  AC-123|Fairchild C-123 P...|Military Transpor...|\n",
      "|  AC-130|Lockheed AC-130 S...|Fixed wing ground...|\n",
      "|   AC-47|Douglas AC-47 Spooky|Ground attack air...|\n",
      "|    AH-1| Bell AH-1 HueyCobra|          Helicopter|\n",
      "|     B-1| Rockwell B-1 Lancer|Heavy strategic b...|\n",
      "|    B-52| B-52 Stratofortress|    Strategic bomber|\n",
      "|    B-57|Martin B-57 Canberra|     Tactical Bomber|\n",
      "|    B-66|Douglas B-66 Dest...|        Light Bomber|\n",
      "|     C-1| Grumman C-1A Trader|           Transport|\n",
      "|   C-117|     C-117D Skytrain|           Transport|\n",
      "|   C-119|Fairchild C-119 F...|Military Transpor...|\n",
      "|   C-123|Fairchild C-123 P...|Military Transpor...|\n",
      "+--------+--------------------+--------------------+\n",
      "only showing top 20 rows\n",
      "\n"
     ]
    }
   ],
   "source": [
    "Aircraft_Glossary.show()"
   ]
  },
  {
   "cell_type": "code",
   "execution_count": 11,
   "metadata": {},
   "outputs": [
    {
     "name": "stdout",
     "output_type": "stream",
     "text": [
      "In total there are 4400775 operations\n"
     ]
    }
   ],
   "source": [
    "print(\"In total there are {0} operations\".format(Bombing_Operations.count()))"
   ]
  },
  {
   "cell_type": "markdown",
   "metadata": {},
   "source": [
    "## Question 1: Which countries are involved and in how many missions? \n",
    "\n",
    "Keywords: `Dataframe API`, `SQL`, `group by`, `sort`"
   ]
  },
  {
   "cell_type": "markdown",
   "metadata": {},
   "source": [
    "Let's group the missions by `ContryFlyingMission` and count how many records exist:"
   ]
  },
  {
   "cell_type": "code",
   "execution_count": 21,
   "metadata": {
    "scrolled": true
   },
   "outputs": [
    {
     "name": "stdout",
     "output_type": "stream",
     "text": [
      "+--------------------+-------------+\n",
      "| ContryFlyingMission|MissionsCount|\n",
      "+--------------------+-------------+\n",
      "|UNITED STATES OF ...|      3708997|\n",
      "|     VIETNAM (SOUTH)|       622013|\n",
      "|                LAOS|        32777|\n",
      "|       KOREA (SOUTH)|        24469|\n",
      "|           AUSTRALIA|        12519|\n",
      "+--------------------+-------------+\n",
      "\n"
     ]
    }
   ],
   "source": [
    "missions_counts = Bombing_Operations.groupBy(\"ContryFlyingMission\")\\\n",
    "                                    .agg(count(\"*\").alias(\"MissionsCount\"))\\\n",
    "                                    .sort(desc(\"MissionsCount\"))\n",
    "missions_counts.show()"
   ]
  },
  {
   "cell_type": "markdown",
   "metadata": {},
   "source": [
    "In this case we used the DataFrame API, but we could rewite the `groupBy` using pure SQL:"
   ]
  },
  {
   "cell_type": "code",
   "execution_count": 22,
   "metadata": {},
   "outputs": [
    {
     "name": "stdout",
     "output_type": "stream",
     "text": [
      "+--------------------+-------------+\n",
      "| ContryFlyingMission|MissionsCount|\n",
      "+--------------------+-------------+\n",
      "|UNITED STATES OF ...|      3708997|\n",
      "|     VIETNAM (SOUTH)|       622013|\n",
      "|                LAOS|        32777|\n",
      "|       KOREA (SOUTH)|        24469|\n",
      "|           AUSTRALIA|        12519|\n",
      "+--------------------+-------------+\n",
      "\n"
     ]
    }
   ],
   "source": [
    "Bombing_Operations.registerTempTable(\"Bombing_Operations\")\n",
    "\n",
    "query = \"\"\"\n",
    "SELECT ContryFlyingMission, count(*) as MissionsCount\n",
    "FROM Bombing_Operations\n",
    "GROUP BY ContryFlyingMission\n",
    "ORDER BY MissionsCount DESC\n",
    "\"\"\"\n",
    "\n",
    "missions_counts = spark.sql(query)\n",
    "missions_counts.show()"
   ]
  },
  {
   "cell_type": "markdown",
   "metadata": {},
   "source": [
    "The Dataframe is small enough to be moved to Pandas:"
   ]
  },
  {
   "cell_type": "code",
   "execution_count": 23,
   "metadata": {},
   "outputs": [
    {
     "data": {
      "text/plain": "        ContryFlyingMission  MissionsCount\n0  UNITED STATES OF AMERICA        3708997\n1           VIETNAM (SOUTH)         622013\n2                      LAOS          32777\n3             KOREA (SOUTH)          24469\n4                 AUSTRALIA          12519",
      "text/html": "<div>\n<style scoped>\n    .dataframe tbody tr th:only-of-type {\n        vertical-align: middle;\n    }\n\n    .dataframe tbody tr th {\n        vertical-align: top;\n    }\n\n    .dataframe thead th {\n        text-align: right;\n    }\n</style>\n<table border=\"1\" class=\"dataframe\">\n  <thead>\n    <tr style=\"text-align: right;\">\n      <th></th>\n      <th>ContryFlyingMission</th>\n      <th>MissionsCount</th>\n    </tr>\n  </thead>\n  <tbody>\n    <tr>\n      <th>0</th>\n      <td>UNITED STATES OF AMERICA</td>\n      <td>3708997</td>\n    </tr>\n    <tr>\n      <th>1</th>\n      <td>VIETNAM (SOUTH)</td>\n      <td>622013</td>\n    </tr>\n    <tr>\n      <th>2</th>\n      <td>LAOS</td>\n      <td>32777</td>\n    </tr>\n    <tr>\n      <th>3</th>\n      <td>KOREA (SOUTH)</td>\n      <td>24469</td>\n    </tr>\n    <tr>\n      <th>4</th>\n      <td>AUSTRALIA</td>\n      <td>12519</td>\n    </tr>\n  </tbody>\n</table>\n</div>"
     },
     "execution_count": 23,
     "metadata": {},
     "output_type": "execute_result"
    }
   ],
   "source": [
    "missions_count_pd = missions_counts.toPandas()\n",
    "missions_count_pd.head()"
   ]
  },
  {
   "cell_type": "markdown",
   "metadata": {},
   "source": [
    "Let's plot a barchart with the number of missions by country:"
   ]
  },
  {
   "cell_type": "code",
   "execution_count": 24,
   "metadata": {},
   "outputs": [
    {
     "data": {
      "text/plain": "Text(0.5, 1.0, 'Number of missions by contry')"
     },
     "execution_count": 24,
     "metadata": {},
     "output_type": "execute_result"
    },
    {
     "data": {
      "text/plain": "<Figure size 720x504 with 1 Axes>",
      "image/png": "[encoded data removed]"
     },
     "metadata": {
      "needs_background": "light"
     },
     "output_type": "display_data"
    }
   ],
   "source": [
    "pl = missions_count_pd.plot(kind=\"bar\", \n",
    "                            x=\"ContryFlyingMission\", y=\"MissionsCount\", \n",
    "                            figsize=(10, 7), log=True, alpha=0.5, color=\"olive\")\n",
    "pl.set_xlabel(\"Country\")\n",
    "pl.set_ylabel(\"Number of Missions (Log scale)\")\n",
    "pl.set_title(\"Number of missions by contry\")"
   ]
  },
  {
   "cell_type": "markdown",
   "metadata": {},
   "source": [
    "----"
   ]
  },
  {
   "cell_type": "markdown",
   "metadata": {},
   "source": [
    "## Questions 2: Show the number of missions in time for each of the countries involved.\n",
    "\n",
    "Keywords: `group by`, `parse date`, `plot`\n",
    "\n",
    "Let's select the relevant columns:"
   ]
  },
  {
   "cell_type": "code",
   "execution_count": 25,
   "metadata": {},
   "outputs": [
    {
     "data": {
      "text/plain": "DataFrame[MissionDate: date, ContryFlyingMission: string]"
     },
     "execution_count": 25,
     "metadata": {},
     "output_type": "execute_result"
    }
   ],
   "source": [
    "missions_countries = Bombing_Operations.selectExpr([\"to_date(MissionDate) as MissionDate\", \"ContryFlyingMission\"])\n",
    "missions_countries"
   ]
  },
  {
   "cell_type": "markdown",
   "metadata": {},
   "source": [
    "The filed MissionDate is converted to a Python `date` object.\n",
    "\n",
    "Now we can group by `MissionDate` and `ContryFlyingMission` to get the count:"
   ]
  },
  {
   "cell_type": "code",
   "execution_count": 28,
   "metadata": {},
   "outputs": [
    {
     "data": {
      "text/plain": "  MissionDate       ContryFlyingMission  MissionsCount\n0  1965-10-01  UNITED STATES OF AMERICA            447\n1  1965-10-02  UNITED STATES OF AMERICA            652\n2  1965-10-03  UNITED STATES OF AMERICA            608\n3  1965-10-04  UNITED STATES OF AMERICA            532\n4  1965-10-05  UNITED STATES OF AMERICA            697",
      "text/html": "<div>\n<style scoped>\n    .dataframe tbody tr th:only-of-type {\n        vertical-align: middle;\n    }\n\n    .dataframe tbody tr th {\n        vertical-align: top;\n    }\n\n    .dataframe thead th {\n        text-align: right;\n    }\n</style>\n<table border=\"1\" class=\"dataframe\">\n  <thead>\n    <tr style=\"text-align: right;\">\n      <th></th>\n      <th>MissionDate</th>\n      <th>ContryFlyingMission</th>\n      <th>MissionsCount</th>\n    </tr>\n  </thead>\n  <tbody>\n    <tr>\n      <th>0</th>\n      <td>1965-10-01</td>\n      <td>UNITED STATES OF AMERICA</td>\n      <td>447</td>\n    </tr>\n    <tr>\n      <th>1</th>\n      <td>1965-10-02</td>\n      <td>UNITED STATES OF AMERICA</td>\n      <td>652</td>\n    </tr>\n    <tr>\n      <th>2</th>\n      <td>1965-10-03</td>\n      <td>UNITED STATES OF AMERICA</td>\n      <td>608</td>\n    </tr>\n    <tr>\n      <th>3</th>\n      <td>1965-10-04</td>\n      <td>UNITED STATES OF AMERICA</td>\n      <td>532</td>\n    </tr>\n    <tr>\n      <th>4</th>\n      <td>1965-10-05</td>\n      <td>UNITED STATES OF AMERICA</td>\n      <td>697</td>\n    </tr>\n  </tbody>\n</table>\n</div>"
     },
     "execution_count": 28,
     "metadata": {},
     "output_type": "execute_result"
    }
   ],
   "source": [
    "missions_by_date = missions_countries\\\n",
    "                    .groupBy([\"MissionDate\", \"ContryFlyingMission\"])\\\n",
    "                    .agg(count(\"*\").alias(\"MissionsCount\"))\\\n",
    "                    .sort(asc(\"MissionDate\")).toPandas()\n",
    "missions_by_date.head()"
   ]
  },
  {
   "cell_type": "code",
   "execution_count": 33,
   "outputs": [
    {
     "data": {
      "text/plain": "     MissionDate       ContryFlyingMission  MissionsCount\n1868  1968-06-07  UNITED STATES OF AMERICA           3832\n2065  1968-09-16  UNITED STATES OF AMERICA           3755\n2068  1968-09-18  UNITED STATES OF AMERICA           3752\n2067  1968-09-17  UNITED STATES OF AMERICA           3706\n1815  1968-05-11  UNITED STATES OF AMERICA           3692\n...          ...                       ...            ...\n3276  1970-03-30  UNITED STATES OF AMERICA           2829\n1897  1968-06-21  UNITED STATES OF AMERICA           2827\n2563  1969-06-09  UNITED STATES OF AMERICA           2818\n1107  1967-05-05  UNITED STATES OF AMERICA           2816\n2570  1969-06-13  UNITED STATES OF AMERICA           2808\n\n[100 rows x 3 columns]",
      "text/html": "<div>\n<style scoped>\n    .dataframe tbody tr th:only-of-type {\n        vertical-align: middle;\n    }\n\n    .dataframe tbody tr th {\n        vertical-align: top;\n    }\n\n    .dataframe thead th {\n        text-align: right;\n    }\n</style>\n<table border=\"1\" class=\"dataframe\">\n  <thead>\n    <tr style=\"text-align: right;\">\n      <th></th>\n      <th>MissionDate</th>\n      <th>ContryFlyingMission</th>\n      <th>MissionsCount</th>\n    </tr>\n  </thead>\n  <tbody>\n    <tr>\n      <th>1868</th>\n      <td>1968-06-07</td>\n      <td>UNITED STATES OF AMERICA</td>\n      <td>3832</td>\n    </tr>\n    <tr>\n      <th>2065</th>\n      <td>1968-09-16</td>\n      <td>UNITED STATES OF AMERICA</td>\n      <td>3755</td>\n    </tr>\n    <tr>\n      <th>2068</th>\n      <td>1968-09-18</td>\n      <td>UNITED STATES OF AMERICA</td>\n      <td>3752</td>\n    </tr>\n    <tr>\n      <th>2067</th>\n      <td>1968-09-17</td>\n      <td>UNITED STATES OF AMERICA</td>\n      <td>3706</td>\n    </tr>\n    <tr>\n      <th>1815</th>\n      <td>1968-05-11</td>\n      <td>UNITED STATES OF AMERICA</td>\n      <td>3692</td>\n    </tr>\n    <tr>\n      <th>...</th>\n      <td>...</td>\n      <td>...</td>\n      <td>...</td>\n    </tr>\n    <tr>\n      <th>3276</th>\n      <td>1970-03-30</td>\n      <td>UNITED STATES OF AMERICA</td>\n      <td>2829</td>\n    </tr>\n    <tr>\n      <th>1897</th>\n      <td>1968-06-21</td>\n      <td>UNITED STATES OF AMERICA</td>\n      <td>2827</td>\n    </tr>\n    <tr>\n      <th>2563</th>\n      <td>1969-06-09</td>\n      <td>UNITED STATES OF AMERICA</td>\n      <td>2818</td>\n    </tr>\n    <tr>\n      <th>1107</th>\n      <td>1967-05-05</td>\n      <td>UNITED STATES OF AMERICA</td>\n      <td>2816</td>\n    </tr>\n    <tr>\n      <th>2570</th>\n      <td>1969-06-13</td>\n      <td>UNITED STATES OF AMERICA</td>\n      <td>2808</td>\n    </tr>\n  </tbody>\n</table>\n<p>100 rows × 3 columns</p>\n</div>"
     },
     "execution_count": 33,
     "metadata": {},
     "output_type": "execute_result"
    }
   ],
   "source": [
    "missions_by_date.sort_values(\"MissionsCount\", ascending=False).head(100)"
   ],
   "metadata": {
    "collapsed": false,
    "pycharm": {
     "name": "#%%\n"
    }
   }
  },
  {
   "cell_type": "markdown",
   "metadata": {},
   "source": [
    "Now we can plot the content with a different series for each country:"
   ]
  },
  {
   "cell_type": "code",
   "execution_count": 34,
   "metadata": {},
   "outputs": [
    {
     "data": {
      "text/plain": "<matplotlib.legend.Legend at 0x7f9c305cb8b0>"
     },
     "execution_count": 34,
     "metadata": {},
     "output_type": "execute_result"
    },
    {
     "data": {
      "text/plain": "<Figure size 1500x900 with 1 Axes>",
      "image/png": "[encoded data removed]"
     },
     "metadata": {
      "needs_background": "light"
     },
     "output_type": "display_data"
    }
   ],
   "source": [
    "fig = plt.figure(figsize=(10, 6), dpi=150)\n",
    "\n",
    "# iterate the different groups to create a different series\n",
    "for country, missions in missions_by_date.groupby(\"ContryFlyingMission\"): \n",
    "    plt.plot(missions[\"MissionDate\"], missions[\"MissionsCount\"], label=country)\n",
    "\n",
    "plt.legend(loc='best')"
   ]
  },
  {
   "cell_type": "markdown",
   "metadata": {},
   "source": [
    "We can observe how South Vietnam increased its missions starting from 1970. The drop in 1973 is motivated by the [Paris Peace Accords](https://en.wikipedia.org/wiki/Paris_Peace_Accords) that took place on January 27th, 1973, to establish peace in Vietnam and end the war."
   ]
  },
  {
   "cell_type": "markdown",
   "metadata": {},
   "source": [
    "----"
   ]
  },
  {
   "cell_type": "markdown",
   "metadata": {},
   "source": [
    "## Question 3: Who bombed this location?\n",
    "\n",
    "Keywords: `RDD map reduce` `cache` `save results`\n",
    "\n",
    "<img style=\"float: right;\" src=\"img/Hanoi_POL1966.jpg\">\n",
    "\n",
    "This picture is the Hanoi POL facility (North Vietnam) burning after it was attacked by the U.S. Air Force on 29 June 1966 in the context of the Rolling Thunder operation. \n",
    "\n",
    "We are interested in discovering what was the most common take-off location during that day."
   ]
  },
  {
   "cell_type": "code",
   "execution_count": 42,
   "metadata": {
    "collapsed": true
   },
   "outputs": [],
   "source": [
    "jun_29_operations = Bombing_Operations.where(\"MissionDate = '1966-06-29' AND TargetCountry='NORTH VIETNAM'\")"
   ]
  },
  {
   "cell_type": "markdown",
   "metadata": {},
   "source": [
    "Which coutries scheduled missions that day?"
   ]
  },
  {
   "cell_type": "code",
   "execution_count": 47,
   "metadata": {},
   "outputs": [
    {
     "data": {
      "text/plain": "        ContryFlyingMission  MissionCounts\n0           VIETNAM (SOUTH)              6\n1  UNITED STATES OF AMERICA            389",
      "text/html": "<div>\n<style scoped>\n    .dataframe tbody tr th:only-of-type {\n        vertical-align: middle;\n    }\n\n    .dataframe tbody tr th {\n        vertical-align: top;\n    }\n\n    .dataframe thead th {\n        text-align: right;\n    }\n</style>\n<table border=\"1\" class=\"dataframe\">\n  <thead>\n    <tr style=\"text-align: right;\">\n      <th></th>\n      <th>ContryFlyingMission</th>\n      <th>MissionCounts</th>\n    </tr>\n  </thead>\n  <tbody>\n    <tr>\n      <th>0</th>\n      <td>VIETNAM (SOUTH)</td>\n      <td>6</td>\n    </tr>\n    <tr>\n      <th>1</th>\n      <td>UNITED STATES OF AMERICA</td>\n      <td>389</td>\n    </tr>\n  </tbody>\n</table>\n</div>"
     },
     "execution_count": 47,
     "metadata": {},
     "output_type": "execute_result"
    }
   ],
   "source": [
    "jun_29_operations.groupBy(\"ContryFlyingMission\").agg(count(\"*\").alias(\"MissionCounts\")).toPandas()"
   ]
  },
  {
   "cell_type": "markdown",
   "metadata": {},
   "source": [
    "Most of the operation that day were performed by USA airplanes."
   ]
  },
  {
   "cell_type": "code",
   "execution_count": 48,
   "metadata": {},
   "outputs": [
    {
     "data": {
      "text/plain": "[Row(AirCraft='F-105', ContryFlyingMission='UNITED STATES OF AMERICA', MissionDate='1966-06-29', OperationSupported='STEEL TIGER', PeriodOfDay='D', TakeoffLocation='TAKHLI', TargetCountry='NORTH VIETNAM', TimeOnTarget=310.0, WeaponType='1000LB MK-83', WeaponsLoadedWeight=-1)]"
     },
     "execution_count": 48,
     "metadata": {},
     "output_type": "execute_result"
    }
   ],
   "source": [
    "jun_29_operations.take(1)"
   ]
  },
  {
   "cell_type": "markdown",
   "metadata": {},
   "source": [
    "You can specify to cache the content in memory:"
   ]
  },
  {
   "cell_type": "code",
   "execution_count": 49,
   "metadata": {},
   "outputs": [
    {
     "data": {
      "text/plain": "DataFrame[AirCraft: string, ContryFlyingMission: string, MissionDate: string, OperationSupported: string, PeriodOfDay: string, TakeoffLocation: string, TargetCountry: string, TimeOnTarget: double, WeaponType: string, WeaponsLoadedWeight: bigint]"
     },
     "execution_count": 49,
     "metadata": {},
     "output_type": "execute_result"
    }
   ],
   "source": [
    "jun_29_operations.cache()"
   ]
  },
  {
   "cell_type": "markdown",
   "metadata": {},
   "source": [
    "Now you can count the number of rows and move the content to the cache:"
   ]
  },
  {
   "cell_type": "code",
   "execution_count": 50,
   "metadata": {},
   "outputs": [
    {
     "name": "stdout",
     "output_type": "stream",
     "text": [
      "CPU times: user 2.5 ms, sys: 425 µs, total: 2.93 ms\n",
      "Wall time: 13 s\n"
     ]
    },
    {
     "data": {
      "text/plain": "395"
     },
     "execution_count": 50,
     "metadata": {},
     "output_type": "execute_result"
    }
   ],
   "source": [
    "%time jun_29_operations.count()"
   ]
  },
  {
   "cell_type": "markdown",
   "metadata": {},
   "source": [
    "The second time the content is cached and it is faster:"
   ]
  },
  {
   "cell_type": "code",
   "execution_count": 51,
   "metadata": {},
   "outputs": [
    {
     "name": "stdout",
     "output_type": "stream",
     "text": [
      "CPU times: user 1.38 ms, sys: 307 µs, total: 1.68 ms\n",
      "Wall time: 56.5 ms\n"
     ]
    },
    {
     "data": {
      "text/plain": "395"
     },
     "execution_count": 51,
     "metadata": {},
     "output_type": "execute_result"
    }
   ],
   "source": [
    "%time jun_29_operations.count()"
   ]
  },
  {
   "cell_type": "markdown",
   "metadata": {},
   "source": [
    "I can also save the results on a file..."
   ]
  },
  {
   "cell_type": "code",
   "execution_count": 52,
   "metadata": {
    "collapsed": true
   },
   "outputs": [],
   "source": [
    "jun_29_operations.write.mode('overwrite').json(\"jun_29_operations.json\")"
   ]
  },
  {
   "cell_type": "markdown",
   "metadata": {},
   "source": [
    "... and read from the file:"
   ]
  },
  {
   "cell_type": "code",
   "execution_count": 53,
   "metadata": {
    "collapsed": true
   },
   "outputs": [],
   "source": [
    "jun_29_operations = spark.read.json(\"jun_29_operations.json\")"
   ]
  },
  {
   "cell_type": "markdown",
   "metadata": {},
   "source": [
    "We can use the simple DataFrame API..."
   ]
  },
  {
   "cell_type": "code",
   "execution_count": 54,
   "metadata": {},
   "outputs": [
    {
     "name": "stdout",
     "output_type": "stream",
     "text": [
      "+----------------+-------------+\n",
      "| TakeoffLocation|MissionsCount|\n",
      "+----------------+-------------+\n",
      "|   CONSTELLATION|           87|\n",
      "|          TAKHLI|           56|\n",
      "|           KORAT|           55|\n",
      "|        UDORN AB|           44|\n",
      "|         UBON AB|           44|\n",
      "|          DANANG|           35|\n",
      "|          RANGER|           35|\n",
      "|    TAN SON NHUT|           26|\n",
      "|HANCOCK (CVA-19)|           10|\n",
      "|    CAM RANH BAY|            2|\n",
      "|         CUBI PT|            1|\n",
      "+----------------+-------------+\n",
      "\n"
     ]
    }
   ],
   "source": [
    "TakeoffLocationCounts = jun_29_operations\\\n",
    "                            .groupBy(\"TakeoffLocation\").agg(count(\"*\").alias(\"MissionsCount\"))\\\n",
    "                            .sort(desc(\"MissionsCount\"))\n",
    "TakeoffLocationCounts.show()"
   ]
  },
  {
   "cell_type": "markdown",
   "metadata": {},
   "source": [
    "... or the explicit Map/Reduce format with RDDs.\n",
    "\n",
    "First we emit a pair in the format (Location, 1):"
   ]
  },
  {
   "cell_type": "code",
   "execution_count": 55,
   "metadata": {},
   "outputs": [
    {
     "data": {
      "text/plain": "[('TAKHLI', 1), ('DANANG', 1), ('CONSTELLATION', 1)]"
     },
     "execution_count": 55,
     "metadata": {},
     "output_type": "execute_result"
    }
   ],
   "source": [
    "all_locations = jun_29_operations.rdd.map(lambda row: (row.TakeoffLocation, 1))\n",
    "all_locations.take(3)"
   ]
  },
  {
   "cell_type": "markdown",
   "metadata": {},
   "source": [
    "Then, we sum counters in the reduce step, and we sort by count:"
   ]
  },
  {
   "cell_type": "code",
   "execution_count": 56,
   "metadata": {},
   "outputs": [
    {
     "data": {
      "text/plain": "[('CONSTELLATION', 87), ('TAKHLI', 56), ('KORAT', 55)]"
     },
     "execution_count": 56,
     "metadata": {},
     "output_type": "execute_result"
    }
   ],
   "source": [
    "locations_counts_rdd = all_locations.reduceByKey(lambda a, b: a+b).sortBy(lambda r: -r[1])\n",
    "locations_counts_rdd.take(3)"
   ]
  },
  {
   "cell_type": "markdown",
   "metadata": {},
   "source": [
    "Now we can convent the RDD in dataframe by mapping the pairs to objects of type `Row`"
   ]
  },
  {
   "cell_type": "code",
   "execution_count": 57,
   "metadata": {},
   "outputs": [
    {
     "name": "stdout",
     "output_type": "stream",
     "text": [
      "+----------------+-------------+\n",
      "| TakeoffLocation|MissionsCount|\n",
      "+----------------+-------------+\n",
      "|   CONSTELLATION|           87|\n",
      "|          TAKHLI|           56|\n",
      "|           KORAT|           55|\n",
      "|         UBON AB|           44|\n",
      "|        UDORN AB|           44|\n",
      "|          DANANG|           35|\n",
      "|          RANGER|           35|\n",
      "|    TAN SON NHUT|           26|\n",
      "|HANCOCK (CVA-19)|           10|\n",
      "|    CAM RANH BAY|            2|\n",
      "|         CUBI PT|            1|\n",
      "+----------------+-------------+\n",
      "\n"
     ]
    }
   ],
   "source": [
    "locations_counts_with_schema = locations_counts_rdd.map(lambda r: Row(TakeoffLocation=r[0], MissionsCount=r[1]))\n",
    "locations_counts = spark.createDataFrame(locations_counts_with_schema)\n",
    "locations_counts.show()"
   ]
  },
  {
   "cell_type": "markdown",
   "metadata": {},
   "source": [
    "<img style=\"float: right;\" src=\"img/USS_Constellation.jpg\">\n",
    "\n",
    "\n",
    "That day the most common take-off location was the ship USS Constellation (CV-64). We cannot univocally identify one take off location, but we can reduce the possible candidates. Next step could be: explore TimeOnTarget feature.\n",
    "\n",
    "_USS Constellation (CV-64), a Kitty Hawk-class supercarrier, was the third ship of the United States Navy to be named in honor of the \"new constellation of stars\" on the flag of the United States. One of the fastest ships in the Navy, as proven by her victory during a battlegroup race held in 1985, she was nicknamed \"Connie\" by her crew and officially as \"America's Flagship\"._"
   ]
  },
  {
   "cell_type": "markdown",
   "metadata": {},
   "source": [
    "----"
   ]
  },
  {
   "cell_type": "markdown",
   "metadata": {},
   "source": [
    "## Questions 4: What is the most used aircraft type during the Vietnam war (number of missions)?\n",
    "\n",
    "Keywords: `join` `group by`"
   ]
  },
  {
   "cell_type": "markdown",
   "metadata": {},
   "source": [
    "Let's check the content of `Aircraft_Glossary`:"
   ]
  },
  {
   "cell_type": "code",
   "execution_count": 58,
   "metadata": {},
   "outputs": [
    {
     "name": "stdout",
     "output_type": "stream",
     "text": [
      "+--------+--------------------+--------------------+\n",
      "|AirCraft|        AirCraftName|        AirCraftType|\n",
      "+--------+--------------------+--------------------+\n",
      "|     A-1|Douglas A-1 Skyra...|         Fighter Jet|\n",
      "|    A-26|Douglas A-26 Invader|        Light Bomber|\n",
      "|    A-37|Cessna A-37 Drago...|Light ground-atta...|\n",
      "|     A-4|McDonnell Douglas...|         Fighter Jet|\n",
      "|     A-5|North American A-...|          Bomber Jet|\n",
      "+--------+--------------------+--------------------+\n",
      "only showing top 5 rows\n",
      "\n"
     ]
    }
   ],
   "source": [
    "Aircraft_Glossary.show(5)"
   ]
  },
  {
   "cell_type": "markdown",
   "metadata": {},
   "source": [
    "We are interested in the filed `AirCraftType`."
   ]
  },
  {
   "cell_type": "code",
   "execution_count": 59,
   "metadata": {},
   "outputs": [
    {
     "name": "stdout",
     "output_type": "stream",
     "text": [
      "+--------+\n",
      "|AirCraft|\n",
      "+--------+\n",
      "|   EC-47|\n",
      "|   EC-47|\n",
      "|    RF-4|\n",
      "|     A-1|\n",
      "|    A-37|\n",
      "+--------+\n",
      "only showing top 5 rows\n",
      "\n"
     ]
    }
   ],
   "source": [
    "Bombing_Operations.select(\"AirCraft\").show(5)"
   ]
  },
  {
   "cell_type": "markdown",
   "metadata": {},
   "source": [
    "We can join on the column `AirCraft` of both dataframes."
   ]
  },
  {
   "cell_type": "markdown",
   "metadata": {},
   "source": [
    "With Dataframe API:"
   ]
  },
  {
   "cell_type": "code",
   "execution_count": 60,
   "metadata": {},
   "outputs": [
    {
     "data": {
      "text/plain": "DataFrame[AirCraft: string, ContryFlyingMission: string, MissionDate: string, OperationSupported: string, PeriodOfDay: string, TakeoffLocation: string, TargetCountry: string, TimeOnTarget: double, WeaponType: string, WeaponsLoadedWeight: bigint, AirCraft: string, AirCraftName: string, AirCraftType: string]"
     },
     "execution_count": 60,
     "metadata": {},
     "output_type": "execute_result"
    }
   ],
   "source": [
    "missions_joined = Bombing_Operations.join(Aircraft_Glossary, \n",
    "                                          Bombing_Operations.AirCraft == Aircraft_Glossary.AirCraft)\n",
    "missions_joined"
   ]
  },
  {
   "cell_type": "markdown",
   "metadata": {},
   "source": [
    "We can select only the field we are interested in:"
   ]
  },
  {
   "cell_type": "code",
   "execution_count": 64,
   "metadata": {},
   "outputs": [
    {
     "name": "stdout",
     "output_type": "stream",
     "text": [
      "+--------------------+\n",
      "|        AirCraftType|\n",
      "+--------------------+\n",
      "|Military Transpor...|\n",
      "|Military Transpor...|\n",
      "|  Fighter bomber jet|\n",
      "|         Fighter Jet|\n",
      "|Light ground-atta...|\n",
      "+--------------------+\n",
      "only showing top 5 rows\n",
      "\n"
     ]
    }
   ],
   "source": [
    "missions_aircrafts = missions_joined.select(\"AirCraftType\")\n",
    "missions_aircrafts.show(5)"
   ]
  },
  {
   "cell_type": "markdown",
   "metadata": {},
   "source": [
    "And finally we can group by `AirCraftType` and count:"
   ]
  },
  {
   "cell_type": "code",
   "execution_count": 65,
   "metadata": {},
   "outputs": [
    {
     "name": "stdout",
     "output_type": "stream",
     "text": [
      "+--------------------+-------------+\n",
      "|        AirCraftType|MissionsCount|\n",
      "+--------------------+-------------+\n",
      "|  Fighter Jet Bomber|      1073126|\n",
      "|         Fighter Jet|       882594|\n",
      "|  Jet Fighter Bomber|       451385|\n",
      "|     Attack Aircraft|       315246|\n",
      "|Light ground-atta...|       267457|\n",
      "|  Fighter bomber jet|       242231|\n",
      "|Military Transpor...|       228426|\n",
      "|  Utility Helicopter|       146653|\n",
      "|    Strategic bomber|        99100|\n",
      "|     Tactical Bomber|        82219|\n",
      "|Observation Aircraft|        81820|\n",
      "|Fixed wing ground...|        75058|\n",
      "|Ground attack air...|        73843|\n",
      "|Carrier-based Fig...|        58691|\n",
      "|   Training Aircraft|        48435|\n",
      "|       Light fighter|        39999|\n",
      "|        Light Bomber|        39262|\n",
      "|Light Tactical Bo...|        34738|\n",
      "| Light Utility Plane|        28582|\n",
      "|Observation/ Ligh...|        24491|\n",
      "+--------------------+-------------+\n",
      "only showing top 20 rows\n",
      "\n"
     ]
    }
   ],
   "source": [
    "missions_aircrafts.groupBy(\"AirCraftType\").agg(count(\"*\").alias(\"MissionsCount\"))\\\n",
    "                  .sort(desc(\"MissionsCount\"))\\\n",
    "                  .show()"
   ]
  },
  {
   "cell_type": "markdown",
   "metadata": {},
   "source": [
    "In alternative we can rewrite this in pure SQL:"
   ]
  },
  {
   "cell_type": "code",
   "execution_count": 76,
   "metadata": {},
   "outputs": [
    {
     "name": "stdout",
     "output_type": "stream",
     "text": [
      "+--------------------+-------------+\n",
      "|        AirCraftType|MissionsCount|\n",
      "+--------------------+-------------+\n",
      "|  Fighter Jet Bomber|      1073126|\n",
      "|         Fighter Jet|       882594|\n",
      "|  Jet Fighter Bomber|       451385|\n",
      "|     Attack Aircraft|       315246|\n",
      "|Light ground-atta...|       267457|\n",
      "|  Fighter bomber jet|       242231|\n",
      "|Military Transpor...|       228426|\n",
      "|  Utility Helicopter|       146653|\n",
      "|    Strategic bomber|        99100|\n",
      "|     Tactical Bomber|        82219|\n",
      "|Observation Aircraft|        81820|\n",
      "|Fixed wing ground...|        75058|\n",
      "|Ground attack air...|        73843|\n",
      "|Carrier-based Fig...|        58691|\n",
      "|   Training Aircraft|        48435|\n",
      "|       Light fighter|        39999|\n",
      "|        Light Bomber|        39262|\n",
      "|Light Tactical Bo...|        34738|\n",
      "| Light Utility Plane|        28582|\n",
      "|Observation/ Ligh...|        24491|\n",
      "+--------------------+-------------+\n",
      "only showing top 20 rows\n",
      "\n"
     ]
    }
   ],
   "source": [
    "Bombing_Operations.registerTempTable(\"Bombing_Operations\")\n",
    "Aircraft_Glossary.registerTempTable(\"Aircraft_Glossary\")\n",
    "\n",
    "query = \"\"\"\n",
    "SELECT AirCraftType, count(*) as MissionsCount\n",
    "FROM Bombing_Operations as bo\n",
    "JOIN Aircraft_Glossary as ag\n",
    "ON bo.AirCraft = ag.AirCraft\n",
    "GROUP BY AirCraftType\n",
    "ORDER BY MissionsCount DESC\n",
    "\"\"\"\n",
    "\n",
    "spark.sql(query).show()\n"
   ]
  },
  {
   "cell_type": "markdown",
   "metadata": {},
   "source": [
    "The aircrafts of type `Fighter Jet Bomber` participated in most of the missions in the Vietnam war.\n",
    "\n",
    "Note: This data need cleaning and normalization. See `Fighter Jet Bomber`, `Jet Fighter Bomber`, `Fighter bomber jet`"
   ]
  },
  {
   "cell_type": "code",
   "execution_count": null,
   "metadata": {
    "collapsed": true
   },
   "outputs": [],
   "source": []
  }
 ],
 "metadata": {
  "kernelspec": {
   "name": "conda-env-adaexam-py",
   "language": "python",
   "display_name": "Python [conda env:adaexam] *"
  },
  "language_info": {
   "codemirror_mode": {
    "name": "ipython",
    "version": 3
   },
   "file_extension": ".py",
   "mimetype": "text/x-python",
   "name": "python",
   "nbconvert_exporter": "python",
   "pygments_lexer": "ipython3",
   "version": "3.6.3"
  },
  "varInspector": {
   "cols": {
    "lenName": 16,
    "lenType": 16,
    "lenVar": 40
   },
   "kernels_config": {
    "python": {
     "delete_cmd_postfix": "",
     "delete_cmd_prefix": "del ",
     "library": "var_list.py",
     "varRefreshCmd": "print(var_dic_list())"
    },
    "r": {
     "delete_cmd_postfix": ") ",
     "delete_cmd_prefix": "rm(",
     "library": "var_list.r",
     "varRefreshCmd": "cat(var_dic_list()) "
    }
   },
   "types_to_exclude": [
    "module",
    "function",
    "builtin_function_or_method",
    "instance",
    "_Feature"
   ],
   "window_display": false
  }
 },
 "nbformat": 4,
 "nbformat_minor": 2
}
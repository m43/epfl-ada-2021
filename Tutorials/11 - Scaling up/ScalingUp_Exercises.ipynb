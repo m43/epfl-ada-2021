{
 "cells": [
  {
   "cell_type": "markdown",
   "metadata": {},
   "source": [
    "# Scaling up\n",
    "\n",
    "Originally released as part of a homework in ADA2019.\n",
    "\n",
    "## Description\n",
    "\n",
    "[Reddit](https://www.reddit.com/) aka *'the front page of the internet'* is a network of over a million *communities* aka *'subreddits'*, each of which covers a different topic based on people's interests. In other words, it is a *massive* collection of forums (corresponding to the aforementioned communities), where people can share content specific to a given topic or comment on other people’s posts.   \n",
    "\n",
    "You are reddit's community manager and want to *appoint new moderators*. Because moderating a specific subreddit isn't a full-time job, you want the chosen moderators to moderate multiple subreddits at the same time. To make this choice effective, the moderators shouldn't have to spend too much time getting to know the community and the prevalent communication style, so it makes sense to let moderators moderate subreddits that are similar in communication style and language. At the same time, it also makes sense to let them moderate subreddits that are similar with respect to the participating users, because this allows moderators to track the behavior of individual users over multiple subreddits. For example, some users might only post offensive content once a month on a given subreddit, and therefore fly under the radar with someone moderating only that subreddit. However, considering all the subreddits these users post to, they might post something offensive every day but on different subreddits. Thus, a moderator in charge of all these subreddits would be able to ban such users much more effectively. In the light of the above description, your task is to find out ways to choose moderators considering both the textual content and the users of a subreddit.\n",
    "\n",
    "### Dataset:\n",
    "The dataset provided to you includes all the posts of the 15 largest subreddits written as of May 2015.\n",
    "\n",
    "Reddit posts (provided to you via a [google drive folder](https://drive.google.com/a/epfl.ch/file/d/19SVHKbUTUPtC9HMmADJcAAIY1Xjq6WFv/view?usp=sharing))\n",
    "```\n",
    "reddit_posts\n",
    " |-- id: id of the post \n",
    " |-- author: user name of the author \n",
    " |-- body: text of the message\n",
    " |-- subreddit: name of the subreddit\n",
    "```\n",
    "\n",
    "Reddit scores (provided to you via a [google drive folder](https://drive.google.com/a/epfl.ch/file/d/1vr4PolJzTXr6ODSe3ucib5EAyp3rjxec/view?usp=sharing))\n",
    "```\n",
    "reddit_scores\n",
    " |-- id: id of the post \n",
    " |-- score: score computed as sum of UP/DOWN votes\n",
    "```\n",
    "\n",
    "*Note: Jaccard similarity between subreddits represented using either the set of top-1000 words or the set of users can be computed locally (on the driver), however, all the other tasks have to be implemented in Spark.*\n",
    "\n",
    "## B1. Getting a sense of the data\n",
    "\n",
    "Start a PySpark instance..."
   ]
  },
  {
   "cell_type": "code",
   "execution_count": 1,
   "metadata": {},
   "outputs": [
    {
     "data": {
      "text/plain": "<pyspark.sql.session.SparkSession at 0x7f29dcf86160>",
      "text/html": "\n            <div>\n                <p><b>SparkSession - in-memory</b></p>\n                \n        <div>\n            <p><b>SparkContext</b></p>\n\n            <p><a href=\"http://10.151.8.188:4041\">Spark UI</a></p>\n\n            <dl>\n              <dt>Version</dt>\n                <dd><code>v3.0.1</code></dd>\n              <dt>Master</dt>\n                <dd><code>local[*]</code></dd>\n              <dt>AppName</dt>\n                <dd><code>pyspark-shell</code></dd>\n            </dl>\n        </div>\n        \n            </div>\n        "
     },
     "execution_count": 1,
     "metadata": {},
     "output_type": "execute_result"
    }
   ],
   "source": [
    "import pyspark\n",
    "import pyspark.sql\n",
    "from pyspark.sql import *\n",
    "from pyspark.sql.functions import *\n",
    "import numpy as np\n",
    "import pandas as pd\n",
    "\n",
    "conf = pyspark.SparkConf().setMaster(\"local[*]\").setAll([\n",
    "    ('spark.executor.memory', '12g'),  # find\n",
    "    ('spark.driver.memory', '4g'),  # your\n",
    "    ('spark.driver.maxResultSize', '2G')  # setup\n",
    "])\n",
    "# create the session\n",
    "spark = SparkSession.builder.config(conf=conf).getOrCreate()\n",
    "\n",
    "# create the context\n",
    "sc = spark.sparkContext\n",
    "\n",
    "# FIX for Spark 2.x\n",
    "locale = sc._jvm.java.util.Locale\n",
    "locale.setDefault(locale.forLanguageTag(\"en-US\"))\n",
    "\n",
    "spark"
   ]
  },
  {
   "cell_type": "markdown",
   "metadata": {},
   "source": [
    "... and load the data in a Spark dataframe."
   ]
  },
  {
   "cell_type": "code",
   "execution_count": 5,
   "metadata": {
    "collapsed": true
   },
   "outputs": [
    {
     "name": "stdout",
     "output_type": "stream",
     "text": [
      "<bound method DataFrame.describe of DataFrame[author: string, body: string, id: string, subreddit: string]>\n"
     ]
    }
   ],
   "source": [
    "reddit_posts = spark.read.json(\"messages.json.gz\")\n",
    "reddit_scores = spark.read.json(\"score.json.gz\")"
   ]
  },
  {
   "cell_type": "code",
   "execution_count": 43,
   "outputs": [
    {
     "name": "stdout",
     "output_type": "stream",
     "text": [
      "root\n",
      " |-- author: string (nullable = true)\n",
      " |-- body: string (nullable = true)\n",
      " |-- id: string (nullable = true)\n",
      " |-- subreddit: string (nullable = true)\n",
      "\n"
     ]
    }
   ],
   "source": [
    "reddit_posts.printSchema()"
   ],
   "metadata": {
    "collapsed": false,
    "pycharm": {
     "name": "#%%\n"
    }
   }
  },
  {
   "cell_type": "code",
   "execution_count": 44,
   "outputs": [
    {
     "name": "stdout",
     "output_type": "stream",
     "text": [
      "root\n",
      " |-- id: string (nullable = true)\n",
      " |-- score: long (nullable = true)\n",
      "\n"
     ]
    }
   ],
   "source": [
    "reddit_scores.printSchema()"
   ],
   "metadata": {
    "collapsed": false,
    "pycharm": {
     "name": "#%%\n"
    }
   }
  },
  {
   "cell_type": "markdown",
   "metadata": {},
   "source": [
    "### B1.1. Identify the most active subreddit\n",
    "\n",
    "Print the list of subreddits along with the following information:\n",
    "1. The total number of posts\n",
    "2. The number of users with at least 1 message\n",
    "3. The mean message length\n",
    "\n",
    "*Note: Keep everything in one single dataframe and print the list sorted by number of posts in descending order.*"
   ]
  },
  {
   "cell_type": "code",
   "execution_count": 16,
   "outputs": [
    {
     "name": "stdout",
     "output_type": "stream",
     "text": [
      "+---------------+-------------+-------+------------------+------------------+\n",
      "|      subreddit|NumberOfPosts|Authors|  AvgMessageLength|  StdMessageLength|\n",
      "+---------------+-------------+-------+------------------+------------------+\n",
      "|leagueoflegends|      1151287| 119321|152.72280760574904| 256.3147986858569|\n",
      "|            nba|       704862|  45034|106.48656758344187|166.52315750204428|\n",
      "|          funny|       691139| 224077|106.82283882113438|184.53690757081898|\n",
      "|           pics|       564502| 205305| 114.9710045314277|198.63700815183748|\n",
      "|            nfl|       534345|  41593|148.96989211090212|237.64178558588884|\n",
      "|         videos|       511492| 157628|170.22702603364274|290.46116244093537|\n",
      "|           news|       477658|  98736| 230.9491602778557|334.51617953101464|\n",
      "| DestinyTheGame|       471160|  37008|165.41786866457255|225.44471825439516|\n",
      "|         soccer|       455215|  41648|134.42224663071295|203.63987019540954|\n",
      "|          DotA2|       445154|  41466|141.48906670500546|258.45171183228996|\n",
      "|      worldnews|       439417|  99261|224.93754679495785| 355.4024186574934|\n",
      "|  AdviceAnimals|       411902| 115815| 159.2513801826648|238.98344913087297|\n",
      "|         hockey|       389329|  25568| 95.37287230080472|163.42462629467676|\n",
      "|GlobalOffensive|       382017|  46686| 147.2883981602913|229.59238382109905|\n",
      "|         movies|       354601|  92484|164.83209297210104|255.50328567889628|\n",
      "+---------------+-------------+-------+------------------+------------------+\n",
      "\n"
     ]
    }
   ],
   "source": [
    "subreddits = reddit_posts.groupby([\"subreddit\"]).agg(\n",
    "    count(\"*\").alias(\"NumberOfPosts\"),\n",
    "    countDistinct(\"author\").alias(\"Authors\"),\n",
    "    avg(length(\"body\")).alias(\"AvgMessageLength\"),\n",
    "    stddev(length(\"body\")).alias(\"StdMessageLength\"),\n",
    ").sort(desc(\"NumberOfPosts\"))\n",
    "subreddits.cache()\n",
    "subreddits.show()"
   ],
   "metadata": {
    "collapsed": false,
    "pycharm": {
     "name": "#%%\n"
    }
   }
  },
  {
   "cell_type": "markdown",
   "metadata": {},
   "source": [
    "### B1.2. Identify the largest subreddit\n",
    "\n",
    "Print *two* different lists of subreddits: ordered by (1) the number of posts, and (2) the number of users. For each subreddit, print the name and the corresponding counts.\n",
    "\n",
    "Additionally, (3) plot the mean of message length for each subreddit in descending order."
   ]
  },
  {
   "cell_type": "code",
   "execution_count": 31,
   "metadata": {
    "collapsed": true
   },
   "outputs": [
    {
     "name": "stdout",
     "output_type": "stream",
     "text": [
      "+---------------+-------------+-------+\n",
      "|      subreddit|NumberOfPosts|Authors|\n",
      "+---------------+-------------+-------+\n",
      "|leagueoflegends|      1151287| 119321|\n",
      "|            nba|       704862|  45034|\n",
      "|          funny|       691139| 224077|\n",
      "|           pics|       564502| 205305|\n",
      "|            nfl|       534345|  41593|\n",
      "|         videos|       511492| 157628|\n",
      "|           news|       477658|  98736|\n",
      "| DestinyTheGame|       471160|  37008|\n",
      "|         soccer|       455215|  41648|\n",
      "|          DotA2|       445154|  41466|\n",
      "|      worldnews|       439417|  99261|\n",
      "|  AdviceAnimals|       411902| 115815|\n",
      "|         hockey|       389329|  25568|\n",
      "|GlobalOffensive|       382017|  46686|\n",
      "|         movies|       354601|  92484|\n",
      "+---------------+-------------+-------+\n",
      "\n"
     ]
    }
   ],
   "source": [
    "subreddits.orderBy(\"NumberOfPosts\", ascending=False).select('subreddit', 'NumberOfPosts', 'Authors').show()"
   ]
  },
  {
   "cell_type": "code",
   "execution_count": 32,
   "outputs": [
    {
     "name": "stdout",
     "output_type": "stream",
     "text": [
      "+---------------+-------------+-------+\n",
      "|      subreddit|NumberOfPosts|Authors|\n",
      "+---------------+-------------+-------+\n",
      "|          funny|       691139| 224077|\n",
      "|           pics|       564502| 205305|\n",
      "|         videos|       511492| 157628|\n",
      "|leagueoflegends|      1151287| 119321|\n",
      "|  AdviceAnimals|       411902| 115815|\n",
      "|      worldnews|       439417|  99261|\n",
      "|           news|       477658|  98736|\n",
      "|         movies|       354601|  92484|\n",
      "|GlobalOffensive|       382017|  46686|\n",
      "|            nba|       704862|  45034|\n",
      "|         soccer|       455215|  41648|\n",
      "|            nfl|       534345|  41593|\n",
      "|          DotA2|       445154|  41466|\n",
      "| DestinyTheGame|       471160|  37008|\n",
      "|         hockey|       389329|  25568|\n",
      "+---------------+-------------+-------+\n",
      "\n"
     ]
    }
   ],
   "source": [
    "subreddits.orderBy(\"Authors\", ascending=False).select('subreddit', 'NumberOfPosts', 'Authors').show()"
   ],
   "metadata": {
    "collapsed": false,
    "pycharm": {
     "name": "#%%\n"
    }
   }
  },
  {
   "cell_type": "code",
   "execution_count": 33,
   "outputs": [
    {
     "name": "stdout",
     "output_type": "stream",
     "text": [
      "Most posts: [Row(subreddit='leagueoflegends', NumberOfPosts=1151287)]\n",
      "\n",
      "Most authors/users: [Row(subreddit='funny', Authors=224077)]\n"
     ]
    }
   ],
   "source": [
    "print(\n",
    "    f\"Most posts: {subreddits.orderBy('NumberOfPosts', ascending=False).select('subreddit', 'NumberOfPosts').take(1)}\")\n",
    "print(f\"\\nMost authors/users: {subreddits.orderBy('Authors', ascending=False).select('subreddit', 'Authors').take(1)}\")"
   ],
   "metadata": {
    "collapsed": false,
    "pycharm": {
     "name": "#%%\n"
    }
   }
  },
  {
   "cell_type": "code",
   "execution_count": 40,
   "outputs": [
    {
     "name": "stdout",
     "output_type": "stream",
     "text": [
      "There are 15 subreddits in total.\n"
     ]
    },
    {
     "data": {
      "text/plain": "<Figure size 1200x900 with 1 Axes>",
      "image/png": "[encoded data removed]"
     },
     "metadata": {
      "needs_background": "light"
     },
     "output_type": "display_data"
    }
   ],
   "source": [
    "df = subreddits.orderBy(\"AvgMessageLength\", ascending=False).select('subreddit', 'AvgMessageLength',\n",
    "                                                                    \"StdMessageLength\").toPandas()\n",
    "\n",
    "print(f\"There are {len(df)} subreddits in total.\")\n",
    "\n",
    "import matplotlib.pyplot as plt\n",
    "import seaborn as sns\n",
    "\n",
    "fig = plt.figure(figsize=(8, 6), dpi=150)\n",
    "ax = fig.gca()\n",
    "\n",
    "ax.set_xlabel(\"Subreddit\")\n",
    "ax.set_ylabel(\"Value\")\n",
    "ax.set_title(\"Subredddit avg message length\")\n",
    "\n",
    "sns.barplot(x=df[\"AvgMessageLength\"], y=df[\"subreddit\"], ax=ax)\n",
    "\n",
    "plt.show()\n",
    "plt.close()"
   ],
   "metadata": {
    "collapsed": false,
    "pycharm": {
     "name": "#%%\n"
    }
   }
  },
  {
   "cell_type": "markdown",
   "metadata": {},
   "source": [
    "### B1.3. Identify the subreddit with the highest average score\n",
    "\n",
    "Print the list of subreddits sorted by their average content scores."
   ]
  },
  {
   "cell_type": "code",
   "execution_count": 45,
   "metadata": {
    "collapsed": true
   },
   "outputs": [
    {
     "name": "stdout",
     "output_type": "stream",
     "text": [
      "+---------------+------------------+\n",
      "|      subreddit|          AvgScore|\n",
      "+---------------+------------------+\n",
      "|         videos|12.649445152612358|\n",
      "|           pics|12.216559020162904|\n",
      "|          funny|12.041505399058655|\n",
      "|  AdviceAnimals|11.251695791717447|\n",
      "|         soccer|10.634627593554693|\n",
      "|         movies|  9.82014997137628|\n",
      "|            nfl| 9.048348913155358|\n",
      "|            nba| 9.032795071943161|\n",
      "|           news| 8.673421150697779|\n",
      "|      worldnews|  7.86683719564787|\n",
      "|         hockey| 6.520120515039979|\n",
      "|leagueoflegends| 5.983557531701479|\n",
      "|          DotA2| 4.880537971129092|\n",
      "|GlobalOffensive| 4.351442475073099|\n",
      "| DestinyTheGame|3.0288819084811953|\n",
      "+---------------+------------------+\n",
      "\n"
     ]
    }
   ],
   "source": [
    "average_scores = reddit_posts.join(reddit_scores, reddit_posts.id == reddit_scores.id).groupby([\"subreddit\"]).agg(\n",
    "    avg(\"score\").alias(\"AvgScore\"),\n",
    ").sort(desc(\"AvgScore\"))\n",
    "average_scores.cache()\n",
    "average_scores.show()"
   ]
  },
  {
   "cell_type": "markdown",
   "metadata": {},
   "source": [
    "## B2. Moderator assignment based on Subreddit Textual Content\n",
    "\n",
    "Different subreddits follow different communication styles inherent in the topic and the community. Having said that, the goal is to discover similar subreddits by only looking at the *words* present in the posted messages. Once such a list of similar subreddits is identified, an appropriately chosen moderator can then be assigned to all these subreddits.\n",
    "\n",
    "Specifically, the task boils down to computing a similarity score between two subreddits based on the *words* present in their textual content. Your first idea is to use the *Jaccard similarity*, which is defined as the size of the intersection of two sets divided by the size of their union.\n",
    "\n",
    "$Jaccard(A,B) = \\frac{|A \\cap B|}{|A \\cup B|}$"
   ]
  },
  {
   "cell_type": "code",
   "execution_count": 2,
   "metadata": {
    "collapsed": true
   },
   "outputs": [],
   "source": [
    "def jaccard_similarity(list1, list2):\n",
    "    s1 = set(list1)\n",
    "    s2 = set(list2)\n",
    "    return len(s1.intersection(s2)) / len(s1.union(s2))"
   ]
  },
  {
   "cell_type": "markdown",
   "metadata": {},
   "source": [
    "### B2.1.\n",
    "The first step requires constructing a set representation of each subreddit. The goal is to represent each subreddit as a *set of words* existing in the messages posted on that subreddit. Compute the 50,000 most frequent words across all the provided subreddits. Construct a representation for each subreddit by retaining only the words found in the previously identified set of 50,000 frequent words.\n",
    "\n",
    "Some rules:\n",
    " * Words are defined as tokens matching the regular expression `\\W`\n",
    " * Remove all the stop-words (English language)\n",
    "\n",
    "*Note: You might find the [RegexTokenizer](https://spark.apache.org/docs/2.2.0/ml-features.html#tokenizer) and the [StopWordsRemover](https://spark.apache.org/docs/2.2.0/ml-features.html#stopwordsremover) utilities available in the package pyspark.ml useful for this task as they help you in transforming the features and removing stopwords.*"
   ]
  },
  {
   "cell_type": "code",
   "execution_count": 72,
   "metadata": {
    "collapsed": true
   },
   "outputs": [
    {
     "name": "stdout",
     "output_type": "stream",
     "text": [
      "root\n",
      " |-- _1: string (nullable = true)\n",
      " |-- _2: long (nullable = true)\n",
      "\n",
      "+------+-------+\n",
      "|    _1|     _2|\n",
      "+------+-------+\n",
      "|  like|1018978|\n",
      "|people| 745031|\n",
      "|   get| 691349|\n",
      "|   one| 682820|\n",
      "| think| 575352|\n",
      "|     m| 569057|\n",
      "|    re| 517827|\n",
      "|   com| 497303|\n",
      "|  time| 456060|\n",
      "|  good| 454768|\n",
      "|  game| 452376|\n",
      "|really| 451527|\n",
      "|  even| 432973|\n",
      "|  know| 413379|\n",
      "|    gt| 404776|\n",
      "|  http| 395552|\n",
      "|  well| 352021|\n",
      "|   see| 351081|\n",
      "|  much| 348304|\n",
      "|  also| 333478|\n",
      "+------+-------+\n",
      "only showing top 20 rows\n",
      "\n"
     ]
    }
   ],
   "source": [
    "from pyspark.ml.feature import RegexTokenizer, StopWordsRemover\n",
    "\n",
    "rt = RegexTokenizer(pattern=\"\\W\")\n",
    "rt.setInputCol(\"body\")\n",
    "rt.setOutputCol(\"words_rt\")\n",
    "df_rt = rt.transform(reddit_posts)\n",
    "\n",
    "swr = StopWordsRemover()\n",
    "swr.loadDefaultStopWords(\"english\")\n",
    "swr.setInputCol(\"words_rt\")\n",
    "swr.setOutputCol(\"words\")\n",
    "df_swr = swr.transform(df_rt)\n",
    "\n",
    "rdd = df_swr.rdd\n",
    "rdd = rdd.flatMap(lambda row: row.words)\n",
    "rdd = rdd.map(lambda row: (row, 1))\n",
    "rdd = rdd.reduceByKey(lambda v1, v2: v1 + v2)\n",
    "rdd = rdd.sortBy(lambda r: -r[1])\n",
    "freq_words = rdd.toDF().limit(50000)\n",
    "freq_words.cache()\n",
    "freq_words.printSchema()\n",
    "freq_words.show()"
   ]
  },
  {
   "cell_type": "code",
   "execution_count": 74,
   "outputs": [
    {
     "data": {
      "text/plain": "DataFrame[subreddit: string, word: string]"
     },
     "execution_count": 74,
     "metadata": {},
     "output_type": "execute_result"
    }
   ],
   "source": [
    "# def filter_spark_dataframe_by_list(df, column_name, filter_list):\n",
    "#     \"\"\" Returns subset of df where df[column_name] is in filter_list \"\"\"\n",
    "#     spark = SparkSession.builder.getOrCreate()\n",
    "#     filter_df = spark.createDataFrame(filter_list, df.schema[column_name].dataType)\n",
    "#     return df.join(filter_df, df[column_name] == filter_df[\"value\"])\n",
    "\n",
    "tokens = df_swr.select(\"subreddit\", explode(\"words\").alias(\"word\")).distinct()\n",
    "filtered_tokens = tokens.alias(\"t\").join(freq_words, tokens.word==freq_words._1).select(\"t.*\")\n",
    "\n",
    "filtered_tokens"
   ],
   "metadata": {
    "collapsed": false,
    "pycharm": {
     "name": "#%%\n"
    }
   }
  },
  {
   "cell_type": "code",
   "execution_count": 75,
   "outputs": [
    {
     "name": "stdout",
     "output_type": "stream",
     "text": [
      "Subreddit: soccer - Words: 38201\n",
      "Subreddit: funny - Words: 43343\n",
      "Subreddit: DestinyTheGame - Words: 35657\n",
      "Subreddit: pics - Words: 42893\n",
      "Subreddit: AdviceAnimals - Words: 40989\n",
      "Subreddit: nba - Words: 38245\n",
      "Subreddit: news - Words: 41909\n",
      "Subreddit: leagueoflegends - Words: 41990\n",
      "Subreddit: hockey - Words: 36152\n",
      "Subreddit: worldnews - Words: 41864\n",
      "Subreddit: DotA2 - Words: 36891\n",
      "Subreddit: GlobalOffensive - Words: 34389\n",
      "Subreddit: nfl - Words: 39123\n",
      "Subreddit: videos - Words: 43408\n",
      "Subreddit: movies - Words: 39387\n"
     ]
    }
   ],
   "source": [
    "subreddit_50k = filtered_tokens.rdd.map(lambda r: (r.subreddit, [r.word])).reduceByKey(lambda a,b: a+b).collect()\n",
    "\n",
    "for sr in subreddit_50k:\n",
    "    print(\"Subreddit: {} - Words: {}\".format(sr[0], len(sr[1])))"
   ],
   "metadata": {
    "collapsed": false,
    "pycharm": {
     "name": "#%%\n"
    }
   }
  },
  {
   "cell_type": "markdown",
   "metadata": {},
   "source": [
    "### B2.2.\n",
    "* Compute the Jaccard similarity between all the subreddits using the set representation obtained in step **B2.1.**, and plot in a heatmap the similarity values of all the pairs of subreddits.\n",
    "* Analyze this plot and discuss your observations. Do you observe that subreddits corresponding to similar topics possess higher Jaccard similarity?\n",
    "* Provide detailed interpretations of the obtained results. Specifically,\n",
    "    - Explain the limitations of your conclusions, and discuss the potential reasons.\n",
    "    - Explain the potential problems with the Jaccard similarity function."
   ]
  },
  {
   "cell_type": "code",
   "execution_count": null,
   "metadata": {
    "collapsed": true
   },
   "outputs": [],
   "source": []
  },
  {
   "cell_type": "markdown",
   "metadata": {},
   "source": [
    "### B2.3.\n",
    "\n",
    "* Alternatively, compute the 1000 most frequent words for each subreddit, construct its representation as the set of top-1000 words, and print a heatmap with the Jaccard similarity like in step **B2.2.**.\n",
    "* Explain your observations in detail: how and why is this new result different from the one obtained in **B2.2.**?\n",
    "\n",
    "*Note: Use the same rules specified in B2.1: words tokenized with the regex \\W and stop-words removed*"
   ]
  },
  {
   "cell_type": "code",
   "execution_count": null,
   "metadata": {
    "collapsed": true
   },
   "outputs": [],
   "source": []
  },
  {
   "cell_type": "markdown",
   "metadata": {},
   "source": [
    "## B3. Moderator assignment based on Subreddit Users\n",
    "\n",
    "Subreddits can be seen as communities of people interacting about a common topic. As an alternative to the *textual content* based similarity in **B2**, your task here is to validate if similarity between two subreddits can be measured based on their participating users.\n",
    "\n",
    "Of course users are not monothematic, and they interact with multiple subreddits. In this task, we are specifically interested in observing the amount of overlap across different subreddits based on their participating users. Similar to **B2**, the overlap is measured using the *Jaccard similarity*.\n",
    "\n",
    "\n",
    "### B3.1.\n",
    "Construct a set representation of each subreddit as the users that posted at least one time in that subreddit.\n",
    "\n",
    "Some users are very talkative and active across different topics. Print the username of the person that posted in the maximum number of subreddits. *Note that users who posted at least once in a subreddit are considered as participant of that subreddit.*"
   ]
  },
  {
   "cell_type": "code",
   "execution_count": null,
   "metadata": {
    "collapsed": true
   },
   "outputs": [],
   "source": []
  },
  {
   "cell_type": "markdown",
   "metadata": {},
   "source": [
    "### B3.2.\n",
    "\n",
    "* Compute the Jaccard similarity between all the subreddits using the set representation obtained in step **B3.1.**, and visualise it similar to **B2**.\n",
    "* Analyze this plot, identify highly similar pairs of subreddits, and clearly describe your observations."
   ]
  },
  {
   "cell_type": "code",
   "execution_count": null,
   "metadata": {
    "collapsed": true
   },
   "outputs": [],
   "source": []
  },
  {
   "cell_type": "markdown",
   "metadata": {},
   "source": [
    "## B4. Language vs. Users similarity\n",
    "    \n",
    "* Visualize the similarity scores based on word (**B2.3.**) and user (**B3**) similarity on the x and y axes respectively for the subreddit `NBA` compared to all the other subreddits. Do some semantically meaningful groups emerge? Provide clear explanataions of your observations.\n",
    "* Furthermore, do you observe differences in similarities between various sports-related subreddits in the dataset? Please provide explanations of the reasons behind these differences, if any!"
   ]
  },
  {
   "cell_type": "code",
   "execution_count": null,
   "metadata": {
    "collapsed": true
   },
   "outputs": [],
   "source": []
  }
 ],
 "metadata": {
  "kernelspec": {
   "display_name": "Python 3",
   "language": "python",
   "name": "python3"
  },
  "language_info": {
   "codemirror_mode": {
    "name": "ipython",
    "version": 3
   },
   "file_extension": ".py",
   "mimetype": "text/x-python",
   "name": "python",
   "nbconvert_exporter": "python",
   "pygments_lexer": "ipython3",
   "version": "3.6.3"
  },
  "varInspector": {
   "cols": {
    "lenName": 16,
    "lenType": 16,
    "lenVar": 40
   },
   "kernels_config": {
    "python": {
     "delete_cmd_postfix": "",
     "delete_cmd_prefix": "del ",
     "library": "var_list.py",
     "varRefreshCmd": "print(var_dic_list())"
    },
    "r": {
     "delete_cmd_postfix": ") ",
     "delete_cmd_prefix": "rm(",
     "library": "var_list.r",
     "varRefreshCmd": "cat(var_dic_list()) "
    }
   },
   "types_to_exclude": [
    "module",
    "function",
    "builtin_function_or_method",
    "instance",
    "_Feature"
   ],
   "window_display": false
  }
 },
 "nbformat": 4,
 "nbformat_minor": 4
}
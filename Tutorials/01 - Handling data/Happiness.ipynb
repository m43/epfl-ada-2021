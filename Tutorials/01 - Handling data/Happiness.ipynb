{
 "cells": [
  {
   "cell_type": "markdown",
   "metadata": {},
   "source": [
    "## Data from World Happiness Report\n",
    "\n",
    "The World Happiness Report is an annual publication of the United Nations Sustainable Development Solutions Network. It contains articles, and rankings of national happiness based on respondent ratings of their own lives, which the report also correlates with various life factors.\n",
    "\n",
    "In this notebook we will explore the happiness of different countries and the features associated.\n",
    "The datasets that we will use are available in *Data*: **happiness2020.pkl** and **countries_info.csv**.\n",
    "\n",
    "Although the features are self-explanatory, here a summary: \n",
    "\n",
    "**happiness2020.pkl**\n",
    "* country: *Name of the country*\n",
    "* happiness_score: *Happiness score*\n",
    "* social_support: *Social support (mitigation the effects of inequality)*\n",
    "* healthy_life_expectancy: *Healthy Life Expectancy*\n",
    "* freedom_of_choices: *Freedom to make life choices*\n",
    "* generosity: *Generosity (charity, volunteers)*\n",
    "* perception_of_corruption: *Corruption Perception*\n",
    "* world_region: *Area of the world of the country*\n",
    "\n",
    "**countries_info.csv**\n",
    "* country_name: *Name of the country*\n",
    "* area: *Area in sq mi*\n",
    "* population: *Number of people*\n",
    "* literacy: *Literacy percentage*"
   ]
  },
  {
   "cell_type": "code",
   "execution_count": 1,
   "metadata": {},
   "outputs": [
    {
     "name": "stdout",
     "output_type": "stream",
     "text": [
      "country_name,area,population,literacy\r\n",
      "afghanistan,647500,31056997,\"36,0\"\r\n",
      "albania,28748,3581655,\"86,5\"\r\n",
      "algeria,2381740,32930091,\"70,0\"\r\n",
      "argentina,2766890,39921833,\"97,1\"\r\n",
      "armenia,29800,2976372,\"98,6\"\r\n",
      "australia,7686850,20264082,\"100,0\"\r\n",
      "austria,83870,8192880,\"98,0\"\r\n",
      "azerbaijan,86600,7961619,\"97,0\"\r\n",
      "bahrain,665,698585,\"89,1\"\r\n"
     ]
    }
   ],
   "source": [
    "\n",
    "!head Data / countries_info.csv"
   ]
  },
  {
   "cell_type": "code",
   "execution_count": 2,
   "metadata": {},
   "outputs": [],
   "source": [
    "import pandas as pd\n",
    "% matplotlib inline\n",
    "\n",
    "DATA_FOLDER = 'Data/'\n",
    "\n",
    "HAPPINESS_DATASET = DATA_FOLDER + \"happiness2020.csv\"\n",
    "COUNTRIES_DATASET = DATA_FOLDER + \"countries_info.csv\""
   ]
  },
  {
   "cell_type": "markdown",
   "metadata": {},
   "source": [
    "## Task 1: Load the data\n",
    "\n",
    "Load the 2 datasets in Pandas dataframes (called *happiness* and *countries*), and show the first rows.\n",
    "\n",
    "\n",
    "**Hint**: Use the correct reader and verify the data has the expected format."
   ]
  },
  {
   "cell_type": "code",
   "execution_count": 17,
   "metadata": {},
   "outputs": [
    {
     "name": "stdout",
     "output_type": "stream",
     "text": [
      "country                      object\n",
      "happiness_score             float64\n",
      "social_support              float64\n",
      "healthy_life_expectancy     float64\n",
      "freedom_of_choices          float64\n",
      "generosity                  float64\n",
      "perception_of_corruption    float64\n",
      "world_region                 object\n",
      "dtype: object\n",
      "       happiness_score  social_support  healthy_life_expectancy  \\\n",
      "count       135.000000      135.000000               135.000000   \n",
      "mean          5.525062        0.815165                64.762495   \n",
      "std           1.123414        0.116311                 6.694776   \n",
      "min           2.566900        0.468671                48.003624   \n",
      "25%           4.749000        0.740405                59.809444   \n",
      "50%           5.541500        0.836419                66.480164   \n",
      "75%           6.292700        0.910313                69.145870   \n",
      "max           7.808700        0.974670                76.804581   \n",
      "\n",
      "       freedom_of_choices  generosity  perception_of_corruption  \n",
      "count          135.000000  135.000000                135.000000  \n",
      "mean             0.790657   -0.022749                  0.727447  \n",
      "std              0.117230    0.146165                  0.180406  \n",
      "min              0.396573   -0.300907                  0.109784  \n",
      "25%              0.720287   -0.130953                  0.675699  \n",
      "50%              0.811602   -0.042309                  0.780623  \n",
      "75%              0.886453    0.083279                  0.848558  \n",
      "max              0.974998    0.519587                  0.935585  \n"
     ]
    },
    {
     "data": {
      "text/plain": "         country  happiness_score  social_support  healthy_life_expectancy  \\\n0    Afghanistan           2.5669        0.470367                52.590000   \n1        Albania           4.8827        0.671070                68.708138   \n2        Algeria           5.0051        0.803385                65.905174   \n3      Argentina           5.9747        0.900568                68.803802   \n4        Armenia           4.6768        0.757479                66.750656   \n..           ...              ...             ...                      ...   \n130    Venezuela           5.0532        0.890408                66.505341   \n131      Vietnam           5.3535        0.849987                67.952736   \n132        Yemen           3.5274        0.817981                56.727283   \n133       Zambia           3.7594        0.698824                55.299377   \n134     Zimbabwe           3.2992        0.763093                55.617260   \n\n     freedom_of_choices  generosity  perception_of_corruption  \\\n0              0.396573   -0.096429                  0.933687   \n1              0.781994   -0.042309                  0.896304   \n2              0.466611   -0.121105                  0.735485   \n3              0.831132   -0.194914                  0.842010   \n4              0.712018   -0.138780                  0.773545   \n..                  ...         ...                       ...   \n130            0.623278   -0.169091                  0.837038   \n131            0.939593   -0.094533                  0.796421   \n132            0.599920   -0.157735                  0.800288   \n133            0.806500    0.078037                  0.801290   \n134            0.711458   -0.072064                  0.810237   \n\n                           world_region  \n0                            South Asia  \n1            Central and Eastern Europe  \n2          Middle East and North Africa  \n3           Latin America and Caribbean  \n4    Commonwealth of Independent States  \n..                                  ...  \n130         Latin America and Caribbean  \n131                      Southeast Asia  \n132        Middle East and North Africa  \n133                  Sub-Saharan Africa  \n134                  Sub-Saharan Africa  \n\n[135 rows x 8 columns]",
      "text/html": "<div>\n<style scoped>\n    .dataframe tbody tr th:only-of-type {\n        vertical-align: middle;\n    }\n\n    .dataframe tbody tr th {\n        vertical-align: top;\n    }\n\n    .dataframe thead th {\n        text-align: right;\n    }\n</style>\n<table border=\"1\" class=\"dataframe\">\n  <thead>\n    <tr style=\"text-align: right;\">\n      <th></th>\n      <th>country</th>\n      <th>happiness_score</th>\n      <th>social_support</th>\n      <th>healthy_life_expectancy</th>\n      <th>freedom_of_choices</th>\n      <th>generosity</th>\n      <th>perception_of_corruption</th>\n      <th>world_region</th>\n    </tr>\n  </thead>\n  <tbody>\n    <tr>\n      <th>0</th>\n      <td>Afghanistan</td>\n      <td>2.5669</td>\n      <td>0.470367</td>\n      <td>52.590000</td>\n      <td>0.396573</td>\n      <td>-0.096429</td>\n      <td>0.933687</td>\n      <td>South Asia</td>\n    </tr>\n    <tr>\n      <th>1</th>\n      <td>Albania</td>\n      <td>4.8827</td>\n      <td>0.671070</td>\n      <td>68.708138</td>\n      <td>0.781994</td>\n      <td>-0.042309</td>\n      <td>0.896304</td>\n      <td>Central and Eastern Europe</td>\n    </tr>\n    <tr>\n      <th>2</th>\n      <td>Algeria</td>\n      <td>5.0051</td>\n      <td>0.803385</td>\n      <td>65.905174</td>\n      <td>0.466611</td>\n      <td>-0.121105</td>\n      <td>0.735485</td>\n      <td>Middle East and North Africa</td>\n    </tr>\n    <tr>\n      <th>3</th>\n      <td>Argentina</td>\n      <td>5.9747</td>\n      <td>0.900568</td>\n      <td>68.803802</td>\n      <td>0.831132</td>\n      <td>-0.194914</td>\n      <td>0.842010</td>\n      <td>Latin America and Caribbean</td>\n    </tr>\n    <tr>\n      <th>4</th>\n      <td>Armenia</td>\n      <td>4.6768</td>\n      <td>0.757479</td>\n      <td>66.750656</td>\n      <td>0.712018</td>\n      <td>-0.138780</td>\n      <td>0.773545</td>\n      <td>Commonwealth of Independent States</td>\n    </tr>\n    <tr>\n      <th>...</th>\n      <td>...</td>\n      <td>...</td>\n      <td>...</td>\n      <td>...</td>\n      <td>...</td>\n      <td>...</td>\n      <td>...</td>\n      <td>...</td>\n    </tr>\n    <tr>\n      <th>130</th>\n      <td>Venezuela</td>\n      <td>5.0532</td>\n      <td>0.890408</td>\n      <td>66.505341</td>\n      <td>0.623278</td>\n      <td>-0.169091</td>\n      <td>0.837038</td>\n      <td>Latin America and Caribbean</td>\n    </tr>\n    <tr>\n      <th>131</th>\n      <td>Vietnam</td>\n      <td>5.3535</td>\n      <td>0.849987</td>\n      <td>67.952736</td>\n      <td>0.939593</td>\n      <td>-0.094533</td>\n      <td>0.796421</td>\n      <td>Southeast Asia</td>\n    </tr>\n    <tr>\n      <th>132</th>\n      <td>Yemen</td>\n      <td>3.5274</td>\n      <td>0.817981</td>\n      <td>56.727283</td>\n      <td>0.599920</td>\n      <td>-0.157735</td>\n      <td>0.800288</td>\n      <td>Middle East and North Africa</td>\n    </tr>\n    <tr>\n      <th>133</th>\n      <td>Zambia</td>\n      <td>3.7594</td>\n      <td>0.698824</td>\n      <td>55.299377</td>\n      <td>0.806500</td>\n      <td>0.078037</td>\n      <td>0.801290</td>\n      <td>Sub-Saharan Africa</td>\n    </tr>\n    <tr>\n      <th>134</th>\n      <td>Zimbabwe</td>\n      <td>3.2992</td>\n      <td>0.763093</td>\n      <td>55.617260</td>\n      <td>0.711458</td>\n      <td>-0.072064</td>\n      <td>0.810237</td>\n      <td>Sub-Saharan Africa</td>\n    </tr>\n  </tbody>\n</table>\n<p>135 rows × 8 columns</p>\n</div>"
     },
     "execution_count": 17,
     "metadata": {},
     "output_type": "execute_result"
    }
   ],
   "source": [
    "happiness = pd.read_csv(HAPPINESS_DATASET)\n",
    "print(happiness.dtypes)\n",
    "print(happiness.describe())\n",
    "happiness"
   ]
  },
  {
   "cell_type": "code",
   "execution_count": 28,
   "outputs": [
    {
     "name": "stdout",
     "output_type": "stream",
     "text": [
      "country_name     object\n",
      "area              int64\n",
      "population        int64\n",
      "literacy        float32\n",
      "dtype: object\n",
      "               area    population    literacy\n",
      "count  1.350000e+02  1.350000e+02  133.000000\n",
      "mean   9.007829e+05  4.552204e+07   81.851143\n",
      "std    2.244994e+06  1.505270e+08   20.514482\n",
      "min    3.160000e+02  2.993880e+05   17.600000\n",
      "25%    6.540500e+04  4.636146e+06   70.000000\n",
      "50%    2.375000e+05  1.023546e+07   90.900002\n",
      "75%    7.000570e+05  2.967980e+07   98.400002\n",
      "max    1.707520e+07  1.313974e+09  100.000000\n"
     ]
    },
    {
     "data": {
      "text/plain": "    country_name     area  population   literacy\n0    afghanistan   647500    31056997  36.000000\n1        albania    28748     3581655  86.500000\n2        algeria  2381740    32930091  70.000000\n3      argentina  2766890    39921833  97.099998\n4        armenia    29800     2976372  98.599998\n..           ...      ...         ...        ...\n130    venezuela   912050    25730435  93.400002\n131      vietnam   329560    84402966  90.300003\n132        yemen   527970    21456188  50.200001\n133       zambia   752614    11502010  80.599998\n134     zimbabwe   390580    12236805  90.699997\n\n[135 rows x 4 columns]",
      "text/html": "<div>\n<style scoped>\n    .dataframe tbody tr th:only-of-type {\n        vertical-align: middle;\n    }\n\n    .dataframe tbody tr th {\n        vertical-align: top;\n    }\n\n    .dataframe thead th {\n        text-align: right;\n    }\n</style>\n<table border=\"1\" class=\"dataframe\">\n  <thead>\n    <tr style=\"text-align: right;\">\n      <th></th>\n      <th>country_name</th>\n      <th>area</th>\n      <th>population</th>\n      <th>literacy</th>\n    </tr>\n  </thead>\n  <tbody>\n    <tr>\n      <th>0</th>\n      <td>afghanistan</td>\n      <td>647500</td>\n      <td>31056997</td>\n      <td>36.000000</td>\n    </tr>\n    <tr>\n      <th>1</th>\n      <td>albania</td>\n      <td>28748</td>\n      <td>3581655</td>\n      <td>86.500000</td>\n    </tr>\n    <tr>\n      <th>2</th>\n      <td>algeria</td>\n      <td>2381740</td>\n      <td>32930091</td>\n      <td>70.000000</td>\n    </tr>\n    <tr>\n      <th>3</th>\n      <td>argentina</td>\n      <td>2766890</td>\n      <td>39921833</td>\n      <td>97.099998</td>\n    </tr>\n    <tr>\n      <th>4</th>\n      <td>armenia</td>\n      <td>29800</td>\n      <td>2976372</td>\n      <td>98.599998</td>\n    </tr>\n    <tr>\n      <th>...</th>\n      <td>...</td>\n      <td>...</td>\n      <td>...</td>\n      <td>...</td>\n    </tr>\n    <tr>\n      <th>130</th>\n      <td>venezuela</td>\n      <td>912050</td>\n      <td>25730435</td>\n      <td>93.400002</td>\n    </tr>\n    <tr>\n      <th>131</th>\n      <td>vietnam</td>\n      <td>329560</td>\n      <td>84402966</td>\n      <td>90.300003</td>\n    </tr>\n    <tr>\n      <th>132</th>\n      <td>yemen</td>\n      <td>527970</td>\n      <td>21456188</td>\n      <td>50.200001</td>\n    </tr>\n    <tr>\n      <th>133</th>\n      <td>zambia</td>\n      <td>752614</td>\n      <td>11502010</td>\n      <td>80.599998</td>\n    </tr>\n    <tr>\n      <th>134</th>\n      <td>zimbabwe</td>\n      <td>390580</td>\n      <td>12236805</td>\n      <td>90.699997</td>\n    </tr>\n  </tbody>\n</table>\n<p>135 rows × 4 columns</p>\n</div>"
     },
     "execution_count": 28,
     "metadata": {},
     "output_type": "execute_result"
    }
   ],
   "source": [
    "\n",
    "\n",
    "countries = pd.read_csv(COUNTRIES_DATASET)\n",
    "countries.literacy = pd.to_numeric(countries.literacy.str.replace(\",\", \".\"), downcast=\"float\")\n",
    "print(countries.dtypes)\n",
    "print(countries.describe())\n",
    "countries"
   ],
   "metadata": {
    "collapsed": false,
    "pycharm": {
     "name": "#%%\n"
    }
   }
  },
  {
   "cell_type": "markdown",
   "metadata": {},
   "source": [
    "## Task 2: Let's merge the data\n",
    "\n",
    "Create a dataframe called *country_features* by merging *happiness* and *countries*. A row of this dataframe must describe all the features that we have about a country.\n",
    "\n",
    "**Hint**: Verify to have all the rows in the final dataframe"
   ]
  },
  {
   "cell_type": "code",
   "execution_count": 43,
   "metadata": {},
   "outputs": [
    {
     "data": {
      "text/plain": "         country  happiness_score  social_support  healthy_life_expectancy  \\\n0    afghanistan           2.5669        0.470367                52.590000   \n1        albania           4.8827        0.671070                68.708138   \n2        algeria           5.0051        0.803385                65.905174   \n3      argentina           5.9747        0.900568                68.803802   \n4        armenia           4.6768        0.757479                66.750656   \n..           ...              ...             ...                      ...   \n130    venezuela           5.0532        0.890408                66.505341   \n131      vietnam           5.3535        0.849987                67.952736   \n132        yemen           3.5274        0.817981                56.727283   \n133       zambia           3.7594        0.698824                55.299377   \n134     zimbabwe           3.2992        0.763093                55.617260   \n\n     freedom_of_choices  generosity  perception_of_corruption  \\\n0              0.396573   -0.096429                  0.933687   \n1              0.781994   -0.042309                  0.896304   \n2              0.466611   -0.121105                  0.735485   \n3              0.831132   -0.194914                  0.842010   \n4              0.712018   -0.138780                  0.773545   \n..                  ...         ...                       ...   \n130            0.623278   -0.169091                  0.837038   \n131            0.939593   -0.094533                  0.796421   \n132            0.599920   -0.157735                  0.800288   \n133            0.806500    0.078037                  0.801290   \n134            0.711458   -0.072064                  0.810237   \n\n                           world_region country_name     area  population  \\\n0                            South Asia  afghanistan   647500    31056997   \n1            Central and Eastern Europe      albania    28748     3581655   \n2          Middle East and North Africa      algeria  2381740    32930091   \n3           Latin America and Caribbean    argentina  2766890    39921833   \n4    Commonwealth of Independent States      armenia    29800     2976372   \n..                                  ...          ...      ...         ...   \n130         Latin America and Caribbean    venezuela   912050    25730435   \n131                      Southeast Asia      vietnam   329560    84402966   \n132        Middle East and North Africa        yemen   527970    21456188   \n133                  Sub-Saharan Africa       zambia   752614    11502010   \n134                  Sub-Saharan Africa     zimbabwe   390580    12236805   \n\n      literacy  \n0    36.000000  \n1    86.500000  \n2    70.000000  \n3    97.099998  \n4    98.599998  \n..         ...  \n130  93.400002  \n131  90.300003  \n132  50.200001  \n133  80.599998  \n134  90.699997  \n\n[135 rows x 12 columns]",
      "text/html": "<div>\n<style scoped>\n    .dataframe tbody tr th:only-of-type {\n        vertical-align: middle;\n    }\n\n    .dataframe tbody tr th {\n        vertical-align: top;\n    }\n\n    .dataframe thead th {\n        text-align: right;\n    }\n</style>\n<table border=\"1\" class=\"dataframe\">\n  <thead>\n    <tr style=\"text-align: right;\">\n      <th></th>\n      <th>country</th>\n      <th>happiness_score</th>\n      <th>social_support</th>\n      <th>healthy_life_expectancy</th>\n      <th>freedom_of_choices</th>\n      <th>generosity</th>\n      <th>perception_of_corruption</th>\n      <th>world_region</th>\n      <th>country_name</th>\n      <th>area</th>\n      <th>population</th>\n      <th>literacy</th>\n    </tr>\n  </thead>\n  <tbody>\n    <tr>\n      <th>0</th>\n      <td>afghanistan</td>\n      <td>2.5669</td>\n      <td>0.470367</td>\n      <td>52.590000</td>\n      <td>0.396573</td>\n      <td>-0.096429</td>\n      <td>0.933687</td>\n      <td>South Asia</td>\n      <td>afghanistan</td>\n      <td>647500</td>\n      <td>31056997</td>\n      <td>36.000000</td>\n    </tr>\n    <tr>\n      <th>1</th>\n      <td>albania</td>\n      <td>4.8827</td>\n      <td>0.671070</td>\n      <td>68.708138</td>\n      <td>0.781994</td>\n      <td>-0.042309</td>\n      <td>0.896304</td>\n      <td>Central and Eastern Europe</td>\n      <td>albania</td>\n      <td>28748</td>\n      <td>3581655</td>\n      <td>86.500000</td>\n    </tr>\n    <tr>\n      <th>2</th>\n      <td>algeria</td>\n      <td>5.0051</td>\n      <td>0.803385</td>\n      <td>65.905174</td>\n      <td>0.466611</td>\n      <td>-0.121105</td>\n      <td>0.735485</td>\n      <td>Middle East and North Africa</td>\n      <td>algeria</td>\n      <td>2381740</td>\n      <td>32930091</td>\n      <td>70.000000</td>\n    </tr>\n    <tr>\n      <th>3</th>\n      <td>argentina</td>\n      <td>5.9747</td>\n      <td>0.900568</td>\n      <td>68.803802</td>\n      <td>0.831132</td>\n      <td>-0.194914</td>\n      <td>0.842010</td>\n      <td>Latin America and Caribbean</td>\n      <td>argentina</td>\n      <td>2766890</td>\n      <td>39921833</td>\n      <td>97.099998</td>\n    </tr>\n    <tr>\n      <th>4</th>\n      <td>armenia</td>\n      <td>4.6768</td>\n      <td>0.757479</td>\n      <td>66.750656</td>\n      <td>0.712018</td>\n      <td>-0.138780</td>\n      <td>0.773545</td>\n      <td>Commonwealth of Independent States</td>\n      <td>armenia</td>\n      <td>29800</td>\n      <td>2976372</td>\n      <td>98.599998</td>\n    </tr>\n    <tr>\n      <th>...</th>\n      <td>...</td>\n      <td>...</td>\n      <td>...</td>\n      <td>...</td>\n      <td>...</td>\n      <td>...</td>\n      <td>...</td>\n      <td>...</td>\n      <td>...</td>\n      <td>...</td>\n      <td>...</td>\n      <td>...</td>\n    </tr>\n    <tr>\n      <th>130</th>\n      <td>venezuela</td>\n      <td>5.0532</td>\n      <td>0.890408</td>\n      <td>66.505341</td>\n      <td>0.623278</td>\n      <td>-0.169091</td>\n      <td>0.837038</td>\n      <td>Latin America and Caribbean</td>\n      <td>venezuela</td>\n      <td>912050</td>\n      <td>25730435</td>\n      <td>93.400002</td>\n    </tr>\n    <tr>\n      <th>131</th>\n      <td>vietnam</td>\n      <td>5.3535</td>\n      <td>0.849987</td>\n      <td>67.952736</td>\n      <td>0.939593</td>\n      <td>-0.094533</td>\n      <td>0.796421</td>\n      <td>Southeast Asia</td>\n      <td>vietnam</td>\n      <td>329560</td>\n      <td>84402966</td>\n      <td>90.300003</td>\n    </tr>\n    <tr>\n      <th>132</th>\n      <td>yemen</td>\n      <td>3.5274</td>\n      <td>0.817981</td>\n      <td>56.727283</td>\n      <td>0.599920</td>\n      <td>-0.157735</td>\n      <td>0.800288</td>\n      <td>Middle East and North Africa</td>\n      <td>yemen</td>\n      <td>527970</td>\n      <td>21456188</td>\n      <td>50.200001</td>\n    </tr>\n    <tr>\n      <th>133</th>\n      <td>zambia</td>\n      <td>3.7594</td>\n      <td>0.698824</td>\n      <td>55.299377</td>\n      <td>0.806500</td>\n      <td>0.078037</td>\n      <td>0.801290</td>\n      <td>Sub-Saharan Africa</td>\n      <td>zambia</td>\n      <td>752614</td>\n      <td>11502010</td>\n      <td>80.599998</td>\n    </tr>\n    <tr>\n      <th>134</th>\n      <td>zimbabwe</td>\n      <td>3.2992</td>\n      <td>0.763093</td>\n      <td>55.617260</td>\n      <td>0.711458</td>\n      <td>-0.072064</td>\n      <td>0.810237</td>\n      <td>Sub-Saharan Africa</td>\n      <td>zimbabwe</td>\n      <td>390580</td>\n      <td>12236805</td>\n      <td>90.699997</td>\n    </tr>\n  </tbody>\n</table>\n<p>135 rows × 12 columns</p>\n</div>"
     },
     "execution_count": 43,
     "metadata": {},
     "output_type": "execute_result"
    }
   ],
   "source": [
    "happiness.country = happiness.country.str.lower()\n",
    "merged = pd.merge(happiness, countries, left_on=\"country\", right_on=\"country_name\")\n",
    "assert len(merged) == len(happiness)\n",
    "assert len(merged) == len(countries)\n",
    "merged"
   ]
  },
  {
   "cell_type": "markdown",
   "metadata": {},
   "source": [
    "## Task 3: Where do people are happier?\n",
    "\n",
    "Print the top 10 countries based on their happiness score (high is better)."
   ]
  },
  {
   "cell_type": "code",
   "execution_count": 45,
   "metadata": {},
   "outputs": [
    {
     "data": {
      "text/plain": "         country  happiness_score  social_support  healthy_life_expectancy  \\\n38       finland           7.8087        0.954330                71.900825   \n31       denmark           7.6456        0.955991                72.402504   \n115  switzerland           7.5599        0.942847                74.102448   \n50       iceland           7.5045        0.974670                73.000000   \n92        norway           7.4880        0.952487                73.200783   \n87   netherlands           7.4489        0.939139                72.300919   \n114       sweden           7.3535        0.926311                72.600769   \n88   new zealand           7.2996        0.949119                73.202629   \n6        austria           7.2942        0.928046                73.002502   \n72    luxembourg           7.2375        0.906912                72.599998   \n\n     freedom_of_choices  generosity  perception_of_corruption  \\\n38             0.949172   -0.059482                  0.195445   \n31             0.951444    0.066202                  0.168489   \n115            0.921337    0.105911                  0.303728   \n50             0.948892    0.246944                  0.711710   \n92             0.955750    0.134533                  0.263218   \n87             0.908548    0.207612                  0.364717   \n114            0.939144    0.111615                  0.250880   \n88             0.936217    0.191598                  0.221139   \n6              0.899989    0.085429                  0.499955   \n72             0.905636   -0.004621                  0.367084   \n\n              world_region country_name    area  population    literacy  \n38          Western Europe      finland  338145     5231372  100.000000  \n31          Western Europe      denmark   43094     5450661  100.000000  \n115         Western Europe  switzerland   41290     7523934   99.000000  \n50          Western Europe      iceland  103000      299388   99.900002  \n92          Western Europe       norway  323802     4610820  100.000000  \n87          Western Europe  netherlands   41526    16491461   99.000000  \n114         Western Europe       sweden  449964     9016596   99.000000  \n88   North America and ANZ  new zealand  268680     4076140   99.000000  \n6           Western Europe      austria   83870     8192880   98.000000  \n72          Western Europe   luxembourg    2586      474413  100.000000  ",
      "text/html": "<div>\n<style scoped>\n    .dataframe tbody tr th:only-of-type {\n        vertical-align: middle;\n    }\n\n    .dataframe tbody tr th {\n        vertical-align: top;\n    }\n\n    .dataframe thead th {\n        text-align: right;\n    }\n</style>\n<table border=\"1\" class=\"dataframe\">\n  <thead>\n    <tr style=\"text-align: right;\">\n      <th></th>\n      <th>country</th>\n      <th>happiness_score</th>\n      <th>social_support</th>\n      <th>healthy_life_expectancy</th>\n      <th>freedom_of_choices</th>\n      <th>generosity</th>\n      <th>perception_of_corruption</th>\n      <th>world_region</th>\n      <th>country_name</th>\n      <th>area</th>\n      <th>population</th>\n      <th>literacy</th>\n    </tr>\n  </thead>\n  <tbody>\n    <tr>\n      <th>38</th>\n      <td>finland</td>\n      <td>7.8087</td>\n      <td>0.954330</td>\n      <td>71.900825</td>\n      <td>0.949172</td>\n      <td>-0.059482</td>\n      <td>0.195445</td>\n      <td>Western Europe</td>\n      <td>finland</td>\n      <td>338145</td>\n      <td>5231372</td>\n      <td>100.000000</td>\n    </tr>\n    <tr>\n      <th>31</th>\n      <td>denmark</td>\n      <td>7.6456</td>\n      <td>0.955991</td>\n      <td>72.402504</td>\n      <td>0.951444</td>\n      <td>0.066202</td>\n      <td>0.168489</td>\n      <td>Western Europe</td>\n      <td>denmark</td>\n      <td>43094</td>\n      <td>5450661</td>\n      <td>100.000000</td>\n    </tr>\n    <tr>\n      <th>115</th>\n      <td>switzerland</td>\n      <td>7.5599</td>\n      <td>0.942847</td>\n      <td>74.102448</td>\n      <td>0.921337</td>\n      <td>0.105911</td>\n      <td>0.303728</td>\n      <td>Western Europe</td>\n      <td>switzerland</td>\n      <td>41290</td>\n      <td>7523934</td>\n      <td>99.000000</td>\n    </tr>\n    <tr>\n      <th>50</th>\n      <td>iceland</td>\n      <td>7.5045</td>\n      <td>0.974670</td>\n      <td>73.000000</td>\n      <td>0.948892</td>\n      <td>0.246944</td>\n      <td>0.711710</td>\n      <td>Western Europe</td>\n      <td>iceland</td>\n      <td>103000</td>\n      <td>299388</td>\n      <td>99.900002</td>\n    </tr>\n    <tr>\n      <th>92</th>\n      <td>norway</td>\n      <td>7.4880</td>\n      <td>0.952487</td>\n      <td>73.200783</td>\n      <td>0.955750</td>\n      <td>0.134533</td>\n      <td>0.263218</td>\n      <td>Western Europe</td>\n      <td>norway</td>\n      <td>323802</td>\n      <td>4610820</td>\n      <td>100.000000</td>\n    </tr>\n    <tr>\n      <th>87</th>\n      <td>netherlands</td>\n      <td>7.4489</td>\n      <td>0.939139</td>\n      <td>72.300919</td>\n      <td>0.908548</td>\n      <td>0.207612</td>\n      <td>0.364717</td>\n      <td>Western Europe</td>\n      <td>netherlands</td>\n      <td>41526</td>\n      <td>16491461</td>\n      <td>99.000000</td>\n    </tr>\n    <tr>\n      <th>114</th>\n      <td>sweden</td>\n      <td>7.3535</td>\n      <td>0.926311</td>\n      <td>72.600769</td>\n      <td>0.939144</td>\n      <td>0.111615</td>\n      <td>0.250880</td>\n      <td>Western Europe</td>\n      <td>sweden</td>\n      <td>449964</td>\n      <td>9016596</td>\n      <td>99.000000</td>\n    </tr>\n    <tr>\n      <th>88</th>\n      <td>new zealand</td>\n      <td>7.2996</td>\n      <td>0.949119</td>\n      <td>73.202629</td>\n      <td>0.936217</td>\n      <td>0.191598</td>\n      <td>0.221139</td>\n      <td>North America and ANZ</td>\n      <td>new zealand</td>\n      <td>268680</td>\n      <td>4076140</td>\n      <td>99.000000</td>\n    </tr>\n    <tr>\n      <th>6</th>\n      <td>austria</td>\n      <td>7.2942</td>\n      <td>0.928046</td>\n      <td>73.002502</td>\n      <td>0.899989</td>\n      <td>0.085429</td>\n      <td>0.499955</td>\n      <td>Western Europe</td>\n      <td>austria</td>\n      <td>83870</td>\n      <td>8192880</td>\n      <td>98.000000</td>\n    </tr>\n    <tr>\n      <th>72</th>\n      <td>luxembourg</td>\n      <td>7.2375</td>\n      <td>0.906912</td>\n      <td>72.599998</td>\n      <td>0.905636</td>\n      <td>-0.004621</td>\n      <td>0.367084</td>\n      <td>Western Europe</td>\n      <td>luxembourg</td>\n      <td>2586</td>\n      <td>474413</td>\n      <td>100.000000</td>\n    </tr>\n  </tbody>\n</table>\n</div>"
     },
     "execution_count": 45,
     "metadata": {},
     "output_type": "execute_result"
    }
   ],
   "source": [
    "merged.sort_values([\"happiness_score\"], ascending=False).head(10)"
   ]
  },
  {
   "cell_type": "markdown",
   "metadata": {},
   "source": [
    "We are interested to know in what world region the people are happier. \n",
    "\n",
    "Create and print a dataframe with the (1) average happiness score and (2) the number of contries for each world region.\n",
    "Sort the result to show the happiness ranking."
   ]
  },
  {
   "cell_type": "code",
   "execution_count": 82,
   "metadata": {},
   "outputs": [
    {
     "data": {
      "text/plain": "                                   happiness_score       social_support      \n                                              mean count           mean count\nworld_region                                                                 \nNorth America and ANZ                     7.173525     4       0.933842     4\nWestern Europe                            6.967405    20       0.917773    20\nLatin America and Caribbean               5.971280    20       0.853971    20\nCentral and Eastern Europe                5.891393    14       0.883027    14\nSoutheast Asia                            5.517788     8       0.829054     8\nEast Asia                                 5.483633     3       0.873150     3\nCommonwealth of Independent States        5.358342    12       0.856729    12\nMiddle East and North Africa              5.269306    16       0.794934    16\nSub-Saharan Africa                        4.393856    32       0.694164    32\nSouth Asia                                4.355083     6       0.674968     6",
      "text/html": "<div>\n<style scoped>\n    .dataframe tbody tr th:only-of-type {\n        vertical-align: middle;\n    }\n\n    .dataframe tbody tr th {\n        vertical-align: top;\n    }\n\n    .dataframe thead tr th {\n        text-align: left;\n    }\n\n    .dataframe thead tr:last-of-type th {\n        text-align: right;\n    }\n</style>\n<table border=\"1\" class=\"dataframe\">\n  <thead>\n    <tr>\n      <th></th>\n      <th colspan=\"2\" halign=\"left\">happiness_score</th>\n      <th colspan=\"2\" halign=\"left\">social_support</th>\n    </tr>\n    <tr>\n      <th></th>\n      <th>mean</th>\n      <th>count</th>\n      <th>mean</th>\n      <th>count</th>\n    </tr>\n    <tr>\n      <th>world_region</th>\n      <th></th>\n      <th></th>\n      <th></th>\n      <th></th>\n    </tr>\n  </thead>\n  <tbody>\n    <tr>\n      <th>North America and ANZ</th>\n      <td>7.173525</td>\n      <td>4</td>\n      <td>0.933842</td>\n      <td>4</td>\n    </tr>\n    <tr>\n      <th>Western Europe</th>\n      <td>6.967405</td>\n      <td>20</td>\n      <td>0.917773</td>\n      <td>20</td>\n    </tr>\n    <tr>\n      <th>Latin America and Caribbean</th>\n      <td>5.971280</td>\n      <td>20</td>\n      <td>0.853971</td>\n      <td>20</td>\n    </tr>\n    <tr>\n      <th>Central and Eastern Europe</th>\n      <td>5.891393</td>\n      <td>14</td>\n      <td>0.883027</td>\n      <td>14</td>\n    </tr>\n    <tr>\n      <th>Southeast Asia</th>\n      <td>5.517788</td>\n      <td>8</td>\n      <td>0.829054</td>\n      <td>8</td>\n    </tr>\n    <tr>\n      <th>East Asia</th>\n      <td>5.483633</td>\n      <td>3</td>\n      <td>0.873150</td>\n      <td>3</td>\n    </tr>\n    <tr>\n      <th>Commonwealth of Independent States</th>\n      <td>5.358342</td>\n      <td>12</td>\n      <td>0.856729</td>\n      <td>12</td>\n    </tr>\n    <tr>\n      <th>Middle East and North Africa</th>\n      <td>5.269306</td>\n      <td>16</td>\n      <td>0.794934</td>\n      <td>16</td>\n    </tr>\n    <tr>\n      <th>Sub-Saharan Africa</th>\n      <td>4.393856</td>\n      <td>32</td>\n      <td>0.694164</td>\n      <td>32</td>\n    </tr>\n    <tr>\n      <th>South Asia</th>\n      <td>4.355083</td>\n      <td>6</td>\n      <td>0.674968</td>\n      <td>6</td>\n    </tr>\n  </tbody>\n</table>\n</div>"
     },
     "execution_count": 82,
     "metadata": {},
     "output_type": "execute_result"
    }
   ],
   "source": [
    "# region_happiness = merged.groupby([\"world_region\"]).happiness_score.mean().sort_values(ascending=False)\n",
    "# region_happiness\n",
    "merged.groupby([\"world_region\"])[[\"happiness_score\", \"social_support\"]].agg([\"mean\", \"count\"]).sort_values(\n",
    "    (\"happiness_score\", \"mean\"), ascending=False)"
   ]
  },
  {
   "cell_type": "markdown",
   "metadata": {},
   "source": [
    "The first region has only a few countries! What are them and what is their score?"
   ]
  },
  {
   "cell_type": "code",
   "execution_count": 63,
   "metadata": {},
   "outputs": [
    {
     "ename": "TypeError",
     "evalue": "'function' object is not iterable",
     "output_type": "error",
     "traceback": [
      "\u001B[0;31m---------------------------------------------------------------------------\u001B[0m",
      "\u001B[0;31mTypeError\u001B[0m                                 Traceback (most recent call last)",
      "\u001B[0;32m<ipython-input-63-c9c9e74b5cc4>\u001B[0m in \u001B[0;36m<module>\u001B[0;34m\u001B[0m\n\u001B[1;32m      1\u001B[0m \u001B[0mfirst\u001B[0m \u001B[0;34m=\u001B[0m \u001B[0mregion_happiness\u001B[0m\u001B[0;34m.\u001B[0m\u001B[0mindex\u001B[0m\u001B[0;34m[\u001B[0m\u001B[0;36m0\u001B[0m\u001B[0;34m]\u001B[0m\u001B[0;34m\u001B[0m\u001B[0;34m\u001B[0m\u001B[0m\n\u001B[0;32m----> 2\u001B[0;31m \u001B[0mmerged\u001B[0m\u001B[0;34m.\u001B[0m\u001B[0mfilter\u001B[0m\u001B[0;34m(\u001B[0m\u001B[0;32mlambda\u001B[0m \u001B[0mx\u001B[0m\u001B[0;34m:\u001B[0m \u001B[0mx\u001B[0m\u001B[0;34m.\u001B[0m\u001B[0mworld_region\u001B[0m \u001B[0;34m==\u001B[0m \u001B[0mfirst\u001B[0m\u001B[0;34m)\u001B[0m\u001B[0;34m\u001B[0m\u001B[0;34m\u001B[0m\u001B[0m\n\u001B[0m",
      "\u001B[0;32m~/.local/lib/python3.8/site-packages/pandas/core/generic.py\u001B[0m in \u001B[0;36mfilter\u001B[0;34m(self, items, like, regex, axis)\u001B[0m\n\u001B[1;32m   4969\u001B[0m         \u001B[0;32mif\u001B[0m \u001B[0mitems\u001B[0m \u001B[0;32mis\u001B[0m \u001B[0;32mnot\u001B[0m \u001B[0;32mNone\u001B[0m\u001B[0;34m:\u001B[0m\u001B[0;34m\u001B[0m\u001B[0;34m\u001B[0m\u001B[0m\n\u001B[1;32m   4970\u001B[0m             \u001B[0mname\u001B[0m \u001B[0;34m=\u001B[0m \u001B[0mself\u001B[0m\u001B[0;34m.\u001B[0m\u001B[0m_get_axis_name\u001B[0m\u001B[0;34m(\u001B[0m\u001B[0maxis\u001B[0m\u001B[0;34m)\u001B[0m\u001B[0;34m\u001B[0m\u001B[0;34m\u001B[0m\u001B[0m\n\u001B[0;32m-> 4971\u001B[0;31m             \u001B[0;32mreturn\u001B[0m \u001B[0mself\u001B[0m\u001B[0;34m.\u001B[0m\u001B[0mreindex\u001B[0m\u001B[0;34m(\u001B[0m\u001B[0;34m**\u001B[0m\u001B[0;34m{\u001B[0m\u001B[0mname\u001B[0m\u001B[0;34m:\u001B[0m \u001B[0;34m[\u001B[0m\u001B[0mr\u001B[0m \u001B[0;32mfor\u001B[0m \u001B[0mr\u001B[0m \u001B[0;32min\u001B[0m \u001B[0mitems\u001B[0m \u001B[0;32mif\u001B[0m \u001B[0mr\u001B[0m \u001B[0;32min\u001B[0m \u001B[0mlabels\u001B[0m\u001B[0;34m]\u001B[0m\u001B[0;34m}\u001B[0m\u001B[0;34m)\u001B[0m\u001B[0;34m\u001B[0m\u001B[0;34m\u001B[0m\u001B[0m\n\u001B[0m\u001B[1;32m   4972\u001B[0m         \u001B[0;32melif\u001B[0m \u001B[0mlike\u001B[0m\u001B[0;34m:\u001B[0m\u001B[0;34m\u001B[0m\u001B[0;34m\u001B[0m\u001B[0m\n\u001B[1;32m   4973\u001B[0m \u001B[0;34m\u001B[0m\u001B[0m\n",
      "\u001B[0;31mTypeError\u001B[0m: 'function' object is not iterable"
     ]
    }
   ],
   "source": [
    "first = region_happiness.index[0]\n",
    "merged.filter(lambda x: x.world_region == first)"
   ]
  },
  {
   "cell_type": "markdown",
   "metadata": {},
   "source": [
    "## Task 4: How literate is the world?\n",
    "\n",
    "Print the name of countries with a level of literacy of 100%. \n",
    "\n",
    "For each country, print the name and the world region with the format: *{region name} - {country name} ({happiness score})*"
   ]
  },
  {
   "cell_type": "code",
   "execution_count": null,
   "metadata": {},
   "outputs": [],
   "source": [
    "# Write your code here"
   ]
  },
  {
   "cell_type": "markdown",
   "metadata": {},
   "source": [
    "What is the global average?"
   ]
  },
  {
   "cell_type": "code",
   "execution_count": null,
   "metadata": {},
   "outputs": [],
   "source": [
    "# Write your code here"
   ]
  },
  {
   "cell_type": "markdown",
   "metadata": {},
   "source": [
    "Calculate the proportion of countries with a literacy level below 50%. Print the value in percentage, formatted with 2 decimals."
   ]
  },
  {
   "cell_type": "code",
   "execution_count": null,
   "metadata": {},
   "outputs": [],
   "source": [
    "# Write your code here"
   ]
  },
  {
   "cell_type": "markdown",
   "metadata": {},
   "source": [
    "Print the raw number and the percentage of world population that is illiterate."
   ]
  },
  {
   "cell_type": "code",
   "execution_count": null,
   "metadata": {},
   "outputs": [],
   "source": [
    "# Write your code here"
   ]
  },
  {
   "cell_type": "markdown",
   "metadata": {},
   "source": [
    "## Task 5: Population density\n",
    "\n",
    "Add to the dataframe a new field called *population_density* computed by dividing *population* by *area*."
   ]
  },
  {
   "cell_type": "code",
   "execution_count": null,
   "metadata": {},
   "outputs": [],
   "source": [
    "# Write your code here"
   ]
  },
  {
   "cell_type": "markdown",
   "metadata": {},
   "source": [
    "What is the happiness score of the 3 countries with lowest population density?"
   ]
  },
  {
   "cell_type": "code",
   "execution_count": null,
   "metadata": {},
   "outputs": [],
   "source": [
    "# Write your code here"
   ]
  },
  {
   "cell_type": "markdown",
   "metadata": {},
   "source": [
    "## Task 6: Healty and happy?\n",
    "\n",
    "Plot in scatter plot the happiness score (x) and healty like expectancy (y)."
   ]
  },
  {
   "cell_type": "code",
   "execution_count": null,
   "metadata": {},
   "outputs": [],
   "source": [
    "# Write your code here"
   ]
  },
  {
   "cell_type": "markdown",
   "metadata": {},
   "source": [
    "Feel free to continue the exploration of the dataset! We'll release the solutions next week.\n",
    "\n",
    "----\n",
    "Enjoy EPFL and be happy, next year Switzerland must be #1."
   ]
  }
 ],
 "metadata": {
  "kernelspec": {
   "display_name": "Python 3",
   "language": "python",
   "name": "python3"
  },
  "language_info": {
   "codemirror_mode": {
    "name": "ipython",
    "version": 3
   },
   "file_extension": ".py",
   "mimetype": "text/x-python",
   "name": "python",
   "nbconvert_exporter": "python",
   "pygments_lexer": "ipython3",
   "version": "3.7.7"
  }
 },
 "nbformat": 4,
 "nbformat_minor": 4
}
{
 "cells": [
  {
   "cell_type": "markdown",
   "metadata": {
    "toc": "true"
   },
   "source": [
    "<h1>Table of Contents<span class=\"tocSkip\"></span></h1>\n",
    "<div class=\"toc\"><ul class=\"toc-item\"><li><span><a href=\"#Data-Wrangling-with-Pandas\" data-toc-modified-id=\"Data-Wrangling-with-Pandas-1\">Data Wrangling with Pandas</a></span><ul class=\"toc-item\"><li><span><a href=\"#Date/Time-data-handling\" data-toc-modified-id=\"Date/Time-data-handling-1.1\">Date/Time data handling</a></span></li><li><span><a href=\"#Merging-and-joining-DataFrame-objects\" data-toc-modified-id=\"Merging-and-joining-DataFrame-objects-1.2\">Merging and joining DataFrame objects</a></span><ul class=\"toc-item\"><li><span><a href=\"#Exercise-6\" data-toc-modified-id=\"Exercise-6-1.2.1\">Exercise 6</a></span></li></ul></li><li><span><a href=\"#Concatenation\" data-toc-modified-id=\"Concatenation-1.3\">Concatenation</a></span></li><li><span><a href=\"#Reshaping-DataFrame-objects\" data-toc-modified-id=\"Reshaping-DataFrame-objects-1.4\">Reshaping DataFrame objects</a></span></li><li><span><a href=\"#Pivoting\" data-toc-modified-id=\"Pivoting-1.5\">Pivoting</a></span></li><li><span><a href=\"#Data-transformation\" data-toc-modified-id=\"Data-transformation-1.6\">Data transformation</a></span><ul class=\"toc-item\"><li><span><a href=\"#Dealing-with-duplicates\" data-toc-modified-id=\"Dealing-with-duplicates-1.6.1\">Dealing with duplicates</a></span></li><li><span><a href=\"#Value-replacement\" data-toc-modified-id=\"Value-replacement-1.6.2\">Value replacement</a></span></li><li><span><a href=\"#Inidcator-variables\" data-toc-modified-id=\"Inidcator-variables-1.6.3\">Inidcator variables</a></span></li></ul></li><li><span><a href=\"#Categorical-Data\" data-toc-modified-id=\"Categorical-Data-1.7\">Categorical Data</a></span><ul class=\"toc-item\"><li><span><a href=\"#Discretization\" data-toc-modified-id=\"Discretization-1.7.1\">Discretization</a></span></li><li><span><a href=\"#Permutation-and-sampling\" data-toc-modified-id=\"Permutation-and-sampling-1.7.2\">Permutation and sampling</a></span></li></ul></li><li><span><a href=\"#Data-aggregation-and-GroupBy-operations\" data-toc-modified-id=\"Data-aggregation-and-GroupBy-operations-1.8\">Data aggregation and GroupBy operations</a></span><ul class=\"toc-item\"><li><span><a href=\"#Apply\" data-toc-modified-id=\"Apply-1.8.1\">Apply</a></span></li></ul></li><li><span><a href=\"#References\" data-toc-modified-id=\"References-1.9\">References</a></span></li></ul></li></ul></div>"
   ]
  },
  {
   "cell_type": "markdown",
   "metadata": {},
   "source": [
    "# Data Wrangling with Pandas\n",
    "\n",
    "Now that we have been exposed to the basic functionality of Pandas, let's explore some more advanced features that will be useful when addressing more complex data management tasks.\n",
    "\n",
    "As most statisticians/data analysts will admit, often the lion's share of the time spent implementing an analysis is devoted to preparing the data itself, rather than to coding or running a particular model that uses the data. This is where Pandas and  Python's standard library are beneficial, providing high-level, flexible, and efficient tools for manipulating your data as needed.\n"
   ]
  },
  {
   "cell_type": "code",
   "execution_count": 58,
   "metadata": {
    "collapsed": true
   },
   "outputs": [],
   "source": [
    "%matplotlib inline\n",
    "import pandas as pd\n",
    "import numpy as np\n",
    "import matplotlib.pyplot as plt\n",
    "import seaborn as sns\n",
    "sns.set_context('notebook')"
   ]
  },
  {
   "cell_type": "markdown",
   "metadata": {},
   "source": [
    "## Date/Time data handling\n",
    "\n",
    "Date and time data are inherently problematic. There are an unequal number of days in every month, an unequal number of days in a year (due to leap years), and time zones that vary over space. Yet information about time is essential in many analyses, particularly in the case of time series analysis."
   ]
  },
  {
   "cell_type": "markdown",
   "metadata": {},
   "source": [
    "The `datetime` built-in library handles temporal information down to the nanosecond."
   ]
  },
  {
   "cell_type": "code",
   "execution_count": 59,
   "metadata": {
    "collapsed": true
   },
   "outputs": [],
   "source": [
    "from datetime import datetime, date, time"
   ]
  },
  {
   "cell_type": "code",
   "execution_count": 60,
   "metadata": {},
   "outputs": [
    {
     "data": {
      "text/plain": "datetime.datetime(2022, 1, 20, 19, 56, 13, 97962)"
     },
     "execution_count": 60,
     "metadata": {},
     "output_type": "execute_result"
    }
   ],
   "source": [
    "now = datetime.now()\n",
    "now"
   ]
  },
  {
   "cell_type": "code",
   "execution_count": 61,
   "metadata": {},
   "outputs": [
    {
     "data": {
      "text/plain": "datetime.date(1970, 9, 3)"
     },
     "execution_count": 61,
     "metadata": {},
     "output_type": "execute_result"
    }
   ],
   "source": [
    "date(1970, 9, 3)"
   ]
  },
  {
   "cell_type": "markdown",
   "metadata": {},
   "source": [
    "Having a custom data type for dates and times is convenient because we can perform operations on them easily. For example, we may want to calculate the difference between two times:"
   ]
  },
  {
   "cell_type": "code",
   "execution_count": 62,
   "metadata": {},
   "outputs": [
    {
     "data": {
      "text/plain": "52.087671232876716"
     },
     "execution_count": 62,
     "metadata": {},
     "output_type": "execute_result"
    }
   ],
   "source": [
    "my_age = now - datetime(1970, 1, 1)\n",
    "my_age.days/365"
   ]
  },
  {
   "cell_type": "markdown",
   "metadata": {},
   "source": [
    "In this section, we will manipulate data collected from ocean-going vessels on the eastern seaboard. Vessel operations are monitored using the Automatic Identification System (AIS), a safety at sea navigation technology which vessels are required to maintain and that uses transponders to transmit very high frequency (VHF) radio signals containing static information including ship name, call sign, and country of origin, as well as dynamic information unique to a particular voyage such as vessel location, heading, and speed.\n",
    "\n",
    "The International Maritime Organization’s (IMO) International Convention for the Safety of Life at Sea requires functioning AIS capabilities on all vessels 300 gross tons or greater and the US Coast Guard requires AIS on nearly all vessels sailing in U.S. waters. The Coast Guard has established a national network of AIS receivers that provides coverage of nearly all U.S. waters. AIS signals are transmitted several times each minute and the network is capable of handling thousands of reports per minute and updates as often as every two seconds. Therefore, a typical voyage in our study might include the transmission of hundreds or thousands of AIS encoded signals. This provides a rich source of spatial data that includes both spatial and temporal information.\n",
    "\n",
    "For our purposes, we will use summarized data that describes the transit of a given vessel through a particular administrative area. The data includes the start and end time of the transit segment, as well as information about the speed of the vessel, how far it travelled, etc."
   ]
  },
  {
   "cell_type": "code",
   "execution_count": 63,
   "metadata": {},
   "outputs": [
    {
     "data": {
      "text/plain": "   mmsi               name  transit  segment  seg_length  avg_sog  min_sog  \\\n0     1        Us Govt Ves        1        1         5.1     13.2      9.2   \n1     1  Dredge Capt Frank        1        1        13.5     18.6     10.4   \n2     1      Us Gov Vessel        1        1         4.3     16.2     10.3   \n3     1      Us Gov Vessel        2        1         9.2     15.4     14.5   \n4     1  Dredge Capt Frank        2        1         9.2     15.4     14.6   \n\n   max_sog  pdgt10        st_time       end_time  \n0     14.5    96.5  2/10/09 16:03  2/10/09 16:27  \n1     20.6   100.0   4/6/09 14:31   4/6/09 15:20  \n2     20.5   100.0   4/6/09 14:36   4/6/09 14:55  \n3     16.1   100.0  4/10/09 17:58  4/10/09 18:34  \n4     16.2   100.0  4/10/09 17:59  4/10/09 18:35  ",
      "text/html": "<div>\n<style scoped>\n    .dataframe tbody tr th:only-of-type {\n        vertical-align: middle;\n    }\n\n    .dataframe tbody tr th {\n        vertical-align: top;\n    }\n\n    .dataframe thead th {\n        text-align: right;\n    }\n</style>\n<table border=\"1\" class=\"dataframe\">\n  <thead>\n    <tr style=\"text-align: right;\">\n      <th></th>\n      <th>mmsi</th>\n      <th>name</th>\n      <th>transit</th>\n      <th>segment</th>\n      <th>seg_length</th>\n      <th>avg_sog</th>\n      <th>min_sog</th>\n      <th>max_sog</th>\n      <th>pdgt10</th>\n      <th>st_time</th>\n      <th>end_time</th>\n    </tr>\n  </thead>\n  <tbody>\n    <tr>\n      <th>0</th>\n      <td>1</td>\n      <td>Us Govt Ves</td>\n      <td>1</td>\n      <td>1</td>\n      <td>5.1</td>\n      <td>13.2</td>\n      <td>9.2</td>\n      <td>14.5</td>\n      <td>96.5</td>\n      <td>2/10/09 16:03</td>\n      <td>2/10/09 16:27</td>\n    </tr>\n    <tr>\n      <th>1</th>\n      <td>1</td>\n      <td>Dredge Capt Frank</td>\n      <td>1</td>\n      <td>1</td>\n      <td>13.5</td>\n      <td>18.6</td>\n      <td>10.4</td>\n      <td>20.6</td>\n      <td>100.0</td>\n      <td>4/6/09 14:31</td>\n      <td>4/6/09 15:20</td>\n    </tr>\n    <tr>\n      <th>2</th>\n      <td>1</td>\n      <td>Us Gov Vessel</td>\n      <td>1</td>\n      <td>1</td>\n      <td>4.3</td>\n      <td>16.2</td>\n      <td>10.3</td>\n      <td>20.5</td>\n      <td>100.0</td>\n      <td>4/6/09 14:36</td>\n      <td>4/6/09 14:55</td>\n    </tr>\n    <tr>\n      <th>3</th>\n      <td>1</td>\n      <td>Us Gov Vessel</td>\n      <td>2</td>\n      <td>1</td>\n      <td>9.2</td>\n      <td>15.4</td>\n      <td>14.5</td>\n      <td>16.1</td>\n      <td>100.0</td>\n      <td>4/10/09 17:58</td>\n      <td>4/10/09 18:34</td>\n    </tr>\n    <tr>\n      <th>4</th>\n      <td>1</td>\n      <td>Dredge Capt Frank</td>\n      <td>2</td>\n      <td>1</td>\n      <td>9.2</td>\n      <td>15.4</td>\n      <td>14.6</td>\n      <td>16.2</td>\n      <td>100.0</td>\n      <td>4/10/09 17:59</td>\n      <td>4/10/09 18:35</td>\n    </tr>\n  </tbody>\n</table>\n</div>"
     },
     "execution_count": 63,
     "metadata": {},
     "output_type": "execute_result"
    }
   ],
   "source": [
    "segments = pd.read_csv(\"Data/transit_segments.csv\")\n",
    "segments.head()"
   ]
  },
  {
   "cell_type": "markdown",
   "metadata": {},
   "source": [
    "For example, we might be interested in the distribution of transit lengths, so we can plot them as a histogram:"
   ]
  },
  {
   "cell_type": "code",
   "execution_count": 64,
   "metadata": {},
   "outputs": [
    {
     "data": {
      "text/plain": "<AxesSubplot:>"
     },
     "execution_count": 64,
     "metadata": {},
     "output_type": "execute_result"
    },
    {
     "data": {
      "text/plain": "<Figure size 640x480 with 1 Axes>",
      "image/png": "[encoded data removed]"
     },
     "metadata": {},
     "output_type": "display_data"
    }
   ],
   "source": [
    "segments.seg_length.hist(bins=500)"
   ]
  },
  {
   "cell_type": "markdown",
   "metadata": {},
   "source": [
    "Though most of the transits appear to be short, there are a few longer distances that make the plot difficult to read. This is where a transformation is useful:"
   ]
  },
  {
   "cell_type": "code",
   "execution_count": 65,
   "metadata": {},
   "outputs": [
    {
     "data": {
      "text/plain": "<AxesSubplot:>"
     },
     "execution_count": 65,
     "metadata": {},
     "output_type": "execute_result"
    },
    {
     "data": {
      "text/plain": "<Figure size 640x480 with 1 Axes>",
      "image/png": "[encoded data removed]"
     },
     "metadata": {},
     "output_type": "display_data"
    }
   ],
   "source": [
    "segments.seg_length.apply(np.log).hist(bins=500)"
   ]
  },
  {
   "cell_type": "markdown",
   "metadata": {},
   "source": [
    "We can see that although there are date/time fields in the dataset, they are not in any specialized format, such as `datetime`."
   ]
  },
  {
   "cell_type": "markdown",
   "metadata": {},
   "source": [
    "Our first order of business will be to convert these data to `datetime`. The `strptime` method parses a string representation of a date and/or time field, according to the expected format of this information."
   ]
  },
  {
   "cell_type": "code",
   "execution_count": 66,
   "metadata": {},
   "outputs": [
    {
     "data": {
      "text/plain": "datetime.datetime(2009, 2, 10, 16, 3)"
     },
     "execution_count": 66,
     "metadata": {},
     "output_type": "execute_result"
    }
   ],
   "source": [
    "datetime.strptime(segments.st_time.iloc[0], '%m/%d/%y %H:%M')"
   ]
  },
  {
   "cell_type": "markdown",
   "metadata": {},
   "source": [
    "The `dateutil` package includes a parser that attempts to detect the format of the date strings, and convert them automatically."
   ]
  },
  {
   "cell_type": "code",
   "execution_count": 67,
   "metadata": {
    "collapsed": true
   },
   "outputs": [],
   "source": [
    "from dateutil.parser import parse"
   ]
  },
  {
   "cell_type": "code",
   "execution_count": 68,
   "metadata": {},
   "outputs": [
    {
     "data": {
      "text/plain": "datetime.datetime(2009, 2, 10, 16, 3)"
     },
     "execution_count": 68,
     "metadata": {},
     "output_type": "execute_result"
    }
   ],
   "source": [
    "parse(segments.st_time.iloc[0])"
   ]
  },
  {
   "cell_type": "markdown",
   "metadata": {},
   "source": [
    "We can convert all the dates in a particular column by using the `apply` method."
   ]
  },
  {
   "cell_type": "code",
   "execution_count": 69,
   "metadata": {},
   "outputs": [
    {
     "data": {
      "text/plain": "0   2009-02-10 16:03:00\n1   2009-04-06 14:31:00\n2   2009-04-06 14:36:00\n3   2009-04-10 17:58:00\n4   2009-04-10 17:59:00\n5   2010-03-20 16:06:00\n6   2010-03-20 18:05:00\n7   2011-05-04 11:28:00\n8   2010-06-05 11:23:00\n9   2010-06-08 11:03:00\nName: st_time, dtype: datetime64[ns]"
     },
     "execution_count": 69,
     "metadata": {},
     "output_type": "execute_result"
    }
   ],
   "source": [
    "segments.st_time.apply(lambda d: datetime.strptime(d, '%m/%d/%y %H:%M')).head(10)"
   ]
  },
  {
   "cell_type": "markdown",
   "metadata": {},
   "source": [
    "As a convenience, Pandas has a `to_datetime` method that will parse and convert an entire `Series` of formatted strings into `datetime` objects."
   ]
  },
  {
   "cell_type": "code",
   "execution_count": 70,
   "metadata": {},
   "outputs": [
    {
     "data": {
      "text/plain": "0   2009-02-10 16:03:00\n1   2009-04-06 14:31:00\n2   2009-04-06 14:36:00\n3   2009-04-10 17:58:00\n4   2009-04-10 17:59:00\n5   2010-03-20 16:06:00\n6   2010-03-20 18:05:00\n7   2011-05-04 11:28:00\n8   2010-06-05 11:23:00\n9   2010-06-08 11:03:00\nName: st_time, dtype: datetime64[ns]"
     },
     "execution_count": 70,
     "metadata": {},
     "output_type": "execute_result"
    }
   ],
   "source": [
    "pd.to_datetime(segments.st_time[:10])"
   ]
  },
  {
   "cell_type": "markdown",
   "metadata": {},
   "source": [
    "Pandas also has a custom NA value for missing datetime objects, `NaT`."
   ]
  },
  {
   "cell_type": "code",
   "execution_count": 71,
   "metadata": {},
   "outputs": [
    {
     "data": {
      "text/plain": "DatetimeIndex(['NaT'], dtype='datetime64[ns]', freq=None)"
     },
     "execution_count": 71,
     "metadata": {},
     "output_type": "execute_result"
    }
   ],
   "source": [
    "pd.to_datetime([None])"
   ]
  },
  {
   "cell_type": "markdown",
   "metadata": {},
   "source": [
    "Also, if `to_datetime()` has problems parsing any particular date/time format, you can pass the spec in using the `format=` argument."
   ]
  },
  {
   "cell_type": "markdown",
   "metadata": {},
   "source": [
    "The `read_*` functions now have an optional `parse_dates` argument that try to convert any columns passed to it into `datetime` format upon import:"
   ]
  },
  {
   "cell_type": "code",
   "execution_count": 72,
   "metadata": {
    "collapsed": true
   },
   "outputs": [],
   "source": [
    "segments = pd.read_csv(\"Data/transit_segments.csv\", parse_dates=['st_time', 'end_time'], nrows=1000)"
   ]
  },
  {
   "cell_type": "code",
   "execution_count": 73,
   "metadata": {},
   "outputs": [
    {
     "data": {
      "text/plain": "mmsi                   int64\nname                  object\ntransit                int64\nsegment                int64\nseg_length           float64\navg_sog              float64\nmin_sog              float64\nmax_sog              float64\npdgt10               float64\nst_time       datetime64[ns]\nend_time      datetime64[ns]\ndtype: object"
     },
     "execution_count": 73,
     "metadata": {},
     "output_type": "execute_result"
    }
   ],
   "source": [
    "segments.dtypes"
   ]
  },
  {
   "cell_type": "markdown",
   "metadata": {},
   "source": [
    "Columns of the `datetime` type have an **accessor** to easily extract properties of the data type. This will return a `Series`, with the same row index as the `DataFrame`. For example:"
   ]
  },
  {
   "cell_type": "code",
   "execution_count": 74,
   "metadata": {},
   "outputs": [
    {
     "data": {
      "text/plain": "0    2\n1    4\n2    4\n3    4\n4    4\nName: st_time, dtype: int64"
     },
     "execution_count": 74,
     "metadata": {},
     "output_type": "execute_result"
    }
   ],
   "source": [
    "segments.st_time.dt.month.head()"
   ]
  },
  {
   "cell_type": "markdown",
   "metadata": {},
   "source": [
    "This can be used to easily filter rows by particular temporal attributes:"
   ]
  },
  {
   "cell_type": "code",
   "execution_count": 75,
   "metadata": {},
   "outputs": [
    {
     "data": {
      "text/plain": "    mmsi         name  transit  segment  seg_length  avg_sog  min_sog  \\\n0      1  Us Govt Ves        1        1         5.1     13.2      9.2   \n78  3011   Charleston       16        1        18.9      0.3      0.0   \n79  3011   Charleston       17        1        19.2      0.3      0.0   \n80  3011   Charleston       18        1        24.7      0.3      0.0   \n81  3011   Charleston       19        1        40.1      0.4      0.0   \n\n    max_sog  pdgt10             st_time            end_time  \n0      14.5    96.5 2009-02-10 16:03:00 2009-02-10 16:27:00  \n78     16.1     0.5 2010-02-07 07:26:00 2010-02-09 19:27:00  \n79      6.4     0.0 2010-02-11 16:56:00 2010-02-14 14:31:00  \n80      5.7     0.0 2010-02-19 11:53:00 2010-02-22 16:50:00  \n81     16.3     0.1 2010-02-23 15:15:00 2010-03-02 14:25:00  ",
      "text/html": "<div>\n<style scoped>\n    .dataframe tbody tr th:only-of-type {\n        vertical-align: middle;\n    }\n\n    .dataframe tbody tr th {\n        vertical-align: top;\n    }\n\n    .dataframe thead th {\n        text-align: right;\n    }\n</style>\n<table border=\"1\" class=\"dataframe\">\n  <thead>\n    <tr style=\"text-align: right;\">\n      <th></th>\n      <th>mmsi</th>\n      <th>name</th>\n      <th>transit</th>\n      <th>segment</th>\n      <th>seg_length</th>\n      <th>avg_sog</th>\n      <th>min_sog</th>\n      <th>max_sog</th>\n      <th>pdgt10</th>\n      <th>st_time</th>\n      <th>end_time</th>\n    </tr>\n  </thead>\n  <tbody>\n    <tr>\n      <th>0</th>\n      <td>1</td>\n      <td>Us Govt Ves</td>\n      <td>1</td>\n      <td>1</td>\n      <td>5.1</td>\n      <td>13.2</td>\n      <td>9.2</td>\n      <td>14.5</td>\n      <td>96.5</td>\n      <td>2009-02-10 16:03:00</td>\n      <td>2009-02-10 16:27:00</td>\n    </tr>\n    <tr>\n      <th>78</th>\n      <td>3011</td>\n      <td>Charleston</td>\n      <td>16</td>\n      <td>1</td>\n      <td>18.9</td>\n      <td>0.3</td>\n      <td>0.0</td>\n      <td>16.1</td>\n      <td>0.5</td>\n      <td>2010-02-07 07:26:00</td>\n      <td>2010-02-09 19:27:00</td>\n    </tr>\n    <tr>\n      <th>79</th>\n      <td>3011</td>\n      <td>Charleston</td>\n      <td>17</td>\n      <td>1</td>\n      <td>19.2</td>\n      <td>0.3</td>\n      <td>0.0</td>\n      <td>6.4</td>\n      <td>0.0</td>\n      <td>2010-02-11 16:56:00</td>\n      <td>2010-02-14 14:31:00</td>\n    </tr>\n    <tr>\n      <th>80</th>\n      <td>3011</td>\n      <td>Charleston</td>\n      <td>18</td>\n      <td>1</td>\n      <td>24.7</td>\n      <td>0.3</td>\n      <td>0.0</td>\n      <td>5.7</td>\n      <td>0.0</td>\n      <td>2010-02-19 11:53:00</td>\n      <td>2010-02-22 16:50:00</td>\n    </tr>\n    <tr>\n      <th>81</th>\n      <td>3011</td>\n      <td>Charleston</td>\n      <td>19</td>\n      <td>1</td>\n      <td>40.1</td>\n      <td>0.4</td>\n      <td>0.0</td>\n      <td>16.3</td>\n      <td>0.1</td>\n      <td>2010-02-23 15:15:00</td>\n      <td>2010-03-02 14:25:00</td>\n    </tr>\n  </tbody>\n</table>\n</div>"
     },
     "execution_count": 75,
     "metadata": {},
     "output_type": "execute_result"
    }
   ],
   "source": [
    "segments[segments.st_time.dt.month==2].head()"
   ]
  },
  {
   "cell_type": "markdown",
   "metadata": {},
   "source": [
    "## Merging and joining DataFrame objects"
   ]
  },
  {
   "cell_type": "markdown",
   "metadata": {},
   "source": [
    "Now that we have the vessel transit information as we need it, we may want a little more information regarding the vessels themselves. In the `data/AIS` folder there is a second table that contains information about each of the ships that traveled the segments in the `segments` table."
   ]
  },
  {
   "cell_type": "code",
   "execution_count": 76,
   "metadata": {},
   "outputs": [
    {
     "data": {
      "text/plain": "      num_names                                              names sov  \\\nmmsi                                                                     \n1             8  Bil Holman Dredge/Dredge Capt Frank/Emo/Offsho...   Y   \n9             3                         000000009/Raven/Shearwater   N   \n21            1                                      Us Gov Vessel   Y   \n74            2                                  Mcfaul/Sarah Bell   N   \n103           3           Ron G/Us Navy Warship 103/Us Warship 103   Y   \n\n         flag flag_type  num_loas                                    loa  \\\nmmsi                                                                       \n1     Unknown   Unknown         7  42.0/48.0/57.0/90.0/138.0/154.0/156.0   \n9     Unknown   Unknown         2                              50.0/62.0   \n21    Unknown   Unknown         1                                  208.0   \n74    Unknown   Unknown         1                                  155.0   \n103   Unknown   Unknown         2                             26.0/155.0   \n\n      max_loa  num_types                             type  \nmmsi                                                       \n1       156.0          4  Dredging/MilOps/Reserved/Towing  \n9        62.0          2                     Pleasure/Tug  \n21      208.0          1                          Unknown  \n74      155.0          1                          Unknown  \n103     155.0          2                   Tanker/Unknown  ",
      "text/html": "<div>\n<style scoped>\n    .dataframe tbody tr th:only-of-type {\n        vertical-align: middle;\n    }\n\n    .dataframe tbody tr th {\n        vertical-align: top;\n    }\n\n    .dataframe thead th {\n        text-align: right;\n    }\n</style>\n<table border=\"1\" class=\"dataframe\">\n  <thead>\n    <tr style=\"text-align: right;\">\n      <th></th>\n      <th>num_names</th>\n      <th>names</th>\n      <th>sov</th>\n      <th>flag</th>\n      <th>flag_type</th>\n      <th>num_loas</th>\n      <th>loa</th>\n      <th>max_loa</th>\n      <th>num_types</th>\n      <th>type</th>\n    </tr>\n    <tr>\n      <th>mmsi</th>\n      <th></th>\n      <th></th>\n      <th></th>\n      <th></th>\n      <th></th>\n      <th></th>\n      <th></th>\n      <th></th>\n      <th></th>\n      <th></th>\n    </tr>\n  </thead>\n  <tbody>\n    <tr>\n      <th>1</th>\n      <td>8</td>\n      <td>Bil Holman Dredge/Dredge Capt Frank/Emo/Offsho...</td>\n      <td>Y</td>\n      <td>Unknown</td>\n      <td>Unknown</td>\n      <td>7</td>\n      <td>42.0/48.0/57.0/90.0/138.0/154.0/156.0</td>\n      <td>156.0</td>\n      <td>4</td>\n      <td>Dredging/MilOps/Reserved/Towing</td>\n    </tr>\n    <tr>\n      <th>9</th>\n      <td>3</td>\n      <td>000000009/Raven/Shearwater</td>\n      <td>N</td>\n      <td>Unknown</td>\n      <td>Unknown</td>\n      <td>2</td>\n      <td>50.0/62.0</td>\n      <td>62.0</td>\n      <td>2</td>\n      <td>Pleasure/Tug</td>\n    </tr>\n    <tr>\n      <th>21</th>\n      <td>1</td>\n      <td>Us Gov Vessel</td>\n      <td>Y</td>\n      <td>Unknown</td>\n      <td>Unknown</td>\n      <td>1</td>\n      <td>208.0</td>\n      <td>208.0</td>\n      <td>1</td>\n      <td>Unknown</td>\n    </tr>\n    <tr>\n      <th>74</th>\n      <td>2</td>\n      <td>Mcfaul/Sarah Bell</td>\n      <td>N</td>\n      <td>Unknown</td>\n      <td>Unknown</td>\n      <td>1</td>\n      <td>155.0</td>\n      <td>155.0</td>\n      <td>1</td>\n      <td>Unknown</td>\n    </tr>\n    <tr>\n      <th>103</th>\n      <td>3</td>\n      <td>Ron G/Us Navy Warship 103/Us Warship 103</td>\n      <td>Y</td>\n      <td>Unknown</td>\n      <td>Unknown</td>\n      <td>2</td>\n      <td>26.0/155.0</td>\n      <td>155.0</td>\n      <td>2</td>\n      <td>Tanker/Unknown</td>\n    </tr>\n  </tbody>\n</table>\n</div>"
     },
     "execution_count": 76,
     "metadata": {},
     "output_type": "execute_result"
    }
   ],
   "source": [
    "vessels = pd.read_csv(\"Data/vessel_information.csv\", index_col='mmsi')\n",
    "vessels.head()"
   ]
  },
  {
   "cell_type": "markdown",
   "metadata": {},
   "source": [
    "The challenge is that several ships have travelled multiple segments, so there is not a one-to-one relationship between the rows of the two tables. **The table of vessel information has a *one-to-many* relationship with the segments**.\n",
    "\n",
    "In Pandas, we can combine tables according to the value of one or more *keys* that are used to identify rows, much like an index. Using a trivial example:"
   ]
  },
  {
   "cell_type": "code",
   "execution_count": 77,
   "metadata": {},
   "outputs": [
    {
     "data": {
      "text/plain": "   id  age\n0   0   26\n1   1   18\n2   2   24\n3   3   27",
      "text/html": "<div>\n<style scoped>\n    .dataframe tbody tr th:only-of-type {\n        vertical-align: middle;\n    }\n\n    .dataframe tbody tr th {\n        vertical-align: top;\n    }\n\n    .dataframe thead th {\n        text-align: right;\n    }\n</style>\n<table border=\"1\" class=\"dataframe\">\n  <thead>\n    <tr style=\"text-align: right;\">\n      <th></th>\n      <th>id</th>\n      <th>age</th>\n    </tr>\n  </thead>\n  <tbody>\n    <tr>\n      <th>0</th>\n      <td>0</td>\n      <td>26</td>\n    </tr>\n    <tr>\n      <th>1</th>\n      <td>1</td>\n      <td>18</td>\n    </tr>\n    <tr>\n      <th>2</th>\n      <td>2</td>\n      <td>24</td>\n    </tr>\n    <tr>\n      <th>3</th>\n      <td>3</td>\n      <td>27</td>\n    </tr>\n  </tbody>\n</table>\n</div>"
     },
     "execution_count": 77,
     "metadata": {},
     "output_type": "execute_result"
    }
   ],
   "source": [
    "df1 = pd.DataFrame(dict(id=range(4), age=np.random.randint(18, 31, size=4)))\n",
    "df2 = pd.DataFrame(dict(id=list(range(3))+list(range(3)), \n",
    "                        score=np.random.random(size=6)))\n",
    "\n",
    "df1"
   ]
  },
  {
   "cell_type": "code",
   "execution_count": 78,
   "metadata": {},
   "outputs": [
    {
     "data": {
      "text/plain": "   id     score\n0   0  0.784065\n1   1  0.350215\n2   2  0.238384\n3   0  0.022002\n4   1  0.522812\n5   2  0.997439",
      "text/html": "<div>\n<style scoped>\n    .dataframe tbody tr th:only-of-type {\n        vertical-align: middle;\n    }\n\n    .dataframe tbody tr th {\n        vertical-align: top;\n    }\n\n    .dataframe thead th {\n        text-align: right;\n    }\n</style>\n<table border=\"1\" class=\"dataframe\">\n  <thead>\n    <tr style=\"text-align: right;\">\n      <th></th>\n      <th>id</th>\n      <th>score</th>\n    </tr>\n  </thead>\n  <tbody>\n    <tr>\n      <th>0</th>\n      <td>0</td>\n      <td>0.784065</td>\n    </tr>\n    <tr>\n      <th>1</th>\n      <td>1</td>\n      <td>0.350215</td>\n    </tr>\n    <tr>\n      <th>2</th>\n      <td>2</td>\n      <td>0.238384</td>\n    </tr>\n    <tr>\n      <th>3</th>\n      <td>0</td>\n      <td>0.022002</td>\n    </tr>\n    <tr>\n      <th>4</th>\n      <td>1</td>\n      <td>0.522812</td>\n    </tr>\n    <tr>\n      <th>5</th>\n      <td>2</td>\n      <td>0.997439</td>\n    </tr>\n  </tbody>\n</table>\n</div>"
     },
     "execution_count": 78,
     "metadata": {},
     "output_type": "execute_result"
    }
   ],
   "source": [
    "df2"
   ]
  },
  {
   "cell_type": "code",
   "execution_count": 79,
   "metadata": {},
   "outputs": [
    {
     "data": {
      "text/plain": "   id  age     score\n0   0   26  0.784065\n1   0   26  0.022002\n2   1   18  0.350215\n3   1   18  0.522812\n4   2   24  0.238384\n5   2   24  0.997439",
      "text/html": "<div>\n<style scoped>\n    .dataframe tbody tr th:only-of-type {\n        vertical-align: middle;\n    }\n\n    .dataframe tbody tr th {\n        vertical-align: top;\n    }\n\n    .dataframe thead th {\n        text-align: right;\n    }\n</style>\n<table border=\"1\" class=\"dataframe\">\n  <thead>\n    <tr style=\"text-align: right;\">\n      <th></th>\n      <th>id</th>\n      <th>age</th>\n      <th>score</th>\n    </tr>\n  </thead>\n  <tbody>\n    <tr>\n      <th>0</th>\n      <td>0</td>\n      <td>26</td>\n      <td>0.784065</td>\n    </tr>\n    <tr>\n      <th>1</th>\n      <td>0</td>\n      <td>26</td>\n      <td>0.022002</td>\n    </tr>\n    <tr>\n      <th>2</th>\n      <td>1</td>\n      <td>18</td>\n      <td>0.350215</td>\n    </tr>\n    <tr>\n      <th>3</th>\n      <td>1</td>\n      <td>18</td>\n      <td>0.522812</td>\n    </tr>\n    <tr>\n      <th>4</th>\n      <td>2</td>\n      <td>24</td>\n      <td>0.238384</td>\n    </tr>\n    <tr>\n      <th>5</th>\n      <td>2</td>\n      <td>24</td>\n      <td>0.997439</td>\n    </tr>\n  </tbody>\n</table>\n</div>"
     },
     "execution_count": 79,
     "metadata": {},
     "output_type": "execute_result"
    }
   ],
   "source": [
    "pd.merge(df1, df2)"
   ]
  },
  {
   "cell_type": "markdown",
   "metadata": {},
   "source": [
    "Notice that without any information about which column to use as a key, Pandas did the right thing and used the `id` column in both tables. Unless specified otherwise, `merge` will used any common column names as keys for merging the tables. \n",
    "\n",
    "Notice also that `id=3` from `df1` was omitted from the merged table. This is because, by default, `merge` performs an **inner join** on the tables, meaning that the merged table represents an intersection of the two tables."
   ]
  },
  {
   "cell_type": "code",
   "execution_count": 80,
   "metadata": {},
   "outputs": [
    {
     "data": {
      "text/plain": "   id  age     score\n0   0   26  0.784065\n1   0   26  0.022002\n2   1   18  0.350215\n3   1   18  0.522812\n4   2   24  0.238384\n5   2   24  0.997439\n6   3   27       NaN",
      "text/html": "<div>\n<style scoped>\n    .dataframe tbody tr th:only-of-type {\n        vertical-align: middle;\n    }\n\n    .dataframe tbody tr th {\n        vertical-align: top;\n    }\n\n    .dataframe thead th {\n        text-align: right;\n    }\n</style>\n<table border=\"1\" class=\"dataframe\">\n  <thead>\n    <tr style=\"text-align: right;\">\n      <th></th>\n      <th>id</th>\n      <th>age</th>\n      <th>score</th>\n    </tr>\n  </thead>\n  <tbody>\n    <tr>\n      <th>0</th>\n      <td>0</td>\n      <td>26</td>\n      <td>0.784065</td>\n    </tr>\n    <tr>\n      <th>1</th>\n      <td>0</td>\n      <td>26</td>\n      <td>0.022002</td>\n    </tr>\n    <tr>\n      <th>2</th>\n      <td>1</td>\n      <td>18</td>\n      <td>0.350215</td>\n    </tr>\n    <tr>\n      <th>3</th>\n      <td>1</td>\n      <td>18</td>\n      <td>0.522812</td>\n    </tr>\n    <tr>\n      <th>4</th>\n      <td>2</td>\n      <td>24</td>\n      <td>0.238384</td>\n    </tr>\n    <tr>\n      <th>5</th>\n      <td>2</td>\n      <td>24</td>\n      <td>0.997439</td>\n    </tr>\n    <tr>\n      <th>6</th>\n      <td>3</td>\n      <td>27</td>\n      <td>NaN</td>\n    </tr>\n  </tbody>\n</table>\n</div>"
     },
     "execution_count": 80,
     "metadata": {},
     "output_type": "execute_result"
    }
   ],
   "source": [
    "pd.merge(df1, df2, how='outer')"
   ]
  },
  {
   "cell_type": "markdown",
   "metadata": {},
   "source": [
    "The **outer join** above yields the union of the two tables, so all rows are represented, with missing values inserted as appropriate. One can also perform **right** and **left** joins to include all rows of the right or left table (*i.e.* first or second argument to `merge`), but not necessarily the other."
   ]
  },
  {
   "cell_type": "markdown",
   "metadata": {},
   "source": [
    "Looking at the two datasets that we wish to merge:"
   ]
  },
  {
   "cell_type": "code",
   "execution_count": 81,
   "metadata": {},
   "outputs": [
    {
     "data": {
      "text/plain": "   mmsi         name  transit  segment  seg_length  avg_sog  min_sog  max_sog  \\\n0     1  Us Govt Ves        1        1         5.1     13.2      9.2     14.5   \n\n   pdgt10             st_time            end_time  \n0    96.5 2009-02-10 16:03:00 2009-02-10 16:27:00  ",
      "text/html": "<div>\n<style scoped>\n    .dataframe tbody tr th:only-of-type {\n        vertical-align: middle;\n    }\n\n    .dataframe tbody tr th {\n        vertical-align: top;\n    }\n\n    .dataframe thead th {\n        text-align: right;\n    }\n</style>\n<table border=\"1\" class=\"dataframe\">\n  <thead>\n    <tr style=\"text-align: right;\">\n      <th></th>\n      <th>mmsi</th>\n      <th>name</th>\n      <th>transit</th>\n      <th>segment</th>\n      <th>seg_length</th>\n      <th>avg_sog</th>\n      <th>min_sog</th>\n      <th>max_sog</th>\n      <th>pdgt10</th>\n      <th>st_time</th>\n      <th>end_time</th>\n    </tr>\n  </thead>\n  <tbody>\n    <tr>\n      <th>0</th>\n      <td>1</td>\n      <td>Us Govt Ves</td>\n      <td>1</td>\n      <td>1</td>\n      <td>5.1</td>\n      <td>13.2</td>\n      <td>9.2</td>\n      <td>14.5</td>\n      <td>96.5</td>\n      <td>2009-02-10 16:03:00</td>\n      <td>2009-02-10 16:27:00</td>\n    </tr>\n  </tbody>\n</table>\n</div>"
     },
     "execution_count": 81,
     "metadata": {},
     "output_type": "execute_result"
    }
   ],
   "source": [
    "segments.head(1)"
   ]
  },
  {
   "cell_type": "code",
   "execution_count": 82,
   "metadata": {},
   "outputs": [
    {
     "data": {
      "text/plain": "      num_names                                              names sov  \\\nmmsi                                                                     \n1             8  Bil Holman Dredge/Dredge Capt Frank/Emo/Offsho...   Y   \n\n         flag flag_type  num_loas                                    loa  \\\nmmsi                                                                       \n1     Unknown   Unknown         7  42.0/48.0/57.0/90.0/138.0/154.0/156.0   \n\n      max_loa  num_types                             type  \nmmsi                                                       \n1       156.0          4  Dredging/MilOps/Reserved/Towing  ",
      "text/html": "<div>\n<style scoped>\n    .dataframe tbody tr th:only-of-type {\n        vertical-align: middle;\n    }\n\n    .dataframe tbody tr th {\n        vertical-align: top;\n    }\n\n    .dataframe thead th {\n        text-align: right;\n    }\n</style>\n<table border=\"1\" class=\"dataframe\">\n  <thead>\n    <tr style=\"text-align: right;\">\n      <th></th>\n      <th>num_names</th>\n      <th>names</th>\n      <th>sov</th>\n      <th>flag</th>\n      <th>flag_type</th>\n      <th>num_loas</th>\n      <th>loa</th>\n      <th>max_loa</th>\n      <th>num_types</th>\n      <th>type</th>\n    </tr>\n    <tr>\n      <th>mmsi</th>\n      <th></th>\n      <th></th>\n      <th></th>\n      <th></th>\n      <th></th>\n      <th></th>\n      <th></th>\n      <th></th>\n      <th></th>\n      <th></th>\n    </tr>\n  </thead>\n  <tbody>\n    <tr>\n      <th>1</th>\n      <td>8</td>\n      <td>Bil Holman Dredge/Dredge Capt Frank/Emo/Offsho...</td>\n      <td>Y</td>\n      <td>Unknown</td>\n      <td>Unknown</td>\n      <td>7</td>\n      <td>42.0/48.0/57.0/90.0/138.0/154.0/156.0</td>\n      <td>156.0</td>\n      <td>4</td>\n      <td>Dredging/MilOps/Reserved/Towing</td>\n    </tr>\n  </tbody>\n</table>\n</div>"
     },
     "execution_count": 82,
     "metadata": {},
     "output_type": "execute_result"
    }
   ],
   "source": [
    "vessels.head(1)"
   ]
  },
  {
   "cell_type": "markdown",
   "metadata": {},
   "source": [
    "we see that there is a `mmsi` value (a vessel identifier) in each table, but it is used as an index for the `vessels` table. In this case, we have to specify to join on the index for this table, and on the `mmsi` column for the other."
   ]
  },
  {
   "cell_type": "code",
   "execution_count": 83,
   "metadata": {
    "collapsed": true
   },
   "outputs": [],
   "source": [
    "segments_merged = pd.merge(vessels, segments, left_index=True, right_on='mmsi')"
   ]
  },
  {
   "cell_type": "code",
   "execution_count": 84,
   "metadata": {},
   "outputs": [
    {
     "data": {
      "text/plain": "   num_names                                              names sov     flag  \\\n0          8  Bil Holman Dredge/Dredge Capt Frank/Emo/Offsho...   Y  Unknown   \n1          8  Bil Holman Dredge/Dredge Capt Frank/Emo/Offsho...   Y  Unknown   \n2          8  Bil Holman Dredge/Dredge Capt Frank/Emo/Offsho...   Y  Unknown   \n3          8  Bil Holman Dredge/Dredge Capt Frank/Emo/Offsho...   Y  Unknown   \n4          8  Bil Holman Dredge/Dredge Capt Frank/Emo/Offsho...   Y  Unknown   \n\n  flag_type  num_loas                                    loa  max_loa  \\\n0   Unknown         7  42.0/48.0/57.0/90.0/138.0/154.0/156.0    156.0   \n1   Unknown         7  42.0/48.0/57.0/90.0/138.0/154.0/156.0    156.0   \n2   Unknown         7  42.0/48.0/57.0/90.0/138.0/154.0/156.0    156.0   \n3   Unknown         7  42.0/48.0/57.0/90.0/138.0/154.0/156.0    156.0   \n4   Unknown         7  42.0/48.0/57.0/90.0/138.0/154.0/156.0    156.0   \n\n   num_types                             type  ...               name transit  \\\n0          4  Dredging/MilOps/Reserved/Towing  ...        Us Govt Ves       1   \n1          4  Dredging/MilOps/Reserved/Towing  ...  Dredge Capt Frank       1   \n2          4  Dredging/MilOps/Reserved/Towing  ...      Us Gov Vessel       1   \n3          4  Dredging/MilOps/Reserved/Towing  ...      Us Gov Vessel       2   \n4          4  Dredging/MilOps/Reserved/Towing  ...  Dredge Capt Frank       2   \n\n   segment  seg_length  avg_sog  min_sog  max_sog  pdgt10             st_time  \\\n0        1         5.1     13.2      9.2     14.5    96.5 2009-02-10 16:03:00   \n1        1        13.5     18.6     10.4     20.6   100.0 2009-04-06 14:31:00   \n2        1         4.3     16.2     10.3     20.5   100.0 2009-04-06 14:36:00   \n3        1         9.2     15.4     14.5     16.1   100.0 2009-04-10 17:58:00   \n4        1         9.2     15.4     14.6     16.2   100.0 2009-04-10 17:59:00   \n\n             end_time  \n0 2009-02-10 16:27:00  \n1 2009-04-06 15:20:00  \n2 2009-04-06 14:55:00  \n3 2009-04-10 18:34:00  \n4 2009-04-10 18:35:00  \n\n[5 rows x 21 columns]",
      "text/html": "<div>\n<style scoped>\n    .dataframe tbody tr th:only-of-type {\n        vertical-align: middle;\n    }\n\n    .dataframe tbody tr th {\n        vertical-align: top;\n    }\n\n    .dataframe thead th {\n        text-align: right;\n    }\n</style>\n<table border=\"1\" class=\"dataframe\">\n  <thead>\n    <tr style=\"text-align: right;\">\n      <th></th>\n      <th>num_names</th>\n      <th>names</th>\n      <th>sov</th>\n      <th>flag</th>\n      <th>flag_type</th>\n      <th>num_loas</th>\n      <th>loa</th>\n      <th>max_loa</th>\n      <th>num_types</th>\n      <th>type</th>\n      <th>...</th>\n      <th>name</th>\n      <th>transit</th>\n      <th>segment</th>\n      <th>seg_length</th>\n      <th>avg_sog</th>\n      <th>min_sog</th>\n      <th>max_sog</th>\n      <th>pdgt10</th>\n      <th>st_time</th>\n      <th>end_time</th>\n    </tr>\n  </thead>\n  <tbody>\n    <tr>\n      <th>0</th>\n      <td>8</td>\n      <td>Bil Holman Dredge/Dredge Capt Frank/Emo/Offsho...</td>\n      <td>Y</td>\n      <td>Unknown</td>\n      <td>Unknown</td>\n      <td>7</td>\n      <td>42.0/48.0/57.0/90.0/138.0/154.0/156.0</td>\n      <td>156.0</td>\n      <td>4</td>\n      <td>Dredging/MilOps/Reserved/Towing</td>\n      <td>...</td>\n      <td>Us Govt Ves</td>\n      <td>1</td>\n      <td>1</td>\n      <td>5.1</td>\n      <td>13.2</td>\n      <td>9.2</td>\n      <td>14.5</td>\n      <td>96.5</td>\n      <td>2009-02-10 16:03:00</td>\n      <td>2009-02-10 16:27:00</td>\n    </tr>\n    <tr>\n      <th>1</th>\n      <td>8</td>\n      <td>Bil Holman Dredge/Dredge Capt Frank/Emo/Offsho...</td>\n      <td>Y</td>\n      <td>Unknown</td>\n      <td>Unknown</td>\n      <td>7</td>\n      <td>42.0/48.0/57.0/90.0/138.0/154.0/156.0</td>\n      <td>156.0</td>\n      <td>4</td>\n      <td>Dredging/MilOps/Reserved/Towing</td>\n      <td>...</td>\n      <td>Dredge Capt Frank</td>\n      <td>1</td>\n      <td>1</td>\n      <td>13.5</td>\n      <td>18.6</td>\n      <td>10.4</td>\n      <td>20.6</td>\n      <td>100.0</td>\n      <td>2009-04-06 14:31:00</td>\n      <td>2009-04-06 15:20:00</td>\n    </tr>\n    <tr>\n      <th>2</th>\n      <td>8</td>\n      <td>Bil Holman Dredge/Dredge Capt Frank/Emo/Offsho...</td>\n      <td>Y</td>\n      <td>Unknown</td>\n      <td>Unknown</td>\n      <td>7</td>\n      <td>42.0/48.0/57.0/90.0/138.0/154.0/156.0</td>\n      <td>156.0</td>\n      <td>4</td>\n      <td>Dredging/MilOps/Reserved/Towing</td>\n      <td>...</td>\n      <td>Us Gov Vessel</td>\n      <td>1</td>\n      <td>1</td>\n      <td>4.3</td>\n      <td>16.2</td>\n      <td>10.3</td>\n      <td>20.5</td>\n      <td>100.0</td>\n      <td>2009-04-06 14:36:00</td>\n      <td>2009-04-06 14:55:00</td>\n    </tr>\n    <tr>\n      <th>3</th>\n      <td>8</td>\n      <td>Bil Holman Dredge/Dredge Capt Frank/Emo/Offsho...</td>\n      <td>Y</td>\n      <td>Unknown</td>\n      <td>Unknown</td>\n      <td>7</td>\n      <td>42.0/48.0/57.0/90.0/138.0/154.0/156.0</td>\n      <td>156.0</td>\n      <td>4</td>\n      <td>Dredging/MilOps/Reserved/Towing</td>\n      <td>...</td>\n      <td>Us Gov Vessel</td>\n      <td>2</td>\n      <td>1</td>\n      <td>9.2</td>\n      <td>15.4</td>\n      <td>14.5</td>\n      <td>16.1</td>\n      <td>100.0</td>\n      <td>2009-04-10 17:58:00</td>\n      <td>2009-04-10 18:34:00</td>\n    </tr>\n    <tr>\n      <th>4</th>\n      <td>8</td>\n      <td>Bil Holman Dredge/Dredge Capt Frank/Emo/Offsho...</td>\n      <td>Y</td>\n      <td>Unknown</td>\n      <td>Unknown</td>\n      <td>7</td>\n      <td>42.0/48.0/57.0/90.0/138.0/154.0/156.0</td>\n      <td>156.0</td>\n      <td>4</td>\n      <td>Dredging/MilOps/Reserved/Towing</td>\n      <td>...</td>\n      <td>Dredge Capt Frank</td>\n      <td>2</td>\n      <td>1</td>\n      <td>9.2</td>\n      <td>15.4</td>\n      <td>14.6</td>\n      <td>16.2</td>\n      <td>100.0</td>\n      <td>2009-04-10 17:59:00</td>\n      <td>2009-04-10 18:35:00</td>\n    </tr>\n  </tbody>\n</table>\n<p>5 rows × 21 columns</p>\n</div>"
     },
     "execution_count": 84,
     "metadata": {},
     "output_type": "execute_result"
    }
   ],
   "source": [
    "segments_merged.head()"
   ]
  },
  {
   "cell_type": "markdown",
   "metadata": {},
   "source": [
    "In this case, the default inner join is suitable; we are not interested in observations from either table that do not have corresponding entries in the other. \n",
    "\n",
    "Notice that `mmsi` field that was an index on the `vessels` table is no longer an index on the merged table."
   ]
  },
  {
   "cell_type": "markdown",
   "metadata": {},
   "source": [
    "Here, we used the `merge` function to perform the merge; we could also have used the `merge` *method* for either of the tables:"
   ]
  },
  {
   "cell_type": "code",
   "execution_count": 85,
   "metadata": {},
   "outputs": [
    {
     "data": {
      "text/plain": "   num_names                                              names sov     flag  \\\n0          8  Bil Holman Dredge/Dredge Capt Frank/Emo/Offsho...   Y  Unknown   \n1          8  Bil Holman Dredge/Dredge Capt Frank/Emo/Offsho...   Y  Unknown   \n2          8  Bil Holman Dredge/Dredge Capt Frank/Emo/Offsho...   Y  Unknown   \n3          8  Bil Holman Dredge/Dredge Capt Frank/Emo/Offsho...   Y  Unknown   \n4          8  Bil Holman Dredge/Dredge Capt Frank/Emo/Offsho...   Y  Unknown   \n\n  flag_type  num_loas                                    loa  max_loa  \\\n0   Unknown         7  42.0/48.0/57.0/90.0/138.0/154.0/156.0    156.0   \n1   Unknown         7  42.0/48.0/57.0/90.0/138.0/154.0/156.0    156.0   \n2   Unknown         7  42.0/48.0/57.0/90.0/138.0/154.0/156.0    156.0   \n3   Unknown         7  42.0/48.0/57.0/90.0/138.0/154.0/156.0    156.0   \n4   Unknown         7  42.0/48.0/57.0/90.0/138.0/154.0/156.0    156.0   \n\n   num_types                             type  ...               name transit  \\\n0          4  Dredging/MilOps/Reserved/Towing  ...        Us Govt Ves       1   \n1          4  Dredging/MilOps/Reserved/Towing  ...  Dredge Capt Frank       1   \n2          4  Dredging/MilOps/Reserved/Towing  ...      Us Gov Vessel       1   \n3          4  Dredging/MilOps/Reserved/Towing  ...      Us Gov Vessel       2   \n4          4  Dredging/MilOps/Reserved/Towing  ...  Dredge Capt Frank       2   \n\n   segment  seg_length  avg_sog  min_sog  max_sog  pdgt10             st_time  \\\n0        1         5.1     13.2      9.2     14.5    96.5 2009-02-10 16:03:00   \n1        1        13.5     18.6     10.4     20.6   100.0 2009-04-06 14:31:00   \n2        1         4.3     16.2     10.3     20.5   100.0 2009-04-06 14:36:00   \n3        1         9.2     15.4     14.5     16.1   100.0 2009-04-10 17:58:00   \n4        1         9.2     15.4     14.6     16.2   100.0 2009-04-10 17:59:00   \n\n             end_time  \n0 2009-02-10 16:27:00  \n1 2009-04-06 15:20:00  \n2 2009-04-06 14:55:00  \n3 2009-04-10 18:34:00  \n4 2009-04-10 18:35:00  \n\n[5 rows x 21 columns]",
      "text/html": "<div>\n<style scoped>\n    .dataframe tbody tr th:only-of-type {\n        vertical-align: middle;\n    }\n\n    .dataframe tbody tr th {\n        vertical-align: top;\n    }\n\n    .dataframe thead th {\n        text-align: right;\n    }\n</style>\n<table border=\"1\" class=\"dataframe\">\n  <thead>\n    <tr style=\"text-align: right;\">\n      <th></th>\n      <th>num_names</th>\n      <th>names</th>\n      <th>sov</th>\n      <th>flag</th>\n      <th>flag_type</th>\n      <th>num_loas</th>\n      <th>loa</th>\n      <th>max_loa</th>\n      <th>num_types</th>\n      <th>type</th>\n      <th>...</th>\n      <th>name</th>\n      <th>transit</th>\n      <th>segment</th>\n      <th>seg_length</th>\n      <th>avg_sog</th>\n      <th>min_sog</th>\n      <th>max_sog</th>\n      <th>pdgt10</th>\n      <th>st_time</th>\n      <th>end_time</th>\n    </tr>\n  </thead>\n  <tbody>\n    <tr>\n      <th>0</th>\n      <td>8</td>\n      <td>Bil Holman Dredge/Dredge Capt Frank/Emo/Offsho...</td>\n      <td>Y</td>\n      <td>Unknown</td>\n      <td>Unknown</td>\n      <td>7</td>\n      <td>42.0/48.0/57.0/90.0/138.0/154.0/156.0</td>\n      <td>156.0</td>\n      <td>4</td>\n      <td>Dredging/MilOps/Reserved/Towing</td>\n      <td>...</td>\n      <td>Us Govt Ves</td>\n      <td>1</td>\n      <td>1</td>\n      <td>5.1</td>\n      <td>13.2</td>\n      <td>9.2</td>\n      <td>14.5</td>\n      <td>96.5</td>\n      <td>2009-02-10 16:03:00</td>\n      <td>2009-02-10 16:27:00</td>\n    </tr>\n    <tr>\n      <th>1</th>\n      <td>8</td>\n      <td>Bil Holman Dredge/Dredge Capt Frank/Emo/Offsho...</td>\n      <td>Y</td>\n      <td>Unknown</td>\n      <td>Unknown</td>\n      <td>7</td>\n      <td>42.0/48.0/57.0/90.0/138.0/154.0/156.0</td>\n      <td>156.0</td>\n      <td>4</td>\n      <td>Dredging/MilOps/Reserved/Towing</td>\n      <td>...</td>\n      <td>Dredge Capt Frank</td>\n      <td>1</td>\n      <td>1</td>\n      <td>13.5</td>\n      <td>18.6</td>\n      <td>10.4</td>\n      <td>20.6</td>\n      <td>100.0</td>\n      <td>2009-04-06 14:31:00</td>\n      <td>2009-04-06 15:20:00</td>\n    </tr>\n    <tr>\n      <th>2</th>\n      <td>8</td>\n      <td>Bil Holman Dredge/Dredge Capt Frank/Emo/Offsho...</td>\n      <td>Y</td>\n      <td>Unknown</td>\n      <td>Unknown</td>\n      <td>7</td>\n      <td>42.0/48.0/57.0/90.0/138.0/154.0/156.0</td>\n      <td>156.0</td>\n      <td>4</td>\n      <td>Dredging/MilOps/Reserved/Towing</td>\n      <td>...</td>\n      <td>Us Gov Vessel</td>\n      <td>1</td>\n      <td>1</td>\n      <td>4.3</td>\n      <td>16.2</td>\n      <td>10.3</td>\n      <td>20.5</td>\n      <td>100.0</td>\n      <td>2009-04-06 14:36:00</td>\n      <td>2009-04-06 14:55:00</td>\n    </tr>\n    <tr>\n      <th>3</th>\n      <td>8</td>\n      <td>Bil Holman Dredge/Dredge Capt Frank/Emo/Offsho...</td>\n      <td>Y</td>\n      <td>Unknown</td>\n      <td>Unknown</td>\n      <td>7</td>\n      <td>42.0/48.0/57.0/90.0/138.0/154.0/156.0</td>\n      <td>156.0</td>\n      <td>4</td>\n      <td>Dredging/MilOps/Reserved/Towing</td>\n      <td>...</td>\n      <td>Us Gov Vessel</td>\n      <td>2</td>\n      <td>1</td>\n      <td>9.2</td>\n      <td>15.4</td>\n      <td>14.5</td>\n      <td>16.1</td>\n      <td>100.0</td>\n      <td>2009-04-10 17:58:00</td>\n      <td>2009-04-10 18:34:00</td>\n    </tr>\n    <tr>\n      <th>4</th>\n      <td>8</td>\n      <td>Bil Holman Dredge/Dredge Capt Frank/Emo/Offsho...</td>\n      <td>Y</td>\n      <td>Unknown</td>\n      <td>Unknown</td>\n      <td>7</td>\n      <td>42.0/48.0/57.0/90.0/138.0/154.0/156.0</td>\n      <td>156.0</td>\n      <td>4</td>\n      <td>Dredging/MilOps/Reserved/Towing</td>\n      <td>...</td>\n      <td>Dredge Capt Frank</td>\n      <td>2</td>\n      <td>1</td>\n      <td>9.2</td>\n      <td>15.4</td>\n      <td>14.6</td>\n      <td>16.2</td>\n      <td>100.0</td>\n      <td>2009-04-10 17:59:00</td>\n      <td>2009-04-10 18:35:00</td>\n    </tr>\n  </tbody>\n</table>\n<p>5 rows × 21 columns</p>\n</div>"
     },
     "execution_count": 85,
     "metadata": {},
     "output_type": "execute_result"
    }
   ],
   "source": [
    "vessels.merge(segments, left_index=True, right_on='mmsi').head()"
   ]
  },
  {
   "cell_type": "markdown",
   "metadata": {},
   "source": [
    "Occasionally, there will be fields with the same in both tables that we do not wish to use to join the tables; they may contain different information, despite having the same name. In this case, Pandas will by default append suffixes `_x` and `_y` to the columns to uniquely identify them."
   ]
  },
  {
   "cell_type": "code",
   "execution_count": 86,
   "metadata": {},
   "outputs": [
    {
     "data": {
      "text/plain": "   num_names                                              names sov     flag  \\\n0          8  Bil Holman Dredge/Dredge Capt Frank/Emo/Offsho...   Y  Unknown   \n1          8  Bil Holman Dredge/Dredge Capt Frank/Emo/Offsho...   Y  Unknown   \n2          8  Bil Holman Dredge/Dredge Capt Frank/Emo/Offsho...   Y  Unknown   \n3          8  Bil Holman Dredge/Dredge Capt Frank/Emo/Offsho...   Y  Unknown   \n4          8  Bil Holman Dredge/Dredge Capt Frank/Emo/Offsho...   Y  Unknown   \n\n  flag_type  num_loas                                    loa  max_loa  \\\n0   Unknown         7  42.0/48.0/57.0/90.0/138.0/154.0/156.0    156.0   \n1   Unknown         7  42.0/48.0/57.0/90.0/138.0/154.0/156.0    156.0   \n2   Unknown         7  42.0/48.0/57.0/90.0/138.0/154.0/156.0    156.0   \n3   Unknown         7  42.0/48.0/57.0/90.0/138.0/154.0/156.0    156.0   \n4   Unknown         7  42.0/48.0/57.0/90.0/138.0/154.0/156.0    156.0   \n\n   num_types                           type_x  ...  transit segment  \\\n0          4  Dredging/MilOps/Reserved/Towing  ...        1       1   \n1          4  Dredging/MilOps/Reserved/Towing  ...        1       1   \n2          4  Dredging/MilOps/Reserved/Towing  ...        1       1   \n3          4  Dredging/MilOps/Reserved/Towing  ...        2       1   \n4          4  Dredging/MilOps/Reserved/Towing  ...        2       1   \n\n   seg_length  avg_sog  min_sog  max_sog  pdgt10             st_time  \\\n0         5.1     13.2      9.2     14.5    96.5 2009-02-10 16:03:00   \n1        13.5     18.6     10.4     20.6   100.0 2009-04-06 14:31:00   \n2         4.3     16.2     10.3     20.5   100.0 2009-04-06 14:36:00   \n3         9.2     15.4     14.5     16.1   100.0 2009-04-10 17:58:00   \n4         9.2     15.4     14.6     16.2   100.0 2009-04-10 17:59:00   \n\n             end_time type_y  \n0 2009-02-10 16:27:00    foo  \n1 2009-04-06 15:20:00    foo  \n2 2009-04-06 14:55:00    foo  \n3 2009-04-10 18:34:00    foo  \n4 2009-04-10 18:35:00    foo  \n\n[5 rows x 22 columns]",
      "text/html": "<div>\n<style scoped>\n    .dataframe tbody tr th:only-of-type {\n        vertical-align: middle;\n    }\n\n    .dataframe tbody tr th {\n        vertical-align: top;\n    }\n\n    .dataframe thead th {\n        text-align: right;\n    }\n</style>\n<table border=\"1\" class=\"dataframe\">\n  <thead>\n    <tr style=\"text-align: right;\">\n      <th></th>\n      <th>num_names</th>\n      <th>names</th>\n      <th>sov</th>\n      <th>flag</th>\n      <th>flag_type</th>\n      <th>num_loas</th>\n      <th>loa</th>\n      <th>max_loa</th>\n      <th>num_types</th>\n      <th>type_x</th>\n      <th>...</th>\n      <th>transit</th>\n      <th>segment</th>\n      <th>seg_length</th>\n      <th>avg_sog</th>\n      <th>min_sog</th>\n      <th>max_sog</th>\n      <th>pdgt10</th>\n      <th>st_time</th>\n      <th>end_time</th>\n      <th>type_y</th>\n    </tr>\n  </thead>\n  <tbody>\n    <tr>\n      <th>0</th>\n      <td>8</td>\n      <td>Bil Holman Dredge/Dredge Capt Frank/Emo/Offsho...</td>\n      <td>Y</td>\n      <td>Unknown</td>\n      <td>Unknown</td>\n      <td>7</td>\n      <td>42.0/48.0/57.0/90.0/138.0/154.0/156.0</td>\n      <td>156.0</td>\n      <td>4</td>\n      <td>Dredging/MilOps/Reserved/Towing</td>\n      <td>...</td>\n      <td>1</td>\n      <td>1</td>\n      <td>5.1</td>\n      <td>13.2</td>\n      <td>9.2</td>\n      <td>14.5</td>\n      <td>96.5</td>\n      <td>2009-02-10 16:03:00</td>\n      <td>2009-02-10 16:27:00</td>\n      <td>foo</td>\n    </tr>\n    <tr>\n      <th>1</th>\n      <td>8</td>\n      <td>Bil Holman Dredge/Dredge Capt Frank/Emo/Offsho...</td>\n      <td>Y</td>\n      <td>Unknown</td>\n      <td>Unknown</td>\n      <td>7</td>\n      <td>42.0/48.0/57.0/90.0/138.0/154.0/156.0</td>\n      <td>156.0</td>\n      <td>4</td>\n      <td>Dredging/MilOps/Reserved/Towing</td>\n      <td>...</td>\n      <td>1</td>\n      <td>1</td>\n      <td>13.5</td>\n      <td>18.6</td>\n      <td>10.4</td>\n      <td>20.6</td>\n      <td>100.0</td>\n      <td>2009-04-06 14:31:00</td>\n      <td>2009-04-06 15:20:00</td>\n      <td>foo</td>\n    </tr>\n    <tr>\n      <th>2</th>\n      <td>8</td>\n      <td>Bil Holman Dredge/Dredge Capt Frank/Emo/Offsho...</td>\n      <td>Y</td>\n      <td>Unknown</td>\n      <td>Unknown</td>\n      <td>7</td>\n      <td>42.0/48.0/57.0/90.0/138.0/154.0/156.0</td>\n      <td>156.0</td>\n      <td>4</td>\n      <td>Dredging/MilOps/Reserved/Towing</td>\n      <td>...</td>\n      <td>1</td>\n      <td>1</td>\n      <td>4.3</td>\n      <td>16.2</td>\n      <td>10.3</td>\n      <td>20.5</td>\n      <td>100.0</td>\n      <td>2009-04-06 14:36:00</td>\n      <td>2009-04-06 14:55:00</td>\n      <td>foo</td>\n    </tr>\n    <tr>\n      <th>3</th>\n      <td>8</td>\n      <td>Bil Holman Dredge/Dredge Capt Frank/Emo/Offsho...</td>\n      <td>Y</td>\n      <td>Unknown</td>\n      <td>Unknown</td>\n      <td>7</td>\n      <td>42.0/48.0/57.0/90.0/138.0/154.0/156.0</td>\n      <td>156.0</td>\n      <td>4</td>\n      <td>Dredging/MilOps/Reserved/Towing</td>\n      <td>...</td>\n      <td>2</td>\n      <td>1</td>\n      <td>9.2</td>\n      <td>15.4</td>\n      <td>14.5</td>\n      <td>16.1</td>\n      <td>100.0</td>\n      <td>2009-04-10 17:58:00</td>\n      <td>2009-04-10 18:34:00</td>\n      <td>foo</td>\n    </tr>\n    <tr>\n      <th>4</th>\n      <td>8</td>\n      <td>Bil Holman Dredge/Dredge Capt Frank/Emo/Offsho...</td>\n      <td>Y</td>\n      <td>Unknown</td>\n      <td>Unknown</td>\n      <td>7</td>\n      <td>42.0/48.0/57.0/90.0/138.0/154.0/156.0</td>\n      <td>156.0</td>\n      <td>4</td>\n      <td>Dredging/MilOps/Reserved/Towing</td>\n      <td>...</td>\n      <td>2</td>\n      <td>1</td>\n      <td>9.2</td>\n      <td>15.4</td>\n      <td>14.6</td>\n      <td>16.2</td>\n      <td>100.0</td>\n      <td>2009-04-10 17:59:00</td>\n      <td>2009-04-10 18:35:00</td>\n      <td>foo</td>\n    </tr>\n  </tbody>\n</table>\n<p>5 rows × 22 columns</p>\n</div>"
     },
     "execution_count": 86,
     "metadata": {},
     "output_type": "execute_result"
    }
   ],
   "source": [
    "segments['type'] = 'foo'\n",
    "pd.merge(vessels, segments, left_index=True, right_on='mmsi').head()"
   ]
  },
  {
   "cell_type": "markdown",
   "metadata": {},
   "source": [
    "This behavior can be overridden by specifying a `suffixes` argument, containing a list of the suffixes to be used for the columns of the left and right columns, respectively."
   ]
  },
  {
   "cell_type": "markdown",
   "metadata": {},
   "source": [
    "### Exercise 6\n",
    "Fix the following `merge` in order to return a non-empty `DataFrame`."
   ]
  },
  {
   "cell_type": "code",
   "execution_count": 87,
   "metadata": {},
   "outputs": [
    {
     "data": {
      "text/plain": "   mmsi               name  transit  segment  seg_length  avg_sog  min_sog  \\\n0     1        Us Govt Ves        1        1         5.1     13.2      9.2   \n1     1  Dredge Capt Frank        1        1        13.5     18.6     10.4   \n2     1      Us Gov Vessel        1        1         4.3     16.2     10.3   \n3     1      Us Gov Vessel        2        1         9.2     15.4     14.5   \n4     1  Dredge Capt Frank        2        1         9.2     15.4     14.6   \n5     1  Bil Holman Dredge        1        1        17.4     34.3     33.9   \n6     1  Bil Holman Dredge        1        2        76.0     34.4     33.8   \n7     1         S.d. Gumel        1        1        13.7      6.9      3.0   \n8     9         Shearwater        4        1        11.6      8.8      7.9   \n9     9         Shearwater        8        1        11.6      8.3      7.4   \n\n   max_sog  pdgt10             st_time  ... num_names  \\\n0     14.5    96.5 2009-02-10 16:03:00  ...         8   \n1     20.6   100.0 2009-04-06 14:31:00  ...         8   \n2     20.5   100.0 2009-04-06 14:36:00  ...         8   \n3     16.1   100.0 2009-04-10 17:58:00  ...         8   \n4     16.2   100.0 2009-04-10 17:59:00  ...         8   \n5     35.0   100.0 2010-03-20 16:06:00  ...         8   \n6     34.9   100.0 2010-03-20 18:05:00  ...         8   \n7     14.0    38.2 2011-05-04 11:28:00  ...         8   \n8     10.3     0.0 2010-06-05 11:23:00  ...         3   \n9      9.2     0.0 2010-06-08 11:03:00  ...         3   \n\n                                               names  sov     flag flag_type  \\\n0  Bil Holman Dredge/Dredge Capt Frank/Emo/Offsho...    Y  Unknown   Unknown   \n1  Bil Holman Dredge/Dredge Capt Frank/Emo/Offsho...    Y  Unknown   Unknown   \n2  Bil Holman Dredge/Dredge Capt Frank/Emo/Offsho...    Y  Unknown   Unknown   \n3  Bil Holman Dredge/Dredge Capt Frank/Emo/Offsho...    Y  Unknown   Unknown   \n4  Bil Holman Dredge/Dredge Capt Frank/Emo/Offsho...    Y  Unknown   Unknown   \n5  Bil Holman Dredge/Dredge Capt Frank/Emo/Offsho...    Y  Unknown   Unknown   \n6  Bil Holman Dredge/Dredge Capt Frank/Emo/Offsho...    Y  Unknown   Unknown   \n7  Bil Holman Dredge/Dredge Capt Frank/Emo/Offsho...    Y  Unknown   Unknown   \n8                         000000009/Raven/Shearwater    N  Unknown   Unknown   \n9                         000000009/Raven/Shearwater    N  Unknown   Unknown   \n\n  num_loas                                    loa  max_loa num_types  \\\n0        7  42.0/48.0/57.0/90.0/138.0/154.0/156.0    156.0         4   \n1        7  42.0/48.0/57.0/90.0/138.0/154.0/156.0    156.0         4   \n2        7  42.0/48.0/57.0/90.0/138.0/154.0/156.0    156.0         4   \n3        7  42.0/48.0/57.0/90.0/138.0/154.0/156.0    156.0         4   \n4        7  42.0/48.0/57.0/90.0/138.0/154.0/156.0    156.0         4   \n5        7  42.0/48.0/57.0/90.0/138.0/154.0/156.0    156.0         4   \n6        7  42.0/48.0/57.0/90.0/138.0/154.0/156.0    156.0         4   \n7        7  42.0/48.0/57.0/90.0/138.0/154.0/156.0    156.0         4   \n8        2                              50.0/62.0     62.0         2   \n9        2                              50.0/62.0     62.0         2   \n\n                            type_y  \n0  Dredging/MilOps/Reserved/Towing  \n1  Dredging/MilOps/Reserved/Towing  \n2  Dredging/MilOps/Reserved/Towing  \n3  Dredging/MilOps/Reserved/Towing  \n4  Dredging/MilOps/Reserved/Towing  \n5  Dredging/MilOps/Reserved/Towing  \n6  Dredging/MilOps/Reserved/Towing  \n7  Dredging/MilOps/Reserved/Towing  \n8                     Pleasure/Tug  \n9                     Pleasure/Tug  \n\n[10 rows x 22 columns]",
      "text/html": "<div>\n<style scoped>\n    .dataframe tbody tr th:only-of-type {\n        vertical-align: middle;\n    }\n\n    .dataframe tbody tr th {\n        vertical-align: top;\n    }\n\n    .dataframe thead th {\n        text-align: right;\n    }\n</style>\n<table border=\"1\" class=\"dataframe\">\n  <thead>\n    <tr style=\"text-align: right;\">\n      <th></th>\n      <th>mmsi</th>\n      <th>name</th>\n      <th>transit</th>\n      <th>segment</th>\n      <th>seg_length</th>\n      <th>avg_sog</th>\n      <th>min_sog</th>\n      <th>max_sog</th>\n      <th>pdgt10</th>\n      <th>st_time</th>\n      <th>...</th>\n      <th>num_names</th>\n      <th>names</th>\n      <th>sov</th>\n      <th>flag</th>\n      <th>flag_type</th>\n      <th>num_loas</th>\n      <th>loa</th>\n      <th>max_loa</th>\n      <th>num_types</th>\n      <th>type_y</th>\n    </tr>\n  </thead>\n  <tbody>\n    <tr>\n      <th>0</th>\n      <td>1</td>\n      <td>Us Govt Ves</td>\n      <td>1</td>\n      <td>1</td>\n      <td>5.1</td>\n      <td>13.2</td>\n      <td>9.2</td>\n      <td>14.5</td>\n      <td>96.5</td>\n      <td>2009-02-10 16:03:00</td>\n      <td>...</td>\n      <td>8</td>\n      <td>Bil Holman Dredge/Dredge Capt Frank/Emo/Offsho...</td>\n      <td>Y</td>\n      <td>Unknown</td>\n      <td>Unknown</td>\n      <td>7</td>\n      <td>42.0/48.0/57.0/90.0/138.0/154.0/156.0</td>\n      <td>156.0</td>\n      <td>4</td>\n      <td>Dredging/MilOps/Reserved/Towing</td>\n    </tr>\n    <tr>\n      <th>1</th>\n      <td>1</td>\n      <td>Dredge Capt Frank</td>\n      <td>1</td>\n      <td>1</td>\n      <td>13.5</td>\n      <td>18.6</td>\n      <td>10.4</td>\n      <td>20.6</td>\n      <td>100.0</td>\n      <td>2009-04-06 14:31:00</td>\n      <td>...</td>\n      <td>8</td>\n      <td>Bil Holman Dredge/Dredge Capt Frank/Emo/Offsho...</td>\n      <td>Y</td>\n      <td>Unknown</td>\n      <td>Unknown</td>\n      <td>7</td>\n      <td>42.0/48.0/57.0/90.0/138.0/154.0/156.0</td>\n      <td>156.0</td>\n      <td>4</td>\n      <td>Dredging/MilOps/Reserved/Towing</td>\n    </tr>\n    <tr>\n      <th>2</th>\n      <td>1</td>\n      <td>Us Gov Vessel</td>\n      <td>1</td>\n      <td>1</td>\n      <td>4.3</td>\n      <td>16.2</td>\n      <td>10.3</td>\n      <td>20.5</td>\n      <td>100.0</td>\n      <td>2009-04-06 14:36:00</td>\n      <td>...</td>\n      <td>8</td>\n      <td>Bil Holman Dredge/Dredge Capt Frank/Emo/Offsho...</td>\n      <td>Y</td>\n      <td>Unknown</td>\n      <td>Unknown</td>\n      <td>7</td>\n      <td>42.0/48.0/57.0/90.0/138.0/154.0/156.0</td>\n      <td>156.0</td>\n      <td>4</td>\n      <td>Dredging/MilOps/Reserved/Towing</td>\n    </tr>\n    <tr>\n      <th>3</th>\n      <td>1</td>\n      <td>Us Gov Vessel</td>\n      <td>2</td>\n      <td>1</td>\n      <td>9.2</td>\n      <td>15.4</td>\n      <td>14.5</td>\n      <td>16.1</td>\n      <td>100.0</td>\n      <td>2009-04-10 17:58:00</td>\n      <td>...</td>\n      <td>8</td>\n      <td>Bil Holman Dredge/Dredge Capt Frank/Emo/Offsho...</td>\n      <td>Y</td>\n      <td>Unknown</td>\n      <td>Unknown</td>\n      <td>7</td>\n      <td>42.0/48.0/57.0/90.0/138.0/154.0/156.0</td>\n      <td>156.0</td>\n      <td>4</td>\n      <td>Dredging/MilOps/Reserved/Towing</td>\n    </tr>\n    <tr>\n      <th>4</th>\n      <td>1</td>\n      <td>Dredge Capt Frank</td>\n      <td>2</td>\n      <td>1</td>\n      <td>9.2</td>\n      <td>15.4</td>\n      <td>14.6</td>\n      <td>16.2</td>\n      <td>100.0</td>\n      <td>2009-04-10 17:59:00</td>\n      <td>...</td>\n      <td>8</td>\n      <td>Bil Holman Dredge/Dredge Capt Frank/Emo/Offsho...</td>\n      <td>Y</td>\n      <td>Unknown</td>\n      <td>Unknown</td>\n      <td>7</td>\n      <td>42.0/48.0/57.0/90.0/138.0/154.0/156.0</td>\n      <td>156.0</td>\n      <td>4</td>\n      <td>Dredging/MilOps/Reserved/Towing</td>\n    </tr>\n    <tr>\n      <th>5</th>\n      <td>1</td>\n      <td>Bil Holman Dredge</td>\n      <td>1</td>\n      <td>1</td>\n      <td>17.4</td>\n      <td>34.3</td>\n      <td>33.9</td>\n      <td>35.0</td>\n      <td>100.0</td>\n      <td>2010-03-20 16:06:00</td>\n      <td>...</td>\n      <td>8</td>\n      <td>Bil Holman Dredge/Dredge Capt Frank/Emo/Offsho...</td>\n      <td>Y</td>\n      <td>Unknown</td>\n      <td>Unknown</td>\n      <td>7</td>\n      <td>42.0/48.0/57.0/90.0/138.0/154.0/156.0</td>\n      <td>156.0</td>\n      <td>4</td>\n      <td>Dredging/MilOps/Reserved/Towing</td>\n    </tr>\n    <tr>\n      <th>6</th>\n      <td>1</td>\n      <td>Bil Holman Dredge</td>\n      <td>1</td>\n      <td>2</td>\n      <td>76.0</td>\n      <td>34.4</td>\n      <td>33.8</td>\n      <td>34.9</td>\n      <td>100.0</td>\n      <td>2010-03-20 18:05:00</td>\n      <td>...</td>\n      <td>8</td>\n      <td>Bil Holman Dredge/Dredge Capt Frank/Emo/Offsho...</td>\n      <td>Y</td>\n      <td>Unknown</td>\n      <td>Unknown</td>\n      <td>7</td>\n      <td>42.0/48.0/57.0/90.0/138.0/154.0/156.0</td>\n      <td>156.0</td>\n      <td>4</td>\n      <td>Dredging/MilOps/Reserved/Towing</td>\n    </tr>\n    <tr>\n      <th>7</th>\n      <td>1</td>\n      <td>S.d. Gumel</td>\n      <td>1</td>\n      <td>1</td>\n      <td>13.7</td>\n      <td>6.9</td>\n      <td>3.0</td>\n      <td>14.0</td>\n      <td>38.2</td>\n      <td>2011-05-04 11:28:00</td>\n      <td>...</td>\n      <td>8</td>\n      <td>Bil Holman Dredge/Dredge Capt Frank/Emo/Offsho...</td>\n      <td>Y</td>\n      <td>Unknown</td>\n      <td>Unknown</td>\n      <td>7</td>\n      <td>42.0/48.0/57.0/90.0/138.0/154.0/156.0</td>\n      <td>156.0</td>\n      <td>4</td>\n      <td>Dredging/MilOps/Reserved/Towing</td>\n    </tr>\n    <tr>\n      <th>8</th>\n      <td>9</td>\n      <td>Shearwater</td>\n      <td>4</td>\n      <td>1</td>\n      <td>11.6</td>\n      <td>8.8</td>\n      <td>7.9</td>\n      <td>10.3</td>\n      <td>0.0</td>\n      <td>2010-06-05 11:23:00</td>\n      <td>...</td>\n      <td>3</td>\n      <td>000000009/Raven/Shearwater</td>\n      <td>N</td>\n      <td>Unknown</td>\n      <td>Unknown</td>\n      <td>2</td>\n      <td>50.0/62.0</td>\n      <td>62.0</td>\n      <td>2</td>\n      <td>Pleasure/Tug</td>\n    </tr>\n    <tr>\n      <th>9</th>\n      <td>9</td>\n      <td>Shearwater</td>\n      <td>8</td>\n      <td>1</td>\n      <td>11.6</td>\n      <td>8.3</td>\n      <td>7.4</td>\n      <td>9.2</td>\n      <td>0.0</td>\n      <td>2010-06-08 11:03:00</td>\n      <td>...</td>\n      <td>3</td>\n      <td>000000009/Raven/Shearwater</td>\n      <td>N</td>\n      <td>Unknown</td>\n      <td>Unknown</td>\n      <td>2</td>\n      <td>50.0/62.0</td>\n      <td>62.0</td>\n      <td>2</td>\n      <td>Pleasure/Tug</td>\n    </tr>\n  </tbody>\n</table>\n<p>10 rows × 22 columns</p>\n</div>"
     },
     "execution_count": 87,
     "metadata": {},
     "output_type": "execute_result"
    }
   ],
   "source": [
    "segments.merge(vessels).head(10) #empty\n",
    "segments.merge(vessels, right_index=True, left_on='mmsi').head(10) #non-empty"
   ]
  },
  {
   "cell_type": "markdown",
   "metadata": {},
   "source": [
    "## Concatenation\n",
    "\n",
    "A common data manipulation is appending rows or columns to a dataset that already conform to the dimensions of the exsiting rows or colums, respectively:"
   ]
  },
  {
   "cell_type": "code",
   "execution_count": 88,
   "metadata": {},
   "outputs": [
    {
     "data": {
      "text/plain": "array([0.39073207, 0.0370154 , 0.49121618, 0.11374969, 0.8732981 ,\n       0.8653359 , 0.79430341, 0.84274375, 0.38792599, 0.74849885])"
     },
     "execution_count": 88,
     "metadata": {},
     "output_type": "execute_result"
    }
   ],
   "source": [
    "np.concatenate([np.random.random(5), np.random.random(5)])"
   ]
  },
  {
   "cell_type": "markdown",
   "metadata": {},
   "source": [
    "This operation is also called *binding* or *stacking*.\n",
    "\n",
    "With Pandas' indexed data structures, there are additional considerations as the overlap in index values between two data structures affects how they are concatenate.\n",
    "\n",
    "Lets import two microbiome datasets, each consisting of counts of microorganiams from a particular patient. We will use the first column of each dataset as the index."
   ]
  },
  {
   "cell_type": "code",
   "execution_count": 89,
   "metadata": {},
   "outputs": [
    {
     "data": {
      "text/plain": "((272, 1), (288, 1))"
     },
     "execution_count": 89,
     "metadata": {},
     "output_type": "execute_result"
    }
   ],
   "source": [
    "mb1 = pd.read_excel('Data/microbiome_MID1.xls', 'Sheet 1', index_col=0, header=None)\n",
    "mb2 = pd.read_excel('Data/microbiome_MID2.xls', 'Sheet 1', index_col=0, header=None)\n",
    "mb1.columns = mb2.columns = ['Count']\n",
    "mb1.index.name = mb2.index.name = 'Taxon'\n",
    "mb1.shape, mb2.shape"
   ]
  },
  {
   "cell_type": "code",
   "execution_count": 90,
   "metadata": {},
   "outputs": [
    {
     "data": {
      "text/plain": "                                                    Count\nTaxon                                                    \nArchaea \"Crenarchaeota\" Thermoprotei Desulfuroc...      7\nArchaea \"Crenarchaeota\" Thermoprotei Desulfuroc...      2\nArchaea \"Crenarchaeota\" Thermoprotei Sulfolobal...      3\nArchaea \"Crenarchaeota\" Thermoprotei Thermoprot...      3\nArchaea \"Euryarchaeota\" \"Methanomicrobia\" Metha...      7",
      "text/html": "<div>\n<style scoped>\n    .dataframe tbody tr th:only-of-type {\n        vertical-align: middle;\n    }\n\n    .dataframe tbody tr th {\n        vertical-align: top;\n    }\n\n    .dataframe thead th {\n        text-align: right;\n    }\n</style>\n<table border=\"1\" class=\"dataframe\">\n  <thead>\n    <tr style=\"text-align: right;\">\n      <th></th>\n      <th>Count</th>\n    </tr>\n    <tr>\n      <th>Taxon</th>\n      <th></th>\n    </tr>\n  </thead>\n  <tbody>\n    <tr>\n      <th>Archaea \"Crenarchaeota\" Thermoprotei Desulfurococcales Desulfurococcaceae Ignisphaera</th>\n      <td>7</td>\n    </tr>\n    <tr>\n      <th>Archaea \"Crenarchaeota\" Thermoprotei Desulfurococcales Pyrodictiaceae Pyrolobus</th>\n      <td>2</td>\n    </tr>\n    <tr>\n      <th>Archaea \"Crenarchaeota\" Thermoprotei Sulfolobales Sulfolobaceae Stygiolobus</th>\n      <td>3</td>\n    </tr>\n    <tr>\n      <th>Archaea \"Crenarchaeota\" Thermoprotei Thermoproteales Thermofilaceae Thermofilum</th>\n      <td>3</td>\n    </tr>\n    <tr>\n      <th>Archaea \"Euryarchaeota\" \"Methanomicrobia\" Methanocellales Methanocellaceae Methanocella</th>\n      <td>7</td>\n    </tr>\n  </tbody>\n</table>\n</div>"
     },
     "execution_count": 90,
     "metadata": {},
     "output_type": "execute_result"
    }
   ],
   "source": [
    "mb1.head()"
   ]
  },
  {
   "cell_type": "markdown",
   "metadata": {},
   "source": [
    "The index of these data is the unique biological classification of each organism, beginning with *domain*, *phylum*, *class*, and for some organisms, going all the way down to the genus level.\n",
    "\n",
    "![classification](http://upload.wikimedia.org/wikipedia/commons/thumb/a/a5/Biological_classification_L_Pengo_vflip.svg/150px-Biological_classification_L_Pengo_vflip.svg.png)"
   ]
  },
  {
   "cell_type": "code",
   "execution_count": 91,
   "metadata": {},
   "outputs": [
    {
     "data": {
      "text/plain": "True"
     },
     "execution_count": 91,
     "metadata": {},
     "output_type": "execute_result"
    }
   ],
   "source": [
    "mb1.index.is_unique"
   ]
  },
  {
   "cell_type": "markdown",
   "metadata": {},
   "source": [
    "If we concatenate along `axis=0` (the default), we will obtain another data frame with the the rows concatenated:"
   ]
  },
  {
   "cell_type": "code",
   "execution_count": 92,
   "metadata": {},
   "outputs": [
    {
     "data": {
      "text/plain": "                                                    Count\nTaxon                                                    \nArchaea \"Crenarchaeota\" Thermoprotei Desulfuroc...      7\nArchaea \"Crenarchaeota\" Thermoprotei Desulfuroc...      2\nArchaea \"Crenarchaeota\" Thermoprotei Sulfolobal...      3\nArchaea \"Crenarchaeota\" Thermoprotei Thermoprot...      3\nArchaea \"Euryarchaeota\" \"Methanomicrobia\" Metha...      7",
      "text/html": "<div>\n<style scoped>\n    .dataframe tbody tr th:only-of-type {\n        vertical-align: middle;\n    }\n\n    .dataframe tbody tr th {\n        vertical-align: top;\n    }\n\n    .dataframe thead th {\n        text-align: right;\n    }\n</style>\n<table border=\"1\" class=\"dataframe\">\n  <thead>\n    <tr style=\"text-align: right;\">\n      <th></th>\n      <th>Count</th>\n    </tr>\n    <tr>\n      <th>Taxon</th>\n      <th></th>\n    </tr>\n  </thead>\n  <tbody>\n    <tr>\n      <th>Archaea \"Crenarchaeota\" Thermoprotei Desulfurococcales Desulfurococcaceae Ignisphaera</th>\n      <td>7</td>\n    </tr>\n    <tr>\n      <th>Archaea \"Crenarchaeota\" Thermoprotei Desulfurococcales Pyrodictiaceae Pyrolobus</th>\n      <td>2</td>\n    </tr>\n    <tr>\n      <th>Archaea \"Crenarchaeota\" Thermoprotei Sulfolobales Sulfolobaceae Stygiolobus</th>\n      <td>3</td>\n    </tr>\n    <tr>\n      <th>Archaea \"Crenarchaeota\" Thermoprotei Thermoproteales Thermofilaceae Thermofilum</th>\n      <td>3</td>\n    </tr>\n    <tr>\n      <th>Archaea \"Euryarchaeota\" \"Methanomicrobia\" Methanocellales Methanocellaceae Methanocella</th>\n      <td>7</td>\n    </tr>\n  </tbody>\n</table>\n</div>"
     },
     "execution_count": 92,
     "metadata": {},
     "output_type": "execute_result"
    }
   ],
   "source": [
    "pd.concat([mb1, mb2], axis=0).head()"
   ]
  },
  {
   "cell_type": "markdown",
   "metadata": {},
   "source": [
    "However, the index is no longer unique, due to overlap between the two `DataFrames`."
   ]
  },
  {
   "cell_type": "code",
   "execution_count": 93,
   "metadata": {},
   "outputs": [
    {
     "data": {
      "text/plain": "False"
     },
     "execution_count": 93,
     "metadata": {},
     "output_type": "execute_result"
    }
   ],
   "source": [
    "pd.concat([mb1, mb2], axis=0).index.is_unique"
   ]
  },
  {
   "cell_type": "markdown",
   "metadata": {},
   "source": [
    "Concatenating along `axis=1` will concatenate column-wise, but respecting the indices of the two `DataFrames`."
   ]
  },
  {
   "cell_type": "code",
   "execution_count": 94,
   "metadata": {},
   "outputs": [
    {
     "data": {
      "text/plain": "(438, 2)"
     },
     "execution_count": 94,
     "metadata": {},
     "output_type": "execute_result"
    }
   ],
   "source": [
    "pd.concat([mb1, mb2], axis=1).shape"
   ]
  },
  {
   "cell_type": "code",
   "execution_count": 95,
   "metadata": {},
   "outputs": [
    {
     "data": {
      "text/plain": "                                                    Count  Count\nTaxon                                                           \nArchaea \"Crenarchaeota\" Thermoprotei Desulfuroc...    7.0   23.0\nArchaea \"Crenarchaeota\" Thermoprotei Desulfuroc...    2.0    2.0\nArchaea \"Crenarchaeota\" Thermoprotei Sulfolobal...    3.0   10.0\nArchaea \"Crenarchaeota\" Thermoprotei Thermoprot...    3.0    9.0\nArchaea \"Euryarchaeota\" \"Methanomicrobia\" Metha...    7.0    9.0",
      "text/html": "<div>\n<style scoped>\n    .dataframe tbody tr th:only-of-type {\n        vertical-align: middle;\n    }\n\n    .dataframe tbody tr th {\n        vertical-align: top;\n    }\n\n    .dataframe thead th {\n        text-align: right;\n    }\n</style>\n<table border=\"1\" class=\"dataframe\">\n  <thead>\n    <tr style=\"text-align: right;\">\n      <th></th>\n      <th>Count</th>\n      <th>Count</th>\n    </tr>\n    <tr>\n      <th>Taxon</th>\n      <th></th>\n      <th></th>\n    </tr>\n  </thead>\n  <tbody>\n    <tr>\n      <th>Archaea \"Crenarchaeota\" Thermoprotei Desulfurococcales Desulfurococcaceae Ignisphaera</th>\n      <td>7.0</td>\n      <td>23.0</td>\n    </tr>\n    <tr>\n      <th>Archaea \"Crenarchaeota\" Thermoprotei Desulfurococcales Pyrodictiaceae Pyrolobus</th>\n      <td>2.0</td>\n      <td>2.0</td>\n    </tr>\n    <tr>\n      <th>Archaea \"Crenarchaeota\" Thermoprotei Sulfolobales Sulfolobaceae Stygiolobus</th>\n      <td>3.0</td>\n      <td>10.0</td>\n    </tr>\n    <tr>\n      <th>Archaea \"Crenarchaeota\" Thermoprotei Thermoproteales Thermofilaceae Thermofilum</th>\n      <td>3.0</td>\n      <td>9.0</td>\n    </tr>\n    <tr>\n      <th>Archaea \"Euryarchaeota\" \"Methanomicrobia\" Methanocellales Methanocellaceae Methanocella</th>\n      <td>7.0</td>\n      <td>9.0</td>\n    </tr>\n  </tbody>\n</table>\n</div>"
     },
     "execution_count": 95,
     "metadata": {},
     "output_type": "execute_result"
    }
   ],
   "source": [
    "pd.concat([mb1, mb2], axis=1).head()"
   ]
  },
  {
   "cell_type": "markdown",
   "metadata": {},
   "source": [
    "## Reshaping DataFrame objects\n",
    "\n",
    "In the context of a single DataFrame, we are often interested in re-arranging the layout of our data. "
   ]
  },
  {
   "cell_type": "markdown",
   "metadata": {},
   "source": [
    "This dataset is from Table 6.9 of [Statistical Methods for the Analysis of Repeated Measurements](http://www.amazon.com/Statistical-Methods-Analysis-Repeated-Measurements/dp/0387953701) by Charles S. Davis, pp. 161-163 (Springer, 2002). These data are from a multicenter, randomized controlled trial of botulinum toxin type B (BotB) in patients with cervical dystonia from nine U.S. sites.\n",
    "\n",
    "* Randomized to placebo (N=36), 5000 units of BotB (N=36), 10,000 units of BotB (N=37)\n",
    "* Response variable: total score on Toronto Western Spasmodic Torticollis Rating Scale (TWSTRS), measuring severity, pain, and disability of cervical dystonia (high scores mean more impairment)\n",
    "* TWSTRS measured at baseline (week 0) and weeks 2, 4, 8, 12, 16 after treatment began"
   ]
  },
  {
   "cell_type": "code",
   "execution_count": 96,
   "metadata": {},
   "outputs": [
    {
     "data": {
      "text/plain": "   patient  obs  week  site  id  treat  age sex  twstrs\n0        1    1     0     1   1  5000U   65   F      32\n1        1    2     2     1   1  5000U   65   F      30\n2        1    3     4     1   1  5000U   65   F      24\n3        1    4     8     1   1  5000U   65   F      37\n4        1    5    12     1   1  5000U   65   F      39",
      "text/html": "<div>\n<style scoped>\n    .dataframe tbody tr th:only-of-type {\n        vertical-align: middle;\n    }\n\n    .dataframe tbody tr th {\n        vertical-align: top;\n    }\n\n    .dataframe thead th {\n        text-align: right;\n    }\n</style>\n<table border=\"1\" class=\"dataframe\">\n  <thead>\n    <tr style=\"text-align: right;\">\n      <th></th>\n      <th>patient</th>\n      <th>obs</th>\n      <th>week</th>\n      <th>site</th>\n      <th>id</th>\n      <th>treat</th>\n      <th>age</th>\n      <th>sex</th>\n      <th>twstrs</th>\n    </tr>\n  </thead>\n  <tbody>\n    <tr>\n      <th>0</th>\n      <td>1</td>\n      <td>1</td>\n      <td>0</td>\n      <td>1</td>\n      <td>1</td>\n      <td>5000U</td>\n      <td>65</td>\n      <td>F</td>\n      <td>32</td>\n    </tr>\n    <tr>\n      <th>1</th>\n      <td>1</td>\n      <td>2</td>\n      <td>2</td>\n      <td>1</td>\n      <td>1</td>\n      <td>5000U</td>\n      <td>65</td>\n      <td>F</td>\n      <td>30</td>\n    </tr>\n    <tr>\n      <th>2</th>\n      <td>1</td>\n      <td>3</td>\n      <td>4</td>\n      <td>1</td>\n      <td>1</td>\n      <td>5000U</td>\n      <td>65</td>\n      <td>F</td>\n      <td>24</td>\n    </tr>\n    <tr>\n      <th>3</th>\n      <td>1</td>\n      <td>4</td>\n      <td>8</td>\n      <td>1</td>\n      <td>1</td>\n      <td>5000U</td>\n      <td>65</td>\n      <td>F</td>\n      <td>37</td>\n    </tr>\n    <tr>\n      <th>4</th>\n      <td>1</td>\n      <td>5</td>\n      <td>12</td>\n      <td>1</td>\n      <td>1</td>\n      <td>5000U</td>\n      <td>65</td>\n      <td>F</td>\n      <td>39</td>\n    </tr>\n  </tbody>\n</table>\n</div>"
     },
     "execution_count": 96,
     "metadata": {},
     "output_type": "execute_result"
    }
   ],
   "source": [
    "cdystonia = pd.read_csv(\"Data/cdystonia.csv\", index_col=None)\n",
    "cdystonia.head()"
   ]
  },
  {
   "cell_type": "markdown",
   "metadata": {},
   "source": [
    "This dataset includes repeated measurements of the same individuals (longitudinal data). Its possible to present such information in (at least) two ways: showing each repeated measurement in their own row, or in multiple columns representing multiple measurements.\n"
   ]
  },
  {
   "cell_type": "markdown",
   "metadata": {},
   "source": [
    "The `stack` method rotates the data frame so that columns are represented in rows:"
   ]
  },
  {
   "cell_type": "code",
   "execution_count": 97,
   "metadata": {},
   "outputs": [
    {
     "data": {
      "text/plain": "0  patient        1\n   obs            1\n   week           0\n   site           1\n   id             1\n   treat      5000U\n   age           65\n   sex            F\n   twstrs        32\n1  patient        1\n   obs            2\n   week           2\n   site           1\n   id             1\n   treat      5000U\ndtype: object"
     },
     "execution_count": 97,
     "metadata": {},
     "output_type": "execute_result"
    }
   ],
   "source": [
    "stacked = cdystonia.stack()\n",
    "stacked.head(15)"
   ]
  },
  {
   "cell_type": "markdown",
   "metadata": {},
   "source": [
    "To complement this, `unstack` pivots from rows back to columns."
   ]
  },
  {
   "cell_type": "code",
   "execution_count": 98,
   "metadata": {},
   "outputs": [
    {
     "data": {
      "text/plain": "    patient obs week site  id  treat age sex twstrs\n0         1   1    0    1   1  5000U  65   F     32\n1         1   2    2    1   1  5000U  65   F     30\n2         1   3    4    1   1  5000U  65   F     24\n3         1   4    8    1   1  5000U  65   F     37\n4         1   5   12    1   1  5000U  65   F     39\n..      ...  ..  ...  ...  ..    ...  ..  ..    ...\n626     109   1    0    9  11  5000U  57   M     53\n627     109   2    2    9  11  5000U  57   M     38\n628     109   4    8    9  11  5000U  57   M     33\n629     109   5   12    9  11  5000U  57   M     36\n630     109   6   16    9  11  5000U  57   M     51\n\n[631 rows x 9 columns]",
      "text/html": "<div>\n<style scoped>\n    .dataframe tbody tr th:only-of-type {\n        vertical-align: middle;\n    }\n\n    .dataframe tbody tr th {\n        vertical-align: top;\n    }\n\n    .dataframe thead th {\n        text-align: right;\n    }\n</style>\n<table border=\"1\" class=\"dataframe\">\n  <thead>\n    <tr style=\"text-align: right;\">\n      <th></th>\n      <th>patient</th>\n      <th>obs</th>\n      <th>week</th>\n      <th>site</th>\n      <th>id</th>\n      <th>treat</th>\n      <th>age</th>\n      <th>sex</th>\n      <th>twstrs</th>\n    </tr>\n  </thead>\n  <tbody>\n    <tr>\n      <th>0</th>\n      <td>1</td>\n      <td>1</td>\n      <td>0</td>\n      <td>1</td>\n      <td>1</td>\n      <td>5000U</td>\n      <td>65</td>\n      <td>F</td>\n      <td>32</td>\n    </tr>\n    <tr>\n      <th>1</th>\n      <td>1</td>\n      <td>2</td>\n      <td>2</td>\n      <td>1</td>\n      <td>1</td>\n      <td>5000U</td>\n      <td>65</td>\n      <td>F</td>\n      <td>30</td>\n    </tr>\n    <tr>\n      <th>2</th>\n      <td>1</td>\n      <td>3</td>\n      <td>4</td>\n      <td>1</td>\n      <td>1</td>\n      <td>5000U</td>\n      <td>65</td>\n      <td>F</td>\n      <td>24</td>\n    </tr>\n    <tr>\n      <th>3</th>\n      <td>1</td>\n      <td>4</td>\n      <td>8</td>\n      <td>1</td>\n      <td>1</td>\n      <td>5000U</td>\n      <td>65</td>\n      <td>F</td>\n      <td>37</td>\n    </tr>\n    <tr>\n      <th>4</th>\n      <td>1</td>\n      <td>5</td>\n      <td>12</td>\n      <td>1</td>\n      <td>1</td>\n      <td>5000U</td>\n      <td>65</td>\n      <td>F</td>\n      <td>39</td>\n    </tr>\n    <tr>\n      <th>...</th>\n      <td>...</td>\n      <td>...</td>\n      <td>...</td>\n      <td>...</td>\n      <td>...</td>\n      <td>...</td>\n      <td>...</td>\n      <td>...</td>\n      <td>...</td>\n    </tr>\n    <tr>\n      <th>626</th>\n      <td>109</td>\n      <td>1</td>\n      <td>0</td>\n      <td>9</td>\n      <td>11</td>\n      <td>5000U</td>\n      <td>57</td>\n      <td>M</td>\n      <td>53</td>\n    </tr>\n    <tr>\n      <th>627</th>\n      <td>109</td>\n      <td>2</td>\n      <td>2</td>\n      <td>9</td>\n      <td>11</td>\n      <td>5000U</td>\n      <td>57</td>\n      <td>M</td>\n      <td>38</td>\n    </tr>\n    <tr>\n      <th>628</th>\n      <td>109</td>\n      <td>4</td>\n      <td>8</td>\n      <td>9</td>\n      <td>11</td>\n      <td>5000U</td>\n      <td>57</td>\n      <td>M</td>\n      <td>33</td>\n    </tr>\n    <tr>\n      <th>629</th>\n      <td>109</td>\n      <td>5</td>\n      <td>12</td>\n      <td>9</td>\n      <td>11</td>\n      <td>5000U</td>\n      <td>57</td>\n      <td>M</td>\n      <td>36</td>\n    </tr>\n    <tr>\n      <th>630</th>\n      <td>109</td>\n      <td>6</td>\n      <td>16</td>\n      <td>9</td>\n      <td>11</td>\n      <td>5000U</td>\n      <td>57</td>\n      <td>M</td>\n      <td>51</td>\n    </tr>\n  </tbody>\n</table>\n<p>631 rows × 9 columns</p>\n</div>"
     },
     "execution_count": 98,
     "metadata": {},
     "output_type": "execute_result"
    }
   ],
   "source": [
    "stacked.unstack()"
   ]
  },
  {
   "cell_type": "markdown",
   "metadata": {},
   "source": [
    "For this dataset, it makes sense to create a hierarchical index based on the patient and observation:"
   ]
  },
  {
   "cell_type": "code",
   "execution_count": 99,
   "outputs": [
    {
     "data": {
      "text/plain": "             week  site  id  treat  age sex  twstrs\npatient obs                                        \n1       1       0     1   1  5000U   65   F      32\n        2       2     1   1  5000U   65   F      30\n        3       4     1   1  5000U   65   F      24\n        4       8     1   1  5000U   65   F      37\n        5      12     1   1  5000U   65   F      39\n...           ...   ...  ..    ...  ...  ..     ...\n109     1       0     9  11  5000U   57   M      53\n        2       2     9  11  5000U   57   M      38\n        4       8     9  11  5000U   57   M      33\n        5      12     9  11  5000U   57   M      36\n        6      16     9  11  5000U   57   M      51\n\n[631 rows x 7 columns]",
      "text/html": "<div>\n<style scoped>\n    .dataframe tbody tr th:only-of-type {\n        vertical-align: middle;\n    }\n\n    .dataframe tbody tr th {\n        vertical-align: top;\n    }\n\n    .dataframe thead th {\n        text-align: right;\n    }\n</style>\n<table border=\"1\" class=\"dataframe\">\n  <thead>\n    <tr style=\"text-align: right;\">\n      <th></th>\n      <th></th>\n      <th>week</th>\n      <th>site</th>\n      <th>id</th>\n      <th>treat</th>\n      <th>age</th>\n      <th>sex</th>\n      <th>twstrs</th>\n    </tr>\n    <tr>\n      <th>patient</th>\n      <th>obs</th>\n      <th></th>\n      <th></th>\n      <th></th>\n      <th></th>\n      <th></th>\n      <th></th>\n      <th></th>\n    </tr>\n  </thead>\n  <tbody>\n    <tr>\n      <th rowspan=\"5\" valign=\"top\">1</th>\n      <th>1</th>\n      <td>0</td>\n      <td>1</td>\n      <td>1</td>\n      <td>5000U</td>\n      <td>65</td>\n      <td>F</td>\n      <td>32</td>\n    </tr>\n    <tr>\n      <th>2</th>\n      <td>2</td>\n      <td>1</td>\n      <td>1</td>\n      <td>5000U</td>\n      <td>65</td>\n      <td>F</td>\n      <td>30</td>\n    </tr>\n    <tr>\n      <th>3</th>\n      <td>4</td>\n      <td>1</td>\n      <td>1</td>\n      <td>5000U</td>\n      <td>65</td>\n      <td>F</td>\n      <td>24</td>\n    </tr>\n    <tr>\n      <th>4</th>\n      <td>8</td>\n      <td>1</td>\n      <td>1</td>\n      <td>5000U</td>\n      <td>65</td>\n      <td>F</td>\n      <td>37</td>\n    </tr>\n    <tr>\n      <th>5</th>\n      <td>12</td>\n      <td>1</td>\n      <td>1</td>\n      <td>5000U</td>\n      <td>65</td>\n      <td>F</td>\n      <td>39</td>\n    </tr>\n    <tr>\n      <th>...</th>\n      <th>...</th>\n      <td>...</td>\n      <td>...</td>\n      <td>...</td>\n      <td>...</td>\n      <td>...</td>\n      <td>...</td>\n      <td>...</td>\n    </tr>\n    <tr>\n      <th rowspan=\"5\" valign=\"top\">109</th>\n      <th>1</th>\n      <td>0</td>\n      <td>9</td>\n      <td>11</td>\n      <td>5000U</td>\n      <td>57</td>\n      <td>M</td>\n      <td>53</td>\n    </tr>\n    <tr>\n      <th>2</th>\n      <td>2</td>\n      <td>9</td>\n      <td>11</td>\n      <td>5000U</td>\n      <td>57</td>\n      <td>M</td>\n      <td>38</td>\n    </tr>\n    <tr>\n      <th>4</th>\n      <td>8</td>\n      <td>9</td>\n      <td>11</td>\n      <td>5000U</td>\n      <td>57</td>\n      <td>M</td>\n      <td>33</td>\n    </tr>\n    <tr>\n      <th>5</th>\n      <td>12</td>\n      <td>9</td>\n      <td>11</td>\n      <td>5000U</td>\n      <td>57</td>\n      <td>M</td>\n      <td>36</td>\n    </tr>\n    <tr>\n      <th>6</th>\n      <td>16</td>\n      <td>9</td>\n      <td>11</td>\n      <td>5000U</td>\n      <td>57</td>\n      <td>M</td>\n      <td>51</td>\n    </tr>\n  </tbody>\n</table>\n<p>631 rows × 7 columns</p>\n</div>"
     },
     "execution_count": 99,
     "metadata": {},
     "output_type": "execute_result"
    }
   ],
   "source": [
    "cdystonia_idx = cdystonia.set_index([\"patient\", \"obs\"])\n",
    "cdystonia_idx"
   ],
   "metadata": {
    "collapsed": false,
    "pycharm": {
     "name": "#%%\n"
    }
   }
  },
  {
   "cell_type": "markdown",
   "metadata": {},
   "source": [
    "## Pivoting\n",
    "\n",
    "The `pivot` method allows a DataFrame to be transformed easily between long and wide formats in the same way as a pivot table is created in a spreadsheet. It takes three arguments: `index`, `columns` and `values`, corresponding to the DataFrame index (the row headers), columns and cell values, respectively.\n",
    "\n",
    "For example, we may want the `twstrs` variable (the response variable) in wide format according to patient, as we saw with the unstacking method above:"
   ]
  },
  {
   "cell_type": "code",
   "execution_count": 100,
   "metadata": {},
   "outputs": [
    {
     "data": {
      "text/plain": "obs         1     2     3     4     5     6\npatient                                    \n1        32.0  30.0  24.0  37.0  39.0  36.0\n2        60.0  26.0  27.0  41.0  65.0  67.0\n3        44.0  20.0  23.0  26.0  35.0  35.0\n4        53.0  61.0  64.0  62.0   NaN   NaN\n5        53.0  35.0  48.0  49.0  41.0  51.0\n...       ...   ...   ...   ...   ...   ...\n105      45.0  46.0  33.0  44.0  46.0  48.0\n106      67.0  63.0  71.0  66.0  68.0  71.0\n107      57.0   NaN  36.0  23.0   NaN  52.0\n108      63.0  51.0  46.0  50.0  50.0  54.0\n109      53.0  38.0   NaN  33.0  36.0  51.0\n\n[109 rows x 6 columns]",
      "text/html": "<div>\n<style scoped>\n    .dataframe tbody tr th:only-of-type {\n        vertical-align: middle;\n    }\n\n    .dataframe tbody tr th {\n        vertical-align: top;\n    }\n\n    .dataframe thead th {\n        text-align: right;\n    }\n</style>\n<table border=\"1\" class=\"dataframe\">\n  <thead>\n    <tr style=\"text-align: right;\">\n      <th>obs</th>\n      <th>1</th>\n      <th>2</th>\n      <th>3</th>\n      <th>4</th>\n      <th>5</th>\n      <th>6</th>\n    </tr>\n    <tr>\n      <th>patient</th>\n      <th></th>\n      <th></th>\n      <th></th>\n      <th></th>\n      <th></th>\n      <th></th>\n    </tr>\n  </thead>\n  <tbody>\n    <tr>\n      <th>1</th>\n      <td>32.0</td>\n      <td>30.0</td>\n      <td>24.0</td>\n      <td>37.0</td>\n      <td>39.0</td>\n      <td>36.0</td>\n    </tr>\n    <tr>\n      <th>2</th>\n      <td>60.0</td>\n      <td>26.0</td>\n      <td>27.0</td>\n      <td>41.0</td>\n      <td>65.0</td>\n      <td>67.0</td>\n    </tr>\n    <tr>\n      <th>3</th>\n      <td>44.0</td>\n      <td>20.0</td>\n      <td>23.0</td>\n      <td>26.0</td>\n      <td>35.0</td>\n      <td>35.0</td>\n    </tr>\n    <tr>\n      <th>4</th>\n      <td>53.0</td>\n      <td>61.0</td>\n      <td>64.0</td>\n      <td>62.0</td>\n      <td>NaN</td>\n      <td>NaN</td>\n    </tr>\n    <tr>\n      <th>5</th>\n      <td>53.0</td>\n      <td>35.0</td>\n      <td>48.0</td>\n      <td>49.0</td>\n      <td>41.0</td>\n      <td>51.0</td>\n    </tr>\n    <tr>\n      <th>...</th>\n      <td>...</td>\n      <td>...</td>\n      <td>...</td>\n      <td>...</td>\n      <td>...</td>\n      <td>...</td>\n    </tr>\n    <tr>\n      <th>105</th>\n      <td>45.0</td>\n      <td>46.0</td>\n      <td>33.0</td>\n      <td>44.0</td>\n      <td>46.0</td>\n      <td>48.0</td>\n    </tr>\n    <tr>\n      <th>106</th>\n      <td>67.0</td>\n      <td>63.0</td>\n      <td>71.0</td>\n      <td>66.0</td>\n      <td>68.0</td>\n      <td>71.0</td>\n    </tr>\n    <tr>\n      <th>107</th>\n      <td>57.0</td>\n      <td>NaN</td>\n      <td>36.0</td>\n      <td>23.0</td>\n      <td>NaN</td>\n      <td>52.0</td>\n    </tr>\n    <tr>\n      <th>108</th>\n      <td>63.0</td>\n      <td>51.0</td>\n      <td>46.0</td>\n      <td>50.0</td>\n      <td>50.0</td>\n      <td>54.0</td>\n    </tr>\n    <tr>\n      <th>109</th>\n      <td>53.0</td>\n      <td>38.0</td>\n      <td>NaN</td>\n      <td>33.0</td>\n      <td>36.0</td>\n      <td>51.0</td>\n    </tr>\n  </tbody>\n</table>\n<p>109 rows × 6 columns</p>\n</div>"
     },
     "execution_count": 100,
     "metadata": {},
     "output_type": "execute_result"
    }
   ],
   "source": [
    "twstrs_wide = cdystonia.pivot(index='patient', columns='obs', values='twstrs')#.head()\n",
    "twstrs_wide"
   ]
  },
  {
   "cell_type": "code",
   "execution_count": 101,
   "metadata": {},
   "outputs": [
    {
     "data": {
      "text/plain": "     patient  site  id    treat  age sex     1     2     3     4     5     6\n0          1     1   1    5000U   65   F  32.0  30.0  24.0  37.0  39.0  36.0\n6          2     1   2   10000U   70   F  60.0  26.0  27.0  41.0  65.0  67.0\n12         3     1   3    5000U   64   F  44.0  20.0  23.0  26.0  35.0  35.0\n18         4     1   4  Placebo   59   F  53.0  61.0  64.0  62.0   NaN   NaN\n22         5     1   5   10000U   76   F  53.0  35.0  48.0  49.0  41.0  51.0\n..       ...   ...  ..      ...  ...  ..   ...   ...   ...   ...   ...   ...\n604      105     9   7  Placebo   79   F  45.0  46.0  33.0  44.0  46.0  48.0\n610      106     9   8    5000U   43   M  67.0  63.0  71.0  66.0  68.0  71.0\n616      107     9   9   10000U   50   M  57.0   NaN  36.0  23.0   NaN  52.0\n620      108     9  10   10000U   39   F  63.0  51.0  46.0  50.0  50.0  54.0\n626      109     9  11    5000U   57   M  53.0  38.0   NaN  33.0  36.0  51.0\n\n[109 rows x 12 columns]",
      "text/html": "<div>\n<style scoped>\n    .dataframe tbody tr th:only-of-type {\n        vertical-align: middle;\n    }\n\n    .dataframe tbody tr th {\n        vertical-align: top;\n    }\n\n    .dataframe thead th {\n        text-align: right;\n    }\n</style>\n<table border=\"1\" class=\"dataframe\">\n  <thead>\n    <tr style=\"text-align: right;\">\n      <th></th>\n      <th>patient</th>\n      <th>site</th>\n      <th>id</th>\n      <th>treat</th>\n      <th>age</th>\n      <th>sex</th>\n      <th>1</th>\n      <th>2</th>\n      <th>3</th>\n      <th>4</th>\n      <th>5</th>\n      <th>6</th>\n    </tr>\n  </thead>\n  <tbody>\n    <tr>\n      <th>0</th>\n      <td>1</td>\n      <td>1</td>\n      <td>1</td>\n      <td>5000U</td>\n      <td>65</td>\n      <td>F</td>\n      <td>32.0</td>\n      <td>30.0</td>\n      <td>24.0</td>\n      <td>37.0</td>\n      <td>39.0</td>\n      <td>36.0</td>\n    </tr>\n    <tr>\n      <th>6</th>\n      <td>2</td>\n      <td>1</td>\n      <td>2</td>\n      <td>10000U</td>\n      <td>70</td>\n      <td>F</td>\n      <td>60.0</td>\n      <td>26.0</td>\n      <td>27.0</td>\n      <td>41.0</td>\n      <td>65.0</td>\n      <td>67.0</td>\n    </tr>\n    <tr>\n      <th>12</th>\n      <td>3</td>\n      <td>1</td>\n      <td>3</td>\n      <td>5000U</td>\n      <td>64</td>\n      <td>F</td>\n      <td>44.0</td>\n      <td>20.0</td>\n      <td>23.0</td>\n      <td>26.0</td>\n      <td>35.0</td>\n      <td>35.0</td>\n    </tr>\n    <tr>\n      <th>18</th>\n      <td>4</td>\n      <td>1</td>\n      <td>4</td>\n      <td>Placebo</td>\n      <td>59</td>\n      <td>F</td>\n      <td>53.0</td>\n      <td>61.0</td>\n      <td>64.0</td>\n      <td>62.0</td>\n      <td>NaN</td>\n      <td>NaN</td>\n    </tr>\n    <tr>\n      <th>22</th>\n      <td>5</td>\n      <td>1</td>\n      <td>5</td>\n      <td>10000U</td>\n      <td>76</td>\n      <td>F</td>\n      <td>53.0</td>\n      <td>35.0</td>\n      <td>48.0</td>\n      <td>49.0</td>\n      <td>41.0</td>\n      <td>51.0</td>\n    </tr>\n    <tr>\n      <th>...</th>\n      <td>...</td>\n      <td>...</td>\n      <td>...</td>\n      <td>...</td>\n      <td>...</td>\n      <td>...</td>\n      <td>...</td>\n      <td>...</td>\n      <td>...</td>\n      <td>...</td>\n      <td>...</td>\n      <td>...</td>\n    </tr>\n    <tr>\n      <th>604</th>\n      <td>105</td>\n      <td>9</td>\n      <td>7</td>\n      <td>Placebo</td>\n      <td>79</td>\n      <td>F</td>\n      <td>45.0</td>\n      <td>46.0</td>\n      <td>33.0</td>\n      <td>44.0</td>\n      <td>46.0</td>\n      <td>48.0</td>\n    </tr>\n    <tr>\n      <th>610</th>\n      <td>106</td>\n      <td>9</td>\n      <td>8</td>\n      <td>5000U</td>\n      <td>43</td>\n      <td>M</td>\n      <td>67.0</td>\n      <td>63.0</td>\n      <td>71.0</td>\n      <td>66.0</td>\n      <td>68.0</td>\n      <td>71.0</td>\n    </tr>\n    <tr>\n      <th>616</th>\n      <td>107</td>\n      <td>9</td>\n      <td>9</td>\n      <td>10000U</td>\n      <td>50</td>\n      <td>M</td>\n      <td>57.0</td>\n      <td>NaN</td>\n      <td>36.0</td>\n      <td>23.0</td>\n      <td>NaN</td>\n      <td>52.0</td>\n    </tr>\n    <tr>\n      <th>620</th>\n      <td>108</td>\n      <td>9</td>\n      <td>10</td>\n      <td>10000U</td>\n      <td>39</td>\n      <td>F</td>\n      <td>63.0</td>\n      <td>51.0</td>\n      <td>46.0</td>\n      <td>50.0</td>\n      <td>50.0</td>\n      <td>54.0</td>\n    </tr>\n    <tr>\n      <th>626</th>\n      <td>109</td>\n      <td>9</td>\n      <td>11</td>\n      <td>5000U</td>\n      <td>57</td>\n      <td>M</td>\n      <td>53.0</td>\n      <td>38.0</td>\n      <td>NaN</td>\n      <td>33.0</td>\n      <td>36.0</td>\n      <td>51.0</td>\n    </tr>\n  </tbody>\n</table>\n<p>109 rows × 12 columns</p>\n</div>"
     },
     "execution_count": 101,
     "metadata": {},
     "output_type": "execute_result"
    }
   ],
   "source": [
    "cdystonia_wide = (cdystonia[['patient','site','id','treat','age','sex']]\n",
    "                  .drop_duplicates()\n",
    "                  .merge(twstrs_wide, right_index=True, left_on='patient', how='inner'))\n",
    "cdystonia_wide"
   ]
  },
  {
   "cell_type": "markdown",
   "metadata": {},
   "source": [
    "To convert our \"wide\" format back to long, we can use the `melt` function, appropriately parameterized. This function is useful for `DataFrame`s where one\n",
    "or more columns are identifier variables (`id_vars`), with the remaining columns being measured variables (`value_vars`). The measured variables are \"unpivoted\" to\n",
    "the row axis, leaving just two non-identifier columns, a *variable* and its corresponding *value*, which can both be renamed using optional arguments."
   ]
  },
  {
   "cell_type": "code",
   "execution_count": 104,
   "metadata": {},
   "outputs": [
    {
     "data": {
      "text/plain": "   patient  site  id    treat  age sex obs  twsters\n0        1     1   1    5000U   65   F   1     32.0\n1        2     1   2   10000U   70   F   1     60.0\n2        3     1   3    5000U   64   F   1     44.0\n3        4     1   4  Placebo   59   F   1     53.0\n4        5     1   5   10000U   76   F   1     53.0",
      "text/html": "<div>\n<style scoped>\n    .dataframe tbody tr th:only-of-type {\n        vertical-align: middle;\n    }\n\n    .dataframe tbody tr th {\n        vertical-align: top;\n    }\n\n    .dataframe thead th {\n        text-align: right;\n    }\n</style>\n<table border=\"1\" class=\"dataframe\">\n  <thead>\n    <tr style=\"text-align: right;\">\n      <th></th>\n      <th>patient</th>\n      <th>site</th>\n      <th>id</th>\n      <th>treat</th>\n      <th>age</th>\n      <th>sex</th>\n      <th>obs</th>\n      <th>twsters</th>\n    </tr>\n  </thead>\n  <tbody>\n    <tr>\n      <th>0</th>\n      <td>1</td>\n      <td>1</td>\n      <td>1</td>\n      <td>5000U</td>\n      <td>65</td>\n      <td>F</td>\n      <td>1</td>\n      <td>32.0</td>\n    </tr>\n    <tr>\n      <th>1</th>\n      <td>2</td>\n      <td>1</td>\n      <td>2</td>\n      <td>10000U</td>\n      <td>70</td>\n      <td>F</td>\n      <td>1</td>\n      <td>60.0</td>\n    </tr>\n    <tr>\n      <th>2</th>\n      <td>3</td>\n      <td>1</td>\n      <td>3</td>\n      <td>5000U</td>\n      <td>64</td>\n      <td>F</td>\n      <td>1</td>\n      <td>44.0</td>\n    </tr>\n    <tr>\n      <th>3</th>\n      <td>4</td>\n      <td>1</td>\n      <td>4</td>\n      <td>Placebo</td>\n      <td>59</td>\n      <td>F</td>\n      <td>1</td>\n      <td>53.0</td>\n    </tr>\n    <tr>\n      <th>4</th>\n      <td>5</td>\n      <td>1</td>\n      <td>5</td>\n      <td>10000U</td>\n      <td>76</td>\n      <td>F</td>\n      <td>1</td>\n      <td>53.0</td>\n    </tr>\n  </tbody>\n</table>\n</div>"
     },
     "execution_count": 104,
     "metadata": {},
     "output_type": "execute_result"
    }
   ],
   "source": [
    "pd.melt(cdystonia_wide, id_vars=['patient','site','id','treat','age','sex'], var_name='obs', value_name='twsters').head()"
   ]
  },
  {
   "cell_type": "markdown",
   "metadata": {},
   "source": [
    "This illustrates the two formats for longitudinal data: **long** and **wide** formats. Its typically better to store data in long format because additional data can be included as additional rows in the database, while wide format requires that the entire database schema be altered by adding columns to every row as data are collected.\n",
    "\n",
    "The preferable format for analysis depends entirely on what is planned for the data, so it is imporant to be able to move easily between them."
   ]
  },
  {
   "cell_type": "markdown",
   "metadata": {},
   "source": [
    "A related method, `pivot_table`, creates a spreadsheet-like table with a hierarchical index, and allows the values of the table to be populated using an arbitrary aggregation function."
   ]
  },
  {
   "cell_type": "code",
   "execution_count": 105,
   "metadata": {},
   "outputs": [
    {
     "data": {
      "text/plain": "week          0   2   4   8   12  16\nsite treat                          \n1    10000U   60  41  48  49  65  67\n     5000U    44  32  34  43  42  46\n     Placebo  53  61  64  62  32  38\n2    10000U   65  60  60  64  67  66\n     5000U    67  64  65  64  62  64\n     Placebo  53  56  52  57  61  54\n3    10000U   50  43  51  46  49  56\n     5000U    52  44  47  50  50  49\n     Placebo  43  38  40  48  49  44\n4    10000U   54  52  52  54  51  57",
      "text/html": "<div>\n<style scoped>\n    .dataframe tbody tr th:only-of-type {\n        vertical-align: middle;\n    }\n\n    .dataframe tbody tr th {\n        vertical-align: top;\n    }\n\n    .dataframe thead th {\n        text-align: right;\n    }\n</style>\n<table border=\"1\" class=\"dataframe\">\n  <thead>\n    <tr style=\"text-align: right;\">\n      <th></th>\n      <th>week</th>\n      <th>0</th>\n      <th>2</th>\n      <th>4</th>\n      <th>8</th>\n      <th>12</th>\n      <th>16</th>\n    </tr>\n    <tr>\n      <th>site</th>\n      <th>treat</th>\n      <th></th>\n      <th></th>\n      <th></th>\n      <th></th>\n      <th></th>\n      <th></th>\n    </tr>\n  </thead>\n  <tbody>\n    <tr>\n      <th rowspan=\"3\" valign=\"top\">1</th>\n      <th>10000U</th>\n      <td>60</td>\n      <td>41</td>\n      <td>48</td>\n      <td>49</td>\n      <td>65</td>\n      <td>67</td>\n    </tr>\n    <tr>\n      <th>5000U</th>\n      <td>44</td>\n      <td>32</td>\n      <td>34</td>\n      <td>43</td>\n      <td>42</td>\n      <td>46</td>\n    </tr>\n    <tr>\n      <th>Placebo</th>\n      <td>53</td>\n      <td>61</td>\n      <td>64</td>\n      <td>62</td>\n      <td>32</td>\n      <td>38</td>\n    </tr>\n    <tr>\n      <th rowspan=\"3\" valign=\"top\">2</th>\n      <th>10000U</th>\n      <td>65</td>\n      <td>60</td>\n      <td>60</td>\n      <td>64</td>\n      <td>67</td>\n      <td>66</td>\n    </tr>\n    <tr>\n      <th>5000U</th>\n      <td>67</td>\n      <td>64</td>\n      <td>65</td>\n      <td>64</td>\n      <td>62</td>\n      <td>64</td>\n    </tr>\n    <tr>\n      <th>Placebo</th>\n      <td>53</td>\n      <td>56</td>\n      <td>52</td>\n      <td>57</td>\n      <td>61</td>\n      <td>54</td>\n    </tr>\n    <tr>\n      <th rowspan=\"3\" valign=\"top\">3</th>\n      <th>10000U</th>\n      <td>50</td>\n      <td>43</td>\n      <td>51</td>\n      <td>46</td>\n      <td>49</td>\n      <td>56</td>\n    </tr>\n    <tr>\n      <th>5000U</th>\n      <td>52</td>\n      <td>44</td>\n      <td>47</td>\n      <td>50</td>\n      <td>50</td>\n      <td>49</td>\n    </tr>\n    <tr>\n      <th>Placebo</th>\n      <td>43</td>\n      <td>38</td>\n      <td>40</td>\n      <td>48</td>\n      <td>49</td>\n      <td>44</td>\n    </tr>\n    <tr>\n      <th>4</th>\n      <th>10000U</th>\n      <td>54</td>\n      <td>52</td>\n      <td>52</td>\n      <td>54</td>\n      <td>51</td>\n      <td>57</td>\n    </tr>\n  </tbody>\n</table>\n</div>"
     },
     "execution_count": 105,
     "metadata": {},
     "output_type": "execute_result"
    }
   ],
   "source": [
    "cdystonia.pivot_table(index=['site', 'treat'], columns='week', values='twstrs', aggfunc=max).head(10)"
   ]
  },
  {
   "cell_type": "markdown",
   "metadata": {},
   "source": [
    "For a simple cross-tabulation of group frequencies, the `crosstab` function (not a method) aggregates counts of data according to factors in rows and columns. The factors may be hierarchical if desired."
   ]
  },
  {
   "cell_type": "code",
   "execution_count": 106,
   "metadata": {},
   "outputs": [
    {
     "data": {
      "text/plain": "site   1   2   3   4   5   6   7   8   9\nsex                                     \nF     52  53  42  30  22  54  66  48  28\nM     18  29  30  18  11  33   6  58  33",
      "text/html": "<div>\n<style scoped>\n    .dataframe tbody tr th:only-of-type {\n        vertical-align: middle;\n    }\n\n    .dataframe tbody tr th {\n        vertical-align: top;\n    }\n\n    .dataframe thead th {\n        text-align: right;\n    }\n</style>\n<table border=\"1\" class=\"dataframe\">\n  <thead>\n    <tr style=\"text-align: right;\">\n      <th>site</th>\n      <th>1</th>\n      <th>2</th>\n      <th>3</th>\n      <th>4</th>\n      <th>5</th>\n      <th>6</th>\n      <th>7</th>\n      <th>8</th>\n      <th>9</th>\n    </tr>\n    <tr>\n      <th>sex</th>\n      <th></th>\n      <th></th>\n      <th></th>\n      <th></th>\n      <th></th>\n      <th></th>\n      <th></th>\n      <th></th>\n      <th></th>\n    </tr>\n  </thead>\n  <tbody>\n    <tr>\n      <th>F</th>\n      <td>52</td>\n      <td>53</td>\n      <td>42</td>\n      <td>30</td>\n      <td>22</td>\n      <td>54</td>\n      <td>66</td>\n      <td>48</td>\n      <td>28</td>\n    </tr>\n    <tr>\n      <th>M</th>\n      <td>18</td>\n      <td>29</td>\n      <td>30</td>\n      <td>18</td>\n      <td>11</td>\n      <td>33</td>\n      <td>6</td>\n      <td>58</td>\n      <td>33</td>\n    </tr>\n  </tbody>\n</table>\n</div>"
     },
     "execution_count": 106,
     "metadata": {},
     "output_type": "execute_result"
    }
   ],
   "source": [
    "pd.crosstab(cdystonia.sex, cdystonia.site)"
   ]
  },
  {
   "cell_type": "markdown",
   "metadata": {},
   "source": [
    "## Data transformation\n",
    "\n",
    "There are a slew of additional operations for DataFrames that we would collectively refer to as \"transformations\" which include tasks such as removing duplicate values, replacing values, and grouping values."
   ]
  },
  {
   "cell_type": "markdown",
   "metadata": {},
   "source": [
    "### Dealing with duplicates\n",
    "\n",
    "We can easily identify and remove duplicate values from `DataFrame` objects. For example, say we want to removed ships from our `vessels` dataset that have the same name:"
   ]
  },
  {
   "cell_type": "code",
   "execution_count": 220,
   "metadata": {},
   "outputs": [
    {
     "data": {
      "text/plain": "mmsi\n1          False\n9          False\n21         False\n74         False\n103        False\n310        False\n3011       False\n4731       False\n15151      False\n46809      False\n80404      False\n82003      False\n298716     False\n366235     False\n439541     False\n453556     False\n505843     False\n527918     False\n565026     False\n572329     False\n587370     False\n641114     False\n642262     False\n693559     False\n883085      True\n1193046    False\n1193946    False\n1233916    False\n1239468    False\n3041300    False\ndtype: bool"
     },
     "execution_count": 220,
     "metadata": {},
     "output_type": "execute_result"
    }
   ],
   "source": [
    "vessels.duplicated(subset='names').head(30)"
   ]
  },
  {
   "cell_type": "code",
   "execution_count": 115,
   "outputs": [
    {
     "data": {
      "text/plain": "           num_names              names sov  \\\nmmsi                                          \n883085             1      Us Gov Vessel   Y   \n8616300            1  President Jackson   N   \n24663800           1          Ubc Miami   N   \n25762700           1        Star Evviva   N   \n30422500           1           Panthera   N   \n36376000           1  President Jackson   N   \n36676000           1  President Jackson   N   \n95477672           1     The Highlander   N   \n215420000          1    Atlantic Action   N   \n215511500          1              Power   N   \n218446000          1           Islandia   N   \n218697000          1    Tatiana Schulte   N   \n235021256          1             Alexia   N   \n235029237          1     Maersk Bristol   N   \n235032368          1       Maersk Barry   N   \n235059917          1          Excalibur   N   \n235276000          1     Lady Ann Magee   N   \n237878000          1        Chrysoula S   N   \n238145000          1              Split   N   \n239652000          1             Amalia   N   \n239690000          1     Msc Washington   N   \n240067000          1              Andes   N   \n240498000          1           Nautilus   N   \n240572000          1          Alexandra   N   \n240622000          1         Eleftheria   N   \n240690000          1          Alexandra   N   \n240742000          1       Ocean Breeze   N   \n240829000          1             Kamari   N   \n241039000          1               Myra   N   \n244178000          1        Maas Trader   N   \n246167000          1          Rotterdam   N   \n246638000          1          Ubc Miami   N   \n247070300          1             Miro D   N   \n247089600          1        Giovanni Dp   N   \n247271400          1          Magnifica   N   \n247314300          1  Maria Bottiglieri   N   \n248264000          1             Tugela   N   \n248342000          1           Arabella   N   \n248424000          1              Myrto   N   \n248832000          1         Sir Albert   N   \n\n                                                        flag flag_type  \\\nmmsi                                                                     \n883085                                               Unknown   Unknown   \n8616300                                              Unknown   Unknown   \n24663800                       Netherlands (Kingdom of the)    Foreign   \n25762700                                             Norway    Foreign   \n30422500                                Antigua and Barbuda    Foreign   \n36376000                                             Unknown   Unknown   \n36676000                           United States of America   Domestic   \n95477672                                             Unknown   Unknown   \n215420000                                             Malta    Foreign   \n215511500                                             Malta    Foreign   \n218446000                     Germany (Federal Republic of)    Foreign   \n218697000                     Germany (Federal Republic of)    Foreign   \n235021256  United Kingdom of Great Britain and Northern I...   Foreign   \n235029237  United Kingdom of Great Britain and Northern I...   Foreign   \n235032368  United Kingdom of Great Britain and Northern I...   Foreign   \n235059917  United Kingdom of Great Britain and Northern I...   Foreign   \n235276000  United Kingdom of Great Britain and Northern I...   Foreign   \n237878000                                            Greece    Foreign   \n238145000                             Croatia (Republic of)    Foreign   \n239652000                                            Greece    Foreign   \n239690000                                            Greece    Foreign   \n240067000                                            Greece    Foreign   \n240498000                                            Greece    Foreign   \n240572000                                            Greece    Foreign   \n240622000                                            Greece    Foreign   \n240690000                                            Greece    Foreign   \n240742000                                            Greece    Foreign   \n240829000                                            Greece    Foreign   \n241039000                                             Greece   Foreign   \n244178000                      Netherlands (Kingdom of the)    Foreign   \n246167000                      Netherlands (Kingdom of the)    Foreign   \n246638000                      Netherlands (Kingdom of the)    Foreign   \n247070300                                             Italy    Foreign   \n247089600                                             Italy    Foreign   \n247271400                                             Italy    Foreign   \n247314300                                             Italy    Foreign   \n248264000                                             Malta    Foreign   \n248342000                                             Malta    Foreign   \n248424000                                             Malta    Foreign   \n248832000                                             Malta    Foreign   \n\n           num_loas        loa  max_loa  num_types         type  \nmmsi                                                             \n883085            1      205.0    205.0          1      Unknown  \n8616300           1      275.0    275.0          1        Cargo  \n24663800          1      108.0    108.0          1        Other  \n25762700          1      180.0    180.0          1        Cargo  \n30422500          1      118.0    118.0          1        Cargo  \n36376000          1      275.0    275.0          1        Cargo  \n36676000          1      275.0    275.0          1        Cargo  \n95477672          1       49.0     49.0          1     Pleasure  \n215420000         1      173.0    173.0          1        Cargo  \n215511500         1      249.0    249.0          1       Tanker  \n218446000         1      148.0    148.0          1        Cargo  \n218697000         1      222.0    222.0          1        Cargo  \n235021256         1       31.0     31.0          1     Pleasure  \n235029237         1      175.0    175.0          1       Tanker  \n235032368         1      175.0    175.0          1       Tanker  \n235059917         1      225.0    225.0          1        Cargo  \n235276000         1       49.0     49.0          1        Other  \n237878000         1      189.0    189.0          1        Cargo  \n238145000         1      188.0    188.0          1        Cargo  \n239652000         1      225.0    225.0          1        Cargo  \n239690000         1      270.0    270.0          1        Cargo  \n240067000         1      220.0    220.0          1       Tanker  \n240498000         1      274.0    274.0          1       Tanker  \n240572000         1      225.0    225.0          1        Cargo  \n240622000         1      208.0    208.0          1        Cargo  \n240690000         1      229.0    229.0          1        Cargo  \n240742000         1      183.0    183.0          1       Tanker  \n240829000         1      280.0    280.0          1       Tanker  \n241039000         1      229.0    229.0          1        Cargo  \n244178000         2  0.0/139.0    139.0          1        Cargo  \n246167000         1      238.0    238.0          1    Passenger  \n246638000         1      108.0    108.0          2  Cargo/Other  \n247070300         1      138.0    138.0          1       Tanker  \n247089600         1      138.0    138.0          1       Tanker  \n247271400         1      176.0    176.0          1       Tanker  \n247314300         1      243.0    243.0          1       Tanker  \n248264000         1      229.0    229.0          1        Cargo  \n248342000         1      159.0    159.0          1        Cargo  \n248424000         1      224.0    224.0          1        Cargo  \n248832000         1      135.0    135.0          1        Cargo  ",
      "text/html": "<div>\n<style scoped>\n    .dataframe tbody tr th:only-of-type {\n        vertical-align: middle;\n    }\n\n    .dataframe tbody tr th {\n        vertical-align: top;\n    }\n\n    .dataframe thead th {\n        text-align: right;\n    }\n</style>\n<table border=\"1\" class=\"dataframe\">\n  <thead>\n    <tr style=\"text-align: right;\">\n      <th></th>\n      <th>num_names</th>\n      <th>names</th>\n      <th>sov</th>\n      <th>flag</th>\n      <th>flag_type</th>\n      <th>num_loas</th>\n      <th>loa</th>\n      <th>max_loa</th>\n      <th>num_types</th>\n      <th>type</th>\n    </tr>\n    <tr>\n      <th>mmsi</th>\n      <th></th>\n      <th></th>\n      <th></th>\n      <th></th>\n      <th></th>\n      <th></th>\n      <th></th>\n      <th></th>\n      <th></th>\n      <th></th>\n    </tr>\n  </thead>\n  <tbody>\n    <tr>\n      <th>883085</th>\n      <td>1</td>\n      <td>Us Gov Vessel</td>\n      <td>Y</td>\n      <td>Unknown</td>\n      <td>Unknown</td>\n      <td>1</td>\n      <td>205.0</td>\n      <td>205.0</td>\n      <td>1</td>\n      <td>Unknown</td>\n    </tr>\n    <tr>\n      <th>8616300</th>\n      <td>1</td>\n      <td>President Jackson</td>\n      <td>N</td>\n      <td>Unknown</td>\n      <td>Unknown</td>\n      <td>1</td>\n      <td>275.0</td>\n      <td>275.0</td>\n      <td>1</td>\n      <td>Cargo</td>\n    </tr>\n    <tr>\n      <th>24663800</th>\n      <td>1</td>\n      <td>Ubc Miami</td>\n      <td>N</td>\n      <td>Netherlands (Kingdom of the)</td>\n      <td>Foreign</td>\n      <td>1</td>\n      <td>108.0</td>\n      <td>108.0</td>\n      <td>1</td>\n      <td>Other</td>\n    </tr>\n    <tr>\n      <th>25762700</th>\n      <td>1</td>\n      <td>Star Evviva</td>\n      <td>N</td>\n      <td>Norway</td>\n      <td>Foreign</td>\n      <td>1</td>\n      <td>180.0</td>\n      <td>180.0</td>\n      <td>1</td>\n      <td>Cargo</td>\n    </tr>\n    <tr>\n      <th>30422500</th>\n      <td>1</td>\n      <td>Panthera</td>\n      <td>N</td>\n      <td>Antigua and Barbuda</td>\n      <td>Foreign</td>\n      <td>1</td>\n      <td>118.0</td>\n      <td>118.0</td>\n      <td>1</td>\n      <td>Cargo</td>\n    </tr>\n    <tr>\n      <th>36376000</th>\n      <td>1</td>\n      <td>President Jackson</td>\n      <td>N</td>\n      <td>Unknown</td>\n      <td>Unknown</td>\n      <td>1</td>\n      <td>275.0</td>\n      <td>275.0</td>\n      <td>1</td>\n      <td>Cargo</td>\n    </tr>\n    <tr>\n      <th>36676000</th>\n      <td>1</td>\n      <td>President Jackson</td>\n      <td>N</td>\n      <td>United States of America</td>\n      <td>Domestic</td>\n      <td>1</td>\n      <td>275.0</td>\n      <td>275.0</td>\n      <td>1</td>\n      <td>Cargo</td>\n    </tr>\n    <tr>\n      <th>95477672</th>\n      <td>1</td>\n      <td>The Highlander</td>\n      <td>N</td>\n      <td>Unknown</td>\n      <td>Unknown</td>\n      <td>1</td>\n      <td>49.0</td>\n      <td>49.0</td>\n      <td>1</td>\n      <td>Pleasure</td>\n    </tr>\n    <tr>\n      <th>215420000</th>\n      <td>1</td>\n      <td>Atlantic Action</td>\n      <td>N</td>\n      <td>Malta</td>\n      <td>Foreign</td>\n      <td>1</td>\n      <td>173.0</td>\n      <td>173.0</td>\n      <td>1</td>\n      <td>Cargo</td>\n    </tr>\n    <tr>\n      <th>215511500</th>\n      <td>1</td>\n      <td>Power</td>\n      <td>N</td>\n      <td>Malta</td>\n      <td>Foreign</td>\n      <td>1</td>\n      <td>249.0</td>\n      <td>249.0</td>\n      <td>1</td>\n      <td>Tanker</td>\n    </tr>\n    <tr>\n      <th>218446000</th>\n      <td>1</td>\n      <td>Islandia</td>\n      <td>N</td>\n      <td>Germany (Federal Republic of)</td>\n      <td>Foreign</td>\n      <td>1</td>\n      <td>148.0</td>\n      <td>148.0</td>\n      <td>1</td>\n      <td>Cargo</td>\n    </tr>\n    <tr>\n      <th>218697000</th>\n      <td>1</td>\n      <td>Tatiana Schulte</td>\n      <td>N</td>\n      <td>Germany (Federal Republic of)</td>\n      <td>Foreign</td>\n      <td>1</td>\n      <td>222.0</td>\n      <td>222.0</td>\n      <td>1</td>\n      <td>Cargo</td>\n    </tr>\n    <tr>\n      <th>235021256</th>\n      <td>1</td>\n      <td>Alexia</td>\n      <td>N</td>\n      <td>United Kingdom of Great Britain and Northern I...</td>\n      <td>Foreign</td>\n      <td>1</td>\n      <td>31.0</td>\n      <td>31.0</td>\n      <td>1</td>\n      <td>Pleasure</td>\n    </tr>\n    <tr>\n      <th>235029237</th>\n      <td>1</td>\n      <td>Maersk Bristol</td>\n      <td>N</td>\n      <td>United Kingdom of Great Britain and Northern I...</td>\n      <td>Foreign</td>\n      <td>1</td>\n      <td>175.0</td>\n      <td>175.0</td>\n      <td>1</td>\n      <td>Tanker</td>\n    </tr>\n    <tr>\n      <th>235032368</th>\n      <td>1</td>\n      <td>Maersk Barry</td>\n      <td>N</td>\n      <td>United Kingdom of Great Britain and Northern I...</td>\n      <td>Foreign</td>\n      <td>1</td>\n      <td>175.0</td>\n      <td>175.0</td>\n      <td>1</td>\n      <td>Tanker</td>\n    </tr>\n    <tr>\n      <th>235059917</th>\n      <td>1</td>\n      <td>Excalibur</td>\n      <td>N</td>\n      <td>United Kingdom of Great Britain and Northern I...</td>\n      <td>Foreign</td>\n      <td>1</td>\n      <td>225.0</td>\n      <td>225.0</td>\n      <td>1</td>\n      <td>Cargo</td>\n    </tr>\n    <tr>\n      <th>235276000</th>\n      <td>1</td>\n      <td>Lady Ann Magee</td>\n      <td>N</td>\n      <td>United Kingdom of Great Britain and Northern I...</td>\n      <td>Foreign</td>\n      <td>1</td>\n      <td>49.0</td>\n      <td>49.0</td>\n      <td>1</td>\n      <td>Other</td>\n    </tr>\n    <tr>\n      <th>237878000</th>\n      <td>1</td>\n      <td>Chrysoula S</td>\n      <td>N</td>\n      <td>Greece</td>\n      <td>Foreign</td>\n      <td>1</td>\n      <td>189.0</td>\n      <td>189.0</td>\n      <td>1</td>\n      <td>Cargo</td>\n    </tr>\n    <tr>\n      <th>238145000</th>\n      <td>1</td>\n      <td>Split</td>\n      <td>N</td>\n      <td>Croatia (Republic of)</td>\n      <td>Foreign</td>\n      <td>1</td>\n      <td>188.0</td>\n      <td>188.0</td>\n      <td>1</td>\n      <td>Cargo</td>\n    </tr>\n    <tr>\n      <th>239652000</th>\n      <td>1</td>\n      <td>Amalia</td>\n      <td>N</td>\n      <td>Greece</td>\n      <td>Foreign</td>\n      <td>1</td>\n      <td>225.0</td>\n      <td>225.0</td>\n      <td>1</td>\n      <td>Cargo</td>\n    </tr>\n    <tr>\n      <th>239690000</th>\n      <td>1</td>\n      <td>Msc Washington</td>\n      <td>N</td>\n      <td>Greece</td>\n      <td>Foreign</td>\n      <td>1</td>\n      <td>270.0</td>\n      <td>270.0</td>\n      <td>1</td>\n      <td>Cargo</td>\n    </tr>\n    <tr>\n      <th>240067000</th>\n      <td>1</td>\n      <td>Andes</td>\n      <td>N</td>\n      <td>Greece</td>\n      <td>Foreign</td>\n      <td>1</td>\n      <td>220.0</td>\n      <td>220.0</td>\n      <td>1</td>\n      <td>Tanker</td>\n    </tr>\n    <tr>\n      <th>240498000</th>\n      <td>1</td>\n      <td>Nautilus</td>\n      <td>N</td>\n      <td>Greece</td>\n      <td>Foreign</td>\n      <td>1</td>\n      <td>274.0</td>\n      <td>274.0</td>\n      <td>1</td>\n      <td>Tanker</td>\n    </tr>\n    <tr>\n      <th>240572000</th>\n      <td>1</td>\n      <td>Alexandra</td>\n      <td>N</td>\n      <td>Greece</td>\n      <td>Foreign</td>\n      <td>1</td>\n      <td>225.0</td>\n      <td>225.0</td>\n      <td>1</td>\n      <td>Cargo</td>\n    </tr>\n    <tr>\n      <th>240622000</th>\n      <td>1</td>\n      <td>Eleftheria</td>\n      <td>N</td>\n      <td>Greece</td>\n      <td>Foreign</td>\n      <td>1</td>\n      <td>208.0</td>\n      <td>208.0</td>\n      <td>1</td>\n      <td>Cargo</td>\n    </tr>\n    <tr>\n      <th>240690000</th>\n      <td>1</td>\n      <td>Alexandra</td>\n      <td>N</td>\n      <td>Greece</td>\n      <td>Foreign</td>\n      <td>1</td>\n      <td>229.0</td>\n      <td>229.0</td>\n      <td>1</td>\n      <td>Cargo</td>\n    </tr>\n    <tr>\n      <th>240742000</th>\n      <td>1</td>\n      <td>Ocean Breeze</td>\n      <td>N</td>\n      <td>Greece</td>\n      <td>Foreign</td>\n      <td>1</td>\n      <td>183.0</td>\n      <td>183.0</td>\n      <td>1</td>\n      <td>Tanker</td>\n    </tr>\n    <tr>\n      <th>240829000</th>\n      <td>1</td>\n      <td>Kamari</td>\n      <td>N</td>\n      <td>Greece</td>\n      <td>Foreign</td>\n      <td>1</td>\n      <td>280.0</td>\n      <td>280.0</td>\n      <td>1</td>\n      <td>Tanker</td>\n    </tr>\n    <tr>\n      <th>241039000</th>\n      <td>1</td>\n      <td>Myra</td>\n      <td>N</td>\n      <td>Greece</td>\n      <td>Foreign</td>\n      <td>1</td>\n      <td>229.0</td>\n      <td>229.0</td>\n      <td>1</td>\n      <td>Cargo</td>\n    </tr>\n    <tr>\n      <th>244178000</th>\n      <td>1</td>\n      <td>Maas Trader</td>\n      <td>N</td>\n      <td>Netherlands (Kingdom of the)</td>\n      <td>Foreign</td>\n      <td>2</td>\n      <td>0.0/139.0</td>\n      <td>139.0</td>\n      <td>1</td>\n      <td>Cargo</td>\n    </tr>\n    <tr>\n      <th>246167000</th>\n      <td>1</td>\n      <td>Rotterdam</td>\n      <td>N</td>\n      <td>Netherlands (Kingdom of the)</td>\n      <td>Foreign</td>\n      <td>1</td>\n      <td>238.0</td>\n      <td>238.0</td>\n      <td>1</td>\n      <td>Passenger</td>\n    </tr>\n    <tr>\n      <th>246638000</th>\n      <td>1</td>\n      <td>Ubc Miami</td>\n      <td>N</td>\n      <td>Netherlands (Kingdom of the)</td>\n      <td>Foreign</td>\n      <td>1</td>\n      <td>108.0</td>\n      <td>108.0</td>\n      <td>2</td>\n      <td>Cargo/Other</td>\n    </tr>\n    <tr>\n      <th>247070300</th>\n      <td>1</td>\n      <td>Miro D</td>\n      <td>N</td>\n      <td>Italy</td>\n      <td>Foreign</td>\n      <td>1</td>\n      <td>138.0</td>\n      <td>138.0</td>\n      <td>1</td>\n      <td>Tanker</td>\n    </tr>\n    <tr>\n      <th>247089600</th>\n      <td>1</td>\n      <td>Giovanni Dp</td>\n      <td>N</td>\n      <td>Italy</td>\n      <td>Foreign</td>\n      <td>1</td>\n      <td>138.0</td>\n      <td>138.0</td>\n      <td>1</td>\n      <td>Tanker</td>\n    </tr>\n    <tr>\n      <th>247271400</th>\n      <td>1</td>\n      <td>Magnifica</td>\n      <td>N</td>\n      <td>Italy</td>\n      <td>Foreign</td>\n      <td>1</td>\n      <td>176.0</td>\n      <td>176.0</td>\n      <td>1</td>\n      <td>Tanker</td>\n    </tr>\n    <tr>\n      <th>247314300</th>\n      <td>1</td>\n      <td>Maria Bottiglieri</td>\n      <td>N</td>\n      <td>Italy</td>\n      <td>Foreign</td>\n      <td>1</td>\n      <td>243.0</td>\n      <td>243.0</td>\n      <td>1</td>\n      <td>Tanker</td>\n    </tr>\n    <tr>\n      <th>248264000</th>\n      <td>1</td>\n      <td>Tugela</td>\n      <td>N</td>\n      <td>Malta</td>\n      <td>Foreign</td>\n      <td>1</td>\n      <td>229.0</td>\n      <td>229.0</td>\n      <td>1</td>\n      <td>Cargo</td>\n    </tr>\n    <tr>\n      <th>248342000</th>\n      <td>1</td>\n      <td>Arabella</td>\n      <td>N</td>\n      <td>Malta</td>\n      <td>Foreign</td>\n      <td>1</td>\n      <td>159.0</td>\n      <td>159.0</td>\n      <td>1</td>\n      <td>Cargo</td>\n    </tr>\n    <tr>\n      <th>248424000</th>\n      <td>1</td>\n      <td>Myrto</td>\n      <td>N</td>\n      <td>Malta</td>\n      <td>Foreign</td>\n      <td>1</td>\n      <td>224.0</td>\n      <td>224.0</td>\n      <td>1</td>\n      <td>Cargo</td>\n    </tr>\n    <tr>\n      <th>248832000</th>\n      <td>1</td>\n      <td>Sir Albert</td>\n      <td>N</td>\n      <td>Malta</td>\n      <td>Foreign</td>\n      <td>1</td>\n      <td>135.0</td>\n      <td>135.0</td>\n      <td>1</td>\n      <td>Cargo</td>\n    </tr>\n  </tbody>\n</table>\n</div>"
     },
     "execution_count": 115,
     "metadata": {},
     "output_type": "execute_result"
    }
   ],
   "source": [
    "vessels[vessels.duplicated(subset='names')].head(40)"
   ],
   "metadata": {
    "collapsed": false,
    "pycharm": {
     "name": "#%%\n"
    }
   }
  },
  {
   "cell_type": "code",
   "execution_count": 222,
   "metadata": {
    "scrolled": true
   },
   "outputs": [
    {
     "data": {
      "text/plain": "      num_names                                              names sov  \\\nmmsi                                                                     \n1             8  Bil Holman Dredge/Dredge Capt Frank/Emo/Offsho...   Y   \n9             3                         000000009/Raven/Shearwater   N   \n21            1                                      Us Gov Vessel   Y   \n74            2                                  Mcfaul/Sarah Bell   N   \n103           3           Ron G/Us Navy Warship 103/Us Warship 103   Y   \n\n         flag flag_type  num_loas                                    loa  \\\nmmsi                                                                       \n1     Unknown   Unknown         7  42.0/48.0/57.0/90.0/138.0/154.0/156.0   \n9     Unknown   Unknown         2                              50.0/62.0   \n21    Unknown   Unknown         1                                  208.0   \n74    Unknown   Unknown         1                                  155.0   \n103   Unknown   Unknown         2                             26.0/155.0   \n\n      max_loa  num_types                             type  \nmmsi                                                       \n1       156.0          4  Dredging/MilOps/Reserved/Towing  \n9        62.0          2                     Pleasure/Tug  \n21      208.0          1                          Unknown  \n74      155.0          1                          Unknown  \n103     155.0          2                   Tanker/Unknown  ",
      "text/html": "<div>\n<style scoped>\n    .dataframe tbody tr th:only-of-type {\n        vertical-align: middle;\n    }\n\n    .dataframe tbody tr th {\n        vertical-align: top;\n    }\n\n    .dataframe thead th {\n        text-align: right;\n    }\n</style>\n<table border=\"1\" class=\"dataframe\">\n  <thead>\n    <tr style=\"text-align: right;\">\n      <th></th>\n      <th>num_names</th>\n      <th>names</th>\n      <th>sov</th>\n      <th>flag</th>\n      <th>flag_type</th>\n      <th>num_loas</th>\n      <th>loa</th>\n      <th>max_loa</th>\n      <th>num_types</th>\n      <th>type</th>\n    </tr>\n    <tr>\n      <th>mmsi</th>\n      <th></th>\n      <th></th>\n      <th></th>\n      <th></th>\n      <th></th>\n      <th></th>\n      <th></th>\n      <th></th>\n      <th></th>\n      <th></th>\n    </tr>\n  </thead>\n  <tbody>\n    <tr>\n      <th>1</th>\n      <td>8</td>\n      <td>Bil Holman Dredge/Dredge Capt Frank/Emo/Offsho...</td>\n      <td>Y</td>\n      <td>Unknown</td>\n      <td>Unknown</td>\n      <td>7</td>\n      <td>42.0/48.0/57.0/90.0/138.0/154.0/156.0</td>\n      <td>156.0</td>\n      <td>4</td>\n      <td>Dredging/MilOps/Reserved/Towing</td>\n    </tr>\n    <tr>\n      <th>9</th>\n      <td>3</td>\n      <td>000000009/Raven/Shearwater</td>\n      <td>N</td>\n      <td>Unknown</td>\n      <td>Unknown</td>\n      <td>2</td>\n      <td>50.0/62.0</td>\n      <td>62.0</td>\n      <td>2</td>\n      <td>Pleasure/Tug</td>\n    </tr>\n    <tr>\n      <th>21</th>\n      <td>1</td>\n      <td>Us Gov Vessel</td>\n      <td>Y</td>\n      <td>Unknown</td>\n      <td>Unknown</td>\n      <td>1</td>\n      <td>208.0</td>\n      <td>208.0</td>\n      <td>1</td>\n      <td>Unknown</td>\n    </tr>\n    <tr>\n      <th>74</th>\n      <td>2</td>\n      <td>Mcfaul/Sarah Bell</td>\n      <td>N</td>\n      <td>Unknown</td>\n      <td>Unknown</td>\n      <td>1</td>\n      <td>155.0</td>\n      <td>155.0</td>\n      <td>1</td>\n      <td>Unknown</td>\n    </tr>\n    <tr>\n      <th>103</th>\n      <td>3</td>\n      <td>Ron G/Us Navy Warship 103/Us Warship 103</td>\n      <td>Y</td>\n      <td>Unknown</td>\n      <td>Unknown</td>\n      <td>2</td>\n      <td>26.0/155.0</td>\n      <td>155.0</td>\n      <td>2</td>\n      <td>Tanker/Unknown</td>\n    </tr>\n  </tbody>\n</table>\n</div>"
     },
     "execution_count": 222,
     "metadata": {},
     "output_type": "execute_result"
    }
   ],
   "source": [
    "vessels.drop_duplicates(['names']).head()"
   ]
  },
  {
   "cell_type": "markdown",
   "metadata": {},
   "source": [
    "### Value replacement\n",
    "\n",
    "Frequently, we get data columns that are encoded as strings that we wish to represent numerically for the purposes of including it in a quantitative analysis. For example, consider the treatment variable in the cervical dystonia dataset:"
   ]
  },
  {
   "cell_type": "code",
   "execution_count": 116,
   "metadata": {},
   "outputs": [
    {
     "data": {
      "text/plain": "10000U     213\n5000U      211\nPlacebo    207\nName: treat, dtype: int64"
     },
     "execution_count": 116,
     "metadata": {},
     "output_type": "execute_result"
    }
   ],
   "source": [
    "cdystonia.treat.value_counts()"
   ]
  },
  {
   "cell_type": "markdown",
   "metadata": {},
   "source": [
    "A logical way to specify these numerically is to change them to integer values, perhaps using \"Placebo\" as a baseline value. If we create a dict with the original values as keys and the replacements as values, we can pass it to the `map` method to implement the changes."
   ]
  },
  {
   "cell_type": "code",
   "execution_count": 117,
   "metadata": {},
   "outputs": [
    {
     "data": {
      "text/plain": "0    1\n1    1\n2    1\n3    1\n4    1\n5    1\n6    2\n7    2\n8    2\n9    2\nName: treatment, dtype: int64"
     },
     "execution_count": 117,
     "metadata": {},
     "output_type": "execute_result"
    }
   ],
   "source": [
    "cdystonia['treatment'] = cdystonia.treat.map({'Placebo': 0, '5000U': 1, '10000U': 2})\n",
    "cdystonia.treatment.head(10)"
   ]
  },
  {
   "cell_type": "markdown",
   "metadata": {},
   "source": [
    "We can also perform the same replacement that we used `map` for with `replace`:"
   ]
  },
  {
   "cell_type": "code",
   "execution_count": 122,
   "metadata": {},
   "outputs": [
    {
     "data": {
      "text/plain": "0      1\n1      1\n2      1\n3      1\n4      1\n      ..\n626    1\n627    1\n628    1\n629    1\n630    1\nName: treat, Length: 631, dtype: int64"
     },
     "execution_count": 122,
     "metadata": {},
     "output_type": "execute_result"
    }
   ],
   "source": [
    "# cdystonia.treat.replace({0:'Placebo', 1:'5000U', 2:'10000U'}).head(10)\n",
    "cdystonia.treat.replace({'Placebo': 0, '5000U': 1, '10000U': 2})"
   ]
  },
  {
   "cell_type": "markdown",
   "metadata": {},
   "source": [
    "### Inidcator variables\n",
    "\n",
    "For some statistical analyses (*e.g.* regression models or analyses of variance), categorical or group variables need to be converted into columns of indicators--zeros and ones--to create a so-called **design matrix**. The Pandas function `get_dummies` (indicator variables are also known as *dummy variables*) makes this transformation straightforward."
   ]
  },
  {
   "cell_type": "code",
   "execution_count": 123,
   "metadata": {},
   "outputs": [
    {
     "data": {
      "text/plain": "       Dredging/MilOps/Reserved/Towing  Other  Pleasure/Tug  Tanker/Unknown  \\\nmmsi                                                                          \n1                                    1      0             0               0   \n9                                    0      0             1               0   \n21                                   0      0             0               0   \n74                                   0      0             0               0   \n103                                  0      0             0               1   \n310                                  0      0             0               0   \n3011                                 0      1             0               0   \n4731                                 0      0             0               0   \n15151                                0      0             0               0   \n46809                                0      0             0               0   \n\n       Towing  Tug  Unknown  \nmmsi                         \n1           0    0        0  \n9           0    0        0  \n21          0    0        1  \n74          0    0        1  \n103         0    0        0  \n310         0    0        1  \n3011        0    0        0  \n4731        0    0        1  \n15151       0    1        0  \n46809       1    0        0  ",
      "text/html": "<div>\n<style scoped>\n    .dataframe tbody tr th:only-of-type {\n        vertical-align: middle;\n    }\n\n    .dataframe tbody tr th {\n        vertical-align: top;\n    }\n\n    .dataframe thead th {\n        text-align: right;\n    }\n</style>\n<table border=\"1\" class=\"dataframe\">\n  <thead>\n    <tr style=\"text-align: right;\">\n      <th></th>\n      <th>Dredging/MilOps/Reserved/Towing</th>\n      <th>Other</th>\n      <th>Pleasure/Tug</th>\n      <th>Tanker/Unknown</th>\n      <th>Towing</th>\n      <th>Tug</th>\n      <th>Unknown</th>\n    </tr>\n    <tr>\n      <th>mmsi</th>\n      <th></th>\n      <th></th>\n      <th></th>\n      <th></th>\n      <th></th>\n      <th></th>\n      <th></th>\n    </tr>\n  </thead>\n  <tbody>\n    <tr>\n      <th>1</th>\n      <td>1</td>\n      <td>0</td>\n      <td>0</td>\n      <td>0</td>\n      <td>0</td>\n      <td>0</td>\n      <td>0</td>\n    </tr>\n    <tr>\n      <th>9</th>\n      <td>0</td>\n      <td>0</td>\n      <td>1</td>\n      <td>0</td>\n      <td>0</td>\n      <td>0</td>\n      <td>0</td>\n    </tr>\n    <tr>\n      <th>21</th>\n      <td>0</td>\n      <td>0</td>\n      <td>0</td>\n      <td>0</td>\n      <td>0</td>\n      <td>0</td>\n      <td>1</td>\n    </tr>\n    <tr>\n      <th>74</th>\n      <td>0</td>\n      <td>0</td>\n      <td>0</td>\n      <td>0</td>\n      <td>0</td>\n      <td>0</td>\n      <td>1</td>\n    </tr>\n    <tr>\n      <th>103</th>\n      <td>0</td>\n      <td>0</td>\n      <td>0</td>\n      <td>1</td>\n      <td>0</td>\n      <td>0</td>\n      <td>0</td>\n    </tr>\n    <tr>\n      <th>310</th>\n      <td>0</td>\n      <td>0</td>\n      <td>0</td>\n      <td>0</td>\n      <td>0</td>\n      <td>0</td>\n      <td>1</td>\n    </tr>\n    <tr>\n      <th>3011</th>\n      <td>0</td>\n      <td>1</td>\n      <td>0</td>\n      <td>0</td>\n      <td>0</td>\n      <td>0</td>\n      <td>0</td>\n    </tr>\n    <tr>\n      <th>4731</th>\n      <td>0</td>\n      <td>0</td>\n      <td>0</td>\n      <td>0</td>\n      <td>0</td>\n      <td>0</td>\n      <td>1</td>\n    </tr>\n    <tr>\n      <th>15151</th>\n      <td>0</td>\n      <td>0</td>\n      <td>0</td>\n      <td>0</td>\n      <td>0</td>\n      <td>1</td>\n      <td>0</td>\n    </tr>\n    <tr>\n      <th>46809</th>\n      <td>0</td>\n      <td>0</td>\n      <td>0</td>\n      <td>0</td>\n      <td>1</td>\n      <td>0</td>\n      <td>0</td>\n    </tr>\n  </tbody>\n</table>\n</div>"
     },
     "execution_count": 123,
     "metadata": {},
     "output_type": "execute_result"
    }
   ],
   "source": [
    "pd.get_dummies(vessels.head(10).type)\n",
    "# vessels.info()"
   ]
  },
  {
   "cell_type": "markdown",
   "metadata": {},
   "source": [
    "## Categorical Data\n",
    "\n",
    "Pandas provides a convenient `dtype` for reprsenting categorical (factor) data, called `category`. \n",
    "\n",
    "For example, the `treat` column in the cervical dystonia dataset represents three treatment levels in a clinical trial, and is imported by default as an `object` type, since it is a mixture of string characters."
   ]
  },
  {
   "cell_type": "code",
   "execution_count": 124,
   "metadata": {},
   "outputs": [
    {
     "data": {
      "text/plain": "0    5000U\n1    5000U\n2    5000U\n3    5000U\n4    5000U\nName: treat, dtype: object"
     },
     "execution_count": 124,
     "metadata": {},
     "output_type": "execute_result"
    }
   ],
   "source": [
    "cdystonia.treat.head()"
   ]
  },
  {
   "cell_type": "markdown",
   "metadata": {},
   "source": [
    "We can convert this to a `category` type either by the `Categorical` constructor, or casting the column using `astype`:"
   ]
  },
  {
   "cell_type": "code",
   "execution_count": 125,
   "metadata": {},
   "outputs": [
    {
     "data": {
      "text/plain": "['5000U', '5000U', '5000U', '5000U', '5000U', ..., '5000U', '5000U', '5000U', '5000U', '5000U']\nLength: 631\nCategories (3, object): ['10000U', '5000U', 'Placebo']"
     },
     "execution_count": 125,
     "metadata": {},
     "output_type": "execute_result"
    }
   ],
   "source": [
    "pd.Categorical(cdystonia.treat)"
   ]
  },
  {
   "cell_type": "code",
   "execution_count": 128,
   "metadata": {
    "collapsed": true
   },
   "outputs": [],
   "source": [
    "cdystonia['treat'] = cdystonia.treat.astype('category')"
   ]
  },
  {
   "cell_type": "code",
   "execution_count": 129,
   "metadata": {},
   "outputs": [
    {
     "data": {
      "text/plain": "count        631\nunique         3\ntop       10000U\nfreq         213\nName: treat, dtype: object"
     },
     "execution_count": 129,
     "metadata": {},
     "output_type": "execute_result"
    }
   ],
   "source": [
    "cdystonia.treat.describe()"
   ]
  },
  {
   "cell_type": "code",
   "execution_count": 130,
   "outputs": [
    {
     "data": {
      "text/plain": "patient         int64\nobs             int64\nweek            int64\nsite            int64\nid              int64\ntreat        category\nage             int64\nsex            object\ntwstrs          int64\ntreatment       int64\ndtype: object"
     },
     "execution_count": 130,
     "metadata": {},
     "output_type": "execute_result"
    }
   ],
   "source": [
    "cdystonia.dtypes"
   ],
   "metadata": {
    "collapsed": false,
    "pycharm": {
     "name": "#%%\n"
    }
   }
  },
  {
   "cell_type": "markdown",
   "metadata": {},
   "source": [
    "The important difference between the `category` type and the `object` type is that `category` is represented by an <b>underlying array of integers</b>, which is then mapped to character labels."
   ]
  },
  {
   "cell_type": "code",
   "execution_count": 262,
   "metadata": {},
   "outputs": [
    {
     "data": {
      "text/plain": "0     1\n1     1\n2     1\n3     1\n4     1\n5     1\n6     0\n7     0\n8     0\n9     0\n10    0\n11    0\n12    1\n13    1\n14    1\n15    1\n16    1\n17    1\n18    2\n19    2\ndtype: int8"
     },
     "execution_count": 262,
     "metadata": {},
     "output_type": "execute_result"
    }
   ],
   "source": [
    "cdystonia.treat.cat.codes.head(20)"
   ]
  },
  {
   "cell_type": "markdown",
   "metadata": {},
   "source": [
    "Notice that these are 8-bit integers, which are essentially single bytes of data, making memory usage lower.\n",
    "\n",
    "There is also a performance benefit. Consider an operation such as calculating the total segment lengths for each ship in the `segments` table (this is also a preview of pandas' `groupby` operation!):"
   ]
  },
  {
   "cell_type": "code",
   "execution_count": 263,
   "metadata": {},
   "outputs": [
    {
     "name": "stdout",
     "output_type": "stream",
     "text": [
      "CPU times: user 43 ms, sys: 23 ms, total: 66.1 ms\n",
      "Wall time: 64.4 ms\n"
     ]
    },
    {
     "data": {
      "text/plain": "name\nGeorgia             93941.2\nP/b Phantom         39102.4\nPadre Island        36969.0\nDodge Island        33736.9\nTerrapin  Island    32845.6\nName: seg_length, dtype: float64"
     },
     "execution_count": 263,
     "metadata": {},
     "output_type": "execute_result"
    }
   ],
   "source": [
    "%time segments.groupby(segments.name).seg_length.sum().sort_values(ascending=False, inplace=False).head()"
   ]
  },
  {
   "cell_type": "code",
   "execution_count": 264,
   "metadata": {
    "collapsed": true
   },
   "outputs": [],
   "source": [
    "segments['name'] = segments.name.astype('category')"
   ]
  },
  {
   "cell_type": "code",
   "execution_count": 267,
   "metadata": {},
   "outputs": [
    {
     "name": "stdout",
     "output_type": "stream",
     "text": [
      "CPU times: user 8.4 ms, sys: 36 µs, total: 8.43 ms\n",
      "Wall time: 7.16 ms\n"
     ]
    },
    {
     "data": {
      "text/plain": "name\n$ Vega Azurit $           69.0\n(^*^)america Express     836.5\n*histria Perla*          197.8\n+ Alida Gorthon +        759.7\n+alida Gorthon+           63.0\n                         ...  \n\\ady0theo                151.4\n\\m/- /+                   17.2\nstadt Gera              2902.4\nvega Azurit              396.4\nvega Saturn              781.4\nName: seg_length, Length: 11310, dtype: float64"
     },
     "execution_count": 267,
     "metadata": {},
     "output_type": "execute_result"
    }
   ],
   "source": [
    "%time segments.groupby(segments.name).seg_length.sum().sort_values(ascending=False, inplace=False).head()"
   ]
  },
  {
   "cell_type": "markdown",
   "metadata": {},
   "source": [
    "Hence, we get a considerable speedup simply by using the appropriate `dtype` for our data."
   ]
  },
  {
   "cell_type": "markdown",
   "metadata": {},
   "source": [
    "### Discretization\n",
    "\n",
    "Pandas' `cut` function can be used to group continuous or countable data in to bins. Discretization is generally a very **bad idea** for statistical analysis, so use this function responsibly!\n",
    "\n",
    "Lets say we want to bin the ages of the cervical dystonia patients into a smaller number of groups:"
   ]
  },
  {
   "cell_type": "code",
   "execution_count": 268,
   "metadata": {},
   "outputs": [
    {
     "data": {
      "text/plain": "count    631.000000\nmean      55.616482\nstd       12.123910\nmin       26.000000\n25%       46.000000\n50%       56.000000\n75%       65.000000\nmax       83.000000\nName: age, dtype: float64"
     },
     "execution_count": 268,
     "metadata": {},
     "output_type": "execute_result"
    }
   ],
   "source": [
    "cdystonia.age.describe()"
   ]
  },
  {
   "cell_type": "markdown",
   "metadata": {},
   "source": [
    "Let's transform these data into decades, beginnnig with individuals in their 20's and ending with those in their 80's:"
   ]
  },
  {
   "cell_type": "code",
   "execution_count": 272,
   "metadata": {},
   "outputs": [
    {
     "data": {
      "text/plain": "0     (60, 70]\n1     (60, 70]\n2     (60, 70]\n3     (60, 70]\n4     (60, 70]\n5     (60, 70]\n6     (60, 70]\n7     (60, 70]\n8     (60, 70]\n9     (60, 70]\n10    (60, 70]\n11    (60, 70]\n12    (60, 70]\n13    (60, 70]\n14    (60, 70]\n15    (60, 70]\n16    (60, 70]\n17    (60, 70]\n18    (50, 60]\n19    (50, 60]\nName: age, dtype: category\nCategories (7, interval[int64]): [(20, 30] < (30, 40] < (40, 50] < (50, 60] < (60, 70] < (70, 80] < (80, 90]]"
     },
     "execution_count": 272,
     "metadata": {},
     "output_type": "execute_result"
    }
   ],
   "source": [
    "pd.cut(cdystonia.age, [20,30,40,50,60,70,80,90])[:20]"
   ]
  },
  {
   "cell_type": "markdown",
   "metadata": {},
   "source": [
    "The parentheses indicate an open interval, meaning that the interval includes values up to but *not including* the endpoint, whereas the square bracket is a closed interval, where the endpoint is included in the interval. We can switch the closure to the left side by setting the `right` flag to `False`:"
   ]
  },
  {
   "cell_type": "code",
   "execution_count": 273,
   "metadata": {},
   "outputs": [
    {
     "data": {
      "text/plain": "0     [60, 70)\n1     [60, 70)\n2     [60, 70)\n3     [60, 70)\n4     [60, 70)\n5     [60, 70)\n6     [70, 80)\n7     [70, 80)\n8     [70, 80)\n9     [70, 80)\n10    [70, 80)\n11    [70, 80)\n12    [60, 70)\n13    [60, 70)\n14    [60, 70)\n15    [60, 70)\n16    [60, 70)\n17    [60, 70)\n18    [50, 60)\n19    [50, 60)\nName: age, dtype: category\nCategories (7, interval[int64]): [[20, 30) < [30, 40) < [40, 50) < [50, 60) < [60, 70) < [70, 80) < [80, 90)]"
     },
     "execution_count": 273,
     "metadata": {},
     "output_type": "execute_result"
    }
   ],
   "source": [
    "pd.cut(cdystonia.age, [20,30,40,50,60,70,80,90], right=False)[:20]"
   ]
  },
  {
   "cell_type": "markdown",
   "metadata": {},
   "source": [
    "Since the data are now **ordinal**, rather than numeric, we can give them labels:"
   ]
  },
  {
   "cell_type": "code",
   "execution_count": 274,
   "metadata": {},
   "outputs": [
    {
     "data": {
      "text/plain": "0             old\n1             old\n2             old\n3             old\n4             old\n5             old\n6             old\n7             old\n8             old\n9             old\n10            old\n11            old\n12            old\n13            old\n14            old\n15            old\n16            old\n17            old\n18    middle-aged\n19    middle-aged\nName: age, dtype: category\nCategories (4, object): ['young' < 'middle-aged' < 'old' < 'really old']"
     },
     "execution_count": 274,
     "metadata": {},
     "output_type": "execute_result"
    }
   ],
   "source": [
    "pd.cut(cdystonia.age, [20,40,60,80,90], labels=['young','middle-aged','old','really old'])[:20]"
   ]
  },
  {
   "cell_type": "markdown",
   "metadata": {},
   "source": [
    "A related function `qcut` uses empirical quantiles to divide the data. If, for example, we want the quartiles -- (0-25%], (25-50%], (50-70%], (75-100%] -- we can just specify 4 intervals, which will be equally-spaced by default:"
   ]
  },
  {
   "cell_type": "code",
   "execution_count": 275,
   "metadata": {},
   "outputs": [
    {
     "data": {
      "text/plain": "0     (56.0, 65.0]\n1     (56.0, 65.0]\n2     (56.0, 65.0]\n3     (56.0, 65.0]\n4     (56.0, 65.0]\n5     (56.0, 65.0]\n6     (65.0, 83.0]\n7     (65.0, 83.0]\n8     (65.0, 83.0]\n9     (65.0, 83.0]\n10    (65.0, 83.0]\n11    (65.0, 83.0]\n12    (56.0, 65.0]\n13    (56.0, 65.0]\n14    (56.0, 65.0]\n15    (56.0, 65.0]\n16    (56.0, 65.0]\n17    (56.0, 65.0]\n18    (56.0, 65.0]\n19    (56.0, 65.0]\nName: age, dtype: category\nCategories (4, interval[float64]): [(25.999, 46.0] < (46.0, 56.0] < (56.0, 65.0] < (65.0, 83.0]]"
     },
     "execution_count": 275,
     "metadata": {},
     "output_type": "execute_result"
    }
   ],
   "source": [
    "pd.qcut(cdystonia.age, 4)[:20]"
   ]
  },
  {
   "cell_type": "markdown",
   "metadata": {},
   "source": [
    "Alternatively, one can specify custom quantiles to act as cut points:"
   ]
  },
  {
   "cell_type": "code",
   "execution_count": 276,
   "metadata": {},
   "outputs": [
    {
     "data": {
      "text/plain": "0       (1.8, 7.8]\n1      (7.8, 45.4]\n2       (1.8, 7.8]\n3      (7.8, 45.4]\n4      (7.8, 45.4]\n5      (7.8, 45.4]\n6     (45.4, 89.7]\n7      (7.8, 45.4]\n8      (7.8, 45.4]\n9      (7.8, 45.4]\n10      (1.8, 7.8]\n11     (7.8, 45.4]\n12     (7.8, 45.4]\n13     (7.8, 45.4]\n14     (7.8, 45.4]\n15    (45.4, 89.7]\n16    (45.4, 89.7]\n17     (7.8, 45.4]\n18     (7.8, 45.4]\n19     (7.8, 45.4]\nName: seg_length, dtype: category\nCategories (5, interval[float64]): [(0.999, 1.8] < (1.8, 7.8] < (7.8, 45.4] < (45.4, 89.7] < (89.7, 1882.0]]"
     },
     "execution_count": 276,
     "metadata": {},
     "output_type": "execute_result"
    }
   ],
   "source": [
    "quantiles = pd.qcut(segments.seg_length, [0, 0.01, 0.05, 0.95, 0.99, 1])\n",
    "quantiles[:20]"
   ]
  },
  {
   "cell_type": "markdown",
   "metadata": {},
   "source": [
    "### Permutation and sampling\n",
    "\n",
    "For some data analysis tasks, such as simulation, we need to be able to randomly reorder our data, or draw random values from it. Calling NumPy's `permutation` function with the length of the sequence you want to permute generates an array with a permuted sequence of integers, which can be used to re-order the sequence."
   ]
  },
  {
   "cell_type": "code",
   "execution_count": 132,
   "metadata": {},
   "outputs": [
    {
     "data": {
      "text/plain": "array([705, 538, 369, 352, 432, 559, 806, 407, 246, 135, 678, 106, 363,\n       618, 184, 171, 229, 789, 148, 930,  76, 364, 822, 398, 347, 725,\n       552, 836, 770, 835])"
     },
     "execution_count": 132,
     "metadata": {},
     "output_type": "execute_result"
    }
   ],
   "source": [
    "new_order = np.random.permutation(len(segments))\n",
    "new_order[:30]"
   ]
  },
  {
   "cell_type": "markdown",
   "metadata": {},
   "source": [
    "Using this sequence as an argument to the `take` method results in a reordered DataFrame:"
   ]
  },
  {
   "cell_type": "code",
   "execution_count": 134,
   "metadata": {},
   "outputs": [
    {
     "data": {
      "text/plain": "mmsi                      1193046\nname                  Amy.chouest\ntransit                         1\nsegment                       200\nseg_length                  263.5\navg_sog                      13.5\nmin_sog                      13.2\nmax_sog                      13.8\npdgt10                      100.0\nst_time       2009-03-04 13:31:00\nend_time      2009-03-04 13:31:00\ntype                          foo\nName: 705, dtype: object"
     },
     "execution_count": 134,
     "metadata": {},
     "output_type": "execute_result"
    }
   ],
   "source": [
    "segments.take(new_order).head()\n",
    "segments.loc[new_order[0], \"segment\"] = 200\n",
    "segments.iloc[new_order].iloc[0]"
   ]
  },
  {
   "cell_type": "markdown",
   "metadata": {},
   "source": [
    "Compare this ordering with the original:"
   ]
  },
  {
   "cell_type": "code",
   "execution_count": 135,
   "metadata": {},
   "outputs": [
    {
     "data": {
      "text/plain": "   mmsi               name  transit  segment  seg_length  avg_sog  min_sog  \\\n0     1        Us Govt Ves        1        1         5.1     13.2      9.2   \n1     1  Dredge Capt Frank        1        1        13.5     18.6     10.4   \n2     1      Us Gov Vessel        1        1         4.3     16.2     10.3   \n3     1      Us Gov Vessel        2        1         9.2     15.4     14.5   \n4     1  Dredge Capt Frank        2        1         9.2     15.4     14.6   \n\n   max_sog  pdgt10             st_time            end_time type  \n0     14.5    96.5 2009-02-10 16:03:00 2009-02-10 16:27:00  foo  \n1     20.6   100.0 2009-04-06 14:31:00 2009-04-06 15:20:00  foo  \n2     20.5   100.0 2009-04-06 14:36:00 2009-04-06 14:55:00  foo  \n3     16.1   100.0 2009-04-10 17:58:00 2009-04-10 18:34:00  foo  \n4     16.2   100.0 2009-04-10 17:59:00 2009-04-10 18:35:00  foo  ",
      "text/html": "<div>\n<style scoped>\n    .dataframe tbody tr th:only-of-type {\n        vertical-align: middle;\n    }\n\n    .dataframe tbody tr th {\n        vertical-align: top;\n    }\n\n    .dataframe thead th {\n        text-align: right;\n    }\n</style>\n<table border=\"1\" class=\"dataframe\">\n  <thead>\n    <tr style=\"text-align: right;\">\n      <th></th>\n      <th>mmsi</th>\n      <th>name</th>\n      <th>transit</th>\n      <th>segment</th>\n      <th>seg_length</th>\n      <th>avg_sog</th>\n      <th>min_sog</th>\n      <th>max_sog</th>\n      <th>pdgt10</th>\n      <th>st_time</th>\n      <th>end_time</th>\n      <th>type</th>\n    </tr>\n  </thead>\n  <tbody>\n    <tr>\n      <th>0</th>\n      <td>1</td>\n      <td>Us Govt Ves</td>\n      <td>1</td>\n      <td>1</td>\n      <td>5.1</td>\n      <td>13.2</td>\n      <td>9.2</td>\n      <td>14.5</td>\n      <td>96.5</td>\n      <td>2009-02-10 16:03:00</td>\n      <td>2009-02-10 16:27:00</td>\n      <td>foo</td>\n    </tr>\n    <tr>\n      <th>1</th>\n      <td>1</td>\n      <td>Dredge Capt Frank</td>\n      <td>1</td>\n      <td>1</td>\n      <td>13.5</td>\n      <td>18.6</td>\n      <td>10.4</td>\n      <td>20.6</td>\n      <td>100.0</td>\n      <td>2009-04-06 14:31:00</td>\n      <td>2009-04-06 15:20:00</td>\n      <td>foo</td>\n    </tr>\n    <tr>\n      <th>2</th>\n      <td>1</td>\n      <td>Us Gov Vessel</td>\n      <td>1</td>\n      <td>1</td>\n      <td>4.3</td>\n      <td>16.2</td>\n      <td>10.3</td>\n      <td>20.5</td>\n      <td>100.0</td>\n      <td>2009-04-06 14:36:00</td>\n      <td>2009-04-06 14:55:00</td>\n      <td>foo</td>\n    </tr>\n    <tr>\n      <th>3</th>\n      <td>1</td>\n      <td>Us Gov Vessel</td>\n      <td>2</td>\n      <td>1</td>\n      <td>9.2</td>\n      <td>15.4</td>\n      <td>14.5</td>\n      <td>16.1</td>\n      <td>100.0</td>\n      <td>2009-04-10 17:58:00</td>\n      <td>2009-04-10 18:34:00</td>\n      <td>foo</td>\n    </tr>\n    <tr>\n      <th>4</th>\n      <td>1</td>\n      <td>Dredge Capt Frank</td>\n      <td>2</td>\n      <td>1</td>\n      <td>9.2</td>\n      <td>15.4</td>\n      <td>14.6</td>\n      <td>16.2</td>\n      <td>100.0</td>\n      <td>2009-04-10 17:59:00</td>\n      <td>2009-04-10 18:35:00</td>\n      <td>foo</td>\n    </tr>\n  </tbody>\n</table>\n</div>"
     },
     "execution_count": 135,
     "metadata": {},
     "output_type": "execute_result"
    }
   ],
   "source": [
    "segments.head()"
   ]
  },
  {
   "cell_type": "markdown",
   "metadata": {},
   "source": [
    "For random sampling, `DataFrame` and `Series` objects have a `sample` method that can be used to draw samples, with or without replacement:"
   ]
  },
  {
   "cell_type": "code",
   "execution_count": 136,
   "metadata": {},
   "outputs": [
    {
     "data": {
      "text/plain": "           num_names                                              names sov  \\\nmmsi                                                                          \n538002382          1                                    Desert Rhapsody   N   \n477049100          1                                        Zhongji No1   N   \n371463000          1                                    Global Standard   N   \n244020000          1                                       Atlanticborg   N   \n248433000          1                                       Ocean Ranger   N   \n352765000          1                                          C.s.ocean   N   \n477396000          1                                        Great Peace   N   \n235089914          1                                      Vectis Falcon   N   \n218161000          1                                  Zim San Francisco   N   \n636091206          4  $ Vega Azurit $/636091206/vega Azurit/Vega Azurit   N   \n\n                                                        flag flag_type  \\\nmmsi                                                                     \n538002382                Marshall Islands (Republic of the)    Foreign   \n477049100  Hong Kong (Special Administrative Region of Ch...   Foreign   \n371463000                              Panama (Republic of)    Foreign   \n244020000                      Netherlands (Kingdom of the)    Foreign   \n248433000                                             Malta    Foreign   \n352765000                              Panama (Republic of)    Foreign   \n477396000  Hong Kong (Special Administrative Region of Ch...   Foreign   \n235089914  United Kingdom of Great Britain and Northern I...   Foreign   \n218161000                     Germany (Federal Republic of)    Foreign   \n636091206                             Liberia (Republic of)    Foreign   \n\n           num_loas              loa  max_loa  num_types           type  \nmmsi                                                                     \n538002382         1            190.0    190.0          1          Cargo  \n477049100         1            185.0    185.0          1         Tanker  \n371463000         1            169.0    169.0          1          Cargo  \n244020000         2      143.0/655.0    655.0          1          Cargo  \n248433000         1            178.0    178.0          1          Cargo  \n352765000         2      170.0/177.0    177.0          1          Cargo  \n477396000         1            186.0    186.0          1          Cargo  \n235089914         1            110.0    110.0          1          Cargo  \n218161000         2      274.0/275.0    275.0          1          Cargo  \n636091206         3  1.0/147.0/148.0    148.0          2  Cargo/Unknown  ",
      "text/html": "<div>\n<style scoped>\n    .dataframe tbody tr th:only-of-type {\n        vertical-align: middle;\n    }\n\n    .dataframe tbody tr th {\n        vertical-align: top;\n    }\n\n    .dataframe thead th {\n        text-align: right;\n    }\n</style>\n<table border=\"1\" class=\"dataframe\">\n  <thead>\n    <tr style=\"text-align: right;\">\n      <th></th>\n      <th>num_names</th>\n      <th>names</th>\n      <th>sov</th>\n      <th>flag</th>\n      <th>flag_type</th>\n      <th>num_loas</th>\n      <th>loa</th>\n      <th>max_loa</th>\n      <th>num_types</th>\n      <th>type</th>\n    </tr>\n    <tr>\n      <th>mmsi</th>\n      <th></th>\n      <th></th>\n      <th></th>\n      <th></th>\n      <th></th>\n      <th></th>\n      <th></th>\n      <th></th>\n      <th></th>\n      <th></th>\n    </tr>\n  </thead>\n  <tbody>\n    <tr>\n      <th>538002382</th>\n      <td>1</td>\n      <td>Desert Rhapsody</td>\n      <td>N</td>\n      <td>Marshall Islands (Republic of the)</td>\n      <td>Foreign</td>\n      <td>1</td>\n      <td>190.0</td>\n      <td>190.0</td>\n      <td>1</td>\n      <td>Cargo</td>\n    </tr>\n    <tr>\n      <th>477049100</th>\n      <td>1</td>\n      <td>Zhongji No1</td>\n      <td>N</td>\n      <td>Hong Kong (Special Administrative Region of Ch...</td>\n      <td>Foreign</td>\n      <td>1</td>\n      <td>185.0</td>\n      <td>185.0</td>\n      <td>1</td>\n      <td>Tanker</td>\n    </tr>\n    <tr>\n      <th>371463000</th>\n      <td>1</td>\n      <td>Global Standard</td>\n      <td>N</td>\n      <td>Panama (Republic of)</td>\n      <td>Foreign</td>\n      <td>1</td>\n      <td>169.0</td>\n      <td>169.0</td>\n      <td>1</td>\n      <td>Cargo</td>\n    </tr>\n    <tr>\n      <th>244020000</th>\n      <td>1</td>\n      <td>Atlanticborg</td>\n      <td>N</td>\n      <td>Netherlands (Kingdom of the)</td>\n      <td>Foreign</td>\n      <td>2</td>\n      <td>143.0/655.0</td>\n      <td>655.0</td>\n      <td>1</td>\n      <td>Cargo</td>\n    </tr>\n    <tr>\n      <th>248433000</th>\n      <td>1</td>\n      <td>Ocean Ranger</td>\n      <td>N</td>\n      <td>Malta</td>\n      <td>Foreign</td>\n      <td>1</td>\n      <td>178.0</td>\n      <td>178.0</td>\n      <td>1</td>\n      <td>Cargo</td>\n    </tr>\n    <tr>\n      <th>352765000</th>\n      <td>1</td>\n      <td>C.s.ocean</td>\n      <td>N</td>\n      <td>Panama (Republic of)</td>\n      <td>Foreign</td>\n      <td>2</td>\n      <td>170.0/177.0</td>\n      <td>177.0</td>\n      <td>1</td>\n      <td>Cargo</td>\n    </tr>\n    <tr>\n      <th>477396000</th>\n      <td>1</td>\n      <td>Great Peace</td>\n      <td>N</td>\n      <td>Hong Kong (Special Administrative Region of Ch...</td>\n      <td>Foreign</td>\n      <td>1</td>\n      <td>186.0</td>\n      <td>186.0</td>\n      <td>1</td>\n      <td>Cargo</td>\n    </tr>\n    <tr>\n      <th>235089914</th>\n      <td>1</td>\n      <td>Vectis Falcon</td>\n      <td>N</td>\n      <td>United Kingdom of Great Britain and Northern I...</td>\n      <td>Foreign</td>\n      <td>1</td>\n      <td>110.0</td>\n      <td>110.0</td>\n      <td>1</td>\n      <td>Cargo</td>\n    </tr>\n    <tr>\n      <th>218161000</th>\n      <td>1</td>\n      <td>Zim San Francisco</td>\n      <td>N</td>\n      <td>Germany (Federal Republic of)</td>\n      <td>Foreign</td>\n      <td>2</td>\n      <td>274.0/275.0</td>\n      <td>275.0</td>\n      <td>1</td>\n      <td>Cargo</td>\n    </tr>\n    <tr>\n      <th>636091206</th>\n      <td>4</td>\n      <td>$ Vega Azurit $/636091206/vega Azurit/Vega Azurit</td>\n      <td>N</td>\n      <td>Liberia (Republic of)</td>\n      <td>Foreign</td>\n      <td>3</td>\n      <td>1.0/147.0/148.0</td>\n      <td>148.0</td>\n      <td>2</td>\n      <td>Cargo/Unknown</td>\n    </tr>\n  </tbody>\n</table>\n</div>"
     },
     "execution_count": 136,
     "metadata": {},
     "output_type": "execute_result"
    }
   ],
   "source": [
    "vessels.sample(n=10)"
   ]
  },
  {
   "cell_type": "code",
   "execution_count": 137,
   "metadata": {},
   "outputs": [
    {
     "data": {
      "text/plain": "           num_names                  names sov  \\\nmmsi                                              \n366702000          1          Robert Fulton   N   \n538004513          1          Sea Dolphin C   N   \n271042625          1              Yildizlar   N   \n533174000          1      Selendang Mutiara   N   \n240029000          1               Msc Toba   N   \n538002633          1              Iron Anne   N   \n377429000          1                Socol 3   N   \n538001634          1                 Warsaw   N   \n564338000          2  Figaro/Morning Spruce   N   \n220606000          1          Gotland Aliya   N   \n\n                                          flag flag_type  num_loas  \\\nmmsi                                                                 \n366702000            United States of America   Domestic         1   \n538004513  Marshall Islands (Republic of the)    Foreign         1   \n271042625                              Turkey    Foreign         1   \n533174000                            Malaysia    Foreign         1   \n240029000                              Greece    Foreign         1   \n538002633  Marshall Islands (Republic of the)    Foreign         1   \n377429000    Saint Vincent and the Grenadines    Foreign         1   \n538001634  Marshall Islands (Republic of the)    Foreign         1   \n564338000             Singapore (Republic of)    Foreign         2   \n220606000                             Denmark    Foreign         1   \n\n                   loa  max_loa  num_types       type  \nmmsi                                                   \n366702000         28.0     28.0          1  Passenger  \n538004513        181.0    181.0          1      Cargo  \n271042625        199.0    199.0          1      Cargo  \n533174000        182.0    182.0          1     Tanker  \n240029000        270.0    270.0          1      Cargo  \n538002633        229.0    229.0          1      Cargo  \n377429000        113.0    113.0          1      Cargo  \n538001634        214.0    214.0          1      Cargo  \n564338000  198.0/206.0    206.0          1      Cargo  \n220606000        183.0    183.0          1     Tanker  ",
      "text/html": "<div>\n<style scoped>\n    .dataframe tbody tr th:only-of-type {\n        vertical-align: middle;\n    }\n\n    .dataframe tbody tr th {\n        vertical-align: top;\n    }\n\n    .dataframe thead th {\n        text-align: right;\n    }\n</style>\n<table border=\"1\" class=\"dataframe\">\n  <thead>\n    <tr style=\"text-align: right;\">\n      <th></th>\n      <th>num_names</th>\n      <th>names</th>\n      <th>sov</th>\n      <th>flag</th>\n      <th>flag_type</th>\n      <th>num_loas</th>\n      <th>loa</th>\n      <th>max_loa</th>\n      <th>num_types</th>\n      <th>type</th>\n    </tr>\n    <tr>\n      <th>mmsi</th>\n      <th></th>\n      <th></th>\n      <th></th>\n      <th></th>\n      <th></th>\n      <th></th>\n      <th></th>\n      <th></th>\n      <th></th>\n      <th></th>\n    </tr>\n  </thead>\n  <tbody>\n    <tr>\n      <th>366702000</th>\n      <td>1</td>\n      <td>Robert Fulton</td>\n      <td>N</td>\n      <td>United States of America</td>\n      <td>Domestic</td>\n      <td>1</td>\n      <td>28.0</td>\n      <td>28.0</td>\n      <td>1</td>\n      <td>Passenger</td>\n    </tr>\n    <tr>\n      <th>538004513</th>\n      <td>1</td>\n      <td>Sea Dolphin C</td>\n      <td>N</td>\n      <td>Marshall Islands (Republic of the)</td>\n      <td>Foreign</td>\n      <td>1</td>\n      <td>181.0</td>\n      <td>181.0</td>\n      <td>1</td>\n      <td>Cargo</td>\n    </tr>\n    <tr>\n      <th>271042625</th>\n      <td>1</td>\n      <td>Yildizlar</td>\n      <td>N</td>\n      <td>Turkey</td>\n      <td>Foreign</td>\n      <td>1</td>\n      <td>199.0</td>\n      <td>199.0</td>\n      <td>1</td>\n      <td>Cargo</td>\n    </tr>\n    <tr>\n      <th>533174000</th>\n      <td>1</td>\n      <td>Selendang Mutiara</td>\n      <td>N</td>\n      <td>Malaysia</td>\n      <td>Foreign</td>\n      <td>1</td>\n      <td>182.0</td>\n      <td>182.0</td>\n      <td>1</td>\n      <td>Tanker</td>\n    </tr>\n    <tr>\n      <th>240029000</th>\n      <td>1</td>\n      <td>Msc Toba</td>\n      <td>N</td>\n      <td>Greece</td>\n      <td>Foreign</td>\n      <td>1</td>\n      <td>270.0</td>\n      <td>270.0</td>\n      <td>1</td>\n      <td>Cargo</td>\n    </tr>\n    <tr>\n      <th>538002633</th>\n      <td>1</td>\n      <td>Iron Anne</td>\n      <td>N</td>\n      <td>Marshall Islands (Republic of the)</td>\n      <td>Foreign</td>\n      <td>1</td>\n      <td>229.0</td>\n      <td>229.0</td>\n      <td>1</td>\n      <td>Cargo</td>\n    </tr>\n    <tr>\n      <th>377429000</th>\n      <td>1</td>\n      <td>Socol 3</td>\n      <td>N</td>\n      <td>Saint Vincent and the Grenadines</td>\n      <td>Foreign</td>\n      <td>1</td>\n      <td>113.0</td>\n      <td>113.0</td>\n      <td>1</td>\n      <td>Cargo</td>\n    </tr>\n    <tr>\n      <th>538001634</th>\n      <td>1</td>\n      <td>Warsaw</td>\n      <td>N</td>\n      <td>Marshall Islands (Republic of the)</td>\n      <td>Foreign</td>\n      <td>1</td>\n      <td>214.0</td>\n      <td>214.0</td>\n      <td>1</td>\n      <td>Cargo</td>\n    </tr>\n    <tr>\n      <th>564338000</th>\n      <td>2</td>\n      <td>Figaro/Morning Spruce</td>\n      <td>N</td>\n      <td>Singapore (Republic of)</td>\n      <td>Foreign</td>\n      <td>2</td>\n      <td>198.0/206.0</td>\n      <td>206.0</td>\n      <td>1</td>\n      <td>Cargo</td>\n    </tr>\n    <tr>\n      <th>220606000</th>\n      <td>1</td>\n      <td>Gotland Aliya</td>\n      <td>N</td>\n      <td>Denmark</td>\n      <td>Foreign</td>\n      <td>1</td>\n      <td>183.0</td>\n      <td>183.0</td>\n      <td>1</td>\n      <td>Tanker</td>\n    </tr>\n  </tbody>\n</table>\n</div>"
     },
     "execution_count": 137,
     "metadata": {},
     "output_type": "execute_result"
    }
   ],
   "source": [
    "vessels.sample(n=10, replace=True)"
   ]
  },
  {
   "cell_type": "markdown",
   "metadata": {},
   "source": [
    "## Data aggregation and GroupBy operations\n",
    "\n",
    "One of the most powerful features of Pandas is its **GroupBy** functionality. On some occasions we may want to perform operations on *groups* of observations within a dataset. For example:\n",
    "\n",
    "* **aggregation**, such as computing the sum of mean of each group, which involves applying a function to each group and returning the aggregated results\n",
    "* **slicing** the DataFrame into groups and then doing something with the resulting slices (*e.g.* plotting)\n",
    "* group-wise **transformation**, such as standardization/normalization"
   ]
  },
  {
   "cell_type": "code",
   "execution_count": 107,
   "metadata": {
    "collapsed": true
   },
   "outputs": [],
   "source": [
    "cdystonia_grouped = cdystonia.groupby(cdystonia.patient)"
   ]
  },
  {
   "cell_type": "markdown",
   "metadata": {},
   "source": [
    "However, the grouping is only an intermediate step; for example, we may want to **iterate** over each of the patient groups:"
   ]
  },
  {
   "cell_type": "code",
   "execution_count": 113,
   "metadata": {},
   "outputs": [
    {
     "name": "stdout",
     "output_type": "stream",
     "text": [
      "patient 1\n",
      "g    patient  obs  week  site  id  treat  age sex  twstrs\n",
      "0        1    1     0     1   1  5000U   65   F      32\n",
      "1        1    2     2     1   1  5000U   65   F      30\n",
      "2        1    3     4     1   1  5000U   65   F      24\n",
      "3        1    4     8     1   1  5000U   65   F      37\n",
      "4        1    5    12     1   1  5000U   65   F      39\n",
      "5        1    6    16     1   1  5000U   65   F      36\n",
      "patient 2\n",
      "g     patient  obs  week  site  id   treat  age sex  twstrs\n",
      "6         2    1     0     1   2  10000U   70   F      60\n",
      "7         2    2     2     1   2  10000U   70   F      26\n",
      "8         2    3     4     1   2  10000U   70   F      27\n",
      "9         2    4     8     1   2  10000U   70   F      41\n",
      "10        2    5    12     1   2  10000U   70   F      65\n",
      "11        2    6    16     1   2  10000U   70   F      67\n",
      "patient 3\n",
      "g     patient  obs  week  site  id  treat  age sex  twstrs\n",
      "12        3    1     0     1   3  5000U   64   F      44\n",
      "13        3    2     2     1   3  5000U   64   F      20\n",
      "14        3    3     4     1   3  5000U   64   F      23\n",
      "15        3    4     8     1   3  5000U   64   F      26\n",
      "16        3    5    12     1   3  5000U   64   F      35\n",
      "17        3    6    16     1   3  5000U   64   F      35\n",
      "patient 4\n",
      "g     patient  obs  week  site  id    treat  age sex  twstrs\n",
      "18        4    1     0     1   4  Placebo   59   F      53\n",
      "19        4    2     2     1   4  Placebo   59   F      61\n",
      "20        4    3     4     1   4  Placebo   59   F      64\n",
      "21        4    4     8     1   4  Placebo   59   F      62\n",
      "<class 'pandas.core.frame.DataFrame'>\n"
     ]
    }
   ],
   "source": [
    "for patient, group in list(cdystonia_grouped)[:4]:\n",
    "    print('patient', patient)\n",
    "    print('g', group)\n",
    "cdystonia[:10]\n",
    "print(type(group))"
   ]
  },
  {
   "cell_type": "markdown",
   "metadata": {},
   "source": [
    "A common data analysis procedure is the **split-apply-combine** operation, which groups subsets of data together, applies a function to each of the groups, then recombines them into a new data table.\n",
    "\n",
    "For example, we may want to aggregate our data with with some function.\n",
    "\n",
    "![split-apply-combine](http://f.cl.ly/items/0s0Z252j0X0c3k3P1M47/Screen%20Shot%202013-06-02%20at%203.04.04%20PM.png)\n",
    "\n",
    "<div align=\"right\">*(figure taken from \"Python for Data Analysis\", p.251)*</div>"
   ]
  },
  {
   "cell_type": "markdown",
   "metadata": {},
   "source": [
    "We can aggregate in Pandas using the `aggregate` (or `agg`, for short) method:"
   ]
  },
  {
   "cell_type": "code",
   "execution_count": 109,
   "metadata": {},
   "outputs": [
    {
     "data": {
      "text/plain": "         obs  week  site   id   age     twstrs\npatient                                       \n1        3.5   7.0   1.0  1.0  65.0  33.000000\n2        3.5   7.0   1.0  2.0  70.0  47.666667\n3        3.5   7.0   1.0  3.0  64.0  30.500000\n4        2.5   3.5   1.0  4.0  59.0  60.000000\n5        3.5   7.0   1.0  5.0  76.0  46.166667",
      "text/html": "<div>\n<style scoped>\n    .dataframe tbody tr th:only-of-type {\n        vertical-align: middle;\n    }\n\n    .dataframe tbody tr th {\n        vertical-align: top;\n    }\n\n    .dataframe thead th {\n        text-align: right;\n    }\n</style>\n<table border=\"1\" class=\"dataframe\">\n  <thead>\n    <tr style=\"text-align: right;\">\n      <th></th>\n      <th>obs</th>\n      <th>week</th>\n      <th>site</th>\n      <th>id</th>\n      <th>age</th>\n      <th>twstrs</th>\n    </tr>\n    <tr>\n      <th>patient</th>\n      <th></th>\n      <th></th>\n      <th></th>\n      <th></th>\n      <th></th>\n      <th></th>\n    </tr>\n  </thead>\n  <tbody>\n    <tr>\n      <th>1</th>\n      <td>3.5</td>\n      <td>7.0</td>\n      <td>1.0</td>\n      <td>1.0</td>\n      <td>65.0</td>\n      <td>33.000000</td>\n    </tr>\n    <tr>\n      <th>2</th>\n      <td>3.5</td>\n      <td>7.0</td>\n      <td>1.0</td>\n      <td>2.0</td>\n      <td>70.0</td>\n      <td>47.666667</td>\n    </tr>\n    <tr>\n      <th>3</th>\n      <td>3.5</td>\n      <td>7.0</td>\n      <td>1.0</td>\n      <td>3.0</td>\n      <td>64.0</td>\n      <td>30.500000</td>\n    </tr>\n    <tr>\n      <th>4</th>\n      <td>2.5</td>\n      <td>3.5</td>\n      <td>1.0</td>\n      <td>4.0</td>\n      <td>59.0</td>\n      <td>60.000000</td>\n    </tr>\n    <tr>\n      <th>5</th>\n      <td>3.5</td>\n      <td>7.0</td>\n      <td>1.0</td>\n      <td>5.0</td>\n      <td>76.0</td>\n      <td>46.166667</td>\n    </tr>\n  </tbody>\n</table>\n</div>"
     },
     "execution_count": 109,
     "metadata": {},
     "output_type": "execute_result"
    }
   ],
   "source": [
    "cdystonia_grouped.agg('mean').head()\n",
    "cdystonia_grouped.mean().head() #equivalent "
   ]
  },
  {
   "cell_type": "markdown",
   "metadata": {},
   "source": [
    "Notice that the `treat` and `sex` variables are <b>not included in the aggregation</b>. Since it does not make sense to aggregate string variables, these columns are simply ignored by the method.\n",
    "\n",
    "Some aggregation functions are so common that Pandas has a convenience method for them, such as `mean`:"
   ]
  },
  {
   "cell_type": "markdown",
   "metadata": {},
   "source": [
    "The `add_prefix` and `add_suffix` methods can be used to give the columns of the resulting table labels that reflect the transformation:"
   ]
  },
  {
   "cell_type": "code",
   "execution_count": 110,
   "metadata": {},
   "outputs": [
    {
     "data": {
      "text/plain": "         obs_mean  week_mean  site_mean  id_mean  age_mean  twstrs_mean\npatient                                                                \n1             3.5        7.0        1.0      1.0      65.0    33.000000\n2             3.5        7.0        1.0      2.0      70.0    47.666667\n3             3.5        7.0        1.0      3.0      64.0    30.500000\n4             2.5        3.5        1.0      4.0      59.0    60.000000\n5             3.5        7.0        1.0      5.0      76.0    46.166667",
      "text/html": "<div>\n<style scoped>\n    .dataframe tbody tr th:only-of-type {\n        vertical-align: middle;\n    }\n\n    .dataframe tbody tr th {\n        vertical-align: top;\n    }\n\n    .dataframe thead th {\n        text-align: right;\n    }\n</style>\n<table border=\"1\" class=\"dataframe\">\n  <thead>\n    <tr style=\"text-align: right;\">\n      <th></th>\n      <th>obs_mean</th>\n      <th>week_mean</th>\n      <th>site_mean</th>\n      <th>id_mean</th>\n      <th>age_mean</th>\n      <th>twstrs_mean</th>\n    </tr>\n    <tr>\n      <th>patient</th>\n      <th></th>\n      <th></th>\n      <th></th>\n      <th></th>\n      <th></th>\n      <th></th>\n    </tr>\n  </thead>\n  <tbody>\n    <tr>\n      <th>1</th>\n      <td>3.5</td>\n      <td>7.0</td>\n      <td>1.0</td>\n      <td>1.0</td>\n      <td>65.0</td>\n      <td>33.000000</td>\n    </tr>\n    <tr>\n      <th>2</th>\n      <td>3.5</td>\n      <td>7.0</td>\n      <td>1.0</td>\n      <td>2.0</td>\n      <td>70.0</td>\n      <td>47.666667</td>\n    </tr>\n    <tr>\n      <th>3</th>\n      <td>3.5</td>\n      <td>7.0</td>\n      <td>1.0</td>\n      <td>3.0</td>\n      <td>64.0</td>\n      <td>30.500000</td>\n    </tr>\n    <tr>\n      <th>4</th>\n      <td>2.5</td>\n      <td>3.5</td>\n      <td>1.0</td>\n      <td>4.0</td>\n      <td>59.0</td>\n      <td>60.000000</td>\n    </tr>\n    <tr>\n      <th>5</th>\n      <td>3.5</td>\n      <td>7.0</td>\n      <td>1.0</td>\n      <td>5.0</td>\n      <td>76.0</td>\n      <td>46.166667</td>\n    </tr>\n  </tbody>\n</table>\n</div>"
     },
     "execution_count": 110,
     "metadata": {},
     "output_type": "execute_result"
    }
   ],
   "source": [
    "cdystonia_grouped.mean().add_suffix('_mean').head()"
   ]
  },
  {
   "cell_type": "code",
   "execution_count": 111,
   "metadata": {},
   "outputs": [
    {
     "data": {
      "text/plain": "patient\n1     34.0\n2     50.5\n3     30.5\n4     61.5\n5     48.5\n6     48.0\n7     42.0\n8     32.5\n9     35.5\n10    20.5\nName: twstrs, dtype: float64"
     },
     "execution_count": 111,
     "metadata": {},
     "output_type": "execute_result"
    }
   ],
   "source": [
    "# The median of the `twstrs` variable\n",
    "cdystonia_grouped['twstrs'].quantile(0.5).head(10)"
   ]
  },
  {
   "cell_type": "markdown",
   "metadata": {},
   "source": [
    "If we wish, we can easily aggregate according to multiple keys:"
   ]
  },
  {
   "cell_type": "code",
   "execution_count": 112,
   "metadata": {},
   "outputs": [
    {
     "data": {
      "text/plain": "           patient  obs   id        age     twstrs\nweek site                                         \n0    1         6.5  1.0  6.5  59.000000  43.083333\n     2        19.5  1.0  7.5  53.928571  51.857143\n     3        32.5  1.0  6.5  51.500000  38.750000\n     4        42.5  1.0  4.5  59.250000  48.125000\n     5        49.5  1.0  3.5  51.833333  49.333333",
      "text/html": "<div>\n<style scoped>\n    .dataframe tbody tr th:only-of-type {\n        vertical-align: middle;\n    }\n\n    .dataframe tbody tr th {\n        vertical-align: top;\n    }\n\n    .dataframe thead th {\n        text-align: right;\n    }\n</style>\n<table border=\"1\" class=\"dataframe\">\n  <thead>\n    <tr style=\"text-align: right;\">\n      <th></th>\n      <th></th>\n      <th>patient</th>\n      <th>obs</th>\n      <th>id</th>\n      <th>age</th>\n      <th>twstrs</th>\n    </tr>\n    <tr>\n      <th>week</th>\n      <th>site</th>\n      <th></th>\n      <th></th>\n      <th></th>\n      <th></th>\n      <th></th>\n    </tr>\n  </thead>\n  <tbody>\n    <tr>\n      <th rowspan=\"5\" valign=\"top\">0</th>\n      <th>1</th>\n      <td>6.5</td>\n      <td>1.0</td>\n      <td>6.5</td>\n      <td>59.000000</td>\n      <td>43.083333</td>\n    </tr>\n    <tr>\n      <th>2</th>\n      <td>19.5</td>\n      <td>1.0</td>\n      <td>7.5</td>\n      <td>53.928571</td>\n      <td>51.857143</td>\n    </tr>\n    <tr>\n      <th>3</th>\n      <td>32.5</td>\n      <td>1.0</td>\n      <td>6.5</td>\n      <td>51.500000</td>\n      <td>38.750000</td>\n    </tr>\n    <tr>\n      <th>4</th>\n      <td>42.5</td>\n      <td>1.0</td>\n      <td>4.5</td>\n      <td>59.250000</td>\n      <td>48.125000</td>\n    </tr>\n    <tr>\n      <th>5</th>\n      <td>49.5</td>\n      <td>1.0</td>\n      <td>3.5</td>\n      <td>51.833333</td>\n      <td>49.333333</td>\n    </tr>\n  </tbody>\n</table>\n</div>"
     },
     "execution_count": 112,
     "metadata": {},
     "output_type": "execute_result"
    }
   ],
   "source": [
    "cdystonia.groupby(['week','site']).mean().head()"
   ]
  },
  {
   "cell_type": "markdown",
   "metadata": {},
   "source": [
    "### Apply\n",
    "\n",
    "We can generalize the split-apply-combine methodology by using `apply` function. This allows us to invoke any function we wish on a grouped dataset and recombine them into a DataFrame."
   ]
  },
  {
   "cell_type": "markdown",
   "metadata": {},
   "source": [
    "The function below takes a DataFrame and a column name, sorts by the column, and takes the `n` largest values of that column. We can use this with `apply` to return the largest values from every group in a DataFrame in a single call. "
   ]
  },
  {
   "cell_type": "code",
   "execution_count": 329,
   "metadata": {
    "collapsed": true
   },
   "outputs": [],
   "source": [
    "def top(df, column, n=5):\n",
    "    return df.sort_values(by=column, ascending=False)[:n]"
   ]
  },
  {
   "cell_type": "markdown",
   "metadata": {},
   "source": [
    "To see this in action, consider the vessel transit segments dataset (which we merged with the vessel information to yield `segments_merged`). Say we wanted to return the 3 longest segments travelled by each ship:"
   ]
  },
  {
   "cell_type": "code",
   "execution_count": 330,
   "metadata": {},
   "outputs": [
    {
     "data": {
      "text/plain": "                                                     names  seg_length\nmmsi                                                                  \n1    6   Bil Holman Dredge/Dredge Capt Frank/Emo/Offsho...        76.0\n     5   Bil Holman Dredge/Dredge Capt Frank/Emo/Offsho...        17.4\n     7   Bil Holman Dredge/Dredge Capt Frank/Emo/Offsho...        13.7\n9    15                         000000009/Raven/Shearwater        47.2\n     14                         000000009/Raven/Shearwater        31.4\n     13                         000000009/Raven/Shearwater        19.3\n21   16                                      Us Gov Vessel        48.7\n     25                                      Us Gov Vessel        25.3\n     30                                      Us Gov Vessel        21.7\n74   35                                  Mcfaul/Sarah Bell         7.4\n     34                                  Mcfaul/Sarah Bell         1.4\n103  37           Ron G/Us Navy Warship 103/Us Warship 103        87.5\n     41           Ron G/Us Navy Warship 103/Us Warship 103        62.6\n     43           Ron G/Us Navy Warship 103/Us Warship 103        59.1\n310  51                                           Arabella        77.4",
      "text/html": "<div>\n<style scoped>\n    .dataframe tbody tr th:only-of-type {\n        vertical-align: middle;\n    }\n\n    .dataframe tbody tr th {\n        vertical-align: top;\n    }\n\n    .dataframe thead th {\n        text-align: right;\n    }\n</style>\n<table border=\"1\" class=\"dataframe\">\n  <thead>\n    <tr style=\"text-align: right;\">\n      <th></th>\n      <th></th>\n      <th>names</th>\n      <th>seg_length</th>\n    </tr>\n    <tr>\n      <th>mmsi</th>\n      <th></th>\n      <th></th>\n      <th></th>\n    </tr>\n  </thead>\n  <tbody>\n    <tr>\n      <th rowspan=\"3\" valign=\"top\">1</th>\n      <th>6</th>\n      <td>Bil Holman Dredge/Dredge Capt Frank/Emo/Offsho...</td>\n      <td>76.0</td>\n    </tr>\n    <tr>\n      <th>5</th>\n      <td>Bil Holman Dredge/Dredge Capt Frank/Emo/Offsho...</td>\n      <td>17.4</td>\n    </tr>\n    <tr>\n      <th>7</th>\n      <td>Bil Holman Dredge/Dredge Capt Frank/Emo/Offsho...</td>\n      <td>13.7</td>\n    </tr>\n    <tr>\n      <th rowspan=\"3\" valign=\"top\">9</th>\n      <th>15</th>\n      <td>000000009/Raven/Shearwater</td>\n      <td>47.2</td>\n    </tr>\n    <tr>\n      <th>14</th>\n      <td>000000009/Raven/Shearwater</td>\n      <td>31.4</td>\n    </tr>\n    <tr>\n      <th>13</th>\n      <td>000000009/Raven/Shearwater</td>\n      <td>19.3</td>\n    </tr>\n    <tr>\n      <th rowspan=\"3\" valign=\"top\">21</th>\n      <th>16</th>\n      <td>Us Gov Vessel</td>\n      <td>48.7</td>\n    </tr>\n    <tr>\n      <th>25</th>\n      <td>Us Gov Vessel</td>\n      <td>25.3</td>\n    </tr>\n    <tr>\n      <th>30</th>\n      <td>Us Gov Vessel</td>\n      <td>21.7</td>\n    </tr>\n    <tr>\n      <th rowspan=\"2\" valign=\"top\">74</th>\n      <th>35</th>\n      <td>Mcfaul/Sarah Bell</td>\n      <td>7.4</td>\n    </tr>\n    <tr>\n      <th>34</th>\n      <td>Mcfaul/Sarah Bell</td>\n      <td>1.4</td>\n    </tr>\n    <tr>\n      <th rowspan=\"3\" valign=\"top\">103</th>\n      <th>37</th>\n      <td>Ron G/Us Navy Warship 103/Us Warship 103</td>\n      <td>87.5</td>\n    </tr>\n    <tr>\n      <th>41</th>\n      <td>Ron G/Us Navy Warship 103/Us Warship 103</td>\n      <td>62.6</td>\n    </tr>\n    <tr>\n      <th>43</th>\n      <td>Ron G/Us Navy Warship 103/Us Warship 103</td>\n      <td>59.1</td>\n    </tr>\n    <tr>\n      <th>310</th>\n      <th>51</th>\n      <td>Arabella</td>\n      <td>77.4</td>\n    </tr>\n  </tbody>\n</table>\n</div>"
     },
     "execution_count": 330,
     "metadata": {},
     "output_type": "execute_result"
    }
   ],
   "source": [
    "top3segments = segments_merged.groupby('mmsi').apply(top, column='seg_length', n=3)[['names', 'seg_length']]\n",
    "top3segments.head(15)"
   ]
  },
  {
   "cell_type": "markdown",
   "metadata": {},
   "source": [
    "Notice that additional arguments for the applied function can be passed via `apply` after the function name. It assumes that the DataFrame is the first argument."
   ]
  },
  {
   "cell_type": "markdown",
   "metadata": {
    "pycharm": {
     "name": "#%% md\n"
    }
   },
   "source": [
    "## References\n",
    "\n",
    "[Python for Data Analysis](http://shop.oreilly.com/product/0636920023784.do) Wes McKinney"
   ]
  }
 ],
 "metadata": {
  "anaconda-cloud": {},
  "kernelspec": {
   "name": "conda-env-adaexam-py",
   "language": "python",
   "display_name": "Python [conda env:adaexam] *"
  },
  "language_info": {
   "codemirror_mode": {
    "name": "ipython",
    "version": 3
   },
   "file_extension": ".py",
   "mimetype": "text/x-python",
   "name": "python",
   "nbconvert_exporter": "python",
   "pygments_lexer": "ipython3",
   "version": "3.6.3"
  },
  "nav_menu": {},
  "toc": {
   "base_numbering": 1,
   "nav_menu": {},
   "number_sections": false,
   "sideBar": false,
   "skip_h1_title": false,
   "title_cell": "Table of Contents",
   "title_sidebar": "Contents",
   "toc_cell": true,
   "toc_position": {},
   "toc_section_display": "block",
   "toc_window_display": false
  },
  "varInspector": {
   "cols": {
    "lenName": 16,
    "lenType": 16,
    "lenVar": 40
   },
   "kernels_config": {
    "python": {
     "delete_cmd_postfix": "",
     "delete_cmd_prefix": "del ",
     "library": "var_list.py",
     "varRefreshCmd": "print(var_dic_list())"
    },
    "r": {
     "delete_cmd_postfix": ") ",
     "delete_cmd_prefix": "rm(",
     "library": "var_list.r",
     "varRefreshCmd": "cat(var_dic_list()) "
    }
   },
   "types_to_exclude": [
    "module",
    "function",
    "builtin_function_or_method",
    "instance",
    "_Feature"
   ],
   "window_display": false
  }
 },
 "nbformat": 4,
 "nbformat_minor": 1
}
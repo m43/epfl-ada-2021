{
 "cells": [
  {
   "cell_type": "markdown",
   "metadata": {},
   "source": [
    "### Imports"
   ]
  },
  {
   "cell_type": "code",
   "execution_count": 1,
   "metadata": {},
   "outputs": [],
   "source": [
    "import os, re, string\n",
    "import random\n",
    "\n",
    "import matplotlib\n",
    "import matplotlib.pyplot as plt\n",
    "import matplotlib.patches as mpatches\n",
    "\n",
    "import numpy as np\n",
    "import pandas as pd\n",
    "import sklearn\n",
    "import torch\n",
    "\n",
    "from simpletransformers.classification import ClassificationModel\n",
    "from sklearn import metrics\n",
    "from sklearn.metrics import confusion_matrix\n",
    "from sklearn.model_selection import KFold\n",
    "\n",
    "from cf_matrix import make_confusion_matrix\n",
    "from preprocessing_utils import clean_text\n",
    "\n",
    "import warnings\n",
    "warnings.simplefilter('ignore')\n",
    "\n",
    "pd.set_option('max_rows', 100)\n",
    "pd.set_option('max_colwidth', 2000)"
   ]
  },
  {
   "cell_type": "markdown",
   "metadata": {},
   "source": [
    "### Set Model Params"
   ]
  },
  {
   "cell_type": "code",
   "execution_count": 2,
   "metadata": {
    "collapsed": false,
    "jupyter": {
     "outputs_hidden": false
    },
    "pycharm": {
     "name": "#%%\n"
    }
   },
   "outputs": [],
   "source": [
    "model_type = 'distilbert'\n",
    "model_name = 'distilbert-base-uncased'\n",
    "train_model = False\n",
    "with_kfold = False\n",
    "weight = [0.44, 0.56]\n",
    "n_splits = 1   # if with_kfold then must be n_splits > 1\n",
    "seed = 100\n",
    "model_args =  {'fp16': False,\n",
    "               'train_batch_size': 96,\n",
    "               'gradient_accumulation_steps': 2,\n",
    "               'do_lower_case': True,\n",
    "               'learning_rate': 1e-05,\n",
    "               'output_dir': 'best_models/distilbert_uncased/',\n",
    "               'overwrite_output_dir': True,\n",
    "               'num_train_epochs': 50,\n",
    "               'use_cuda': True,\n",
    "               'cuda_device': 0}"
   ]
  },
  {
   "cell_type": "code",
   "execution_count": 3,
   "metadata": {
    "collapsed": false,
    "jupyter": {
     "outputs_hidden": false
    },
    "pycharm": {
     "name": "#%%\n"
    }
   },
   "outputs": [],
   "source": [
    "random.seed(seed)\n",
    "np.random.seed(seed)\n",
    "torch.manual_seed(seed)\n",
    "torch.cuda.manual_seed(seed)\n",
    "torch.backends.cudnn.deterministic = True"
   ]
  },
  {
   "cell_type": "markdown",
   "metadata": {},
   "source": [
    "### Load Data"
   ]
  },
  {
   "cell_type": "code",
   "execution_count": 4,
   "metadata": {
    "collapsed": false,
    "jupyter": {
     "outputs_hidden": false
    },
    "pycharm": {
     "name": "#%%\n"
    }
   },
   "outputs": [],
   "source": [
    "train_data = pd.read_csv('datasets/twitter_disaster/train_data_clean.csv')[['text', 'target']]\n",
    "test_data = pd.read_csv('datasets/twitter_disaster/test_data_clean.csv')[['id', 'text']]"
   ]
  },
  {
   "cell_type": "markdown",
   "metadata": {},
   "source": [
    "### Visualize Data"
   ]
  },
  {
   "cell_type": "code",
   "execution_count": 5,
   "metadata": {
    "collapsed": false,
    "jupyter": {
     "outputs_hidden": false
    },
    "pycharm": {
     "name": "#%%\n"
    }
   },
   "outputs": [
    {
     "name": "stdout",
     "output_type": "stream",
     "text": [
      "Weights for 0 and 1: [0.44, 0.56]\n"
     ]
    },
    {
     "data": {
      "image/png": "[encoded data removed]",
      "text/plain": [
       "<Figure size 432x288 with 1 Axes>"
      ]
     },
     "metadata": {
      "needs_background": "light"
     },
     "output_type": "display_data"
    }
   ],
   "source": [
    "train_data['target'].hist()\n",
    "print(\"Weights for 0 and 1:\", weight)"
   ]
  },
  {
   "cell_type": "code",
   "execution_count": 6,
   "metadata": {
    "collapsed": false,
    "jupyter": {
     "outputs_hidden": false
    },
    "pycharm": {
     "name": "#%%\n"
    }
   },
   "outputs": [
    {
     "name": "stdout",
     "output_type": "stream",
     "text": [
      "<class 'pandas.core.frame.DataFrame'>\n",
      "RangeIndex: 7613 entries, 0 to 7612\n",
      "Data columns (total 2 columns):\n",
      " #   Column  Non-Null Count  Dtype \n",
      "---  ------  --------------  ----- \n",
      " 0   text    7613 non-null   object\n",
      " 1   target  7613 non-null   int64 \n",
      "dtypes: int64(1), object(1)\n",
      "memory usage: 119.1+ KB\n"
     ]
    }
   ],
   "source": [
    "train_data.info()"
   ]
  },
  {
   "cell_type": "code",
   "execution_count": 7,
   "metadata": {
    "collapsed": false,
    "jupyter": {
     "outputs_hidden": false
    },
    "pycharm": {
     "name": "#%%\n"
    }
   },
   "outputs": [
    {
     "name": "stdout",
     "output_type": "stream",
     "text": [
      "<class 'pandas.core.frame.DataFrame'>\n",
      "RangeIndex: 3263 entries, 0 to 3262\n",
      "Data columns (total 2 columns):\n",
      " #   Column  Non-Null Count  Dtype \n",
      "---  ------  --------------  ----- \n",
      " 0   id      3263 non-null   int64 \n",
      " 1   text    3263 non-null   object\n",
      "dtypes: int64(1), object(1)\n",
      "memory usage: 51.1+ KB\n"
     ]
    }
   ],
   "source": [
    "test_data.info()"
   ]
  },
  {
   "cell_type": "code",
   "execution_count": 8,
   "metadata": {
    "collapsed": false,
    "jupyter": {
     "outputs_hidden": false
    },
    "pycharm": {
     "name": "#%%\n"
    }
   },
   "outputs": [],
   "source": [
    "def subtext_repetition_in_df(df, col, subtext, num):\n",
    "    # Calc statistics as table for character repetition (1...num times) from subtext list in the df[col]\n",
    "    text = \"\".join(df[col])\n",
    "    result = pd.DataFrame(columns = ['subtext', 'count'])\n",
    "    i = 0\n",
    "    if (len(df) > 0) and (len(subtext) > 0):\n",
    "        for c in subtext:\n",
    "            for j in range(num):\n",
    "                cs = c*(j+1)\n",
    "                result.loc[i,'count'] = text.count(cs)\n",
    "                if c == ' ':\n",
    "                    cs = cs.replace(' ','<space>')\n",
    "                result.loc[i,'subtext'] = cs\n",
    "                i += 1\n",
    "    print('Number of all data is', len(df))\n",
    "    result = result[result['count'] > 0].reset_index(drop=True)\n",
    "    display(result.sort_values(by='subtext'))\n",
    "\n",
    "    print('Text examples')\n",
    "    problem_examples = pd.DataFrame(columns = ['problem_examples'])\n",
    "    problem_examples['problem_examples'] = ''\n",
    "    for i in range(len(result)):\n",
    "        problem_examples.loc[i,'problem_examples'] = df[df[col].str.find(result.loc[i,'subtext'])>-1].reset_index(drop=True).loc[0, col]\n",
    "    problem_examples = problem_examples.drop_duplicates()\n",
    "    display(problem_examples)"
   ]
  },
  {
   "cell_type": "code",
   "execution_count": 9,
   "metadata": {
    "collapsed": false,
    "jupyter": {
     "outputs_hidden": false
    },
    "pycharm": {
     "name": "#%%\n"
    }
   },
   "outputs": [
    {
     "name": "stdout",
     "output_type": "stream",
     "text": [
      "Statistics for punctuation marks repetition in training data\n",
      "Number of all data is 7613\n"
     ]
    },
    {
     "data": {
      "text/html": [
       "<div>\n",
       "<style scoped>\n",
       "    .dataframe tbody tr th:only-of-type {\n",
       "        vertical-align: middle;\n",
       "    }\n",
       "\n",
       "    .dataframe tbody tr th {\n",
       "        vertical-align: top;\n",
       "    }\n",
       "\n",
       "    .dataframe thead th {\n",
       "        text-align: right;\n",
       "    }\n",
       "</style>\n",
       "<table border=\"1\" class=\"dataframe\">\n",
       "  <thead>\n",
       "    <tr style=\"text-align: right;\">\n",
       "      <th></th>\n",
       "      <th>subtext</th>\n",
       "      <th>count</th>\n",
       "    </tr>\n",
       "  </thead>\n",
       "  <tbody>\n",
       "    <tr>\n",
       "      <th>0</th>\n",
       "      <td>!</td>\n",
       "      <td>905</td>\n",
       "    </tr>\n",
       "    <tr>\n",
       "      <th>1</th>\n",
       "      <td>#</td>\n",
       "      <td>3400</td>\n",
       "    </tr>\n",
       "    <tr>\n",
       "      <th>2</th>\n",
       "      <td>$</td>\n",
       "      <td>41</td>\n",
       "    </tr>\n",
       "    <tr>\n",
       "      <th>3</th>\n",
       "      <td>%</td>\n",
       "      <td>46</td>\n",
       "    </tr>\n",
       "    <tr>\n",
       "      <th>4</th>\n",
       "      <td>&amp;</td>\n",
       "      <td>342</td>\n",
       "    </tr>\n",
       "    <tr>\n",
       "      <th>5</th>\n",
       "      <td>'</td>\n",
       "      <td>1771</td>\n",
       "    </tr>\n",
       "    <tr>\n",
       "      <th>6</th>\n",
       "      <td>(</td>\n",
       "      <td>348</td>\n",
       "    </tr>\n",
       "    <tr>\n",
       "      <th>7</th>\n",
       "      <td>)</td>\n",
       "      <td>362</td>\n",
       "    </tr>\n",
       "    <tr>\n",
       "      <th>8</th>\n",
       "      <td>*</td>\n",
       "      <td>144</td>\n",
       "    </tr>\n",
       "    <tr>\n",
       "      <th>9</th>\n",
       "      <td>+</td>\n",
       "      <td>67</td>\n",
       "    </tr>\n",
       "    <tr>\n",
       "      <th>10</th>\n",
       "      <td>,</td>\n",
       "      <td>2</td>\n",
       "    </tr>\n",
       "    <tr>\n",
       "      <th>11</th>\n",
       "      <td>-</td>\n",
       "      <td>1682</td>\n",
       "    </tr>\n",
       "    <tr>\n",
       "      <th>12</th>\n",
       "      <td>.</td>\n",
       "      <td>4610</td>\n",
       "    </tr>\n",
       "    <tr>\n",
       "      <th>13</th>\n",
       "      <td>/</td>\n",
       "      <td>367</td>\n",
       "    </tr>\n",
       "    <tr>\n",
       "      <th>14</th>\n",
       "      <td>:</td>\n",
       "      <td>2189</td>\n",
       "    </tr>\n",
       "    <tr>\n",
       "      <th>15</th>\n",
       "      <td>;</td>\n",
       "      <td>129</td>\n",
       "    </tr>\n",
       "    <tr>\n",
       "      <th>16</th>\n",
       "      <td>&lt;</td>\n",
       "      <td>20</td>\n",
       "    </tr>\n",
       "    <tr>\n",
       "      <th>17</th>\n",
       "      <td>=</td>\n",
       "      <td>47</td>\n",
       "    </tr>\n",
       "    <tr>\n",
       "      <th>18</th>\n",
       "      <td>&gt;</td>\n",
       "      <td>89</td>\n",
       "    </tr>\n",
       "    <tr>\n",
       "      <th>19</th>\n",
       "      <td>?</td>\n",
       "      <td>1255</td>\n",
       "    </tr>\n",
       "    <tr>\n",
       "      <th>20</th>\n",
       "      <td>@</td>\n",
       "      <td>2756</td>\n",
       "    </tr>\n",
       "    <tr>\n",
       "      <th>21</th>\n",
       "      <td>[</td>\n",
       "      <td>131</td>\n",
       "    </tr>\n",
       "    <tr>\n",
       "      <th>22</th>\n",
       "      <td>\\</td>\n",
       "      <td>5</td>\n",
       "    </tr>\n",
       "    <tr>\n",
       "      <th>23</th>\n",
       "      <td>\\\\</td>\n",
       "      <td>1</td>\n",
       "    </tr>\n",
       "    <tr>\n",
       "      <th>24</th>\n",
       "      <td>\\\\\\</td>\n",
       "      <td>1</td>\n",
       "    </tr>\n",
       "    <tr>\n",
       "      <th>25</th>\n",
       "      <td>]</td>\n",
       "      <td>130</td>\n",
       "    </tr>\n",
       "    <tr>\n",
       "      <th>26</th>\n",
       "      <td>^</td>\n",
       "      <td>6</td>\n",
       "    </tr>\n",
       "    <tr>\n",
       "      <th>27</th>\n",
       "      <td>_</td>\n",
       "      <td>462</td>\n",
       "    </tr>\n",
       "    <tr>\n",
       "      <th>28</th>\n",
       "      <td>`</td>\n",
       "      <td>3</td>\n",
       "    </tr>\n",
       "    <tr>\n",
       "      <th>29</th>\n",
       "      <td>{</td>\n",
       "      <td>3</td>\n",
       "    </tr>\n",
       "    <tr>\n",
       "      <th>30</th>\n",
       "      <td>|</td>\n",
       "      <td>150</td>\n",
       "    </tr>\n",
       "    <tr>\n",
       "      <th>31</th>\n",
       "      <td>}</td>\n",
       "      <td>4</td>\n",
       "    </tr>\n",
       "    <tr>\n",
       "      <th>32</th>\n",
       "      <td>~</td>\n",
       "      <td>37</td>\n",
       "    </tr>\n",
       "  </tbody>\n",
       "</table>\n",
       "</div>"
      ],
      "text/plain": [
       "   subtext count\n",
       "0        !   905\n",
       "1        #  3400\n",
       "2        $    41\n",
       "3        %    46\n",
       "4        &   342\n",
       "5        '  1771\n",
       "6        (   348\n",
       "7        )   362\n",
       "8        *   144\n",
       "9        +    67\n",
       "10       ,     2\n",
       "11       -  1682\n",
       "12       .  4610\n",
       "13       /   367\n",
       "14       :  2189\n",
       "15       ;   129\n",
       "16       <    20\n",
       "17       =    47\n",
       "18       >    89\n",
       "19       ?  1255\n",
       "20       @  2756\n",
       "21       [   131\n",
       "22       \\     5\n",
       "23      \\\\     1\n",
       "24     \\\\\\     1\n",
       "25       ]   130\n",
       "26       ^     6\n",
       "27       _   462\n",
       "28       `     3\n",
       "29       {     3\n",
       "30       |   150\n",
       "31       }     4\n",
       "32       ~    37"
      ]
     },
     "metadata": {},
     "output_type": "display_data"
    },
    {
     "name": "stdout",
     "output_type": "stream",
     "text": [
      "Text examples\n"
     ]
    },
    {
     "data": {
      "text/html": [
       "<div>\n",
       "<style scoped>\n",
       "    .dataframe tbody tr th:only-of-type {\n",
       "        vertical-align: middle;\n",
       "    }\n",
       "\n",
       "    .dataframe tbody tr th {\n",
       "        vertical-align: top;\n",
       "    }\n",
       "\n",
       "    .dataframe thead th {\n",
       "        text-align: right;\n",
       "    }\n",
       "</style>\n",
       "<table border=\"1\" class=\"dataframe\">\n",
       "  <thead>\n",
       "    <tr style=\"text-align: right;\">\n",
       "      <th></th>\n",
       "      <th>problem_examples</th>\n",
       "    </tr>\n",
       "  </thead>\n",
       "  <tbody>\n",
       "    <tr>\n",
       "      <th>0</th>\n",
       "      <td>What a goooooooaaaaaal !</td>\n",
       "    </tr>\n",
       "    <tr>\n",
       "      <th>1</th>\n",
       "      <td>Our Deeds are the Reason of this  # earthquake May ALLAH Forgive us all</td>\n",
       "    </tr>\n",
       "    <tr>\n",
       "      <th>2</th>\n",
       "      <td>&gt;  &gt;   $ 15 Aftershock  :  Protect Yourself and Profit in the Next Global Financial .   # book \\n @ esquireattire</td>\n",
       "    </tr>\n",
       "    <tr>\n",
       "      <th>3</th>\n",
       "      <td># Colorado  # Avalanche Men ' s Official Colorado Avalanche Reebok T - Shirt XL Blue 100 %  Cotton   # NHL  # Hockey</td>\n",
       "    </tr>\n",
       "    <tr>\n",
       "      <th>4</th>\n",
       "      <td>Rene Ablaze  &amp;  Jacinta  -  Secret 2k13  ( Fallen Skies Edit )   -  Mar 30 2013</td>\n",
       "    </tr>\n",
       "    <tr>\n",
       "      <th>5</th>\n",
       "      <td>All residents asked to  ' shelter in place '  are being notified by officers .  No other evacuation or shelter in place orders are expected</td>\n",
       "    </tr>\n",
       "    <tr>\n",
       "      <th>7</th>\n",
       "      <td>London is cool  ;  )</td>\n",
       "    </tr>\n",
       "    <tr>\n",
       "      <th>8</th>\n",
       "      <td>Aftershock was the most terrifying best roller coaster I have ever been on .   * DISCLAIMER *  I have been on very few .</td>\n",
       "    </tr>\n",
       "    <tr>\n",
       "      <th>9</th>\n",
       "      <td>+  Nicole Fletcher one of a victim of crashed airplane few times ago .  \\n\\nThe accident left a little bit trauma for her .  Although she is \\n\\n +</td>\n",
       "    </tr>\n",
       "    <tr>\n",
       "      <th>10</th>\n",
       "      <td>13,000 people receive  # wildfires evacuation orders in California</td>\n",
       "    </tr>\n",
       "    <tr>\n",
       "      <th>11</th>\n",
       "      <td># Rocky Fire Update  =  &gt;  California Hwy .  20 closed in both directions due to Lake County fire  -   # CAfire  # wildfires</td>\n",
       "    </tr>\n",
       "    <tr>\n",
       "      <th>12</th>\n",
       "      <td>Forest fire near La Ronge Sask .  Canada</td>\n",
       "    </tr>\n",
       "    <tr>\n",
       "      <th>13</th>\n",
       "      <td>I - 77 Mile Marker 31 South Mooresville  Iredell Vehicle Accident Ramp Closed at 8 / 6 1 : 18 PM</td>\n",
       "    </tr>\n",
       "    <tr>\n",
       "      <th>14</th>\n",
       "      <td>Cooool  :  )</td>\n",
       "    </tr>\n",
       "    <tr>\n",
       "      <th>16</th>\n",
       "      <td>when you do not know which way an ambulance is coming from  &lt;  &lt;</td>\n",
       "    </tr>\n",
       "    <tr>\n",
       "      <th>19</th>\n",
       "      <td>What is up man ?</td>\n",
       "    </tr>\n",
       "    <tr>\n",
       "      <th>20</th>\n",
       "      <td>@ bbcmtd Wholesale Markets ablaze</td>\n",
       "    </tr>\n",
       "    <tr>\n",
       "      <th>21</th>\n",
       "      <td>320  [ IR ]  ICEMOON  [ AFTERSHOCK ]   |    |   @ dj icemoon  |   # Dubstep  # Trap Music  # DnB  # EDM  # Dance  # Ices</td>\n",
       "    </tr>\n",
       "    <tr>\n",
       "      <th>22</th>\n",
       "      <td>Marquei como visto Dragon Ball Super  -  1x1  -  The God of Destruction\\ ' s Dream   # banco de series</td>\n",
       "    </tr>\n",
       "    <tr>\n",
       "      <th>23</th>\n",
       "      <td>@ lightseraphs pissed at you and could have their pikachu electrocute you and  : \\\\\\</td>\n",
       "    </tr>\n",
       "    <tr>\n",
       "      <th>26</th>\n",
       "      <td># Greece ' s tax revenues collapse as debt crisis continues via  @ guardian  # bailout   ^ mp</td>\n",
       "    </tr>\n",
       "    <tr>\n",
       "      <th>27</th>\n",
       "      <td>Noches El - Bestia  '  @ Alexis_Sanchez :  happy to see my teammates and training hard  ?  goodnight gunners .  ?   '</td>\n",
       "    </tr>\n",
       "    <tr>\n",
       "      <th>28</th>\n",
       "      <td>I didn ` t want to hurt you but the fear drove me to do it  .  Midnight</td>\n",
       "    </tr>\n",
       "    <tr>\n",
       "      <th>29</th>\n",
       "      <td>{  : en } Tension In Bayelsa As Patience Jonathan Plans To Hijack APCPDP {  :  }</td>\n",
       "    </tr>\n",
       "    <tr>\n",
       "      <th>31</th>\n",
       "      <td>å¤ }  New Ladies Shoulder Tote  # Handbag Faux Leather Hobo Purse Cross Body Bag  # Womens   RT en</td>\n",
       "    </tr>\n",
       "    <tr>\n",
       "      <th>32</th>\n",
       "      <td># Tb  # throwback  ? \\n\\n ? ~ You want a battle ?  Here is a War !  ~  ?</td>\n",
       "    </tr>\n",
       "  </tbody>\n",
       "</table>\n",
       "</div>"
      ],
      "text/plain": [
       "                                                                                                                                         problem_examples\n",
       "0                                                                                                                               What a goooooooaaaaaal ! \n",
       "1                                                                                 Our Deeds are the Reason of this  # earthquake May ALLAH Forgive us all\n",
       "2                                       >  >   $ 15 Aftershock  :  Protect Yourself and Profit in the Next Global Financial .   # book \\n @ esquireattire\n",
       "3                                    # Colorado  # Avalanche Men ' s Official Colorado Avalanche Reebok T - Shirt XL Blue 100 %  Cotton   # NHL  # Hockey\n",
       "4                                                                       Rene Ablaze  &  Jacinta  -  Secret 2k13  ( Fallen Skies Edit )   -  Mar 30 2013  \n",
       "5             All residents asked to  ' shelter in place '  are being notified by officers .  No other evacuation or shelter in place orders are expected\n",
       "7                                                                                                                                   London is cool  ;  ) \n",
       "8                               Aftershock was the most terrifying best roller coaster I have ever been on .   * DISCLAIMER *  I have been on very few . \n",
       "9    +  Nicole Fletcher one of a victim of crashed airplane few times ago .  \\n\\nThe accident left a little bit trauma for her .  Although she is \\n\\n + \n",
       "10                                                                                    13,000 people receive  # wildfires evacuation orders in California \n",
       "11                           # Rocky Fire Update  =  >  California Hwy .  20 closed in both directions due to Lake County fire  -   # CAfire  # wildfires\n",
       "12                                                                                                               Forest fire near La Ronge Sask .  Canada\n",
       "13                                                       I - 77 Mile Marker 31 South Mooresville  Iredell Vehicle Accident Ramp Closed at 8 / 6 1 : 18 PM\n",
       "14                                                                                                                                          Cooool  :  ) \n",
       "16                                                                                      when you do not know which way an ambulance is coming from  <  < \n",
       "19                                                                                                                                      What is up man ? \n",
       "20                                                                                                                     @ bbcmtd Wholesale Markets ablaze \n",
       "21                              320  [ IR ]  ICEMOON  [ AFTERSHOCK ]   |    |   @ dj icemoon  |   # Dubstep  # Trap Music  # DnB  # EDM  # Dance  # Ices \n",
       "22                                                 Marquei como visto Dragon Ball Super  -  1x1  -  The God of Destruction\\ ' s Dream   # banco de series\n",
       "23                                                                   @ lightseraphs pissed at you and could have their pikachu electrocute you and  : \\\\\\\n",
       "26                                                          # Greece ' s tax revenues collapse as debt crisis continues via  @ guardian  # bailout   ^ mp\n",
       "27                                 Noches El - Bestia  '  @ Alexis_Sanchez :  happy to see my teammates and training hard  ?  goodnight gunners .  ?   ' \n",
       "28                                                                                I didn ` t want to hurt you but the fear drove me to do it  .  Midnight\n",
       "29                                                                    {  : en } Tension In Bayelsa As Patience Jonathan Plans To Hijack APCPDP {  :  }   \n",
       "31                                                     å¤ }  New Ladies Shoulder Tote  # Handbag Faux Leather Hobo Purse Cross Body Bag  # Womens   RT en\n",
       "32                                                                             # Tb  # throwback  ? \\n\\n ? ~ You want a battle ?  Here is a War !  ~  ?  "
      ]
     },
     "metadata": {},
     "output_type": "display_data"
    }
   ],
   "source": [
    "# Analysis of punctuation marks repetition in training data\n",
    "print('Statistics for punctuation marks repetition in training data')\n",
    "subtext_repetition_in_df(train_data, 'text', list(string.punctuation), 10)"
   ]
  },
  {
   "cell_type": "code",
   "execution_count": 10,
   "metadata": {
    "collapsed": false,
    "jupyter": {
     "outputs_hidden": false
    },
    "pycharm": {
     "name": "#%%\n"
    }
   },
   "outputs": [
    {
     "name": "stdout",
     "output_type": "stream",
     "text": [
      "Statistics for punctuation marks repetition in test data\n",
      "Number of all data is 3263\n"
     ]
    },
    {
     "data": {
      "text/html": [
       "<div>\n",
       "<style scoped>\n",
       "    .dataframe tbody tr th:only-of-type {\n",
       "        vertical-align: middle;\n",
       "    }\n",
       "\n",
       "    .dataframe tbody tr th {\n",
       "        vertical-align: top;\n",
       "    }\n",
       "\n",
       "    .dataframe thead th {\n",
       "        text-align: right;\n",
       "    }\n",
       "</style>\n",
       "<table border=\"1\" class=\"dataframe\">\n",
       "  <thead>\n",
       "    <tr style=\"text-align: right;\">\n",
       "      <th></th>\n",
       "      <th>subtext</th>\n",
       "      <th>count</th>\n",
       "    </tr>\n",
       "  </thead>\n",
       "  <tbody>\n",
       "    <tr>\n",
       "      <th>0</th>\n",
       "      <td>!</td>\n",
       "      <td>388</td>\n",
       "    </tr>\n",
       "    <tr>\n",
       "      <th>1</th>\n",
       "      <td>#</td>\n",
       "      <td>1543</td>\n",
       "    </tr>\n",
       "    <tr>\n",
       "      <th>2</th>\n",
       "      <td>$</td>\n",
       "      <td>22</td>\n",
       "    </tr>\n",
       "    <tr>\n",
       "      <th>3</th>\n",
       "      <td>%</td>\n",
       "      <td>17</td>\n",
       "    </tr>\n",
       "    <tr>\n",
       "      <th>4</th>\n",
       "      <td>&amp;</td>\n",
       "      <td>164</td>\n",
       "    </tr>\n",
       "    <tr>\n",
       "      <th>5</th>\n",
       "      <td>'</td>\n",
       "      <td>769</td>\n",
       "    </tr>\n",
       "    <tr>\n",
       "      <th>6</th>\n",
       "      <td>(</td>\n",
       "      <td>156</td>\n",
       "    </tr>\n",
       "    <tr>\n",
       "      <th>7</th>\n",
       "      <td>)</td>\n",
       "      <td>164</td>\n",
       "    </tr>\n",
       "    <tr>\n",
       "      <th>8</th>\n",
       "      <td>*</td>\n",
       "      <td>82</td>\n",
       "    </tr>\n",
       "    <tr>\n",
       "      <th>9</th>\n",
       "      <td>+</td>\n",
       "      <td>27</td>\n",
       "    </tr>\n",
       "    <tr>\n",
       "      <th>10</th>\n",
       "      <td>,</td>\n",
       "      <td>4</td>\n",
       "    </tr>\n",
       "    <tr>\n",
       "      <th>11</th>\n",
       "      <td>-</td>\n",
       "      <td>667</td>\n",
       "    </tr>\n",
       "    <tr>\n",
       "      <th>12</th>\n",
       "      <td>.</td>\n",
       "      <td>2032</td>\n",
       "    </tr>\n",
       "    <tr>\n",
       "      <th>13</th>\n",
       "      <td>/</td>\n",
       "      <td>133</td>\n",
       "    </tr>\n",
       "    <tr>\n",
       "      <th>14</th>\n",
       "      <td>:</td>\n",
       "      <td>939</td>\n",
       "    </tr>\n",
       "    <tr>\n",
       "      <th>15</th>\n",
       "      <td>;</td>\n",
       "      <td>54</td>\n",
       "    </tr>\n",
       "    <tr>\n",
       "      <th>16</th>\n",
       "      <td>&lt;</td>\n",
       "      <td>4</td>\n",
       "    </tr>\n",
       "    <tr>\n",
       "      <th>17</th>\n",
       "      <td>=</td>\n",
       "      <td>11</td>\n",
       "    </tr>\n",
       "    <tr>\n",
       "      <th>18</th>\n",
       "      <td>&gt;</td>\n",
       "      <td>25</td>\n",
       "    </tr>\n",
       "    <tr>\n",
       "      <th>19</th>\n",
       "      <td>?</td>\n",
       "      <td>592</td>\n",
       "    </tr>\n",
       "    <tr>\n",
       "      <th>20</th>\n",
       "      <td>@</td>\n",
       "      <td>1280</td>\n",
       "    </tr>\n",
       "    <tr>\n",
       "      <th>21</th>\n",
       "      <td>[</td>\n",
       "      <td>59</td>\n",
       "    </tr>\n",
       "    <tr>\n",
       "      <th>22</th>\n",
       "      <td>]</td>\n",
       "      <td>58</td>\n",
       "    </tr>\n",
       "    <tr>\n",
       "      <th>23</th>\n",
       "      <td>^</td>\n",
       "      <td>2</td>\n",
       "    </tr>\n",
       "    <tr>\n",
       "      <th>24</th>\n",
       "      <td>_</td>\n",
       "      <td>197</td>\n",
       "    </tr>\n",
       "    <tr>\n",
       "      <th>25</th>\n",
       "      <td>{</td>\n",
       "      <td>2</td>\n",
       "    </tr>\n",
       "    <tr>\n",
       "      <th>26</th>\n",
       "      <td>|</td>\n",
       "      <td>63</td>\n",
       "    </tr>\n",
       "    <tr>\n",
       "      <th>27</th>\n",
       "      <td>}</td>\n",
       "      <td>2</td>\n",
       "    </tr>\n",
       "    <tr>\n",
       "      <th>28</th>\n",
       "      <td>~</td>\n",
       "      <td>10</td>\n",
       "    </tr>\n",
       "  </tbody>\n",
       "</table>\n",
       "</div>"
      ],
      "text/plain": [
       "   subtext count\n",
       "0        !   388\n",
       "1        #  1543\n",
       "2        $    22\n",
       "3        %    17\n",
       "4        &   164\n",
       "5        '   769\n",
       "6        (   156\n",
       "7        )   164\n",
       "8        *    82\n",
       "9        +    27\n",
       "10       ,     4\n",
       "11       -   667\n",
       "12       .  2032\n",
       "13       /   133\n",
       "14       :   939\n",
       "15       ;    54\n",
       "16       <     4\n",
       "17       =    11\n",
       "18       >    25\n",
       "19       ?   592\n",
       "20       @  1280\n",
       "21       [    59\n",
       "22       ]    58\n",
       "23       ^     2\n",
       "24       _   197\n",
       "25       {     2\n",
       "26       |    63\n",
       "27       }     2\n",
       "28       ~    10"
      ]
     },
     "metadata": {},
     "output_type": "display_data"
    },
    {
     "name": "stdout",
     "output_type": "stream",
     "text": [
      "Text examples\n"
     ]
    },
    {
     "data": {
      "text/html": [
       "<div>\n",
       "<style scoped>\n",
       "    .dataframe tbody tr th:only-of-type {\n",
       "        vertical-align: middle;\n",
       "    }\n",
       "\n",
       "    .dataframe tbody tr th {\n",
       "        vertical-align: top;\n",
       "    }\n",
       "\n",
       "    .dataframe thead th {\n",
       "        text-align: right;\n",
       "    }\n",
       "</style>\n",
       "<table border=\"1\" class=\"dataframe\">\n",
       "  <thead>\n",
       "    <tr style=\"text-align: right;\">\n",
       "      <th></th>\n",
       "      <th>problem_examples</th>\n",
       "    </tr>\n",
       "  </thead>\n",
       "  <tbody>\n",
       "    <tr>\n",
       "      <th>0</th>\n",
       "      <td>Hey !  How are you ?</td>\n",
       "    </tr>\n",
       "    <tr>\n",
       "      <th>1</th>\n",
       "      <td>Heard about  # earthquake is different cities, stay safe everyone .</td>\n",
       "    </tr>\n",
       "    <tr>\n",
       "      <th>2</th>\n",
       "      <td>Why should a helicopter ambulance ride to transfer to a hospital 21 miles away cost  $ 29800 ?</td>\n",
       "    </tr>\n",
       "    <tr>\n",
       "      <th>3</th>\n",
       "      <td>@ davej798  @ JohnEJefferson remind me when SomaliaEritrea  &amp;  Nigeria were bombed by UK 28 %  of asylum applicants to UK 2014 were from S  &amp;  E</td>\n",
       "    </tr>\n",
       "    <tr>\n",
       "      <th>4</th>\n",
       "      <td>beware world ablaze sierra leone  &amp;  guap .</td>\n",
       "    </tr>\n",
       "    <tr>\n",
       "      <th>5</th>\n",
       "      <td>They ' d probably still show more life than Arsenal did yesterday, eh ?  EH ?</td>\n",
       "    </tr>\n",
       "    <tr>\n",
       "      <th>6</th>\n",
       "      <td>@ sakuma_en If you pretend to feel a certain way the feeling can become genuine all by accident .   - Hei  ( Darker than Black )   # manga  # anime</td>\n",
       "    </tr>\n",
       "    <tr>\n",
       "      <th>8</th>\n",
       "      <td>* Latest Updates on the Salt River Wild Horse Round - up *   via  @ Change</td>\n",
       "    </tr>\n",
       "    <tr>\n",
       "      <th>9</th>\n",
       "      <td>Do people not understand they cant bleeding tweet everyone all the timedoes me head in  ' stop ignoring me '  they are hardly ignoring you +</td>\n",
       "    </tr>\n",
       "    <tr>\n",
       "      <th>11</th>\n",
       "      <td>Birmingham Wholesale Market is ablaze BBC News  -  Fire breaks out at Birmingham ' s Wholesale Market</td>\n",
       "    </tr>\n",
       "    <tr>\n",
       "      <th>13</th>\n",
       "      <td># 3 :  Car Recorder ZeroEdge Dual - lens Car Camera Vehicle Traffic / Driving History / Accident Camcorder  Large Re .</td>\n",
       "    </tr>\n",
       "    <tr>\n",
       "      <th>14</th>\n",
       "      <td># PreviouslyOnDoyinTv :  Toke Makinwas marriage crisis sets Nigerian Twitter ablaze .</td>\n",
       "    </tr>\n",
       "    <tr>\n",
       "      <th>15</th>\n",
       "      <td>' When the aftershock happened  ( Nepal )  we were the last int ' l team still there ;  in a way we were 1st responders .  '  Chief Collins  @ LACo_FD</td>\n",
       "    </tr>\n",
       "    <tr>\n",
       "      <th>16</th>\n",
       "      <td>&lt; Kyodonews &gt;  UPDATE1 :  Hiroshima marks 70th A - bomb anniv .  amid fears of eroded pacifism   # followme  # japan</td>\n",
       "    </tr>\n",
       "    <tr>\n",
       "      <th>17</th>\n",
       "      <td>@ taylorswift13  @ Caradelevingne Mother Chucker and Catastrophe  =  So much hotness in one room we cannot cope .   # Swifties</td>\n",
       "    </tr>\n",
       "    <tr>\n",
       "      <th>20</th>\n",
       "      <td>@ sunkxssedharry will you wear shorts for race ablaze  ?</td>\n",
       "    </tr>\n",
       "    <tr>\n",
       "      <th>21</th>\n",
       "      <td>ACCIDENT  -  HIT AND RUN  -  COLD at 500 BLOCK OF SE VISTA TER GRESHAM OR  [ Gresham Police  # PG15000044357 ]  10 : 35  # Portland Police</td>\n",
       "    </tr>\n",
       "    <tr>\n",
       "      <th>23</th>\n",
       "      <td>@ skydragonforce  ^ why i usually never try to express opinions for fear of the hate  . _ .</td>\n",
       "    </tr>\n",
       "    <tr>\n",
       "      <th>24</th>\n",
       "      <td>PSA :  Im splitting my personalities . \\n\\n ?  techies follow  @ ablaze_co\\n ?  Burners follow  @ ablaze</td>\n",
       "    </tr>\n",
       "    <tr>\n",
       "      <th>25</th>\n",
       "      <td>Sinking .   { part 2 } \\n ? \\n # building museum  # The beach DC  # vsco camera  # a creative DC  # dc  # dctography  # vsco DC</td>\n",
       "    </tr>\n",
       "    <tr>\n",
       "      <th>26</th>\n",
       "      <td>320  [ IR ]  ICEMOON  [ AFTERSHOCK ]   |    |   @ dj icemoon  |   # Dubstep  # Trap Music  # DnB  # EDM  # Dance  # Ices</td>\n",
       "    </tr>\n",
       "    <tr>\n",
       "      <th>28</th>\n",
       "      <td>@ rewind_music found out about you guys today ( regarding the accident on the airplane lol )   &amp;  became a fan !  Sending love  &amp;  support from Cali~ ?</td>\n",
       "    </tr>\n",
       "  </tbody>\n",
       "</table>\n",
       "</div>"
      ],
      "text/plain": [
       "                                                                                                                                             problem_examples\n",
       "0                                                                                                                                       Hey !  How are you ? \n",
       "1                                                                                        Heard about  # earthquake is different cities, stay safe everyone . \n",
       "2                                                           Why should a helicopter ambulance ride to transfer to a hospital 21 miles away cost  $ 29800 ?   \n",
       "3            @ davej798  @ JohnEJefferson remind me when SomaliaEritrea  &  Nigeria were bombed by UK 28 %  of asylum applicants to UK 2014 were from S  &  E\n",
       "4                                                                                                                beware world ablaze sierra leone  &  guap . \n",
       "5                                                                              They ' d probably still show more life than Arsenal did yesterday, eh ?  EH ? \n",
       "6         @ sakuma_en If you pretend to feel a certain way the feeling can become genuine all by accident .   - Hei  ( Darker than Black )   # manga  # anime\n",
       "8                                                                                  * Latest Updates on the Salt River Wild Horse Round - up *   via  @ Change\n",
       "9               Do people not understand they cant bleeding tweet everyone all the timedoes me head in  ' stop ignoring me '  they are hardly ignoring you + \n",
       "11                                                     Birmingham Wholesale Market is ablaze BBC News  -  Fire breaks out at Birmingham ' s Wholesale Market \n",
       "13                                   # 3 :  Car Recorder ZeroEdge Dual - lens Car Camera Vehicle Traffic / Driving History / Accident Camcorder  Large Re .  \n",
       "14                                                                    # PreviouslyOnDoyinTv :  Toke Makinwas marriage crisis sets Nigerian Twitter ablaze .  \n",
       "15     ' When the aftershock happened  ( Nepal )  we were the last int ' l team still there ;  in a way we were 1st responders .  '  Chief Collins  @ LACo_FD\n",
       "16                                       < Kyodonews >  UPDATE1 :  Hiroshima marks 70th A - bomb anniv .  amid fears of eroded pacifism   # followme  # japan\n",
       "17                             @ taylorswift13  @ Caradelevingne Mother Chucker and Catastrophe  =  So much hotness in one room we cannot cope .   # Swifties\n",
       "20                                                                                                  @ sunkxssedharry will you wear shorts for race ablaze  ? \n",
       "21                 ACCIDENT  -  HIT AND RUN  -  COLD at 500 BLOCK OF SE VISTA TER GRESHAM OR  [ Gresham Police  # PG15000044357 ]  10 : 35  # Portland Police\n",
       "23                                                               @ skydragonforce  ^ why i usually never try to express opinions for fear of the hate  . _ . \n",
       "24                                                   PSA :  Im splitting my personalities . \\n\\n ?  techies follow  @ ablaze_co\\n ?  Burners follow  @ ablaze\n",
       "25                           Sinking .   { part 2 } \\n ? \\n # building museum  # The beach DC  # vsco camera  # a creative DC  # dc  # dctography  # vsco DC \n",
       "26                                  320  [ IR ]  ICEMOON  [ AFTERSHOCK ]   |    |   @ dj icemoon  |   # Dubstep  # Trap Music  # DnB  # EDM  # Dance  # Ices \n",
       "28   @ rewind_music found out about you guys today ( regarding the accident on the airplane lol )   &  became a fan !  Sending love  &  support from Cali~ ? "
      ]
     },
     "metadata": {},
     "output_type": "display_data"
    }
   ],
   "source": [
    "# Analysis of punctuation marks repetition in test data\n",
    "print('Statistics for punctuation marks repetition in test data')\n",
    "subtext_repetition_in_df(test_data, 'text', list(string.punctuation), 10)"
   ]
  },
  {
   "cell_type": "markdown",
   "metadata": {},
   "source": [
    "### Train Model"
   ]
  },
  {
   "cell_type": "code",
   "execution_count": 11,
   "metadata": {
    "collapsed": false,
    "jupyter": {
     "outputs_hidden": false
    },
    "pycharm": {
     "name": "#%%\n"
    }
   },
   "outputs": [],
   "source": [
    "# Model training without KFold\n",
    "if not with_kfold and train_model:\n",
    "    model = ClassificationModel(model_type, model_name, args=model_args, weight=weight)\n",
    "    model.train_model(train_data)\n",
    "    result, model_outputs, wrong_predictions = model.eval_model(train_data, acc=sklearn.metrics.accuracy_score)"
   ]
  },
  {
   "cell_type": "code",
   "execution_count": 12,
   "metadata": {
    "collapsed": false,
    "jupyter": {
     "outputs_hidden": false
    },
    "pycharm": {
     "name": "#%%\n"
    }
   },
   "outputs": [],
   "source": [
    "# Model training with KFold\n",
    "if with_kfold and train_model:\n",
    "    kf = KFold(n_splits=n_splits, random_state=seed, shuffle=True)\n",
    "\n",
    "    results = []\n",
    "    wrong_predictions = []\n",
    "    y_preds = np.zeros(test_data.shape[0])\n",
    "    pred_train = np.zeros(train_data.shape[0])\n",
    "\n",
    "    first_fold = True\n",
    "    for train_index, val_index in kf.split(train_data):\n",
    "        train_df = train_data.iloc[train_index]\n",
    "        val_df = train_data.iloc[val_index]\n",
    "\n",
    "        # Model training\n",
    "        model = ClassificationModel(model_type, model_name, args=model_args)\n",
    "        model.train_model(train_df)\n",
    "\n",
    "        # Validation data prediction\n",
    "        result, model_outputs_fold, wrong_predictions_fold = model.eval_model(val_df, acc=sklearn.metrics.accuracy_score)\n",
    "        pred_train[val_index], _ = model.predict(val_df['text'].reset_index(drop=True))\n",
    "\n",
    "        # Save fold results\n",
    "        if first_fold:\n",
    "            model_outputs = model_outputs_fold\n",
    "            first_fold = False\n",
    "        else: model_outputs = np.vstack((model_outputs,model_outputs_fold))\n",
    "\n",
    "        wrong_predictions += wrong_predictions_fold\n",
    "        results.append(result['acc'])\n",
    "\n",
    "        # Test data prediction\n",
    "        y_pred, _ = model.predict(test_data['text'])\n",
    "        y_preds += y_pred / n_splits"
   ]
  },
  {
   "cell_type": "markdown",
   "metadata": {},
   "source": [
    "### Load Model"
   ]
  },
  {
   "cell_type": "code",
   "execution_count": 11,
   "metadata": {},
   "outputs": [
    {
     "data": {
      "application/vnd.jupyter.widget-view+json": {
       "model_id": "15b63f001ee1447ebcd7d2b125e4d5e9",
       "version_major": 2,
       "version_minor": 0
      },
      "text/plain": [
       "  0%|          | 0/7613 [00:00<?, ?it/s]"
      ]
     },
     "metadata": {},
     "output_type": "display_data"
    },
    {
     "data": {
      "application/vnd.jupyter.widget-view+json": {
       "model_id": "2af50f48daa940db9341cb7ec938321a",
       "version_major": 2,
       "version_minor": 0
      },
      "text/plain": [
       "Running Evaluation:   0%|          | 0/5 [00:00<?, ?it/s]"
      ]
     },
     "metadata": {},
     "output_type": "display_data"
    }
   ],
   "source": [
    "model_args =  {'fp16': False,\n",
    "               'do_lower_case': True,\n",
    "               'eval_batch_size': 1536,\n",
    "               'n_gpu': 2,\n",
    "               'use_cuda': True,\n",
    "               'cuda_device': 0}\n",
    "model_dir = \"best_models/distilbert_uncased\"\n",
    "model = ClassificationModel(model_type, model_dir, args=model_args, weight=weight)\n",
    "result, model_outputs, wrong_predictions = model.eval_model(train_data, acc=sklearn.metrics.accuracy_score)"
   ]
  },
  {
   "cell_type": "markdown",
   "metadata": {},
   "source": [
    "### Test Model on Validation Set"
   ]
  },
  {
   "cell_type": "code",
   "execution_count": 12,
   "metadata": {
    "collapsed": false,
    "jupyter": {
     "outputs_hidden": false
    },
    "pycharm": {
     "name": "#%%\n"
    }
   },
   "outputs": [
    {
     "data": {
      "application/vnd.jupyter.widget-view+json": {
       "model_id": "1663d18b5827421485f0fed238248a65",
       "version_major": 2,
       "version_minor": 0
      },
      "text/plain": [
       "  0%|          | 0/3263 [00:00<?, ?it/s]"
      ]
     },
     "metadata": {},
     "output_type": "display_data"
    },
    {
     "data": {
      "application/vnd.jupyter.widget-view+json": {
       "model_id": "89ee9e5a5f1544e09d3dd53c6bf49093",
       "version_major": 2,
       "version_minor": 0
      },
      "text/plain": [
       "  0%|          | 0/3 [00:00<?, ?it/s]"
      ]
     },
     "metadata": {},
     "output_type": "display_data"
    },
    {
     "data": {
      "application/vnd.jupyter.widget-view+json": {
       "model_id": "cb070e47847a469f925b7f8b2854aaff",
       "version_major": 2,
       "version_minor": 0
      },
      "text/plain": [
       "  0%|          | 0/7613 [00:00<?, ?it/s]"
      ]
     },
     "metadata": {},
     "output_type": "display_data"
    },
    {
     "data": {
      "application/vnd.jupyter.widget-view+json": {
       "model_id": "8cf9a6c4726c44b4902a883495a49a6b",
       "version_major": 2,
       "version_minor": 0
      },
      "text/plain": [
       "  0%|          | 0/5 [00:00<?, ?it/s]"
      ]
     },
     "metadata": {},
     "output_type": "display_data"
    }
   ],
   "source": [
    "if not with_kfold:\n",
    "    y_preds, _, = model.predict(test_data['text'].values.tolist())\n",
    "    pred_train, _ = model.predict(train_data['text'].values.tolist())"
   ]
  },
  {
   "cell_type": "code",
   "execution_count": 13,
   "metadata": {
    "collapsed": false,
    "jupyter": {
     "outputs_hidden": false
    },
    "pycharm": {
     "name": "#%%\n"
    }
   },
   "outputs": [],
   "source": [
    "# CV accuracy result output\n",
    "if with_kfold:\n",
    "    for i, result in enumerate(results, 1):\n",
    "        print(f\"Fold-{i}: {result}\")\n",
    "\n",
    "    acc = np.mean(results)\n",
    "\n",
    "    print(f\"{n_splits}-fold CV accuracy result: Mean: {acc} Standard deviation:{np.std(results)}\")"
   ]
  },
  {
   "cell_type": "markdown",
   "metadata": {},
   "source": [
    "### Visualize Training Output"
   ]
  },
  {
   "cell_type": "code",
   "execution_count": 14,
   "metadata": {
    "collapsed": false,
    "jupyter": {
     "outputs_hidden": false
    },
    "pycharm": {
     "name": "#%%\n"
    }
   },
   "outputs": [
    {
     "data": {
      "image/png": "[encoded data removed]",
      "text/plain": [
       "<Figure size 1152x1152 with 1 Axes>"
      ]
     },
     "metadata": {
      "needs_background": "light"
     },
     "output_type": "display_data"
    }
   ],
   "source": [
    "# Visualization of model outputs for each rows of training data\n",
    "def plot_data_lavel(data, labels):\n",
    "    colors = ['orange','blue']\n",
    "    plt.scatter(data[:,0], data[:,1], s=8, alpha=.8, c=labels, cmap=matplotlib.colors.ListedColormap(colors))\n",
    "    orange_patch = mpatches.Patch(color='orange', label='Not')\n",
    "    blue_patch = mpatches.Patch(color='blue', label='Real')\n",
    "    plt.legend(handles=[orange_patch, blue_patch], prop={'size': 30})\n",
    "\n",
    "fig = plt.figure(figsize=(16, 16))\n",
    "plot_data_lavel(model_outputs, train_data['target'].values)\n",
    "plt.show()"
   ]
  },
  {
   "cell_type": "code",
   "execution_count": 15,
   "metadata": {},
   "outputs": [],
   "source": [
    "def print_metrics(y_true, y_pred):\n",
    "    acc = metrics.accuracy_score(y_true, y_pred)\n",
    "    precision, recall, f1, support = metrics.precision_recall_fscore_support(y_true, y_pred)\n",
    "    cf = metrics.confusion_matrix(y_true, y_pred)\n",
    "    cmtx = pd.DataFrame(\n",
    "                        cf, \n",
    "                        index=['True: Disaster', 'True: Not Disaster'], \n",
    "                        columns=['Pred: Disaster', 'Pred: Not Disaster']\n",
    "                        )\n",
    "    print(cmtx)\n",
    "    labels = ['True Neg', 'False Pos', 'False Neg', 'True Pos']\n",
    "    categories = ['Not Disaster', 'Disaster']\n",
    "    make_confusion_matrix(cf, \n",
    "                          group_names=labels,\n",
    "                          categories=categories, \n",
    "                          cmap='Blues')\n",
    "    \n",
    "    print(f\"\\nAccuracy: {acc}\")\n",
    "    print(f\"Precision: {precision}\")\n",
    "    print(f\"Recall: {recall}\")\n",
    "    print(f\"F1: {f1}\")\n",
    "    print(f\"support: {support}\")"
   ]
  },
  {
   "cell_type": "code",
   "execution_count": 16,
   "metadata": {},
   "outputs": [
    {
     "data": {
      "text/html": [
       "<div>\n",
       "<style scoped>\n",
       "    .dataframe tbody tr th:only-of-type {\n",
       "        vertical-align: middle;\n",
       "    }\n",
       "\n",
       "    .dataframe tbody tr th {\n",
       "        vertical-align: top;\n",
       "    }\n",
       "\n",
       "    .dataframe thead th {\n",
       "        text-align: right;\n",
       "    }\n",
       "</style>\n",
       "<table border=\"1\" class=\"dataframe\">\n",
       "  <thead>\n",
       "    <tr style=\"text-align: right;\">\n",
       "      <th></th>\n",
       "      <th>id</th>\n",
       "      <th>text</th>\n",
       "      <th>target</th>\n",
       "    </tr>\n",
       "  </thead>\n",
       "  <tbody>\n",
       "    <tr>\n",
       "      <th>0</th>\n",
       "      <td>0</td>\n",
       "      <td>Just happened a terrible car crash</td>\n",
       "      <td>1</td>\n",
       "    </tr>\n",
       "    <tr>\n",
       "      <th>1</th>\n",
       "      <td>2</td>\n",
       "      <td>Heard about  # earthquake is different cities, stay safe everyone .</td>\n",
       "      <td>1</td>\n",
       "    </tr>\n",
       "    <tr>\n",
       "      <th>2</th>\n",
       "      <td>3</td>\n",
       "      <td>there is a forest fire at spot pond, geese are fleeing across the street, I cannot save them all</td>\n",
       "      <td>1</td>\n",
       "    </tr>\n",
       "    <tr>\n",
       "      <th>3</th>\n",
       "      <td>9</td>\n",
       "      <td>Apocalypse lighting .   # Spokane  # wildfires</td>\n",
       "      <td>1</td>\n",
       "    </tr>\n",
       "    <tr>\n",
       "      <th>4</th>\n",
       "      <td>11</td>\n",
       "      <td>Typhoon Soudelor kills 28 in China and Taiwan</td>\n",
       "      <td>1</td>\n",
       "    </tr>\n",
       "  </tbody>\n",
       "</table>\n",
       "</div>"
      ],
      "text/plain": [
       "   id  \\\n",
       "0   0   \n",
       "1   2   \n",
       "2   3   \n",
       "3   9   \n",
       "4  11   \n",
       "\n",
       "                                                                                               text  \\\n",
       "0                                                                Just happened a terrible car crash   \n",
       "1                              Heard about  # earthquake is different cities, stay safe everyone .    \n",
       "2  there is a forest fire at spot pond, geese are fleeing across the street, I cannot save them all   \n",
       "3                                                    Apocalypse lighting .   # Spokane  # wildfires   \n",
       "4                                                     Typhoon Soudelor kills 28 in China and Taiwan   \n",
       "\n",
       "   target  \n",
       "0       1  \n",
       "1       1  \n",
       "2       1  \n",
       "3       1  \n",
       "4       1  "
      ]
     },
     "execution_count": 16,
     "metadata": {},
     "output_type": "execute_result"
    }
   ],
   "source": [
    "labeled_test_data = pd.read_csv('datasets/twitter_disaster/test_data_labeled.csv')[['id', 'target']]\n",
    "labeled_test_data = test_data.join(labeled_test_data.set_index('id'), on='id', how='inner')\n",
    "labeled_test_data.head()"
   ]
  },
  {
   "cell_type": "code",
   "execution_count": 17,
   "metadata": {},
   "outputs": [
    {
     "name": "stdout",
     "output_type": "stream",
     "text": [
      "                    Pred: Disaster  Pred: Not Disaster\n",
      "True: Disaster                1580                 281\n",
      "True: Not Disaster             354                1048\n",
      "\n",
      "Accuracy: 0.8053938093778731\n",
      "Precision: [0.81695967 0.78856283]\n",
      "Recall: [0.84900591 0.74750357]\n",
      "F1: [0.83267457 0.76748444]\n",
      "support: [1861 1402]\n"
     ]
    },
    {
     "data": {
      "image/png": "[encoded data removed]",
      "text/plain": [
       "<Figure size 432x288 with 2 Axes>"
      ]
     },
     "metadata": {
      "needs_background": "light"
     },
     "output_type": "display_data"
    }
   ],
   "source": [
    "print_metrics(labeled_test_data['target'], y_preds)"
   ]
  },
  {
   "cell_type": "markdown",
   "metadata": {},
   "source": [
    "### Quotebank Time!"
   ]
  },
  {
   "cell_type": "code",
   "execution_count": 18,
   "metadata": {},
   "outputs": [
    {
     "name": "stdout",
     "output_type": "stream",
     "text": [
      "Sample length: 234991\n"
     ]
    },
    {
     "data": {
      "text/html": [
       "<div>\n",
       "<style scoped>\n",
       "    .dataframe tbody tr th:only-of-type {\n",
       "        vertical-align: middle;\n",
       "    }\n",
       "\n",
       "    .dataframe tbody tr th {\n",
       "        vertical-align: top;\n",
       "    }\n",
       "\n",
       "    .dataframe thead th {\n",
       "        text-align: right;\n",
       "    }\n",
       "</style>\n",
       "<table border=\"1\" class=\"dataframe\">\n",
       "  <thead>\n",
       "    <tr style=\"text-align: right;\">\n",
       "      <th></th>\n",
       "      <th>quoteID</th>\n",
       "      <th>quotation</th>\n",
       "      <th>speaker</th>\n",
       "      <th>qids</th>\n",
       "      <th>date</th>\n",
       "      <th>numOccurrences</th>\n",
       "      <th>urls</th>\n",
       "      <th>phase</th>\n",
       "      <th>speaker_prob</th>\n",
       "      <th>url_countries</th>\n",
       "    </tr>\n",
       "  </thead>\n",
       "  <tbody>\n",
       "    <tr>\n",
       "      <th>69378</th>\n",
       "      <td>2008-11-09-022269</td>\n",
       "      <td>my guess is most voters hold their local lawmaker in higher esteem than they do the legislature as an institution.</td>\n",
       "      <td>rod blagojevich</td>\n",
       "      <td>Q151891</td>\n",
       "      <td>2008-11-09 06:03:27</td>\n",
       "      <td>9</td>\n",
       "      <td>[http://dailyherald.com/story/?id=249314&amp;src=143, http://dailyherald.com/story/?id=249314&amp;src=5, http://dailyherald.com/story/?id=249314&amp;src=2, http://dailyherald.com/story/?id=249314, http://dailyherald.com/story/?id=249314&amp;src=4, http://dailyherald.com/story/?id=249314&amp;src=329, http://dailyherald.com/story/?id=249314&amp;src=3, http://dailyherald.com/story/?id=249314&amp;src=1, http://progressillinois.com/2008/11/10/early-bird]</td>\n",
       "      <td>A</td>\n",
       "      <td>0.3725</td>\n",
       "      <td>[US]</td>\n",
       "    </tr>\n",
       "    <tr>\n",
       "      <th>51940</th>\n",
       "      <td>2008-10-23-057784</td>\n",
       "      <td>they're running up to play run defense, and we can surprise them with the throw every once in a while. it definitely helps set up a big pass play, but it's definitely a lot less passes, too.</td>\n",
       "      <td>troy calhoun</td>\n",
       "      <td>Q7846785</td>\n",
       "      <td>2008-10-23 03:31:14</td>\n",
       "      <td>1</td>\n",
       "      <td>[http://gazette.com/sports/option_42273___article.html/triple_air.html]</td>\n",
       "      <td>A</td>\n",
       "      <td>0.5571</td>\n",
       "      <td>[US]</td>\n",
       "    </tr>\n",
       "    <tr>\n",
       "      <th>56508</th>\n",
       "      <td>2008-09-02-065716</td>\n",
       "      <td>they had a chance to score a lot of runs and they didn't. he didn't bring anything.</td>\n",
       "      <td>ken griffey</td>\n",
       "      <td>Multiple</td>\n",
       "      <td>2008-09-02 04:10:12</td>\n",
       "      <td>1</td>\n",
       "      <td>[http://chicagotribune.com/sports/baseball/whitesox/cs-080901-chicago-white-sox-cleveland-indians,0,3412485.story?track=rss]</td>\n",
       "      <td>A</td>\n",
       "      <td>0.3116</td>\n",
       "      <td>[US]</td>\n",
       "    </tr>\n",
       "    <tr>\n",
       "      <th>41311</th>\n",
       "      <td>2008-09-04-010681</td>\n",
       "      <td>ever try and get 4 people and all their luggage into a prius with a driver? crown vics have the size and trunk capacity to be taxis.</td>\n",
       "      <td>keith barry</td>\n",
       "      <td>Q5566371</td>\n",
       "      <td>2008-09-04 03:24:10</td>\n",
       "      <td>1</td>\n",
       "      <td>[http://feeds.wired.com/~r/wired/index/~3/382806522/boston-cabbies.html]</td>\n",
       "      <td>A</td>\n",
       "      <td>0.5311</td>\n",
       "      <td>[US]</td>\n",
       "    </tr>\n",
       "    <tr>\n",
       "      <th>21038</th>\n",
       "      <td>2008-09-05-022489</td>\n",
       "      <td>i look forward to learning the details over the next few days and i would like to wish the ida continued success in marketing cork for further inward investment into the future,</td>\n",
       "      <td>michael mcgrath</td>\n",
       "      <td>Multiple</td>\n",
       "      <td>2008-09-05 15:26:26</td>\n",
       "      <td>1</td>\n",
       "      <td>[http://breakingnews.ie/Business/mhqlgbeymhkf/rss2]</td>\n",
       "      <td>A</td>\n",
       "      <td>0.5068</td>\n",
       "      <td>[EI]</td>\n",
       "    </tr>\n",
       "  </tbody>\n",
       "</table>\n",
       "</div>"
      ],
      "text/plain": [
       "                 quoteID  \\\n",
       "69378  2008-11-09-022269   \n",
       "51940  2008-10-23-057784   \n",
       "56508  2008-09-02-065716   \n",
       "41311  2008-09-04-010681   \n",
       "21038  2008-09-05-022489   \n",
       "\n",
       "                                                                                                                                                                                            quotation  \\\n",
       "69378                                                                              my guess is most voters hold their local lawmaker in higher esteem than they do the legislature as an institution.   \n",
       "51940  they're running up to play run defense, and we can surprise them with the throw every once in a while. it definitely helps set up a big pass play, but it's definitely a lot less passes, too.   \n",
       "56508                                                                                                             they had a chance to score a lot of runs and they didn't. he didn't bring anything.   \n",
       "41311                                                            ever try and get 4 people and all their luggage into a prius with a driver? crown vics have the size and trunk capacity to be taxis.   \n",
       "21038               i look forward to learning the details over the next few days and i would like to wish the ida continued success in marketing cork for further inward investment into the future,   \n",
       "\n",
       "               speaker      qids                 date  numOccurrences  \\\n",
       "69378  rod blagojevich   Q151891  2008-11-09 06:03:27               9   \n",
       "51940     troy calhoun  Q7846785  2008-10-23 03:31:14               1   \n",
       "56508      ken griffey  Multiple  2008-09-02 04:10:12               1   \n",
       "41311      keith barry  Q5566371  2008-09-04 03:24:10               1   \n",
       "21038  michael mcgrath  Multiple  2008-09-05 15:26:26               1   \n",
       "\n",
       "                                                                                                                                                                                                                                                                                                                                                                                                                                            urls  \\\n",
       "69378  [http://dailyherald.com/story/?id=249314&src=143, http://dailyherald.com/story/?id=249314&src=5, http://dailyherald.com/story/?id=249314&src=2, http://dailyherald.com/story/?id=249314, http://dailyherald.com/story/?id=249314&src=4, http://dailyherald.com/story/?id=249314&src=329, http://dailyherald.com/story/?id=249314&src=3, http://dailyherald.com/story/?id=249314&src=1, http://progressillinois.com/2008/11/10/early-bird]   \n",
       "51940                                                                                                                                                                                                                                                                                                                                                                    [http://gazette.com/sports/option_42273___article.html/triple_air.html]   \n",
       "56508                                                                                                                                                                                                                                                                                                               [http://chicagotribune.com/sports/baseball/whitesox/cs-080901-chicago-white-sox-cleveland-indians,0,3412485.story?track=rss]   \n",
       "41311                                                                                                                                                                                                                                                                                                                                                                   [http://feeds.wired.com/~r/wired/index/~3/382806522/boston-cabbies.html]   \n",
       "21038                                                                                                                                                                                                                                                                                                                                                                                        [http://breakingnews.ie/Business/mhqlgbeymhkf/rss2]   \n",
       "\n",
       "      phase  speaker_prob url_countries  \n",
       "69378     A        0.3725          [US]  \n",
       "51940     A        0.5571          [US]  \n",
       "56508     A        0.3116          [US]  \n",
       "41311     A        0.5311          [US]  \n",
       "21038     A        0.5068          [EI]  "
      ]
     },
     "execution_count": 18,
     "metadata": {},
     "output_type": "execute_result"
    }
   ],
   "source": [
    "# import dask\n",
    "# import dask.array as da\n",
    "# import dask.bag as db\n",
    "# import dask.dataframe as dd\n",
    "\n",
    "# from dask.diagnostics import ProgressBar\n",
    "# pbar = ProgressBar()                \n",
    "# pbar.register()\n",
    "\n",
    "import pandas as pd\n",
    "from tqdm.notebook import tqdm\n",
    "tqdm.pandas()\n",
    "\n",
    "SAMPLE_PICKLE = \"quotebank-sample.pickle\"\n",
    "\n",
    "SAMPLE_DISTILBERT_RESULTS_DF = \"quotebank-sample-distilbert-evaluation.csv\"\n",
    "SAMPLE_DISTILBERT_RESULTS_DF_DISASTERS_ONLY = \"quotebank-sample-distilbert-evaluation-disasters-only.csv\"\n",
    "\n",
    "sample = pd.read_pickle(SAMPLE_PICKLE)\n",
    "print(f\"Sample length: {len(sample)}\")\n",
    "sample.head(5)"
   ]
  },
  {
   "cell_type": "markdown",
   "metadata": {},
   "source": [
    "### Preprocess Quotebank"
   ]
  },
  {
   "cell_type": "code",
   "execution_count": 21,
   "metadata": {},
   "outputs": [
    {
     "data": {
      "application/vnd.jupyter.widget-view+json": {
       "model_id": "198d15da1d104623a79a4c08a37e47d4",
       "version_major": 2,
       "version_minor": 0
      },
      "text/plain": [
       "  0%|          | 0/1 [00:00<?, ?it/s]"
      ]
     },
     "metadata": {},
     "output_type": "display_data"
    },
    {
     "name": "stdout",
     "output_type": "stream",
     "text": [
      "7 characters removed\n"
     ]
    },
    {
     "data": {
      "text/html": [
       "<div>\n",
       "<style scoped>\n",
       "    .dataframe tbody tr th:only-of-type {\n",
       "        vertical-align: middle;\n",
       "    }\n",
       "\n",
       "    .dataframe tbody tr th {\n",
       "        vertical-align: top;\n",
       "    }\n",
       "\n",
       "    .dataframe thead th {\n",
       "        text-align: right;\n",
       "    }\n",
       "</style>\n",
       "<table border=\"1\" class=\"dataframe\">\n",
       "  <thead>\n",
       "    <tr style=\"text-align: right;\">\n",
       "      <th></th>\n",
       "      <th>txt</th>\n",
       "    </tr>\n",
       "  </thead>\n",
       "  <tbody>\n",
       "    <tr>\n",
       "      <th>0</th>\n",
       "      <td>WOW! HOW?!?  -&gt;   WOW! HOW?!?</td>\n",
       "    </tr>\n",
       "  </tbody>\n",
       "</table>\n",
       "</div>"
      ],
      "text/plain": [
       "                             txt\n",
       "0  WOW! HOW?!?  ->   WOW! HOW?!?"
      ]
     },
     "execution_count": 21,
     "metadata": {},
     "output_type": "execute_result"
    }
   ],
   "source": [
    "# This is a bad and inefficient method to remove repeating characters\n",
    "# but it's taken from the kaggle author and should do cleaning necessary\n",
    "#\n",
    "# Ex: WOW!!!! HOW???!!??  ->   WOW! HOW?!?\n",
    "def remove_repeating_subtext_in_df(df, col, subtext):\n",
    "    # Remove character repetition (1...num times) from subtext list in the df[col]\n",
    "    num_chr_col_before = df[col].str.len().sum()\n",
    "    for i in tqdm(range(len(df))):\n",
    "        text = df.iloc[i][col]\n",
    "        for c in subtext:\n",
    "            while text.rfind(c + c) > -1:\n",
    "                text = text.replace(c + c, c)\n",
    "        df.iloc[i][col] = text\n",
    "    num_chr_col_after = df[col].str.len().sum()\n",
    "    print(num_chr_col_before-num_chr_col_after, 'characters removed')\n",
    "    \n",
    "    return df\n",
    "\n",
    "subtext_to_clean = ['!', '#', '$', '(', ')', '*', '+', '-', '.', ':', ';', '=', '?', '@', '[', ']', '^', '|', '_', '{', '}']\n",
    "\n",
    "dummy_df = pd.DataFrame({\"txt\":[\"WOW!!!! HOW???!!??  ->   WOW! HOW?!?\"]})\n",
    "remove_repeating_subtext_in_df(dummy_df, 'txt', subtext_to_clean)"
   ]
  },
  {
   "cell_type": "code",
   "execution_count": 22,
   "metadata": {},
   "outputs": [
    {
     "data": {
      "application/vnd.jupyter.widget-view+json": {
       "model_id": "610093ecdd144f9797618097e866b67c",
       "version_major": 2,
       "version_minor": 0
      },
      "text/plain": [
       "  0%|          | 0/234991 [00:00<?, ?it/s]"
      ]
     },
     "metadata": {},
     "output_type": "display_data"
    },
    {
     "name": "stdout",
     "output_type": "stream",
     "text": [
      "0 characters removed\n"
     ]
    }
   ],
   "source": [
    "sample_cleaned = sample.copy()\n",
    "sample_cleaned = remove_repeating_subtext_in_df(sample_cleaned, 'quotation', subtext_to_clean)\n",
    "# 0 characters removed ( ͠° ͟ʖ ͡°)"
   ]
  },
  {
   "cell_type": "code",
   "execution_count": 24,
   "metadata": {},
   "outputs": [
    {
     "data": {
      "application/vnd.jupyter.widget-view+json": {
       "model_id": "40740fa7f99f4f88a9ec82160af6f90e",
       "version_major": 2,
       "version_minor": 0
      },
      "text/plain": [
       "  0%|          | 0/234991 [00:00<?, ?it/s]"
      ]
     },
     "metadata": {},
     "output_type": "display_data"
    }
   ],
   "source": [
    "sample_cleaned.quotation = sample_cleaned.quotation.progress_apply(lambda s: clean_text(s))"
   ]
  },
  {
   "cell_type": "code",
   "execution_count": 21,
   "metadata": {},
   "outputs": [],
   "source": [
    "# import pickle as pickle\n",
    "# with open(\"tmp.pickle\", 'wb') as f:\n",
    "#     pickle.dump(sample_cleaned, f, protocol=pickle.HIGHEST_PROTOCOL)\n",
    "    \n",
    "sample_cleaned = pd.read_pickle(\"tmp.pickle\")"
   ]
  },
  {
   "cell_type": "markdown",
   "metadata": {},
   "source": [
    "### Predict Quotebank"
   ]
  },
  {
   "cell_type": "code",
   "execution_count": 29,
   "metadata": {},
   "outputs": [
    {
     "data": {
      "application/vnd.jupyter.widget-view+json": {
       "model_id": "969ee2fdd0694ca6910cfc129afb9a02",
       "version_major": 2,
       "version_minor": 0
      },
      "text/plain": [
       "  0%|          | 0/15360 [00:00<?, ?it/s]"
      ]
     },
     "metadata": {},
     "output_type": "display_data"
    },
    {
     "data": {
      "application/vnd.jupyter.widget-view+json": {
       "model_id": "4000d04c3b0e415fb40f615a18194475",
       "version_major": 2,
       "version_minor": 0
      },
      "text/plain": [
       "  0%|          | 0/10 [00:00<?, ?it/s]"
      ]
     },
     "metadata": {},
     "output_type": "display_data"
    },
    {
     "data": {
      "application/vnd.jupyter.widget-view+json": {
       "model_id": "d4fc2e5424214835a4f22657d70311f2",
       "version_major": 2,
       "version_minor": 0
      },
      "text/plain": [
       "  0%|          | 0/15360 [00:00<?, ?it/s]"
      ]
     },
     "metadata": {},
     "output_type": "display_data"
    },
    {
     "data": {
      "application/vnd.jupyter.widget-view+json": {
       "model_id": "b2a7765cc9d247fc9b2b480480af2939",
       "version_major": 2,
       "version_minor": 0
      },
      "text/plain": [
       "  0%|          | 0/10 [00:00<?, ?it/s]"
      ]
     },
     "metadata": {},
     "output_type": "display_data"
    },
    {
     "data": {
      "application/vnd.jupyter.widget-view+json": {
       "model_id": "e733ecffaa2246d6b4bd53f4d0ee0cc0",
       "version_major": 2,
       "version_minor": 0
      },
      "text/plain": [
       "  0%|          | 0/15360 [00:00<?, ?it/s]"
      ]
     },
     "metadata": {},
     "output_type": "display_data"
    },
    {
     "data": {
      "application/vnd.jupyter.widget-view+json": {
       "model_id": "8fab3dad0d8d49cf8394991a9a739092",
       "version_major": 2,
       "version_minor": 0
      },
      "text/plain": [
       "  0%|          | 0/10 [00:00<?, ?it/s]"
      ]
     },
     "metadata": {},
     "output_type": "display_data"
    },
    {
     "data": {
      "application/vnd.jupyter.widget-view+json": {
       "model_id": "fcae57fa910c400bb5ceb5bd4d11234b",
       "version_major": 2,
       "version_minor": 0
      },
      "text/plain": [
       "  0%|          | 0/15360 [00:00<?, ?it/s]"
      ]
     },
     "metadata": {},
     "output_type": "display_data"
    },
    {
     "data": {
      "application/vnd.jupyter.widget-view+json": {
       "model_id": "d72664b431f1457e891f7e6445f846ed",
       "version_major": 2,
       "version_minor": 0
      },
      "text/plain": [
       "  0%|          | 0/10 [00:00<?, ?it/s]"
      ]
     },
     "metadata": {},
     "output_type": "display_data"
    },
    {
     "data": {
      "application/vnd.jupyter.widget-view+json": {
       "model_id": "5adbb7241350431897bccee2800fb278",
       "version_major": 2,
       "version_minor": 0
      },
      "text/plain": [
       "  0%|          | 0/15360 [00:00<?, ?it/s]"
      ]
     },
     "metadata": {},
     "output_type": "display_data"
    },
    {
     "data": {
      "application/vnd.jupyter.widget-view+json": {
       "model_id": "b637ba5aced1438eb4b7f3d32cc4bc9c",
       "version_major": 2,
       "version_minor": 0
      },
      "text/plain": [
       "  0%|          | 0/10 [00:00<?, ?it/s]"
      ]
     },
     "metadata": {},
     "output_type": "display_data"
    },
    {
     "data": {
      "application/vnd.jupyter.widget-view+json": {
       "model_id": "2682ac09dff64cc2b3c9a133a791384d",
       "version_major": 2,
       "version_minor": 0
      },
      "text/plain": [
       "  0%|          | 0/15360 [00:00<?, ?it/s]"
      ]
     },
     "metadata": {},
     "output_type": "display_data"
    },
    {
     "data": {
      "application/vnd.jupyter.widget-view+json": {
       "model_id": "f395e4d486ec4478b99c1dade3ecf229",
       "version_major": 2,
       "version_minor": 0
      },
      "text/plain": [
       "  0%|          | 0/10 [00:00<?, ?it/s]"
      ]
     },
     "metadata": {},
     "output_type": "display_data"
    },
    {
     "data": {
      "application/vnd.jupyter.widget-view+json": {
       "model_id": "aacaf05f4bd34cd2814dfa568b964dd2",
       "version_major": 2,
       "version_minor": 0
      },
      "text/plain": [
       "  0%|          | 0/15360 [00:00<?, ?it/s]"
      ]
     },
     "metadata": {},
     "output_type": "display_data"
    },
    {
     "data": {
      "application/vnd.jupyter.widget-view+json": {
       "model_id": "fb88f16c03614ba8afec5206bef1634c",
       "version_major": 2,
       "version_minor": 0
      },
      "text/plain": [
       "  0%|          | 0/10 [00:00<?, ?it/s]"
      ]
     },
     "metadata": {},
     "output_type": "display_data"
    },
    {
     "data": {
      "application/vnd.jupyter.widget-view+json": {
       "model_id": "02feb4649e37456ca05db7665ef840a5",
       "version_major": 2,
       "version_minor": 0
      },
      "text/plain": [
       "  0%|          | 0/15360 [00:00<?, ?it/s]"
      ]
     },
     "metadata": {},
     "output_type": "display_data"
    },
    {
     "data": {
      "application/vnd.jupyter.widget-view+json": {
       "model_id": "af72761676f845a49c0aac1ca40c9f4d",
       "version_major": 2,
       "version_minor": 0
      },
      "text/plain": [
       "  0%|          | 0/10 [00:00<?, ?it/s]"
      ]
     },
     "metadata": {},
     "output_type": "display_data"
    },
    {
     "data": {
      "application/vnd.jupyter.widget-view+json": {
       "model_id": "77f5c789a0c84922b057b166e5141680",
       "version_major": 2,
       "version_minor": 0
      },
      "text/plain": [
       "  0%|          | 0/15360 [00:00<?, ?it/s]"
      ]
     },
     "metadata": {},
     "output_type": "display_data"
    },
    {
     "data": {
      "application/vnd.jupyter.widget-view+json": {
       "model_id": "f7202b47b20f4743b8a36133eed5118e",
       "version_major": 2,
       "version_minor": 0
      },
      "text/plain": [
       "  0%|          | 0/10 [00:00<?, ?it/s]"
      ]
     },
     "metadata": {},
     "output_type": "display_data"
    },
    {
     "data": {
      "application/vnd.jupyter.widget-view+json": {
       "model_id": "5c4f9759958c46d0b14d285c037ac0fb",
       "version_major": 2,
       "version_minor": 0
      },
      "text/plain": [
       "  0%|          | 0/15360 [00:00<?, ?it/s]"
      ]
     },
     "metadata": {},
     "output_type": "display_data"
    },
    {
     "data": {
      "application/vnd.jupyter.widget-view+json": {
       "model_id": "671f1d9cbaa141a78e85cb9f6c1d5a5c",
       "version_major": 2,
       "version_minor": 0
      },
      "text/plain": [
       "  0%|          | 0/10 [00:00<?, ?it/s]"
      ]
     },
     "metadata": {},
     "output_type": "display_data"
    },
    {
     "data": {
      "application/vnd.jupyter.widget-view+json": {
       "model_id": "93de9959780744b0ab28dce0e05b6a20",
       "version_major": 2,
       "version_minor": 0
      },
      "text/plain": [
       "  0%|          | 0/15360 [00:00<?, ?it/s]"
      ]
     },
     "metadata": {},
     "output_type": "display_data"
    },
    {
     "data": {
      "application/vnd.jupyter.widget-view+json": {
       "model_id": "c1df3c74ffba48fd858f450c9ef62261",
       "version_major": 2,
       "version_minor": 0
      },
      "text/plain": [
       "  0%|          | 0/10 [00:00<?, ?it/s]"
      ]
     },
     "metadata": {},
     "output_type": "display_data"
    },
    {
     "data": {
      "application/vnd.jupyter.widget-view+json": {
       "model_id": "3bda882290c14b4483cddba9eb1fec4a",
       "version_major": 2,
       "version_minor": 0
      },
      "text/plain": [
       "  0%|          | 0/15360 [00:00<?, ?it/s]"
      ]
     },
     "metadata": {},
     "output_type": "display_data"
    },
    {
     "data": {
      "application/vnd.jupyter.widget-view+json": {
       "model_id": "afafa2a60e0e462b913eee1a71f7d7d7",
       "version_major": 2,
       "version_minor": 0
      },
      "text/plain": [
       "  0%|          | 0/10 [00:00<?, ?it/s]"
      ]
     },
     "metadata": {},
     "output_type": "display_data"
    },
    {
     "data": {
      "application/vnd.jupyter.widget-view+json": {
       "model_id": "f9e175e7985442c7a3f7091832e29c1b",
       "version_major": 2,
       "version_minor": 0
      },
      "text/plain": [
       "  0%|          | 0/15360 [00:00<?, ?it/s]"
      ]
     },
     "metadata": {},
     "output_type": "display_data"
    },
    {
     "data": {
      "application/vnd.jupyter.widget-view+json": {
       "model_id": "bf111320e37d4b55bd88101ed5917bb2",
       "version_major": 2,
       "version_minor": 0
      },
      "text/plain": [
       "  0%|          | 0/10 [00:00<?, ?it/s]"
      ]
     },
     "metadata": {},
     "output_type": "display_data"
    },
    {
     "data": {
      "application/vnd.jupyter.widget-view+json": {
       "model_id": "62682f38f31f4351bb28306a4dfce7f4",
       "version_major": 2,
       "version_minor": 0
      },
      "text/plain": [
       "  0%|          | 0/15360 [00:00<?, ?it/s]"
      ]
     },
     "metadata": {},
     "output_type": "display_data"
    },
    {
     "data": {
      "application/vnd.jupyter.widget-view+json": {
       "model_id": "401bd76a37c643849af46ed6c571a78d",
       "version_major": 2,
       "version_minor": 0
      },
      "text/plain": [
       "  0%|          | 0/10 [00:00<?, ?it/s]"
      ]
     },
     "metadata": {},
     "output_type": "display_data"
    },
    {
     "data": {
      "application/vnd.jupyter.widget-view+json": {
       "model_id": "1d7ccd6502464347ade16b2a68e6a666",
       "version_major": 2,
       "version_minor": 0
      },
      "text/plain": [
       "  0%|          | 0/15360 [00:00<?, ?it/s]"
      ]
     },
     "metadata": {},
     "output_type": "display_data"
    },
    {
     "data": {
      "application/vnd.jupyter.widget-view+json": {
       "model_id": "54bfa1d2c77d4fd6943997c520aa4c96",
       "version_major": 2,
       "version_minor": 0
      },
      "text/plain": [
       "  0%|          | 0/10 [00:00<?, ?it/s]"
      ]
     },
     "metadata": {},
     "output_type": "display_data"
    },
    {
     "data": {
      "application/vnd.jupyter.widget-view+json": {
       "model_id": "bb8e44318b584af48d34548a904312da",
       "version_major": 2,
       "version_minor": 0
      },
      "text/plain": [
       "  0%|          | 0/4591 [00:00<?, ?it/s]"
      ]
     },
     "metadata": {},
     "output_type": "display_data"
    },
    {
     "data": {
      "application/vnd.jupyter.widget-view+json": {
       "model_id": "84331628c64541819559e2282ee5acbc",
       "version_major": 2,
       "version_minor": 0
      },
      "text/plain": [
       "  0%|          | 0/3 [00:00<?, ?it/s]"
      ]
     },
     "metadata": {},
     "output_type": "display_data"
    }
   ],
   "source": [
    "# Too slow, maybe because of a too big dataset -- 235K texts\n",
    "#\n",
    "# quotebank_preds, _, = model.predict(sample_cleaned.quotation.values.tolist())\n",
    "\n",
    "# Let's try with batches written by hand\n",
    "import math\n",
    "n_samples = len(sample)\n",
    "batch_size = 10*model_args[\"eval_batch_size\"]\n",
    "texts = sample_cleaned.quotation.values.tolist()\n",
    "\n",
    "y = np.zeros((n_samples,), dtype=np.uint8)\n",
    "for b in range(math.ceil(n_samples/batch_size)):\n",
    "    preds, _ = model.predict(texts[b*batch_size:(b+1)*batch_size])\n",
    "    \n",
    "    # Last batch predictions will be again of size batch_size\n",
    "    # eventhough there are <batch_size samples\n",
    "    # Below is a hack\n",
    "    y[b*batch_size:(b+1)*batch_size] = preds[:len(y[b*batch_size:(b+1)*batch_size])]"
   ]
  },
  {
   "cell_type": "code",
   "execution_count": 32,
   "metadata": {},
   "outputs": [
    {
     "name": "stdout",
     "output_type": "stream",
     "text": [
      "The transferred model predicted 20887 quotes to be disasters out of 234991 [0.09%]\n"
     ]
    },
    {
     "data": {
      "text/html": [
       "<div>\n",
       "<style scoped>\n",
       "    .dataframe tbody tr th:only-of-type {\n",
       "        vertical-align: middle;\n",
       "    }\n",
       "\n",
       "    .dataframe tbody tr th {\n",
       "        vertical-align: top;\n",
       "    }\n",
       "\n",
       "    .dataframe thead th {\n",
       "        text-align: right;\n",
       "    }\n",
       "</style>\n",
       "<table border=\"1\" class=\"dataframe\">\n",
       "  <thead>\n",
       "    <tr style=\"text-align: right;\">\n",
       "      <th></th>\n",
       "      <th>quotation</th>\n",
       "      <th>disaster</th>\n",
       "    </tr>\n",
       "  </thead>\n",
       "  <tbody>\n",
       "    <tr>\n",
       "      <th>69378</th>\n",
       "      <td>my guess is most voters hold their local lawmaker in higher esteem than they do the legislature as an institution.</td>\n",
       "      <td>0</td>\n",
       "    </tr>\n",
       "    <tr>\n",
       "      <th>51940</th>\n",
       "      <td>they're running up to play run defense, and we can surprise them with the throw every once in a while. it definitely helps set up a big pass play, but it's definitely a lot less passes, too.</td>\n",
       "      <td>0</td>\n",
       "    </tr>\n",
       "    <tr>\n",
       "      <th>56508</th>\n",
       "      <td>they had a chance to score a lot of runs and they didn't. he didn't bring anything.</td>\n",
       "      <td>1</td>\n",
       "    </tr>\n",
       "    <tr>\n",
       "      <th>41311</th>\n",
       "      <td>ever try and get 4 people and all their luggage into a prius with a driver? crown vics have the size and trunk capacity to be taxis.</td>\n",
       "      <td>0</td>\n",
       "    </tr>\n",
       "    <tr>\n",
       "      <th>21038</th>\n",
       "      <td>i look forward to learning the details over the next few days and i would like to wish the ida continued success in marketing cork for further inward investment into the future,</td>\n",
       "      <td>0</td>\n",
       "    </tr>\n",
       "    <tr>\n",
       "      <th>21506</th>\n",
       "      <td>lisa leslie has been one of my idols ever since i was younger-obviously, watching the usa teams growing up and watching her win championships with los angeles,</td>\n",
       "      <td>0</td>\n",
       "    </tr>\n",
       "    <tr>\n",
       "      <th>59202</th>\n",
       "      <td>whether it's credit cards or mortgages, this dynamic needs to be dealt with.</td>\n",
       "      <td>0</td>\n",
       "    </tr>\n",
       "    <tr>\n",
       "      <th>34659</th>\n",
       "      <td>however, i knew athol from our shared passion for the political side of medicine. we both were privileged to have been elected to serve in our respective roles as president of the canadian medical association.</td>\n",
       "      <td>0</td>\n",
       "    </tr>\n",
       "    <tr>\n",
       "      <th>1811</th>\n",
       "      <td>to cut off funding for our troops,</td>\n",
       "      <td>1</td>\n",
       "    </tr>\n",
       "    <tr>\n",
       "      <th>82888</th>\n",
       "      <td>it is especially annoying that the premier at first justified the police action by using an excuse that it was to prevent hate speech,</td>\n",
       "      <td>0</td>\n",
       "    </tr>\n",
       "  </tbody>\n",
       "</table>\n",
       "</div>"
      ],
      "text/plain": [
       "                                                                                                                                                                                                               quotation  \\\n",
       "69378                                                                                                 my guess is most voters hold their local lawmaker in higher esteem than they do the legislature as an institution.   \n",
       "51940                     they're running up to play run defense, and we can surprise them with the throw every once in a while. it definitely helps set up a big pass play, but it's definitely a lot less passes, too.   \n",
       "56508                                                                                                                                they had a chance to score a lot of runs and they didn't. he didn't bring anything.   \n",
       "41311                                                                               ever try and get 4 people and all their luggage into a prius with a driver? crown vics have the size and trunk capacity to be taxis.   \n",
       "21038                                  i look forward to learning the details over the next few days and i would like to wish the ida continued success in marketing cork for further inward investment into the future,   \n",
       "21506                                                    lisa leslie has been one of my idols ever since i was younger-obviously, watching the usa teams growing up and watching her win championships with los angeles,   \n",
       "59202                                                                                                                                       whether it's credit cards or mortgages, this dynamic needs to be dealt with.   \n",
       "34659  however, i knew athol from our shared passion for the political side of medicine. we both were privileged to have been elected to serve in our respective roles as president of the canadian medical association.   \n",
       "1811                                                                                                                                                                                  to cut off funding for our troops,   \n",
       "82888                                                                             it is especially annoying that the premier at first justified the police action by using an excuse that it was to prevent hate speech,   \n",
       "\n",
       "       disaster  \n",
       "69378         0  \n",
       "51940         0  \n",
       "56508         1  \n",
       "41311         0  \n",
       "21038         0  \n",
       "21506         0  \n",
       "59202         0  \n",
       "34659         0  \n",
       "1811          1  \n",
       "82888         0  "
      ]
     },
     "execution_count": 32,
     "metadata": {},
     "output_type": "execute_result"
    }
   ],
   "source": [
    "sample[\"disaster\"] = y\n",
    "sample_disasters = sample[sample.disaster == 1]\n",
    "print(f\"The transferred model predicted {len(sample_disasters)} quotes to be disasters out of {len(sample)} [{len(sample_disasters)/len(sample):.2f}%]\")\n",
    "sample[[\"quotation\",\"disaster\"]][:10]"
   ]
  },
  {
   "cell_type": "code",
   "execution_count": 34,
   "metadata": {},
   "outputs": [],
   "source": [
    "sample.to_csv(SAMPLE_DISTILBERT_RESULTS_DF, encoding='utf-8')\n",
    "sample_disasters.to_csv(SAMPLE_DISTILBERT_RESULTS_DF_DISASTERS_ONLY, encoding='utf-8')"
   ]
  }
 ],
 "metadata": {
  "kernelspec": {
   "display_name": "Python 3 (ipykernel)",
   "language": "python",
   "name": "python3"
  },
  "language_info": {
   "codemirror_mode": {
    "name": "ipython",
    "version": 3
   },
   "file_extension": ".py",
   "mimetype": "text/x-python",
   "name": "python",
   "nbconvert_exporter": "python",
   "pygments_lexer": "ipython3",
   "version": "3.9.7"
  }
 },
 "nbformat": 4,
 "nbformat_minor": 4
}